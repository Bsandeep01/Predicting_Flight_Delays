{
 "cells": [
  {
   "cell_type": "markdown",
   "metadata": {},
   "source": [
    "<font size=\"8\"><b>PREDICTING FLIGHT DELAYS</b></font>"
   ]
  },
  {
   "cell_type": "markdown",
   "metadata": {},
   "source": [
    "<font size=\"6\"><b>Random Forest - Balanced </b></font>"
   ]
  },
  {
   "cell_type": "markdown",
   "metadata": {
    "ExecuteTime": {
     "end_time": "2020-10-07T19:14:02.365941Z",
     "start_time": "2020-10-07T19:14:02.134282Z"
    }
   },
   "source": [
    "![Figure_11](img/Figure_11.png)"
   ]
  },
  {
   "cell_type": "markdown",
   "metadata": {},
   "source": [
    "At this point of the project I believe the data is relatively clean to start going into the modeling part. I will start by loading the data, doing a quick QC to check once again that everything is in place and then I will check the data distribution (is the data is balance or not?). However, I will do this as part of following a standard workflow as it is clear that this dataset is unbalanced. How do I know this? remember that in one of my documents (The Preprocessing_and_Cleaning notebook), I engineered a binary column called \"Flight Status\", where a 0 corresponds to a flight that arrives on time, and a 1 to a delayed flight. Just in case you are wondering how I treated the negative values for the arrivals, I considered them as arriving on time, even when it mean you arrived earlier.  \n",
    "\n",
    "Any conclusion or comments that I have made based on the EDA done will be put aside until I come up with other conclusions based on my models and then I will try to tie them up. \n",
    "\n",
    "One last comment before I start is that this is a sandbox, so there will be a few of this documents to avoid having an extremely large one. Most probably one per algorithm."
   ]
  },
  {
   "cell_type": "markdown",
   "metadata": {},
   "source": [
    "# Libraries"
   ]
  },
  {
   "cell_type": "code",
   "execution_count": 1,
   "metadata": {
    "ExecuteTime": {
     "end_time": "2020-10-10T00:06:02.792037Z",
     "start_time": "2020-10-10T00:05:59.291057Z"
    }
   },
   "outputs": [
    {
     "name": "stderr",
     "output_type": "stream",
     "text": [
      "Using TensorFlow backend.\n"
     ]
    }
   ],
   "source": [
    "import pandas as pd\n",
    "import numpy as np\n",
    "import matplotlib.pyplot as plt\n",
    "%matplotlib inline\n",
    "import seaborn as sns\n",
    "sns.set_style('darkgrid')\n",
    "pd.set_option('display.max_columns', None)\n",
    "import datetime, warnings, scipy\n",
    "warnings.filterwarnings(\"ignore\")\n",
    "\n",
    "from sklearn import metrics, linear_model\n",
    "from sklearn.metrics import accuracy_score, confusion_matrix, classification_report, plot_confusion_matrix\n",
    "from sklearn.preprocessing import PolynomialFeatures, StandardScaler\n",
    "from sklearn.preprocessing import LabelEncoder, OneHotEncoder\n",
    "from sklearn.model_selection import train_test_split, cross_val_score, cross_val_predict, RepeatedStratifiedKFold\n",
    "from sklearn.tree import DecisionTreeClassifier\n",
    "from sklearn.ensemble import BaggingClassifier, RandomForestClassifier\n",
    "from scipy.optimize import curve_fit\n",
    "from sklearn.svm import SVC\n",
    "from random import sample\n",
    "\n",
    "import keras\n",
    "from keras.models import Sequential\n",
    "from keras.layers import Dense\n",
    "from sklearn.datasets import load_breast_cancer\n",
    "from sklearn.preprocessing import StandardScaler, LabelBinarizer\n",
    "\n",
    "import statsmodels.formula.api as smf\n",
    "import statsmodels.stats.api as sms\n",
    "from statsmodels.formula.api import ols\n",
    "from statsmodels.stats.outliers_influence import variance_inflation_factor\n",
    "import statsmodels.api as sm\n",
    "import scipy.stats as stats"
   ]
  },
  {
   "cell_type": "markdown",
   "metadata": {},
   "source": [
    "# Data Loading & QC"
   ]
  },
  {
   "cell_type": "code",
   "execution_count": 2,
   "metadata": {
    "ExecuteTime": {
     "end_time": "2020-10-10T00:06:06.841780Z",
     "start_time": "2020-10-10T00:06:02.793189Z"
    }
   },
   "outputs": [
    {
     "data": {
      "text/html": [
       "<div>\n",
       "<style scoped>\n",
       "    .dataframe tbody tr th:only-of-type {\n",
       "        vertical-align: middle;\n",
       "    }\n",
       "\n",
       "    .dataframe tbody tr th {\n",
       "        vertical-align: top;\n",
       "    }\n",
       "\n",
       "    .dataframe thead th {\n",
       "        text-align: right;\n",
       "    }\n",
       "</style>\n",
       "<table border=\"1\" class=\"dataframe\">\n",
       "  <thead>\n",
       "    <tr style=\"text-align: right;\">\n",
       "      <th></th>\n",
       "      <th>OP_CARRIER</th>\n",
       "      <th>ORIGIN</th>\n",
       "      <th>DEST</th>\n",
       "      <th>CRS_DEP_TIME</th>\n",
       "      <th>DEP_DELAY</th>\n",
       "      <th>CRS_ARR_TIME</th>\n",
       "      <th>CRS_ELAPSED_TIME</th>\n",
       "      <th>ACTUAL_ELAPSED_TIME</th>\n",
       "      <th>AIR_TIME</th>\n",
       "      <th>DISTANCE</th>\n",
       "      <th>MONTH</th>\n",
       "      <th>FLIGHT_STATUS</th>\n",
       "      <th>WEEKDAY</th>\n",
       "    </tr>\n",
       "  </thead>\n",
       "  <tbody>\n",
       "    <tr>\n",
       "      <th>0</th>\n",
       "      <td>United Airlines</td>\n",
       "      <td>Newark</td>\n",
       "      <td>Denver</td>\n",
       "      <td>3</td>\n",
       "      <td>-5.0</td>\n",
       "      <td>3</td>\n",
       "      <td>268.0</td>\n",
       "      <td>250.0</td>\n",
       "      <td>225.0</td>\n",
       "      <td>1605.0</td>\n",
       "      <td>1</td>\n",
       "      <td>0</td>\n",
       "      <td>0</td>\n",
       "    </tr>\n",
       "    <tr>\n",
       "      <th>1</th>\n",
       "      <td>United Airlines</td>\n",
       "      <td>Las Vegas</td>\n",
       "      <td>San Francisco</td>\n",
       "      <td>2</td>\n",
       "      <td>-8.0</td>\n",
       "      <td>3</td>\n",
       "      <td>99.0</td>\n",
       "      <td>83.0</td>\n",
       "      <td>65.0</td>\n",
       "      <td>414.0</td>\n",
       "      <td>1</td>\n",
       "      <td>0</td>\n",
       "      <td>0</td>\n",
       "    </tr>\n",
       "    <tr>\n",
       "      <th>2</th>\n",
       "      <td>United Airlines</td>\n",
       "      <td>Santa Ana</td>\n",
       "      <td>Denver</td>\n",
       "      <td>3</td>\n",
       "      <td>-5.0</td>\n",
       "      <td>3</td>\n",
       "      <td>134.0</td>\n",
       "      <td>126.0</td>\n",
       "      <td>106.0</td>\n",
       "      <td>846.0</td>\n",
       "      <td>1</td>\n",
       "      <td>0</td>\n",
       "      <td>0</td>\n",
       "    </tr>\n",
       "    <tr>\n",
       "      <th>3</th>\n",
       "      <td>United Airlines</td>\n",
       "      <td>Ft. Myers</td>\n",
       "      <td>Chicago</td>\n",
       "      <td>3</td>\n",
       "      <td>6.0</td>\n",
       "      <td>3</td>\n",
       "      <td>190.0</td>\n",
       "      <td>182.0</td>\n",
       "      <td>157.0</td>\n",
       "      <td>1120.0</td>\n",
       "      <td>1</td>\n",
       "      <td>0</td>\n",
       "      <td>0</td>\n",
       "    </tr>\n",
       "    <tr>\n",
       "      <th>6</th>\n",
       "      <td>United Airlines</td>\n",
       "      <td>Houston</td>\n",
       "      <td>Las Vegas</td>\n",
       "      <td>2</td>\n",
       "      <td>-3.0</td>\n",
       "      <td>2</td>\n",
       "      <td>206.0</td>\n",
       "      <td>193.0</td>\n",
       "      <td>173.0</td>\n",
       "      <td>1222.0</td>\n",
       "      <td>1</td>\n",
       "      <td>0</td>\n",
       "      <td>0</td>\n",
       "    </tr>\n",
       "  </tbody>\n",
       "</table>\n",
       "</div>"
      ],
      "text/plain": [
       "        OP_CARRIER     ORIGIN           DEST  CRS_DEP_TIME  DEP_DELAY  \\\n",
       "0  United Airlines     Newark         Denver             3       -5.0   \n",
       "1  United Airlines  Las Vegas  San Francisco             2       -8.0   \n",
       "2  United Airlines  Santa Ana         Denver             3       -5.0   \n",
       "3  United Airlines  Ft. Myers        Chicago             3        6.0   \n",
       "6  United Airlines    Houston      Las Vegas             2       -3.0   \n",
       "\n",
       "   CRS_ARR_TIME  CRS_ELAPSED_TIME  ACTUAL_ELAPSED_TIME  AIR_TIME  DISTANCE  \\\n",
       "0             3             268.0                250.0     225.0    1605.0   \n",
       "1             3              99.0                 83.0      65.0     414.0   \n",
       "2             3             134.0                126.0     106.0     846.0   \n",
       "3             3             190.0                182.0     157.0    1120.0   \n",
       "6             2             206.0                193.0     173.0    1222.0   \n",
       "\n",
       "   MONTH  FLIGHT_STATUS  WEEKDAY  \n",
       "0      1              0        0  \n",
       "1      1              0        0  \n",
       "2      1              0        0  \n",
       "3      1              0        0  \n",
       "6      1              0        0  "
      ]
     },
     "execution_count": 2,
     "metadata": {},
     "output_type": "execute_result"
    }
   ],
   "source": [
    "dfm = pd.read_csv('dfm.csv', index_col=0)\n",
    "dfm.head()"
   ]
  },
  {
   "cell_type": "code",
   "execution_count": 3,
   "metadata": {
    "ExecuteTime": {
     "end_time": "2020-10-10T00:06:06.879496Z",
     "start_time": "2020-10-10T00:06:06.843767Z"
    },
    "scrolled": true
   },
   "outputs": [
    {
     "data": {
      "text/plain": [
       "2    0.383851\n",
       "3    0.365520\n",
       "4    0.180862\n",
       "1    0.069767\n",
       "Name: CRS_DEP_TIME, dtype: float64"
      ]
     },
     "execution_count": 3,
     "metadata": {},
     "output_type": "execute_result"
    }
   ],
   "source": [
    "dfm.CRS_DEP_TIME.value_counts(normalize=True)"
   ]
  },
  {
   "cell_type": "code",
   "execution_count": 4,
   "metadata": {
    "ExecuteTime": {
     "end_time": "2020-10-10T00:06:06.907586Z",
     "start_time": "2020-10-10T00:06:06.881076Z"
    }
   },
   "outputs": [
    {
     "data": {
      "text/plain": [
       "3    0.352446\n",
       "2    0.313633\n",
       "4    0.307612\n",
       "1    0.026308\n",
       "Name: CRS_ARR_TIME, dtype: float64"
      ]
     },
     "execution_count": 4,
     "metadata": {},
     "output_type": "execute_result"
    }
   ],
   "source": [
    "dfm.CRS_ARR_TIME.value_counts(normalize=True)"
   ]
  },
  {
   "cell_type": "code",
   "execution_count": 5,
   "metadata": {
    "ExecuteTime": {
     "end_time": "2020-10-10T00:06:06.933748Z",
     "start_time": "2020-10-10T00:06:06.909035Z"
    }
   },
   "outputs": [
    {
     "data": {
      "text/plain": [
       "0    0.150824\n",
       "4    0.149288\n",
       "3    0.148301\n",
       "2    0.145013\n",
       "1    0.143541\n",
       "6    0.141507\n",
       "5    0.121525\n",
       "Name: WEEKDAY, dtype: float64"
      ]
     },
     "execution_count": 5,
     "metadata": {},
     "output_type": "execute_result"
    }
   ],
   "source": [
    "dfm.WEEKDAY.value_counts(normalize=True)"
   ]
  },
  {
   "cell_type": "code",
   "execution_count": 6,
   "metadata": {
    "ExecuteTime": {
     "end_time": "2020-10-10T00:06:06.942241Z",
     "start_time": "2020-10-10T00:06:06.935165Z"
    },
    "scrolled": false
   },
   "outputs": [
    {
     "name": "stdout",
     "output_type": "stream",
     "text": [
      "<class 'pandas.core.frame.DataFrame'>\n",
      "Int64Index: 4008257 entries, 0 to 7213445\n",
      "Data columns (total 13 columns):\n",
      " #   Column               Dtype  \n",
      "---  ------               -----  \n",
      " 0   OP_CARRIER           object \n",
      " 1   ORIGIN               object \n",
      " 2   DEST                 object \n",
      " 3   CRS_DEP_TIME         int64  \n",
      " 4   DEP_DELAY            float64\n",
      " 5   CRS_ARR_TIME         int64  \n",
      " 6   CRS_ELAPSED_TIME     float64\n",
      " 7   ACTUAL_ELAPSED_TIME  float64\n",
      " 8   AIR_TIME             float64\n",
      " 9   DISTANCE             float64\n",
      " 10  MONTH                int64  \n",
      " 11  FLIGHT_STATUS        int64  \n",
      " 12  WEEKDAY              int64  \n",
      "dtypes: float64(5), int64(5), object(3)\n",
      "memory usage: 428.1+ MB\n"
     ]
    }
   ],
   "source": [
    "dfm.info()"
   ]
  },
  {
   "cell_type": "code",
   "execution_count": 7,
   "metadata": {
    "ExecuteTime": {
     "end_time": "2020-10-10T00:06:06.946467Z",
     "start_time": "2020-10-10T00:06:06.943407Z"
    }
   },
   "outputs": [
    {
     "data": {
      "text/plain": [
       "(4008257, 13)"
      ]
     },
     "execution_count": 7,
     "metadata": {},
     "output_type": "execute_result"
    }
   ],
   "source": [
    "dfm.shape"
   ]
  },
  {
   "cell_type": "code",
   "execution_count": 8,
   "metadata": {
    "ExecuteTime": {
     "end_time": "2020-10-10T00:06:07.399784Z",
     "start_time": "2020-10-10T00:06:06.948947Z"
    }
   },
   "outputs": [
    {
     "data": {
      "text/plain": [
       "OP_CARRIER             0\n",
       "ORIGIN                 0\n",
       "DEST                   0\n",
       "CRS_DEP_TIME           0\n",
       "DEP_DELAY              0\n",
       "CRS_ARR_TIME           0\n",
       "CRS_ELAPSED_TIME       0\n",
       "ACTUAL_ELAPSED_TIME    0\n",
       "AIR_TIME               0\n",
       "DISTANCE               0\n",
       "MONTH                  0\n",
       "FLIGHT_STATUS          0\n",
       "WEEKDAY                0\n",
       "dtype: int64"
      ]
     },
     "execution_count": 8,
     "metadata": {},
     "output_type": "execute_result"
    }
   ],
   "source": [
    "dfm.isna().sum()"
   ]
  },
  {
   "cell_type": "markdown",
   "metadata": {},
   "source": [
    "# Data Distribution\n",
    "\n",
    "I already know that this dataset is unbalanced, but just to follow standard workflows I will write a short function to see this visually and then keep on going."
   ]
  },
  {
   "cell_type": "code",
   "execution_count": 9,
   "metadata": {
    "ExecuteTime": {
     "end_time": "2020-10-10T00:06:07.406206Z",
     "start_time": "2020-10-10T00:06:07.401781Z"
    }
   },
   "outputs": [],
   "source": [
    "def scaling_check(data):\n",
    "    \n",
    "    case_count = dfm['FLIGHT_STATUS'].value_counts() # 'data' is our input which will be any of the 3 dataframes created\n",
    "    print('Legend:')\n",
    "    print(case_count)\n",
    "    \n",
    "    plt.figure(figsize=(10,6))\n",
    "    sns.barplot(x=case_count.index, y=case_count.values)\n",
    "    plt.rcParams[\"figure.facecolor\"] = \"lightblue\"\n",
    "    plt.title('Data Distribution', fontsize=16)\n",
    "    plt.xlabel('Flight Status', fontsize=12)\n",
    "    plt.ylabel('Number of Flights', fontsize=12)\n",
    "    plt.xticks(range(len(case_count.index)), ['ON TIME(0)', 'DELAYED(1)'])\n",
    "    plt.show()"
   ]
  },
  {
   "cell_type": "code",
   "execution_count": 10,
   "metadata": {
    "ExecuteTime": {
     "end_time": "2020-10-10T00:06:07.581860Z",
     "start_time": "2020-10-10T00:06:07.408059Z"
    }
   },
   "outputs": [
    {
     "name": "stdout",
     "output_type": "stream",
     "text": [
      "Legend:\n",
      "0    2518941\n",
      "1    1489316\n",
      "Name: FLIGHT_STATUS, dtype: int64\n"
     ]
    },
    {
     "data": {
      "image/png": "[encoded data removed]",
      "text/plain": [
       "<Figure size 720x432 with 1 Axes>"
      ]
     },
     "metadata": {
      "needs_background": "light"
     },
     "output_type": "display_data"
    }
   ],
   "source": [
    "scaling_check(dfm)"
   ]
  },
  {
   "cell_type": "code",
   "execution_count": 11,
   "metadata": {
    "ExecuteTime": {
     "end_time": "2020-10-10T00:06:07.611165Z",
     "start_time": "2020-10-10T00:06:07.583547Z"
    }
   },
   "outputs": [
    {
     "data": {
      "text/plain": [
       "0    0.628438\n",
       "1    0.371562\n",
       "Name: FLIGHT_STATUS, dtype: float64"
      ]
     },
     "execution_count": 11,
     "metadata": {},
     "output_type": "execute_result"
    }
   ],
   "source": [
    "dfm.FLIGHT_STATUS.value_counts(normalize=True)"
   ]
  },
  {
   "cell_type": "markdown",
   "metadata": {},
   "source": [
    "As mentioned above, the data is unbalance with a 62.84% of the flights arriving on time and 37.16% being delayed. For the time being I will keep it this way but if results are not adequate I will come back to this and try to balance it. At the moment is less than 2:1 ratio so the problem is there but it is not insanely big."
   ]
  },
  {
   "cell_type": "markdown",
   "metadata": {},
   "source": [
    "<b>Weight calculation for each class</b>"
   ]
  },
  {
   "cell_type": "code",
   "execution_count": 12,
   "metadata": {
    "ExecuteTime": {
     "end_time": "2020-10-10T00:06:07.626698Z",
     "start_time": "2020-10-10T00:06:07.613293Z"
    }
   },
   "outputs": [
    {
     "data": {
      "text/html": [
       "<div>\n",
       "<style scoped>\n",
       "    .dataframe tbody tr th:only-of-type {\n",
       "        vertical-align: middle;\n",
       "    }\n",
       "\n",
       "    .dataframe tbody tr th {\n",
       "        vertical-align: top;\n",
       "    }\n",
       "\n",
       "    .dataframe thead th {\n",
       "        text-align: right;\n",
       "    }\n",
       "</style>\n",
       "<table border=\"1\" class=\"dataframe\">\n",
       "  <thead>\n",
       "    <tr style=\"text-align: right;\">\n",
       "      <th></th>\n",
       "      <th>OP_CARRIER</th>\n",
       "      <th>ORIGIN</th>\n",
       "      <th>DEST</th>\n",
       "      <th>CRS_DEP_TIME</th>\n",
       "      <th>DEP_DELAY</th>\n",
       "      <th>CRS_ARR_TIME</th>\n",
       "      <th>CRS_ELAPSED_TIME</th>\n",
       "      <th>ACTUAL_ELAPSED_TIME</th>\n",
       "      <th>AIR_TIME</th>\n",
       "      <th>DISTANCE</th>\n",
       "      <th>MONTH</th>\n",
       "      <th>FLIGHT_STATUS</th>\n",
       "      <th>WEEKDAY</th>\n",
       "    </tr>\n",
       "  </thead>\n",
       "  <tbody>\n",
       "    <tr>\n",
       "      <th>0</th>\n",
       "      <td>United Airlines</td>\n",
       "      <td>Newark</td>\n",
       "      <td>Denver</td>\n",
       "      <td>3</td>\n",
       "      <td>-5.0</td>\n",
       "      <td>3</td>\n",
       "      <td>268.0</td>\n",
       "      <td>250.0</td>\n",
       "      <td>225.0</td>\n",
       "      <td>1605.0</td>\n",
       "      <td>1</td>\n",
       "      <td>0</td>\n",
       "      <td>0</td>\n",
       "    </tr>\n",
       "    <tr>\n",
       "      <th>1</th>\n",
       "      <td>United Airlines</td>\n",
       "      <td>Las Vegas</td>\n",
       "      <td>San Francisco</td>\n",
       "      <td>2</td>\n",
       "      <td>-8.0</td>\n",
       "      <td>3</td>\n",
       "      <td>99.0</td>\n",
       "      <td>83.0</td>\n",
       "      <td>65.0</td>\n",
       "      <td>414.0</td>\n",
       "      <td>1</td>\n",
       "      <td>0</td>\n",
       "      <td>0</td>\n",
       "    </tr>\n",
       "  </tbody>\n",
       "</table>\n",
       "</div>"
      ],
      "text/plain": [
       "        OP_CARRIER     ORIGIN           DEST  CRS_DEP_TIME  DEP_DELAY  \\\n",
       "0  United Airlines     Newark         Denver             3       -5.0   \n",
       "1  United Airlines  Las Vegas  San Francisco             2       -8.0   \n",
       "\n",
       "   CRS_ARR_TIME  CRS_ELAPSED_TIME  ACTUAL_ELAPSED_TIME  AIR_TIME  DISTANCE  \\\n",
       "0             3             268.0                250.0     225.0    1605.0   \n",
       "1             3              99.0                 83.0      65.0     414.0   \n",
       "\n",
       "   MONTH  FLIGHT_STATUS  WEEKDAY  \n",
       "0      1              0        0  \n",
       "1      1              0        0  "
      ]
     },
     "execution_count": 12,
     "metadata": {},
     "output_type": "execute_result"
    }
   ],
   "source": [
    "dfm.head(2)"
   ]
  },
  {
   "cell_type": "code",
   "execution_count": 13,
   "metadata": {
    "ExecuteTime": {
     "end_time": "2020-10-10T00:06:07.658777Z",
     "start_time": "2020-10-10T00:06:07.628785Z"
    }
   },
   "outputs": [
    {
     "data": {
      "text/plain": [
       "0    2518941\n",
       "1    1489316\n",
       "Name: FLIGHT_STATUS, dtype: int64"
      ]
     },
     "execution_count": 13,
     "metadata": {},
     "output_type": "execute_result"
    }
   ],
   "source": [
    "dfm.FLIGHT_STATUS.value_counts()"
   ]
  },
  {
   "cell_type": "code",
   "execution_count": 14,
   "metadata": {
    "ExecuteTime": {
     "end_time": "2020-10-10T00:06:07.662572Z",
     "start_time": "2020-10-10T00:06:07.660215Z"
    }
   },
   "outputs": [],
   "source": [
    "count_0 = 2518941\n",
    "count_1 = 1489316"
   ]
  },
  {
   "cell_type": "code",
   "execution_count": 15,
   "metadata": {
    "ExecuteTime": {
     "end_time": "2020-10-10T00:06:07.667578Z",
     "start_time": "2020-10-10T00:06:07.664172Z"
    }
   },
   "outputs": [
    {
     "name": "stdout",
     "output_type": "stream",
     "text": [
      "2518941\n",
      "1489316\n"
     ]
    }
   ],
   "source": [
    "print(count_0)\n",
    "print(count_1)"
   ]
  },
  {
   "cell_type": "code",
   "execution_count": 16,
   "metadata": {
    "ExecuteTime": {
     "end_time": "2020-10-10T00:06:07.677282Z",
     "start_time": "2020-10-10T00:06:07.669043Z"
    }
   },
   "outputs": [
    {
     "name": "stdout",
     "output_type": "stream",
     "text": [
      "Weight for class 0: 0.80\n",
      "Weight for class 1: 1.35\n"
     ]
    }
   ],
   "source": [
    "initial_bias = np.log([count_1/count_0])\n",
    "initial_bias\n",
    "\n",
    "weight_for_0 = (1/count_0)*(count_0 + count_1)/2.0\n",
    "weight_for_1 = (1/count_1)*(count_0 + count_1)/2.0\n",
    "\n",
    "class_weight = {0: weight_for_0, 1: weight_for_1}\n",
    "\n",
    "print('Weight for class 0: {:.2f}'.format(weight_for_0))\n",
    "print('Weight for class 1: {:.2f}'.format(weight_for_1))"
   ]
  },
  {
   "cell_type": "markdown",
   "metadata": {},
   "source": [
    "As for the previous Random Forest I'll quickly display histogram to better understand the data and just in case you are looking only at this one and not the V1."
   ]
  },
  {
   "cell_type": "code",
   "execution_count": 17,
   "metadata": {
    "ExecuteTime": {
     "end_time": "2020-10-10T00:06:09.849654Z",
     "start_time": "2020-10-10T00:06:07.678799Z"
    }
   },
   "outputs": [
    {
     "data": {
      "image/png": "[encoded data removed]",
      "text/plain": [
       "<Figure size 1080x1080 with 12 Axes>"
      ]
     },
     "metadata": {},
     "output_type": "display_data"
    }
   ],
   "source": [
    "dfm.hist(figsize  = [15, 15],bins=9) \n",
    "plt.show()"
   ]
  },
  {
   "cell_type": "code",
   "execution_count": 18,
   "metadata": {
    "ExecuteTime": {
     "end_time": "2020-10-10T00:06:09.923110Z",
     "start_time": "2020-10-10T00:06:09.851053Z"
    }
   },
   "outputs": [
    {
     "data": {
      "text/plain": [
       "-5.0       7.605326e-02\n",
       "-4.0       7.301079e-02\n",
       "-3.0       7.088767e-02\n",
       "-6.0       6.475732e-02\n",
       "-2.0       6.441179e-02\n",
       "               ...     \n",
       " 1315.0    2.494850e-07\n",
       " 1121.0    2.494850e-07\n",
       " 1317.0    2.494850e-07\n",
       " 1321.0    2.494850e-07\n",
       "-57.0      2.494850e-07\n",
       "Name: DEP_DELAY, Length: 1432, dtype: float64"
      ]
     },
     "execution_count": 18,
     "metadata": {},
     "output_type": "execute_result"
    }
   ],
   "source": [
    "dfm.DEP_DELAY.value_counts(normalize=True)"
   ]
  },
  {
   "cell_type": "code",
   "execution_count": 19,
   "metadata": {
    "ExecuteTime": {
     "end_time": "2020-10-10T00:06:09.950999Z",
     "start_time": "2020-10-10T00:06:09.924640Z"
    }
   },
   "outputs": [
    {
     "data": {
      "text/html": [
       "<div>\n",
       "<style scoped>\n",
       "    .dataframe tbody tr th:only-of-type {\n",
       "        vertical-align: middle;\n",
       "    }\n",
       "\n",
       "    .dataframe tbody tr th {\n",
       "        vertical-align: top;\n",
       "    }\n",
       "\n",
       "    .dataframe thead th {\n",
       "        text-align: right;\n",
       "    }\n",
       "</style>\n",
       "<table border=\"1\" class=\"dataframe\">\n",
       "  <thead>\n",
       "    <tr style=\"text-align: right;\">\n",
       "      <th></th>\n",
       "      <th>OP_CARRIER</th>\n",
       "      <th>ORIGIN</th>\n",
       "      <th>DEST</th>\n",
       "      <th>CRS_DEP_TIME</th>\n",
       "      <th>DEP_DELAY</th>\n",
       "      <th>CRS_ARR_TIME</th>\n",
       "      <th>CRS_ELAPSED_TIME</th>\n",
       "      <th>ACTUAL_ELAPSED_TIME</th>\n",
       "      <th>AIR_TIME</th>\n",
       "      <th>DISTANCE</th>\n",
       "      <th>MONTH</th>\n",
       "      <th>FLIGHT_STATUS</th>\n",
       "      <th>WEEKDAY</th>\n",
       "    </tr>\n",
       "  </thead>\n",
       "  <tbody>\n",
       "    <tr>\n",
       "      <th>7521</th>\n",
       "      <td>SkyWest Airlines</td>\n",
       "      <td>Eau Claire</td>\n",
       "      <td>Chicago</td>\n",
       "      <td>1</td>\n",
       "      <td>1041.0</td>\n",
       "      <td>2</td>\n",
       "      <td>82.0</td>\n",
       "      <td>73.0</td>\n",
       "      <td>48.0</td>\n",
       "      <td>269.0</td>\n",
       "      <td>1</td>\n",
       "      <td>1</td>\n",
       "      <td>0</td>\n",
       "    </tr>\n",
       "    <tr>\n",
       "      <th>8227</th>\n",
       "      <td>SkyWest Airlines</td>\n",
       "      <td>Atlanta</td>\n",
       "      <td>Chicago</td>\n",
       "      <td>3</td>\n",
       "      <td>1140.0</td>\n",
       "      <td>3</td>\n",
       "      <td>130.0</td>\n",
       "      <td>134.0</td>\n",
       "      <td>95.0</td>\n",
       "      <td>606.0</td>\n",
       "      <td>1</td>\n",
       "      <td>1</td>\n",
       "      <td>0</td>\n",
       "    </tr>\n",
       "    <tr>\n",
       "      <th>14275</th>\n",
       "      <td>American Airlines</td>\n",
       "      <td>Eagle</td>\n",
       "      <td>Dallas-Fort Worth</td>\n",
       "      <td>3</td>\n",
       "      <td>1144.0</td>\n",
       "      <td>4</td>\n",
       "      <td>133.0</td>\n",
       "      <td>124.0</td>\n",
       "      <td>93.0</td>\n",
       "      <td>721.0</td>\n",
       "      <td>1</td>\n",
       "      <td>1</td>\n",
       "      <td>0</td>\n",
       "    </tr>\n",
       "    <tr>\n",
       "      <th>14636</th>\n",
       "      <td>American Airlines</td>\n",
       "      <td>Detroit</td>\n",
       "      <td>Dallas-Fort Worth</td>\n",
       "      <td>3</td>\n",
       "      <td>1013.0</td>\n",
       "      <td>4</td>\n",
       "      <td>189.0</td>\n",
       "      <td>177.0</td>\n",
       "      <td>135.0</td>\n",
       "      <td>986.0</td>\n",
       "      <td>1</td>\n",
       "      <td>1</td>\n",
       "      <td>0</td>\n",
       "    </tr>\n",
       "    <tr>\n",
       "      <th>21972</th>\n",
       "      <td>Spirit Airlines</td>\n",
       "      <td>Detroit</td>\n",
       "      <td>Denver</td>\n",
       "      <td>3</td>\n",
       "      <td>1332.0</td>\n",
       "      <td>4</td>\n",
       "      <td>202.0</td>\n",
       "      <td>215.0</td>\n",
       "      <td>158.0</td>\n",
       "      <td>1123.0</td>\n",
       "      <td>1</td>\n",
       "      <td>1</td>\n",
       "      <td>1</td>\n",
       "    </tr>\n",
       "    <tr>\n",
       "      <th>...</th>\n",
       "      <td>...</td>\n",
       "      <td>...</td>\n",
       "      <td>...</td>\n",
       "      <td>...</td>\n",
       "      <td>...</td>\n",
       "      <td>...</td>\n",
       "      <td>...</td>\n",
       "      <td>...</td>\n",
       "      <td>...</td>\n",
       "      <td>...</td>\n",
       "      <td>...</td>\n",
       "      <td>...</td>\n",
       "      <td>...</td>\n",
       "    </tr>\n",
       "    <tr>\n",
       "      <th>7202763</th>\n",
       "      <td>United Airlines</td>\n",
       "      <td>Eagle</td>\n",
       "      <td>Newark</td>\n",
       "      <td>3</td>\n",
       "      <td>1306.0</td>\n",
       "      <td>4</td>\n",
       "      <td>241.0</td>\n",
       "      <td>206.0</td>\n",
       "      <td>180.0</td>\n",
       "      <td>1725.0</td>\n",
       "      <td>12</td>\n",
       "      <td>1</td>\n",
       "      <td>0</td>\n",
       "    </tr>\n",
       "    <tr>\n",
       "      <th>7203678</th>\n",
       "      <td>Endeavor Air</td>\n",
       "      <td>Traverse City</td>\n",
       "      <td>Detroit</td>\n",
       "      <td>3</td>\n",
       "      <td>1231.0</td>\n",
       "      <td>4</td>\n",
       "      <td>78.0</td>\n",
       "      <td>73.0</td>\n",
       "      <td>40.0</td>\n",
       "      <td>207.0</td>\n",
       "      <td>12</td>\n",
       "      <td>1</td>\n",
       "      <td>0</td>\n",
       "    </tr>\n",
       "    <tr>\n",
       "      <th>7211246</th>\n",
       "      <td>SkyWest Airlines</td>\n",
       "      <td>Minneapolis</td>\n",
       "      <td>Houston</td>\n",
       "      <td>4</td>\n",
       "      <td>1074.0</td>\n",
       "      <td>4</td>\n",
       "      <td>192.0</td>\n",
       "      <td>186.0</td>\n",
       "      <td>156.0</td>\n",
       "      <td>1034.0</td>\n",
       "      <td>12</td>\n",
       "      <td>1</td>\n",
       "      <td>0</td>\n",
       "    </tr>\n",
       "    <tr>\n",
       "      <th>7212368</th>\n",
       "      <td>SkyWest Airlines</td>\n",
       "      <td>Aspen</td>\n",
       "      <td>San Francisco</td>\n",
       "      <td>4</td>\n",
       "      <td>1041.0</td>\n",
       "      <td>4</td>\n",
       "      <td>156.0</td>\n",
       "      <td>141.0</td>\n",
       "      <td>104.0</td>\n",
       "      <td>848.0</td>\n",
       "      <td>12</td>\n",
       "      <td>1</td>\n",
       "      <td>0</td>\n",
       "    </tr>\n",
       "    <tr>\n",
       "      <th>7212824</th>\n",
       "      <td>American Airlines</td>\n",
       "      <td>Jackson</td>\n",
       "      <td>Chicago</td>\n",
       "      <td>3</td>\n",
       "      <td>1307.0</td>\n",
       "      <td>3</td>\n",
       "      <td>189.0</td>\n",
       "      <td>198.0</td>\n",
       "      <td>139.0</td>\n",
       "      <td>1162.0</td>\n",
       "      <td>12</td>\n",
       "      <td>1</td>\n",
       "      <td>0</td>\n",
       "    </tr>\n",
       "  </tbody>\n",
       "</table>\n",
       "<p>986 rows × 13 columns</p>\n",
       "</div>"
      ],
      "text/plain": [
       "                OP_CARRIER         ORIGIN               DEST  CRS_DEP_TIME  \\\n",
       "7521      SkyWest Airlines     Eau Claire            Chicago             1   \n",
       "8227      SkyWest Airlines        Atlanta            Chicago             3   \n",
       "14275    American Airlines          Eagle  Dallas-Fort Worth             3   \n",
       "14636    American Airlines        Detroit  Dallas-Fort Worth             3   \n",
       "21972      Spirit Airlines        Detroit             Denver             3   \n",
       "...                    ...            ...                ...           ...   \n",
       "7202763    United Airlines          Eagle             Newark             3   \n",
       "7203678       Endeavor Air  Traverse City            Detroit             3   \n",
       "7211246   SkyWest Airlines    Minneapolis            Houston             4   \n",
       "7212368   SkyWest Airlines          Aspen      San Francisco             4   \n",
       "7212824  American Airlines        Jackson            Chicago             3   \n",
       "\n",
       "         DEP_DELAY  CRS_ARR_TIME  CRS_ELAPSED_TIME  ACTUAL_ELAPSED_TIME  \\\n",
       "7521        1041.0             2              82.0                 73.0   \n",
       "8227        1140.0             3             130.0                134.0   \n",
       "14275       1144.0             4             133.0                124.0   \n",
       "14636       1013.0             4             189.0                177.0   \n",
       "21972       1332.0             4             202.0                215.0   \n",
       "...            ...           ...               ...                  ...   \n",
       "7202763     1306.0             4             241.0                206.0   \n",
       "7203678     1231.0             4              78.0                 73.0   \n",
       "7211246     1074.0             4             192.0                186.0   \n",
       "7212368     1041.0             4             156.0                141.0   \n",
       "7212824     1307.0             3             189.0                198.0   \n",
       "\n",
       "         AIR_TIME  DISTANCE  MONTH  FLIGHT_STATUS  WEEKDAY  \n",
       "7521         48.0     269.0      1              1        0  \n",
       "8227         95.0     606.0      1              1        0  \n",
       "14275        93.0     721.0      1              1        0  \n",
       "14636       135.0     986.0      1              1        0  \n",
       "21972       158.0    1123.0      1              1        1  \n",
       "...           ...       ...    ...            ...      ...  \n",
       "7202763     180.0    1725.0     12              1        0  \n",
       "7203678      40.0     207.0     12              1        0  \n",
       "7211246     156.0    1034.0     12              1        0  \n",
       "7212368     104.0     848.0     12              1        0  \n",
       "7212824     139.0    1162.0     12              1        0  \n",
       "\n",
       "[986 rows x 13 columns]"
      ]
     },
     "execution_count": 19,
     "metadata": {},
     "output_type": "execute_result"
    }
   ],
   "source": [
    "dfm_test=dfm[(dfm['DEP_DELAY'] > 1000)]\n",
    "dfm_test"
   ]
  },
  {
   "cell_type": "markdown",
   "metadata": {},
   "source": [
    "# Categoricals"
   ]
  },
  {
   "cell_type": "code",
   "execution_count": 20,
   "metadata": {
    "ExecuteTime": {
     "end_time": "2020-10-10T00:06:09.957474Z",
     "start_time": "2020-10-10T00:06:09.952997Z"
    }
   },
   "outputs": [
    {
     "data": {
      "text/plain": [
       "Index(['OP_CARRIER', 'ORIGIN', 'DEST', 'CRS_DEP_TIME', 'DEP_DELAY',\n",
       "       'CRS_ARR_TIME', 'CRS_ELAPSED_TIME', 'ACTUAL_ELAPSED_TIME', 'AIR_TIME',\n",
       "       'DISTANCE', 'MONTH', 'FLIGHT_STATUS', 'WEEKDAY'],\n",
       "      dtype='object')"
      ]
     },
     "execution_count": 20,
     "metadata": {},
     "output_type": "execute_result"
    }
   ],
   "source": [
    "dfm.columns"
   ]
  },
  {
   "cell_type": "markdown",
   "metadata": {},
   "source": [
    "I have a few Categoricals to deal with:<br>\n",
    "\n",
    "* OP_CARRIER = 18 airlines<br>\n",
    "* ORIGIN = 20 cities<br>\n",
    "* DEST = 20 cities<br>\n",
    "* CRS_DEP_TIME = 4 quarters<br>\n",
    "* CRS_ARR_TIME = 4 quarters<br>\n",
    "* MONTH = 12 months<br>\n",
    "* FLIGHT_STATUS = 2 categories (already dealt with)<br>\n",
    "* WEEKDAY = 7 days (from 0 to 6)\n",
    "\n"
   ]
  },
  {
   "cell_type": "code",
   "execution_count": 21,
   "metadata": {
    "ExecuteTime": {
     "end_time": "2020-10-10T00:06:14.075987Z",
     "start_time": "2020-10-10T00:06:09.959252Z"
    }
   },
   "outputs": [
    {
     "data": {
      "image/png": "[encoded data removed]",
      "text/plain": [
       "<Figure size 1152x1008 with 6 Axes>"
      ]
     },
     "metadata": {},
     "output_type": "display_data"
    }
   ],
   "source": [
    "fig, axes = plt.subplots(nrows=3, ncols=2, figsize=(16,14), sharey=True)\n",
    "\n",
    "categoricals = ['OP_CARRIER', 'DEST', 'CRS_DEP_TIME', 'CRS_ARR_TIME', 'MONTH', 'WEEKDAY']\n",
    "\n",
    "for col, ax in zip(categoricals, axes.flatten()):\n",
    "    (dfm.groupby(col).sum()['FLIGHT_STATUS'].sort_values().plot.bar(ax=ax))\n",
    "    \n",
    "    ax.set_title(col)\n",
    "    \n",
    "fig.tight_layout()\n"
   ]
  },
  {
   "cell_type": "code",
   "execution_count": 22,
   "metadata": {
    "ExecuteTime": {
     "end_time": "2020-10-10T00:06:14.938620Z",
     "start_time": "2020-10-10T00:06:14.077589Z"
    }
   },
   "outputs": [],
   "source": [
    "OP_CARRIER_dummies = pd.get_dummies(dfm['OP_CARRIER'], prefix='OP_CARRIER', drop_first=True)\n",
    "DEST_dummies = pd.get_dummies(dfm['DEST'], prefix='DEST', drop_first=True)\n",
    "CRS_DEP_TIME_dummies = pd.get_dummies(dfm['CRS_DEP_TIME'], prefix='CRS_DEP_TIME', drop_first=True)\n",
    "CRS_ARR_TIME_dummines = pd.get_dummies(dfm['CRS_ARR_TIME'], prefix='CRS_ARR_TIME', drop_first=True) \n",
    "MONTH_dummies = pd.get_dummies(dfm['MONTH'], prefix='MONTH', drop_first=True)\n",
    "WEEKDAY_dummies = pd.get_dummies(dfm['WEEKDAY'], prefix='WEEKDAY', drop_first=True)"
   ]
  },
  {
   "cell_type": "code",
   "execution_count": 23,
   "metadata": {
    "ExecuteTime": {
     "end_time": "2020-10-10T00:06:15.005743Z",
     "start_time": "2020-10-10T00:06:14.942257Z"
    }
   },
   "outputs": [],
   "source": [
    "dfm = dfm.drop(['OP_CARRIER', 'ORIGIN', 'DEST', 'CRS_DEP_TIME', 'CRS_ARR_TIME', 'MONTH', 'WEEKDAY', 'ACTUAL_ELAPSED_TIME'], axis=1)"
   ]
  },
  {
   "cell_type": "code",
   "execution_count": 24,
   "metadata": {
    "ExecuteTime": {
     "end_time": "2020-10-10T00:06:15.427055Z",
     "start_time": "2020-10-10T00:06:15.008991Z"
    }
   },
   "outputs": [],
   "source": [
    "dfm = pd.concat([dfm, OP_CARRIER_dummies, DEST_dummies, CRS_DEP_TIME_dummies, CRS_ARR_TIME_dummines, MONTH_dummies, WEEKDAY_dummies], axis=1)"
   ]
  },
  {
   "cell_type": "code",
   "execution_count": 25,
   "metadata": {
    "ExecuteTime": {
     "end_time": "2020-10-10T00:06:15.458587Z",
     "start_time": "2020-10-10T00:06:15.428485Z"
    }
   },
   "outputs": [
    {
     "data": {
      "text/html": [
       "<div>\n",
       "<style scoped>\n",
       "    .dataframe tbody tr th:only-of-type {\n",
       "        vertical-align: middle;\n",
       "    }\n",
       "\n",
       "    .dataframe tbody tr th {\n",
       "        vertical-align: top;\n",
       "    }\n",
       "\n",
       "    .dataframe thead th {\n",
       "        text-align: right;\n",
       "    }\n",
       "</style>\n",
       "<table border=\"1\" class=\"dataframe\">\n",
       "  <thead>\n",
       "    <tr style=\"text-align: right;\">\n",
       "      <th></th>\n",
       "      <th>DEP_DELAY</th>\n",
       "      <th>CRS_ELAPSED_TIME</th>\n",
       "      <th>AIR_TIME</th>\n",
       "      <th>DISTANCE</th>\n",
       "      <th>FLIGHT_STATUS</th>\n",
       "      <th>OP_CARRIER_Allegiant Air</th>\n",
       "      <th>OP_CARRIER_American Airlines</th>\n",
       "      <th>OP_CARRIER_Delta Airlines</th>\n",
       "      <th>OP_CARRIER_Endeavor Air</th>\n",
       "      <th>OP_CARRIER_Envoy Air</th>\n",
       "      <th>OP_CARRIER_ExpressJet</th>\n",
       "      <th>OP_CARRIER_Frontier Airlines</th>\n",
       "      <th>OP_CARRIER_Hawaiian Airlines</th>\n",
       "      <th>OP_CARRIER_JetBlue Airways</th>\n",
       "      <th>OP_CARRIER_Mesa Airline</th>\n",
       "      <th>OP_CARRIER_PSA Airlines</th>\n",
       "      <th>OP_CARRIER_Republic Airways</th>\n",
       "      <th>OP_CARRIER_SkyWest Airlines</th>\n",
       "      <th>OP_CARRIER_Southwest Airlines</th>\n",
       "      <th>OP_CARRIER_Spirit Airlines</th>\n",
       "      <th>OP_CARRIER_United Airlines</th>\n",
       "      <th>OP_CARRIER_Virgin America</th>\n",
       "      <th>DEST_Atlanta</th>\n",
       "      <th>DEST_Boston</th>\n",
       "      <th>DEST_Charlotte</th>\n",
       "      <th>DEST_Chicago</th>\n",
       "      <th>DEST_Dallas-Fort Worth</th>\n",
       "      <th>DEST_Denver</th>\n",
       "      <th>DEST_Detroit</th>\n",
       "      <th>DEST_Houston</th>\n",
       "      <th>DEST_Las Vegas</th>\n",
       "      <th>DEST_Los Angeles</th>\n",
       "      <th>DEST_Minneapolis</th>\n",
       "      <th>DEST_New York</th>\n",
       "      <th>DEST_Newark</th>\n",
       "      <th>DEST_Orlando</th>\n",
       "      <th>DEST_Philadelphia</th>\n",
       "      <th>DEST_Phoenix</th>\n",
       "      <th>DEST_Salt Lake City</th>\n",
       "      <th>DEST_San Francisco</th>\n",
       "      <th>DEST_Seattle</th>\n",
       "      <th>CRS_DEP_TIME_2</th>\n",
       "      <th>CRS_DEP_TIME_3</th>\n",
       "      <th>CRS_DEP_TIME_4</th>\n",
       "      <th>CRS_ARR_TIME_2</th>\n",
       "      <th>CRS_ARR_TIME_3</th>\n",
       "      <th>CRS_ARR_TIME_4</th>\n",
       "      <th>MONTH_2</th>\n",
       "      <th>MONTH_3</th>\n",
       "      <th>MONTH_4</th>\n",
       "      <th>MONTH_5</th>\n",
       "      <th>MONTH_6</th>\n",
       "      <th>MONTH_7</th>\n",
       "      <th>MONTH_8</th>\n",
       "      <th>MONTH_9</th>\n",
       "      <th>MONTH_10</th>\n",
       "      <th>MONTH_11</th>\n",
       "      <th>MONTH_12</th>\n",
       "      <th>WEEKDAY_1</th>\n",
       "      <th>WEEKDAY_2</th>\n",
       "      <th>WEEKDAY_3</th>\n",
       "      <th>WEEKDAY_4</th>\n",
       "      <th>WEEKDAY_5</th>\n",
       "      <th>WEEKDAY_6</th>\n",
       "    </tr>\n",
       "  </thead>\n",
       "  <tbody>\n",
       "    <tr>\n",
       "      <th>0</th>\n",
       "      <td>-5.0</td>\n",
       "      <td>268.0</td>\n",
       "      <td>225.0</td>\n",
       "      <td>1605.0</td>\n",
       "      <td>0</td>\n",
       "      <td>0</td>\n",
       "      <td>0</td>\n",
       "      <td>0</td>\n",
       "      <td>0</td>\n",
       "      <td>0</td>\n",
       "      <td>0</td>\n",
       "      <td>0</td>\n",
       "      <td>0</td>\n",
       "      <td>0</td>\n",
       "      <td>0</td>\n",
       "      <td>0</td>\n",
       "      <td>0</td>\n",
       "      <td>0</td>\n",
       "      <td>0</td>\n",
       "      <td>0</td>\n",
       "      <td>1</td>\n",
       "      <td>0</td>\n",
       "      <td>0</td>\n",
       "      <td>0</td>\n",
       "      <td>0</td>\n",
       "      <td>0</td>\n",
       "      <td>0</td>\n",
       "      <td>1</td>\n",
       "      <td>0</td>\n",
       "      <td>0</td>\n",
       "      <td>0</td>\n",
       "      <td>0</td>\n",
       "      <td>0</td>\n",
       "      <td>0</td>\n",
       "      <td>0</td>\n",
       "      <td>0</td>\n",
       "      <td>0</td>\n",
       "      <td>0</td>\n",
       "      <td>0</td>\n",
       "      <td>0</td>\n",
       "      <td>0</td>\n",
       "      <td>0</td>\n",
       "      <td>1</td>\n",
       "      <td>0</td>\n",
       "      <td>0</td>\n",
       "      <td>1</td>\n",
       "      <td>0</td>\n",
       "      <td>0</td>\n",
       "      <td>0</td>\n",
       "      <td>0</td>\n",
       "      <td>0</td>\n",
       "      <td>0</td>\n",
       "      <td>0</td>\n",
       "      <td>0</td>\n",
       "      <td>0</td>\n",
       "      <td>0</td>\n",
       "      <td>0</td>\n",
       "      <td>0</td>\n",
       "      <td>0</td>\n",
       "      <td>0</td>\n",
       "      <td>0</td>\n",
       "      <td>0</td>\n",
       "      <td>0</td>\n",
       "      <td>0</td>\n",
       "    </tr>\n",
       "    <tr>\n",
       "      <th>1</th>\n",
       "      <td>-8.0</td>\n",
       "      <td>99.0</td>\n",
       "      <td>65.0</td>\n",
       "      <td>414.0</td>\n",
       "      <td>0</td>\n",
       "      <td>0</td>\n",
       "      <td>0</td>\n",
       "      <td>0</td>\n",
       "      <td>0</td>\n",
       "      <td>0</td>\n",
       "      <td>0</td>\n",
       "      <td>0</td>\n",
       "      <td>0</td>\n",
       "      <td>0</td>\n",
       "      <td>0</td>\n",
       "      <td>0</td>\n",
       "      <td>0</td>\n",
       "      <td>0</td>\n",
       "      <td>0</td>\n",
       "      <td>0</td>\n",
       "      <td>1</td>\n",
       "      <td>0</td>\n",
       "      <td>0</td>\n",
       "      <td>0</td>\n",
       "      <td>0</td>\n",
       "      <td>0</td>\n",
       "      <td>0</td>\n",
       "      <td>0</td>\n",
       "      <td>0</td>\n",
       "      <td>0</td>\n",
       "      <td>0</td>\n",
       "      <td>0</td>\n",
       "      <td>0</td>\n",
       "      <td>0</td>\n",
       "      <td>0</td>\n",
       "      <td>0</td>\n",
       "      <td>0</td>\n",
       "      <td>0</td>\n",
       "      <td>0</td>\n",
       "      <td>1</td>\n",
       "      <td>0</td>\n",
       "      <td>1</td>\n",
       "      <td>0</td>\n",
       "      <td>0</td>\n",
       "      <td>0</td>\n",
       "      <td>1</td>\n",
       "      <td>0</td>\n",
       "      <td>0</td>\n",
       "      <td>0</td>\n",
       "      <td>0</td>\n",
       "      <td>0</td>\n",
       "      <td>0</td>\n",
       "      <td>0</td>\n",
       "      <td>0</td>\n",
       "      <td>0</td>\n",
       "      <td>0</td>\n",
       "      <td>0</td>\n",
       "      <td>0</td>\n",
       "      <td>0</td>\n",
       "      <td>0</td>\n",
       "      <td>0</td>\n",
       "      <td>0</td>\n",
       "      <td>0</td>\n",
       "      <td>0</td>\n",
       "    </tr>\n",
       "  </tbody>\n",
       "</table>\n",
       "</div>"
      ],
      "text/plain": [
       "   DEP_DELAY  CRS_ELAPSED_TIME  AIR_TIME  DISTANCE  FLIGHT_STATUS  \\\n",
       "0       -5.0             268.0     225.0    1605.0              0   \n",
       "1       -8.0              99.0      65.0     414.0              0   \n",
       "\n",
       "   OP_CARRIER_Allegiant Air  OP_CARRIER_American Airlines  \\\n",
       "0                         0                             0   \n",
       "1                         0                             0   \n",
       "\n",
       "   OP_CARRIER_Delta Airlines  OP_CARRIER_Endeavor Air  OP_CARRIER_Envoy Air  \\\n",
       "0                          0                        0                     0   \n",
       "1                          0                        0                     0   \n",
       "\n",
       "   OP_CARRIER_ExpressJet  OP_CARRIER_Frontier Airlines  \\\n",
       "0                      0                             0   \n",
       "1                      0                             0   \n",
       "\n",
       "   OP_CARRIER_Hawaiian Airlines  OP_CARRIER_JetBlue Airways  \\\n",
       "0                             0                           0   \n",
       "1                             0                           0   \n",
       "\n",
       "   OP_CARRIER_Mesa Airline  OP_CARRIER_PSA Airlines  \\\n",
       "0                        0                        0   \n",
       "1                        0                        0   \n",
       "\n",
       "   OP_CARRIER_Republic Airways  OP_CARRIER_SkyWest Airlines  \\\n",
       "0                            0                            0   \n",
       "1                            0                            0   \n",
       "\n",
       "   OP_CARRIER_Southwest Airlines  OP_CARRIER_Spirit Airlines  \\\n",
       "0                              0                           0   \n",
       "1                              0                           0   \n",
       "\n",
       "   OP_CARRIER_United Airlines  OP_CARRIER_Virgin America  DEST_Atlanta  \\\n",
       "0                           1                          0             0   \n",
       "1                           1                          0             0   \n",
       "\n",
       "   DEST_Boston  DEST_Charlotte  DEST_Chicago  DEST_Dallas-Fort Worth  \\\n",
       "0            0               0             0                       0   \n",
       "1            0               0             0                       0   \n",
       "\n",
       "   DEST_Denver  DEST_Detroit  DEST_Houston  DEST_Las Vegas  DEST_Los Angeles  \\\n",
       "0            1             0             0               0                 0   \n",
       "1            0             0             0               0                 0   \n",
       "\n",
       "   DEST_Minneapolis  DEST_New York  DEST_Newark  DEST_Orlando  \\\n",
       "0                 0              0            0             0   \n",
       "1                 0              0            0             0   \n",
       "\n",
       "   DEST_Philadelphia  DEST_Phoenix  DEST_Salt Lake City  DEST_San Francisco  \\\n",
       "0                  0             0                    0                   0   \n",
       "1                  0             0                    0                   1   \n",
       "\n",
       "   DEST_Seattle  CRS_DEP_TIME_2  CRS_DEP_TIME_3  CRS_DEP_TIME_4  \\\n",
       "0             0               0               1               0   \n",
       "1             0               1               0               0   \n",
       "\n",
       "   CRS_ARR_TIME_2  CRS_ARR_TIME_3  CRS_ARR_TIME_4  MONTH_2  MONTH_3  MONTH_4  \\\n",
       "0               0               1               0        0        0        0   \n",
       "1               0               1               0        0        0        0   \n",
       "\n",
       "   MONTH_5  MONTH_6  MONTH_7  MONTH_8  MONTH_9  MONTH_10  MONTH_11  MONTH_12  \\\n",
       "0        0        0        0        0        0         0         0         0   \n",
       "1        0        0        0        0        0         0         0         0   \n",
       "\n",
       "   WEEKDAY_1  WEEKDAY_2  WEEKDAY_3  WEEKDAY_4  WEEKDAY_5  WEEKDAY_6  \n",
       "0          0          0          0          0          0          0  \n",
       "1          0          0          0          0          0          0  "
      ]
     },
     "execution_count": 25,
     "metadata": {},
     "output_type": "execute_result"
    }
   ],
   "source": [
    "dfm.head(2)"
   ]
  },
  {
   "cell_type": "code",
   "execution_count": 26,
   "metadata": {
    "ExecuteTime": {
     "end_time": "2020-10-10T00:06:15.463841Z",
     "start_time": "2020-10-10T00:06:15.460065Z"
    },
    "scrolled": true
   },
   "outputs": [
    {
     "data": {
      "text/plain": [
       "(4008257, 64)"
      ]
     },
     "execution_count": 26,
     "metadata": {},
     "output_type": "execute_result"
    }
   ],
   "source": [
    "dfm.shape"
   ]
  },
  {
   "cell_type": "code",
   "execution_count": 66,
   "metadata": {
    "ExecuteTime": {
     "end_time": "2020-10-11T10:38:58.044390Z",
     "start_time": "2020-10-11T10:38:19.417369Z"
    }
   },
   "outputs": [],
   "source": [
    "dfm.to_csv('dfm_ready.csv')"
   ]
  },
  {
   "cell_type": "markdown",
   "metadata": {},
   "source": [
    "# Random Forest"
   ]
  },
  {
   "cell_type": "markdown",
   "metadata": {},
   "source": [
    "## Features, Labels, Training and Test Data Creation"
   ]
  },
  {
   "cell_type": "code",
   "execution_count": 27,
   "metadata": {
    "ExecuteTime": {
     "end_time": "2020-10-10T00:06:16.070980Z",
     "start_time": "2020-10-10T00:06:15.465525Z"
    }
   },
   "outputs": [],
   "source": [
    "# Create features (X) and labels (y)\n",
    "y = dfm['FLIGHT_STATUS']\n",
    "X = dfm.drop(['FLIGHT_STATUS', 'DEP_DELAY'], axis=1)"
   ]
  },
  {
   "cell_type": "code",
   "execution_count": 28,
   "metadata": {
    "ExecuteTime": {
     "end_time": "2020-10-10T00:06:17.552819Z",
     "start_time": "2020-10-10T00:06:16.072676Z"
    }
   },
   "outputs": [],
   "source": [
    "# Perform the split\n",
    "X_test, X_train, y_test, y_train = train_test_split(X, y, test_size=0.25, random_state=42)"
   ]
  },
  {
   "cell_type": "markdown",
   "metadata": {},
   "source": [
    "## Build Regular Tree as Baseline"
   ]
  },
  {
   "cell_type": "code",
   "execution_count": 29,
   "metadata": {
    "ExecuteTime": {
     "end_time": "2020-10-10T00:06:24.314951Z",
     "start_time": "2020-10-10T00:06:17.554560Z"
    }
   },
   "outputs": [
    {
     "data": {
      "text/plain": [
       "DecisionTreeClassifier(class_weight='balanced', max_depth=5)"
      ]
     },
     "execution_count": 29,
     "metadata": {},
     "output_type": "execute_result"
    }
   ],
   "source": [
    "# Build a regular tree as baseline\n",
    "#class_weight = {0:0.3715 ,1:0.6284}\n",
    "tree_clf = DecisionTreeClassifier(criterion='gini', max_depth=5, class_weight=\"balanced\")\n",
    "tree_clf.fit(X_train, y_train)"
   ]
  },
  {
   "cell_type": "markdown",
   "metadata": {},
   "source": [
    "Before I continue, I'll run a importance feature values and then plot them to see which ones are the ones with thee most weight. "
   ]
  },
  {
   "cell_type": "code",
   "execution_count": 30,
   "metadata": {
    "ExecuteTime": {
     "end_time": "2020-10-10T00:06:24.321097Z",
     "start_time": "2020-10-10T00:06:24.316652Z"
    }
   },
   "outputs": [
    {
     "data": {
      "text/plain": [
       "array([0.05775774, 0.11195425, 0.02872367, 0.        , 0.        ,\n",
       "       0.15612776, 0.        , 0.        , 0.        , 0.        ,\n",
       "       0.        , 0.        , 0.        , 0.        , 0.        ,\n",
       "       0.        , 0.02470708, 0.        , 0.        , 0.        ,\n",
       "       0.00347836, 0.        , 0.        , 0.        , 0.        ,\n",
       "       0.        , 0.00236146, 0.        , 0.        , 0.        ,\n",
       "       0.        , 0.        , 0.03174274, 0.        , 0.        ,\n",
       "       0.        , 0.        , 0.        , 0.        , 0.03781775,\n",
       "       0.        , 0.        , 0.37125813, 0.        , 0.12666622,\n",
       "       0.        , 0.        , 0.        , 0.00438225, 0.        ,\n",
       "       0.        , 0.        , 0.        , 0.        , 0.00569018,\n",
       "       0.        , 0.        , 0.        , 0.        , 0.        ,\n",
       "       0.03733241, 0.        ])"
      ]
     },
     "execution_count": 30,
     "metadata": {},
     "output_type": "execute_result"
    }
   ],
   "source": [
    "tree_clf.feature_importances_"
   ]
  },
  {
   "cell_type": "code",
   "execution_count": 31,
   "metadata": {
    "ExecuteTime": {
     "end_time": "2020-10-10T00:06:25.518688Z",
     "start_time": "2020-10-10T00:06:24.322721Z"
    }
   },
   "outputs": [
    {
     "data": {
      "image/png": "[encoded data removed]",
      "text/plain": [
       "<Figure size 720x1440 with 1 Axes>"
      ]
     },
     "metadata": {},
     "output_type": "display_data"
    }
   ],
   "source": [
    "def plot_feature_importances(model):\n",
    "    n_features = X_train.shape[1]\n",
    "    plt.figure(figsize=(10, 20))\n",
    "    plt.barh(range(n_features), model.feature_importances_, color='k', align='center')\n",
    "    plt.yticks(np.arange(n_features), X_train.columns.values)\n",
    "    plt.xlabel('Feature importance')\n",
    "    plt.ylabel('Features')\n",
    "    plt.rcParams[\"figure.facecolor\"] = \"lightblue\"\n",
    "    plt.grid(True)\n",
    "plot_feature_importances(tree_clf)"
   ]
  },
  {
   "cell_type": "markdown",
   "metadata": {},
   "source": [
    "<b>Model Performance</b>"
   ]
  },
  {
   "cell_type": "code",
   "execution_count": 32,
   "metadata": {
    "ExecuteTime": {
     "end_time": "2020-10-10T00:06:27.287218Z",
     "start_time": "2020-10-10T00:06:25.519957Z"
    }
   },
   "outputs": [],
   "source": [
    "# Test set predictions\n",
    "pred = tree_clf.predict(X_test)"
   ]
  },
  {
   "cell_type": "code",
   "execution_count": 33,
   "metadata": {
    "ExecuteTime": {
     "end_time": "2020-10-10T00:06:28.140898Z",
     "start_time": "2020-10-10T00:06:27.289330Z"
    }
   },
   "outputs": [
    {
     "name": "stdout",
     "output_type": "stream",
     "text": [
      "\n",
      "Confusion Matrix\n",
      "----------------\n"
     ]
    },
    {
     "data": {
      "text/html": [
       "<div>\n",
       "<style scoped>\n",
       "    .dataframe tbody tr th:only-of-type {\n",
       "        vertical-align: middle;\n",
       "    }\n",
       "\n",
       "    .dataframe tbody tr th {\n",
       "        vertical-align: top;\n",
       "    }\n",
       "\n",
       "    .dataframe thead th {\n",
       "        text-align: right;\n",
       "    }\n",
       "</style>\n",
       "<table border=\"1\" class=\"dataframe\">\n",
       "  <thead>\n",
       "    <tr style=\"text-align: right;\">\n",
       "      <th>Predicted</th>\n",
       "      <th>0</th>\n",
       "      <th>1</th>\n",
       "      <th>All</th>\n",
       "    </tr>\n",
       "    <tr>\n",
       "      <th>True</th>\n",
       "      <th></th>\n",
       "      <th></th>\n",
       "      <th></th>\n",
       "    </tr>\n",
       "  </thead>\n",
       "  <tbody>\n",
       "    <tr>\n",
       "      <th>0</th>\n",
       "      <td>1111401</td>\n",
       "      <td>778007</td>\n",
       "      <td>1889408</td>\n",
       "    </tr>\n",
       "    <tr>\n",
       "      <th>1</th>\n",
       "      <td>491669</td>\n",
       "      <td>625115</td>\n",
       "      <td>1116784</td>\n",
       "    </tr>\n",
       "    <tr>\n",
       "      <th>All</th>\n",
       "      <td>1603070</td>\n",
       "      <td>1403122</td>\n",
       "      <td>3006192</td>\n",
       "    </tr>\n",
       "  </tbody>\n",
       "</table>\n",
       "</div>"
      ],
      "text/plain": [
       "Predicted        0        1      All\n",
       "True                                \n",
       "0          1111401   778007  1889408\n",
       "1           491669   625115  1116784\n",
       "All        1603070  1403122  3006192"
      ]
     },
     "execution_count": 33,
     "metadata": {},
     "output_type": "execute_result"
    }
   ],
   "source": [
    "# confusion matrix and classfication report\n",
    "print('\\nConfusion Matrix')\n",
    "print('----------------')\n",
    "pd.crosstab(y_test, pred, rownames=['True'], colnames=['Predicted'], margins=True)"
   ]
  },
  {
   "cell_type": "code",
   "execution_count": 34,
   "metadata": {
    "ExecuteTime": {
     "end_time": "2020-10-10T00:06:32.278620Z",
     "start_time": "2020-10-10T00:06:28.142336Z"
    }
   },
   "outputs": [
    {
     "name": "stdout",
     "output_type": "stream",
     "text": [
      "Classificiation Report\n",
      "---------------------\n",
      "              precision    recall  f1-score   support\n",
      "\n",
      "           0       0.69      0.59      0.64   1889408\n",
      "           1       0.45      0.56      0.50   1116784\n",
      "\n",
      "    accuracy                           0.58   3006192\n",
      "   macro avg       0.57      0.57      0.57   3006192\n",
      "weighted avg       0.60      0.58      0.58   3006192\n",
      "\n"
     ]
    }
   ],
   "source": [
    "print('Classificiation Report')\n",
    "print('---------------------')\n",
    "print(classification_report(y_test, pred))"
   ]
  },
  {
   "cell_type": "code",
   "execution_count": 35,
   "metadata": {
    "ExecuteTime": {
     "end_time": "2020-10-10T00:06:38.296829Z",
     "start_time": "2020-10-10T00:06:32.280379Z"
    }
   },
   "outputs": [
    {
     "data": {
      "image/png": "[encoded data removed]",
      "text/plain": [
       "<Figure size 432x288 with 2 Axes>"
      ]
     },
     "metadata": {},
     "output_type": "display_data"
    }
   ],
   "source": [
    "# Alternative confusion matrix\n",
    "plot_confusion_matrix(tree_clf, X, y, values_format='.3g')\n",
    "plt.show()"
   ]
  },
  {
   "cell_type": "code",
   "execution_count": 36,
   "metadata": {
    "ExecuteTime": {
     "end_time": "2020-10-10T00:06:38.548519Z",
     "start_time": "2020-10-10T00:06:38.298291Z"
    }
   },
   "outputs": [
    {
     "name": "stdout",
     "output_type": "stream",
     "text": [
      "Testing Accuracy for Decision Tree Classifier: 57.76%\n"
     ]
    }
   ],
   "source": [
    "print(\"Testing Accuracy for Decision Tree Classifier: {:.4}%\".format(accuracy_score(y_test, pred) * 100))"
   ]
  },
  {
   "cell_type": "markdown",
   "metadata": {},
   "source": [
    "<b>BAGGED TREES</b>"
   ]
  },
  {
   "cell_type": "code",
   "execution_count": 37,
   "metadata": {
    "ExecuteTime": {
     "end_time": "2020-10-10T00:06:38.553076Z",
     "start_time": "2020-10-10T00:06:38.550272Z"
    }
   },
   "outputs": [],
   "source": [
    "# We start by instantiating the BaggingClassifire\n",
    "bagged_tree =  BaggingClassifier(DecisionTreeClassifier(criterion='gini', max_depth=5), \n",
    "                                 n_estimators=20)"
   ]
  },
  {
   "cell_type": "code",
   "execution_count": 38,
   "metadata": {
    "ExecuteTime": {
     "end_time": "2020-10-10T00:08:10.623276Z",
     "start_time": "2020-10-10T00:06:38.554805Z"
    }
   },
   "outputs": [
    {
     "data": {
      "text/plain": [
       "BaggingClassifier(base_estimator=DecisionTreeClassifier(max_depth=5),\n",
       "                  n_estimators=20)"
      ]
     },
     "execution_count": 38,
     "metadata": {},
     "output_type": "execute_result"
    }
   ],
   "source": [
    "# Now to fitting the training data:\n",
    "bagged_tree.fit(X_train, y_train)"
   ]
  },
  {
   "cell_type": "code",
   "execution_count": 39,
   "metadata": {
    "ExecuteTime": {
     "end_time": "2020-10-10T00:08:19.975707Z",
     "start_time": "2020-10-10T00:08:10.625042Z"
    }
   },
   "outputs": [
    {
     "data": {
      "text/plain": [
       "0.6366383418241331"
      ]
     },
     "execution_count": 39,
     "metadata": {},
     "output_type": "execute_result"
    }
   ],
   "source": [
    "# I'm going to call the .score() to obtain the accuracy score on the training dataset and then on the test data:\n",
    "bagged_tree.score(X_train, y_train)"
   ]
  },
  {
   "cell_type": "code",
   "execution_count": 40,
   "metadata": {
    "ExecuteTime": {
     "end_time": "2020-10-10T00:08:49.745242Z",
     "start_time": "2020-10-10T00:08:19.977636Z"
    }
   },
   "outputs": [
    {
     "data": {
      "text/plain": [
       "0.6368355713806703"
      ]
     },
     "execution_count": 40,
     "metadata": {},
     "output_type": "execute_result"
    }
   ],
   "source": [
    "bagged_tree.score(X_test, y_test)"
   ]
  },
  {
   "cell_type": "markdown",
   "metadata": {},
   "source": [
    "<b>MODEL PERFORMANCE</b>"
   ]
  },
  {
   "cell_type": "code",
   "execution_count": 41,
   "metadata": {
    "ExecuteTime": {
     "end_time": "2020-10-10T00:09:18.303923Z",
     "start_time": "2020-10-10T00:08:49.746711Z"
    }
   },
   "outputs": [],
   "source": [
    "# Test set predictions\n",
    "pred_bt = bagged_tree.predict(X_test)"
   ]
  },
  {
   "cell_type": "code",
   "execution_count": 42,
   "metadata": {
    "ExecuteTime": {
     "end_time": "2020-10-10T00:09:19.224305Z",
     "start_time": "2020-10-10T00:09:18.305407Z"
    }
   },
   "outputs": [
    {
     "name": "stdout",
     "output_type": "stream",
     "text": [
      "\n",
      "Confusion Matrix\n",
      "----------------\n"
     ]
    },
    {
     "data": {
      "text/html": [
       "<div>\n",
       "<style scoped>\n",
       "    .dataframe tbody tr th:only-of-type {\n",
       "        vertical-align: middle;\n",
       "    }\n",
       "\n",
       "    .dataframe tbody tr th {\n",
       "        vertical-align: top;\n",
       "    }\n",
       "\n",
       "    .dataframe thead th {\n",
       "        text-align: right;\n",
       "    }\n",
       "</style>\n",
       "<table border=\"1\" class=\"dataframe\">\n",
       "  <thead>\n",
       "    <tr style=\"text-align: right;\">\n",
       "      <th>Predicted</th>\n",
       "      <th>0</th>\n",
       "      <th>1</th>\n",
       "      <th>All</th>\n",
       "    </tr>\n",
       "    <tr>\n",
       "      <th>True</th>\n",
       "      <th></th>\n",
       "      <th></th>\n",
       "      <th></th>\n",
       "    </tr>\n",
       "  </thead>\n",
       "  <tbody>\n",
       "    <tr>\n",
       "      <th>0</th>\n",
       "      <td>1822592</td>\n",
       "      <td>66816</td>\n",
       "      <td>1889408</td>\n",
       "    </tr>\n",
       "    <tr>\n",
       "      <th>1</th>\n",
       "      <td>1024926</td>\n",
       "      <td>91858</td>\n",
       "      <td>1116784</td>\n",
       "    </tr>\n",
       "    <tr>\n",
       "      <th>All</th>\n",
       "      <td>2847518</td>\n",
       "      <td>158674</td>\n",
       "      <td>3006192</td>\n",
       "    </tr>\n",
       "  </tbody>\n",
       "</table>\n",
       "</div>"
      ],
      "text/plain": [
       "Predicted        0       1      All\n",
       "True                               \n",
       "0          1822592   66816  1889408\n",
       "1          1024926   91858  1116784\n",
       "All        2847518  158674  3006192"
      ]
     },
     "execution_count": 42,
     "metadata": {},
     "output_type": "execute_result"
    }
   ],
   "source": [
    "# confusion matrix and classfication report\n",
    "print('\\nConfusion Matrix')\n",
    "print('----------------')\n",
    "pd.crosstab(y_test, pred_bt, rownames=['True'], colnames=['Predicted'], margins=True)"
   ]
  },
  {
   "cell_type": "code",
   "execution_count": 43,
   "metadata": {
    "ExecuteTime": {
     "end_time": "2020-10-10T00:09:23.129686Z",
     "start_time": "2020-10-10T00:09:19.226237Z"
    }
   },
   "outputs": [
    {
     "name": "stdout",
     "output_type": "stream",
     "text": [
      "Classificiation Report\n",
      "---------------------\n",
      "              precision    recall  f1-score   support\n",
      "\n",
      "           0       0.64      0.96      0.77   1889408\n",
      "           1       0.58      0.08      0.14   1116784\n",
      "\n",
      "    accuracy                           0.64   3006192\n",
      "   macro avg       0.61      0.52      0.46   3006192\n",
      "weighted avg       0.62      0.64      0.54   3006192\n",
      "\n"
     ]
    }
   ],
   "source": [
    "print('Classificiation Report')\n",
    "print('---------------------')\n",
    "print(classification_report(y_test, pred_bt))"
   ]
  },
  {
   "cell_type": "code",
   "execution_count": 44,
   "metadata": {
    "ExecuteTime": {
     "end_time": "2020-10-10T00:10:04.421197Z",
     "start_time": "2020-10-10T00:09:23.131418Z"
    }
   },
   "outputs": [
    {
     "data": {
      "image/png": "[encoded data removed]",
      "text/plain": [
       "<Figure size 432x288 with 2 Axes>"
      ]
     },
     "metadata": {},
     "output_type": "display_data"
    }
   ],
   "source": [
    "# Alternative confusion matrix\n",
    "plot_confusion_matrix(bagged_tree, X, y, values_format='.3g')\n",
    "plt.show()"
   ]
  },
  {
   "cell_type": "code",
   "execution_count": 45,
   "metadata": {
    "ExecuteTime": {
     "end_time": "2020-10-10T00:10:04.655852Z",
     "start_time": "2020-10-10T00:10:04.422896Z"
    }
   },
   "outputs": [
    {
     "name": "stdout",
     "output_type": "stream",
     "text": [
      "Testing Accuracy for Decision Tree Classifier: 63.68%\n"
     ]
    }
   ],
   "source": [
    "print(\"Testing Accuracy for Decision Tree Classifier: {:.4}%\".format(accuracy_score(y_test, pred_bt) * 100))"
   ]
  },
  {
   "cell_type": "code",
   "execution_count": null,
   "metadata": {},
   "outputs": [],
   "source": []
  },
  {
   "cell_type": "markdown",
   "metadata": {},
   "source": [
    "## Random Forest With Class Weighting"
   ]
  },
  {
   "cell_type": "code",
   "execution_count": 46,
   "metadata": {
    "ExecuteTime": {
     "end_time": "2020-10-10T00:11:12.567415Z",
     "start_time": "2020-10-10T00:10:04.657471Z"
    }
   },
   "outputs": [
    {
     "data": {
      "text/plain": [
       "RandomForestClassifier(class_weight='balanced', max_depth=5)"
      ]
     },
     "execution_count": 46,
     "metadata": {},
     "output_type": "execute_result"
    }
   ],
   "source": [
    "# I'll start by instantiating the RandomForestClassifier\n",
    "forest = RandomForestClassifier(n_estimators=100, max_depth=5, class_weight=\"balanced\")\n",
    "forest.fit(X_train, y_train)"
   ]
  },
  {
   "cell_type": "code",
   "execution_count": 47,
   "metadata": {
    "ExecuteTime": {
     "end_time": "2020-10-10T00:11:18.078984Z",
     "start_time": "2020-10-10T00:11:12.569396Z"
    }
   },
   "outputs": [
    {
     "data": {
      "text/plain": [
       "0.5676817372126559"
      ]
     },
     "execution_count": 47,
     "metadata": {},
     "output_type": "execute_result"
    }
   ],
   "source": [
    "# Now to check the accuracy score\n",
    "forest.score(X_train, y_train)"
   ]
  },
  {
   "cell_type": "code",
   "execution_count": 48,
   "metadata": {
    "ExecuteTime": {
     "end_time": "2020-10-10T00:11:34.583662Z",
     "start_time": "2020-10-10T00:11:18.080502Z"
    }
   },
   "outputs": [
    {
     "data": {
      "text/plain": [
       "0.5676240905437843"
      ]
     },
     "execution_count": 48,
     "metadata": {},
     "output_type": "execute_result"
    }
   ],
   "source": [
    "# And for the test set:\n",
    "forest.score(X_test, y_test)"
   ]
  },
  {
   "cell_type": "code",
   "execution_count": 49,
   "metadata": {
    "ExecuteTime": {
     "end_time": "2020-10-10T00:11:35.759678Z",
     "start_time": "2020-10-10T00:11:34.585431Z"
    }
   },
   "outputs": [
    {
     "data": {
      "image/png": "[encoded data removed]",
      "text/plain": [
       "<Figure size 720x1440 with 1 Axes>"
      ]
     },
     "metadata": {},
     "output_type": "display_data"
    }
   ],
   "source": [
    "plot_feature_importances(forest)\n",
    "plt.rcParams[\"figure.facecolor\"] = \"lightblue\""
   ]
  },
  {
   "cell_type": "markdown",
   "metadata": {},
   "source": [
    "<b>MODEL PERFORMANCE</b>"
   ]
  },
  {
   "cell_type": "code",
   "execution_count": 50,
   "metadata": {
    "ExecuteTime": {
     "end_time": "2020-10-10T00:11:52.264581Z",
     "start_time": "2020-10-10T00:11:35.761387Z"
    }
   },
   "outputs": [],
   "source": [
    "# Test set predictions\n",
    "pred_rf = forest.predict(X_test)"
   ]
  },
  {
   "cell_type": "code",
   "execution_count": 51,
   "metadata": {
    "ExecuteTime": {
     "end_time": "2020-10-10T00:11:53.086947Z",
     "start_time": "2020-10-10T00:11:52.266193Z"
    }
   },
   "outputs": [
    {
     "name": "stdout",
     "output_type": "stream",
     "text": [
      "\n",
      "Confusion Matrix\n",
      "----------------\n"
     ]
    },
    {
     "data": {
      "text/html": [
       "<div>\n",
       "<style scoped>\n",
       "    .dataframe tbody tr th:only-of-type {\n",
       "        vertical-align: middle;\n",
       "    }\n",
       "\n",
       "    .dataframe tbody tr th {\n",
       "        vertical-align: top;\n",
       "    }\n",
       "\n",
       "    .dataframe thead th {\n",
       "        text-align: right;\n",
       "    }\n",
       "</style>\n",
       "<table border=\"1\" class=\"dataframe\">\n",
       "  <thead>\n",
       "    <tr style=\"text-align: right;\">\n",
       "      <th>Predicted</th>\n",
       "      <th>0</th>\n",
       "      <th>1</th>\n",
       "      <th>All</th>\n",
       "    </tr>\n",
       "    <tr>\n",
       "      <th>True</th>\n",
       "      <th></th>\n",
       "      <th></th>\n",
       "      <th></th>\n",
       "    </tr>\n",
       "  </thead>\n",
       "  <tbody>\n",
       "    <tr>\n",
       "      <th>0</th>\n",
       "      <td>1047432</td>\n",
       "      <td>841976</td>\n",
       "      <td>1889408</td>\n",
       "    </tr>\n",
       "    <tr>\n",
       "      <th>1</th>\n",
       "      <td>457829</td>\n",
       "      <td>658955</td>\n",
       "      <td>1116784</td>\n",
       "    </tr>\n",
       "    <tr>\n",
       "      <th>All</th>\n",
       "      <td>1505261</td>\n",
       "      <td>1500931</td>\n",
       "      <td>3006192</td>\n",
       "    </tr>\n",
       "  </tbody>\n",
       "</table>\n",
       "</div>"
      ],
      "text/plain": [
       "Predicted        0        1      All\n",
       "True                                \n",
       "0          1047432   841976  1889408\n",
       "1           457829   658955  1116784\n",
       "All        1505261  1500931  3006192"
      ]
     },
     "execution_count": 51,
     "metadata": {},
     "output_type": "execute_result"
    }
   ],
   "source": [
    "# confusion matrix and classfication report\n",
    "print('\\nConfusion Matrix')\n",
    "print('----------------')\n",
    "pd.crosstab(y_test, pred_rf, rownames=['True'], colnames=['Predicted'], margins=True)"
   ]
  },
  {
   "cell_type": "code",
   "execution_count": 52,
   "metadata": {
    "ExecuteTime": {
     "end_time": "2020-10-10T00:11:57.187750Z",
     "start_time": "2020-10-10T00:11:53.088566Z"
    }
   },
   "outputs": [
    {
     "name": "stdout",
     "output_type": "stream",
     "text": [
      "Classificiation Report\n",
      "---------------------\n",
      "              precision    recall  f1-score   support\n",
      "\n",
      "           0       0.70      0.55      0.62   1889408\n",
      "           1       0.44      0.59      0.50   1116784\n",
      "\n",
      "    accuracy                           0.57   3006192\n",
      "   macro avg       0.57      0.57      0.56   3006192\n",
      "weighted avg       0.60      0.57      0.57   3006192\n",
      "\n"
     ]
    }
   ],
   "source": [
    "print('Classificiation Report')\n",
    "print('---------------------')\n",
    "print(classification_report(y_test, pred_rf))"
   ]
  },
  {
   "cell_type": "code",
   "execution_count": 53,
   "metadata": {
    "ExecuteTime": {
     "end_time": "2020-10-10T00:12:22.719640Z",
     "start_time": "2020-10-10T00:11:57.189278Z"
    }
   },
   "outputs": [
    {
     "data": {
      "image/png": "[encoded data removed]",
      "text/plain": [
       "<Figure size 432x288 with 2 Axes>"
      ]
     },
     "metadata": {},
     "output_type": "display_data"
    }
   ],
   "source": [
    "# Alternative confusion matrix\n",
    "plot_confusion_matrix(forest, X, y, values_format='.3g')\n",
    "plt.show()"
   ]
  },
  {
   "cell_type": "code",
   "execution_count": 54,
   "metadata": {
    "ExecuteTime": {
     "end_time": "2020-10-10T00:12:22.991649Z",
     "start_time": "2020-10-10T00:12:22.721183Z"
    }
   },
   "outputs": [
    {
     "name": "stdout",
     "output_type": "stream",
     "text": [
      "Testing Accuracy for RandomForest Classifier: 56.76%\n"
     ]
    }
   ],
   "source": [
    "print(\"Testing Accuracy for RandomForest Classifier: {:.4}%\".format(accuracy_score(y_test, pred_rf) * 100))"
   ]
  },
  {
   "cell_type": "code",
   "execution_count": null,
   "metadata": {},
   "outputs": [],
   "source": []
  },
  {
   "cell_type": "code",
   "execution_count": 55,
   "metadata": {
    "ExecuteTime": {
     "end_time": "2020-10-10T00:12:22.996049Z",
     "start_time": "2020-10-10T00:12:22.993308Z"
    }
   },
   "outputs": [],
   "source": [
    "# define evaluation procedure\n",
    "cv = RepeatedStratifiedKFold(n_splits=10, n_repeats=3, random_state=1)"
   ]
  },
  {
   "cell_type": "code",
   "execution_count": 56,
   "metadata": {
    "ExecuteTime": {
     "end_time": "2020-10-10T00:12:23.000174Z",
     "start_time": "2020-10-10T00:12:22.997859Z"
    }
   },
   "outputs": [],
   "source": [
    "# evaluate model\n",
    "#scores = cross_val_score(forest, X, y, scoring='roc_auc', cv=cv, n_jobs=-1)\n"
   ]
  },
  {
   "cell_type": "code",
   "execution_count": 57,
   "metadata": {
    "ExecuteTime": {
     "end_time": "2020-10-10T00:12:23.005022Z",
     "start_time": "2020-10-10T00:12:23.002356Z"
    }
   },
   "outputs": [],
   "source": [
    "# summarize performance\n",
    "#print('Mean ROC AUC: %.3f' % mean(scores))"
   ]
  },
  {
   "cell_type": "code",
   "execution_count": null,
   "metadata": {},
   "outputs": [],
   "source": []
  },
  {
   "cell_type": "markdown",
   "metadata": {},
   "source": [
    "## Random Forest With Bootstrat Class Weighting"
   ]
  },
  {
   "cell_type": "code",
   "execution_count": 58,
   "metadata": {
    "ExecuteTime": {
     "end_time": "2020-10-10T00:13:53.006921Z",
     "start_time": "2020-10-10T00:12:23.006778Z"
    }
   },
   "outputs": [
    {
     "data": {
      "text/plain": [
       "RandomForestClassifier(class_weight='balanced_subsample', max_depth=5)"
      ]
     },
     "execution_count": 58,
     "metadata": {},
     "output_type": "execute_result"
    }
   ],
   "source": [
    "forest_bcw = RandomForestClassifier(n_estimators=100, max_depth=5, class_weight='balanced_subsample')\n",
    "forest_bcw.fit(X_train, y_train)"
   ]
  },
  {
   "cell_type": "code",
   "execution_count": 59,
   "metadata": {
    "ExecuteTime": {
     "end_time": "2020-10-10T00:13:58.857849Z",
     "start_time": "2020-10-10T00:13:53.008704Z"
    }
   },
   "outputs": [
    {
     "data": {
      "text/plain": [
       "0.5708921077973984"
      ]
     },
     "execution_count": 59,
     "metadata": {},
     "output_type": "execute_result"
    }
   ],
   "source": [
    "# Now to check the accuracy score\n",
    "forest_bcw.score(X_train, y_train)"
   ]
  },
  {
   "cell_type": "code",
   "execution_count": 60,
   "metadata": {
    "ExecuteTime": {
     "end_time": "2020-10-10T00:14:16.290294Z",
     "start_time": "2020-10-10T00:13:58.859527Z"
    }
   },
   "outputs": [
    {
     "data": {
      "text/plain": [
       "0.570811179059754"
      ]
     },
     "execution_count": 60,
     "metadata": {},
     "output_type": "execute_result"
    }
   ],
   "source": [
    "# And for the test set:\n",
    "forest_bcw.score(X_test, y_test)"
   ]
  },
  {
   "cell_type": "code",
   "execution_count": null,
   "metadata": {},
   "outputs": [],
   "source": []
  },
  {
   "cell_type": "markdown",
   "metadata": {},
   "source": [
    "<b>MODEL PERFORMANCE</b>"
   ]
  },
  {
   "cell_type": "code",
   "execution_count": 61,
   "metadata": {
    "ExecuteTime": {
     "end_time": "2020-10-10T00:14:36.227149Z",
     "start_time": "2020-10-10T00:14:16.292223Z"
    }
   },
   "outputs": [],
   "source": [
    "# Test set predictions\n",
    "pred_rfbcw = forest_bcw.predict(X_test)"
   ]
  },
  {
   "cell_type": "code",
   "execution_count": 62,
   "metadata": {
    "ExecuteTime": {
     "end_time": "2020-10-10T00:14:37.049153Z",
     "start_time": "2020-10-10T00:14:36.228594Z"
    }
   },
   "outputs": [
    {
     "name": "stdout",
     "output_type": "stream",
     "text": [
      "\n",
      "Confusion Matrix\n",
      "----------------\n"
     ]
    },
    {
     "data": {
      "text/html": [
       "<div>\n",
       "<style scoped>\n",
       "    .dataframe tbody tr th:only-of-type {\n",
       "        vertical-align: middle;\n",
       "    }\n",
       "\n",
       "    .dataframe tbody tr th {\n",
       "        vertical-align: top;\n",
       "    }\n",
       "\n",
       "    .dataframe thead th {\n",
       "        text-align: right;\n",
       "    }\n",
       "</style>\n",
       "<table border=\"1\" class=\"dataframe\">\n",
       "  <thead>\n",
       "    <tr style=\"text-align: right;\">\n",
       "      <th>Predicted</th>\n",
       "      <th>0</th>\n",
       "      <th>1</th>\n",
       "      <th>All</th>\n",
       "    </tr>\n",
       "    <tr>\n",
       "      <th>True</th>\n",
       "      <th></th>\n",
       "      <th></th>\n",
       "      <th></th>\n",
       "    </tr>\n",
       "  </thead>\n",
       "  <tbody>\n",
       "    <tr>\n",
       "      <th>0</th>\n",
       "      <td>1065639</td>\n",
       "      <td>823769</td>\n",
       "      <td>1889408</td>\n",
       "    </tr>\n",
       "    <tr>\n",
       "      <th>1</th>\n",
       "      <td>466455</td>\n",
       "      <td>650329</td>\n",
       "      <td>1116784</td>\n",
       "    </tr>\n",
       "    <tr>\n",
       "      <th>All</th>\n",
       "      <td>1532094</td>\n",
       "      <td>1474098</td>\n",
       "      <td>3006192</td>\n",
       "    </tr>\n",
       "  </tbody>\n",
       "</table>\n",
       "</div>"
      ],
      "text/plain": [
       "Predicted        0        1      All\n",
       "True                                \n",
       "0          1065639   823769  1889408\n",
       "1           466455   650329  1116784\n",
       "All        1532094  1474098  3006192"
      ]
     },
     "execution_count": 62,
     "metadata": {},
     "output_type": "execute_result"
    }
   ],
   "source": [
    "# confusion matrix and classfication report\n",
    "print('\\nConfusion Matrix')\n",
    "print('----------------')\n",
    "pd.crosstab(y_test, pred_rfbcw, rownames=['True'], colnames=['Predicted'], margins=True)"
   ]
  },
  {
   "cell_type": "code",
   "execution_count": 63,
   "metadata": {
    "ExecuteTime": {
     "end_time": "2020-10-10T00:14:41.476264Z",
     "start_time": "2020-10-10T00:14:37.050937Z"
    }
   },
   "outputs": [
    {
     "name": "stdout",
     "output_type": "stream",
     "text": [
      "Classificiation Report\n",
      "---------------------\n",
      "              precision    recall  f1-score   support\n",
      "\n",
      "           0       0.70      0.56      0.62   1889408\n",
      "           1       0.44      0.58      0.50   1116784\n",
      "\n",
      "    accuracy                           0.57   3006192\n",
      "   macro avg       0.57      0.57      0.56   3006192\n",
      "weighted avg       0.60      0.57      0.58   3006192\n",
      "\n"
     ]
    }
   ],
   "source": [
    "print('Classificiation Report')\n",
    "print('---------------------')\n",
    "print(classification_report(y_test, pred_rfbcw))"
   ]
  },
  {
   "cell_type": "code",
   "execution_count": 64,
   "metadata": {
    "ExecuteTime": {
     "end_time": "2020-10-10T00:14:41.811183Z",
     "start_time": "2020-10-10T00:14:41.478578Z"
    }
   },
   "outputs": [
    {
     "name": "stdout",
     "output_type": "stream",
     "text": [
      "Testing Accuracy for RandomForest Classifier: 57.08%\n"
     ]
    }
   ],
   "source": [
    "print(\"Testing Accuracy for RandomForest Classifier: {:.4}%\".format(accuracy_score(y_test, pred_rfbcw) * 100))"
   ]
  },
  {
   "cell_type": "code",
   "execution_count": null,
   "metadata": {},
   "outputs": [],
   "source": []
  },
  {
   "cell_type": "code",
   "execution_count": null,
   "metadata": {},
   "outputs": [],
   "source": []
  },
  {
   "cell_type": "code",
   "execution_count": null,
   "metadata": {},
   "outputs": [],
   "source": []
  }
 ],
 "metadata": {
  "kernelspec": {
   "display_name": "learn-env",
   "language": "python",
   "name": "learn-env"
  },
  "language_info": {
   "codemirror_mode": {
    "name": "ipython",
    "version": 3
   },
   "file_extension": ".py",
   "mimetype": "text/x-python",
   "name": "python",
   "nbconvert_exporter": "python",
   "pygments_lexer": "ipython3",
   "version": "3.6.9"
  },
  "toc": {
   "base_numbering": 1,
   "nav_menu": {},
   "number_sections": true,
   "sideBar": true,
   "skip_h1_title": false,
   "title_cell": "Table of Contents",
   "title_sidebar": "Contents",
   "toc_cell": false,
   "toc_position": {},
   "toc_section_display": true,
   "toc_window_display": true
  },
  "varInspector": {
   "cols": {
    "lenName": 16,
    "lenType": 16,
    "lenVar": 40
   },
   "kernels_config": {
    "python": {
     "delete_cmd_postfix": "",
     "delete_cmd_prefix": "del ",
     "library": "var_list.py",
     "varRefreshCmd": "print(var_dic_list())"
    },
    "r": {
     "delete_cmd_postfix": ") ",
     "delete_cmd_prefix": "rm(",
     "library": "var_list.r",
     "varRefreshCmd": "cat(var_dic_list()) "
    }
   },
   "types_to_exclude": [
    "module",
    "function",
    "builtin_function_or_method",
    "instance",
    "_Feature"
   ],
   "window_display": false
  }
 },
 "nbformat": 4,
 "nbformat_minor": 4
}
