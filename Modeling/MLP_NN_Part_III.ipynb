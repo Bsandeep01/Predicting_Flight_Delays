{
 "cells": [
  {
   "cell_type": "markdown",
   "metadata": {},
   "source": [
    "<font size=\"6\"><b>MLP Neural Networks - Part III</b></font>"
   ]
  },
  {
   "cell_type": "markdown",
   "metadata": {
    "ExecuteTime": {
     "end_time": "2020-10-15T18:15:08.060564Z",
     "start_time": "2020-10-15T18:15:07.821526Z"
    }
   },
   "source": [
    "![Figure_14](img/Figure_14.png)"
   ]
  },
  {
   "cell_type": "markdown",
   "metadata": {},
   "source": [
    "# Libraries"
   ]
  },
  {
   "cell_type": "code",
   "execution_count": 85,
   "metadata": {
    "ExecuteTime": {
     "end_time": "2020-10-15T18:18:02.089925Z",
     "start_time": "2020-10-15T18:18:02.080268Z"
    }
   },
   "outputs": [],
   "source": [
    "import pandas as pd\n",
    "import numpy as np\n",
    "np.random.seed(0)\n",
    "import matplotlib.pyplot as plt\n",
    "%matplotlib inline\n",
    "import seaborn as sns\n",
    "import xgboost as xgb\n",
    "sns.set_style('darkgrid')\n",
    "pd.set_option('display.max_columns', None)\n",
    "import datetime, warnings, scipy\n",
    "warnings.filterwarnings(\"ignore\")\n",
    "\n",
    "import keras\n",
    "from keras.models import Sequential\n",
    "from keras.layers import Dense\n",
    "from sklearn.datasets import load_breast_cancer\n",
    "from sklearn.preprocessing import StandardScaler, LabelBinarizer\n",
    "from sklearn.model_selection import train_test_split\n",
    "from keras.layers import Dense, Conv2D , SeparableConv2D, MaxPool2D, Flatten , Dropout , BatchNormalization\n",
    "from keras.layers import Dense\n",
    "from sklearn import preprocessing\n",
    "import sklearn.metrics as metrics\n",
    "from sklearn.metrics import classification_report, confusion_matrix\n",
    "from sklearn.metrics import precision_score, recall_score, f1_score"
   ]
  },
  {
   "cell_type": "markdown",
   "metadata": {},
   "source": [
    "# Data Loading"
   ]
  },
  {
   "cell_type": "code",
   "execution_count": 2,
   "metadata": {
    "ExecuteTime": {
     "end_time": "2020-10-14T18:54:16.246882Z",
     "start_time": "2020-10-14T18:54:03.852953Z"
    }
   },
   "outputs": [
    {
     "data": {
      "text/html": [
       "<div>\n",
       "<style scoped>\n",
       "    .dataframe tbody tr th:only-of-type {\n",
       "        vertical-align: middle;\n",
       "    }\n",
       "\n",
       "    .dataframe tbody tr th {\n",
       "        vertical-align: top;\n",
       "    }\n",
       "\n",
       "    .dataframe thead th {\n",
       "        text-align: right;\n",
       "    }\n",
       "</style>\n",
       "<table border=\"1\" class=\"dataframe\">\n",
       "  <thead>\n",
       "    <tr style=\"text-align: right;\">\n",
       "      <th></th>\n",
       "      <th>DEP_DELAY</th>\n",
       "      <th>CRS_ELAPSED_TIME</th>\n",
       "      <th>AIR_TIME</th>\n",
       "      <th>DISTANCE</th>\n",
       "      <th>FLIGHT_STATUS</th>\n",
       "      <th>OP_CARRIER_Allegiant Air</th>\n",
       "      <th>OP_CARRIER_American Airlines</th>\n",
       "      <th>OP_CARRIER_Delta Airlines</th>\n",
       "      <th>OP_CARRIER_Endeavor Air</th>\n",
       "      <th>OP_CARRIER_Envoy Air</th>\n",
       "      <th>OP_CARRIER_ExpressJet</th>\n",
       "      <th>OP_CARRIER_Frontier Airlines</th>\n",
       "      <th>OP_CARRIER_Hawaiian Airlines</th>\n",
       "      <th>OP_CARRIER_JetBlue Airways</th>\n",
       "      <th>OP_CARRIER_Mesa Airline</th>\n",
       "      <th>OP_CARRIER_PSA Airlines</th>\n",
       "      <th>OP_CARRIER_Republic Airways</th>\n",
       "      <th>OP_CARRIER_SkyWest Airlines</th>\n",
       "      <th>OP_CARRIER_Southwest Airlines</th>\n",
       "      <th>OP_CARRIER_Spirit Airlines</th>\n",
       "      <th>OP_CARRIER_United Airlines</th>\n",
       "      <th>OP_CARRIER_Virgin America</th>\n",
       "      <th>DEST_Atlanta</th>\n",
       "      <th>DEST_Boston</th>\n",
       "      <th>DEST_Charlotte</th>\n",
       "      <th>DEST_Chicago</th>\n",
       "      <th>DEST_Dallas-Fort Worth</th>\n",
       "      <th>DEST_Denver</th>\n",
       "      <th>DEST_Detroit</th>\n",
       "      <th>DEST_Houston</th>\n",
       "      <th>DEST_Las Vegas</th>\n",
       "      <th>DEST_Los Angeles</th>\n",
       "      <th>DEST_Minneapolis</th>\n",
       "      <th>DEST_New York</th>\n",
       "      <th>DEST_Newark</th>\n",
       "      <th>DEST_Orlando</th>\n",
       "      <th>DEST_Philadelphia</th>\n",
       "      <th>DEST_Phoenix</th>\n",
       "      <th>DEST_Salt Lake City</th>\n",
       "      <th>DEST_San Francisco</th>\n",
       "      <th>DEST_Seattle</th>\n",
       "      <th>CRS_DEP_TIME_2</th>\n",
       "      <th>CRS_DEP_TIME_3</th>\n",
       "      <th>CRS_DEP_TIME_4</th>\n",
       "      <th>CRS_ARR_TIME_2</th>\n",
       "      <th>CRS_ARR_TIME_3</th>\n",
       "      <th>CRS_ARR_TIME_4</th>\n",
       "      <th>MONTH_2</th>\n",
       "      <th>MONTH_3</th>\n",
       "      <th>MONTH_4</th>\n",
       "      <th>MONTH_5</th>\n",
       "      <th>MONTH_6</th>\n",
       "      <th>MONTH_7</th>\n",
       "      <th>MONTH_8</th>\n",
       "      <th>MONTH_9</th>\n",
       "      <th>MONTH_10</th>\n",
       "      <th>MONTH_11</th>\n",
       "      <th>MONTH_12</th>\n",
       "      <th>WEEKDAY_1</th>\n",
       "      <th>WEEKDAY_2</th>\n",
       "      <th>WEEKDAY_3</th>\n",
       "      <th>WEEKDAY_4</th>\n",
       "      <th>WEEKDAY_5</th>\n",
       "      <th>WEEKDAY_6</th>\n",
       "    </tr>\n",
       "  </thead>\n",
       "  <tbody>\n",
       "    <tr>\n",
       "      <th>0</th>\n",
       "      <td>-5.0</td>\n",
       "      <td>268.0</td>\n",
       "      <td>225.0</td>\n",
       "      <td>1605.0</td>\n",
       "      <td>0</td>\n",
       "      <td>0</td>\n",
       "      <td>0</td>\n",
       "      <td>0</td>\n",
       "      <td>0</td>\n",
       "      <td>0</td>\n",
       "      <td>0</td>\n",
       "      <td>0</td>\n",
       "      <td>0</td>\n",
       "      <td>0</td>\n",
       "      <td>0</td>\n",
       "      <td>0</td>\n",
       "      <td>0</td>\n",
       "      <td>0</td>\n",
       "      <td>0</td>\n",
       "      <td>0</td>\n",
       "      <td>1</td>\n",
       "      <td>0</td>\n",
       "      <td>0</td>\n",
       "      <td>0</td>\n",
       "      <td>0</td>\n",
       "      <td>0</td>\n",
       "      <td>0</td>\n",
       "      <td>1</td>\n",
       "      <td>0</td>\n",
       "      <td>0</td>\n",
       "      <td>0</td>\n",
       "      <td>0</td>\n",
       "      <td>0</td>\n",
       "      <td>0</td>\n",
       "      <td>0</td>\n",
       "      <td>0</td>\n",
       "      <td>0</td>\n",
       "      <td>0</td>\n",
       "      <td>0</td>\n",
       "      <td>0</td>\n",
       "      <td>0</td>\n",
       "      <td>0</td>\n",
       "      <td>1</td>\n",
       "      <td>0</td>\n",
       "      <td>0</td>\n",
       "      <td>1</td>\n",
       "      <td>0</td>\n",
       "      <td>0</td>\n",
       "      <td>0</td>\n",
       "      <td>0</td>\n",
       "      <td>0</td>\n",
       "      <td>0</td>\n",
       "      <td>0</td>\n",
       "      <td>0</td>\n",
       "      <td>0</td>\n",
       "      <td>0</td>\n",
       "      <td>0</td>\n",
       "      <td>0</td>\n",
       "      <td>0</td>\n",
       "      <td>0</td>\n",
       "      <td>0</td>\n",
       "      <td>0</td>\n",
       "      <td>0</td>\n",
       "      <td>0</td>\n",
       "    </tr>\n",
       "    <tr>\n",
       "      <th>1</th>\n",
       "      <td>-8.0</td>\n",
       "      <td>99.0</td>\n",
       "      <td>65.0</td>\n",
       "      <td>414.0</td>\n",
       "      <td>0</td>\n",
       "      <td>0</td>\n",
       "      <td>0</td>\n",
       "      <td>0</td>\n",
       "      <td>0</td>\n",
       "      <td>0</td>\n",
       "      <td>0</td>\n",
       "      <td>0</td>\n",
       "      <td>0</td>\n",
       "      <td>0</td>\n",
       "      <td>0</td>\n",
       "      <td>0</td>\n",
       "      <td>0</td>\n",
       "      <td>0</td>\n",
       "      <td>0</td>\n",
       "      <td>0</td>\n",
       "      <td>1</td>\n",
       "      <td>0</td>\n",
       "      <td>0</td>\n",
       "      <td>0</td>\n",
       "      <td>0</td>\n",
       "      <td>0</td>\n",
       "      <td>0</td>\n",
       "      <td>0</td>\n",
       "      <td>0</td>\n",
       "      <td>0</td>\n",
       "      <td>0</td>\n",
       "      <td>0</td>\n",
       "      <td>0</td>\n",
       "      <td>0</td>\n",
       "      <td>0</td>\n",
       "      <td>0</td>\n",
       "      <td>0</td>\n",
       "      <td>0</td>\n",
       "      <td>0</td>\n",
       "      <td>1</td>\n",
       "      <td>0</td>\n",
       "      <td>1</td>\n",
       "      <td>0</td>\n",
       "      <td>0</td>\n",
       "      <td>0</td>\n",
       "      <td>1</td>\n",
       "      <td>0</td>\n",
       "      <td>0</td>\n",
       "      <td>0</td>\n",
       "      <td>0</td>\n",
       "      <td>0</td>\n",
       "      <td>0</td>\n",
       "      <td>0</td>\n",
       "      <td>0</td>\n",
       "      <td>0</td>\n",
       "      <td>0</td>\n",
       "      <td>0</td>\n",
       "      <td>0</td>\n",
       "      <td>0</td>\n",
       "      <td>0</td>\n",
       "      <td>0</td>\n",
       "      <td>0</td>\n",
       "      <td>0</td>\n",
       "      <td>0</td>\n",
       "    </tr>\n",
       "    <tr>\n",
       "      <th>2</th>\n",
       "      <td>-5.0</td>\n",
       "      <td>134.0</td>\n",
       "      <td>106.0</td>\n",
       "      <td>846.0</td>\n",
       "      <td>0</td>\n",
       "      <td>0</td>\n",
       "      <td>0</td>\n",
       "      <td>0</td>\n",
       "      <td>0</td>\n",
       "      <td>0</td>\n",
       "      <td>0</td>\n",
       "      <td>0</td>\n",
       "      <td>0</td>\n",
       "      <td>0</td>\n",
       "      <td>0</td>\n",
       "      <td>0</td>\n",
       "      <td>0</td>\n",
       "      <td>0</td>\n",
       "      <td>0</td>\n",
       "      <td>0</td>\n",
       "      <td>1</td>\n",
       "      <td>0</td>\n",
       "      <td>0</td>\n",
       "      <td>0</td>\n",
       "      <td>0</td>\n",
       "      <td>0</td>\n",
       "      <td>0</td>\n",
       "      <td>1</td>\n",
       "      <td>0</td>\n",
       "      <td>0</td>\n",
       "      <td>0</td>\n",
       "      <td>0</td>\n",
       "      <td>0</td>\n",
       "      <td>0</td>\n",
       "      <td>0</td>\n",
       "      <td>0</td>\n",
       "      <td>0</td>\n",
       "      <td>0</td>\n",
       "      <td>0</td>\n",
       "      <td>0</td>\n",
       "      <td>0</td>\n",
       "      <td>0</td>\n",
       "      <td>1</td>\n",
       "      <td>0</td>\n",
       "      <td>0</td>\n",
       "      <td>1</td>\n",
       "      <td>0</td>\n",
       "      <td>0</td>\n",
       "      <td>0</td>\n",
       "      <td>0</td>\n",
       "      <td>0</td>\n",
       "      <td>0</td>\n",
       "      <td>0</td>\n",
       "      <td>0</td>\n",
       "      <td>0</td>\n",
       "      <td>0</td>\n",
       "      <td>0</td>\n",
       "      <td>0</td>\n",
       "      <td>0</td>\n",
       "      <td>0</td>\n",
       "      <td>0</td>\n",
       "      <td>0</td>\n",
       "      <td>0</td>\n",
       "      <td>0</td>\n",
       "    </tr>\n",
       "    <tr>\n",
       "      <th>3</th>\n",
       "      <td>6.0</td>\n",
       "      <td>190.0</td>\n",
       "      <td>157.0</td>\n",
       "      <td>1120.0</td>\n",
       "      <td>0</td>\n",
       "      <td>0</td>\n",
       "      <td>0</td>\n",
       "      <td>0</td>\n",
       "      <td>0</td>\n",
       "      <td>0</td>\n",
       "      <td>0</td>\n",
       "      <td>0</td>\n",
       "      <td>0</td>\n",
       "      <td>0</td>\n",
       "      <td>0</td>\n",
       "      <td>0</td>\n",
       "      <td>0</td>\n",
       "      <td>0</td>\n",
       "      <td>0</td>\n",
       "      <td>0</td>\n",
       "      <td>1</td>\n",
       "      <td>0</td>\n",
       "      <td>0</td>\n",
       "      <td>0</td>\n",
       "      <td>0</td>\n",
       "      <td>1</td>\n",
       "      <td>0</td>\n",
       "      <td>0</td>\n",
       "      <td>0</td>\n",
       "      <td>0</td>\n",
       "      <td>0</td>\n",
       "      <td>0</td>\n",
       "      <td>0</td>\n",
       "      <td>0</td>\n",
       "      <td>0</td>\n",
       "      <td>0</td>\n",
       "      <td>0</td>\n",
       "      <td>0</td>\n",
       "      <td>0</td>\n",
       "      <td>0</td>\n",
       "      <td>0</td>\n",
       "      <td>0</td>\n",
       "      <td>1</td>\n",
       "      <td>0</td>\n",
       "      <td>0</td>\n",
       "      <td>1</td>\n",
       "      <td>0</td>\n",
       "      <td>0</td>\n",
       "      <td>0</td>\n",
       "      <td>0</td>\n",
       "      <td>0</td>\n",
       "      <td>0</td>\n",
       "      <td>0</td>\n",
       "      <td>0</td>\n",
       "      <td>0</td>\n",
       "      <td>0</td>\n",
       "      <td>0</td>\n",
       "      <td>0</td>\n",
       "      <td>0</td>\n",
       "      <td>0</td>\n",
       "      <td>0</td>\n",
       "      <td>0</td>\n",
       "      <td>0</td>\n",
       "      <td>0</td>\n",
       "    </tr>\n",
       "    <tr>\n",
       "      <th>6</th>\n",
       "      <td>-3.0</td>\n",
       "      <td>206.0</td>\n",
       "      <td>173.0</td>\n",
       "      <td>1222.0</td>\n",
       "      <td>0</td>\n",
       "      <td>0</td>\n",
       "      <td>0</td>\n",
       "      <td>0</td>\n",
       "      <td>0</td>\n",
       "      <td>0</td>\n",
       "      <td>0</td>\n",
       "      <td>0</td>\n",
       "      <td>0</td>\n",
       "      <td>0</td>\n",
       "      <td>0</td>\n",
       "      <td>0</td>\n",
       "      <td>0</td>\n",
       "      <td>0</td>\n",
       "      <td>0</td>\n",
       "      <td>0</td>\n",
       "      <td>1</td>\n",
       "      <td>0</td>\n",
       "      <td>0</td>\n",
       "      <td>0</td>\n",
       "      <td>0</td>\n",
       "      <td>0</td>\n",
       "      <td>0</td>\n",
       "      <td>0</td>\n",
       "      <td>0</td>\n",
       "      <td>0</td>\n",
       "      <td>1</td>\n",
       "      <td>0</td>\n",
       "      <td>0</td>\n",
       "      <td>0</td>\n",
       "      <td>0</td>\n",
       "      <td>0</td>\n",
       "      <td>0</td>\n",
       "      <td>0</td>\n",
       "      <td>0</td>\n",
       "      <td>0</td>\n",
       "      <td>0</td>\n",
       "      <td>1</td>\n",
       "      <td>0</td>\n",
       "      <td>0</td>\n",
       "      <td>1</td>\n",
       "      <td>0</td>\n",
       "      <td>0</td>\n",
       "      <td>0</td>\n",
       "      <td>0</td>\n",
       "      <td>0</td>\n",
       "      <td>0</td>\n",
       "      <td>0</td>\n",
       "      <td>0</td>\n",
       "      <td>0</td>\n",
       "      <td>0</td>\n",
       "      <td>0</td>\n",
       "      <td>0</td>\n",
       "      <td>0</td>\n",
       "      <td>0</td>\n",
       "      <td>0</td>\n",
       "      <td>0</td>\n",
       "      <td>0</td>\n",
       "      <td>0</td>\n",
       "      <td>0</td>\n",
       "    </tr>\n",
       "    <tr>\n",
       "      <th>7213439</th>\n",
       "      <td>31.0</td>\n",
       "      <td>182.0</td>\n",
       "      <td>142.0</td>\n",
       "      <td>1303.0</td>\n",
       "      <td>1</td>\n",
       "      <td>0</td>\n",
       "      <td>1</td>\n",
       "      <td>0</td>\n",
       "      <td>0</td>\n",
       "      <td>0</td>\n",
       "      <td>0</td>\n",
       "      <td>0</td>\n",
       "      <td>0</td>\n",
       "      <td>0</td>\n",
       "      <td>0</td>\n",
       "      <td>0</td>\n",
       "      <td>0</td>\n",
       "      <td>0</td>\n",
       "      <td>0</td>\n",
       "      <td>0</td>\n",
       "      <td>0</td>\n",
       "      <td>0</td>\n",
       "      <td>0</td>\n",
       "      <td>0</td>\n",
       "      <td>0</td>\n",
       "      <td>0</td>\n",
       "      <td>0</td>\n",
       "      <td>0</td>\n",
       "      <td>0</td>\n",
       "      <td>0</td>\n",
       "      <td>0</td>\n",
       "      <td>0</td>\n",
       "      <td>0</td>\n",
       "      <td>0</td>\n",
       "      <td>0</td>\n",
       "      <td>0</td>\n",
       "      <td>1</td>\n",
       "      <td>0</td>\n",
       "      <td>0</td>\n",
       "      <td>0</td>\n",
       "      <td>0</td>\n",
       "      <td>0</td>\n",
       "      <td>0</td>\n",
       "      <td>1</td>\n",
       "      <td>0</td>\n",
       "      <td>0</td>\n",
       "      <td>1</td>\n",
       "      <td>0</td>\n",
       "      <td>0</td>\n",
       "      <td>0</td>\n",
       "      <td>0</td>\n",
       "      <td>0</td>\n",
       "      <td>0</td>\n",
       "      <td>0</td>\n",
       "      <td>0</td>\n",
       "      <td>0</td>\n",
       "      <td>0</td>\n",
       "      <td>1</td>\n",
       "      <td>0</td>\n",
       "      <td>0</td>\n",
       "      <td>0</td>\n",
       "      <td>0</td>\n",
       "      <td>0</td>\n",
       "      <td>0</td>\n",
       "    </tr>\n",
       "    <tr>\n",
       "      <th>7213440</th>\n",
       "      <td>-1.0</td>\n",
       "      <td>84.0</td>\n",
       "      <td>46.0</td>\n",
       "      <td>331.0</td>\n",
       "      <td>0</td>\n",
       "      <td>0</td>\n",
       "      <td>1</td>\n",
       "      <td>0</td>\n",
       "      <td>0</td>\n",
       "      <td>0</td>\n",
       "      <td>0</td>\n",
       "      <td>0</td>\n",
       "      <td>0</td>\n",
       "      <td>0</td>\n",
       "      <td>0</td>\n",
       "      <td>0</td>\n",
       "      <td>0</td>\n",
       "      <td>0</td>\n",
       "      <td>0</td>\n",
       "      <td>0</td>\n",
       "      <td>0</td>\n",
       "      <td>0</td>\n",
       "      <td>0</td>\n",
       "      <td>0</td>\n",
       "      <td>0</td>\n",
       "      <td>0</td>\n",
       "      <td>0</td>\n",
       "      <td>0</td>\n",
       "      <td>0</td>\n",
       "      <td>0</td>\n",
       "      <td>0</td>\n",
       "      <td>0</td>\n",
       "      <td>0</td>\n",
       "      <td>0</td>\n",
       "      <td>0</td>\n",
       "      <td>0</td>\n",
       "      <td>0</td>\n",
       "      <td>0</td>\n",
       "      <td>0</td>\n",
       "      <td>0</td>\n",
       "      <td>0</td>\n",
       "      <td>0</td>\n",
       "      <td>1</td>\n",
       "      <td>0</td>\n",
       "      <td>0</td>\n",
       "      <td>1</td>\n",
       "      <td>0</td>\n",
       "      <td>0</td>\n",
       "      <td>0</td>\n",
       "      <td>0</td>\n",
       "      <td>0</td>\n",
       "      <td>0</td>\n",
       "      <td>0</td>\n",
       "      <td>0</td>\n",
       "      <td>0</td>\n",
       "      <td>0</td>\n",
       "      <td>0</td>\n",
       "      <td>1</td>\n",
       "      <td>0</td>\n",
       "      <td>0</td>\n",
       "      <td>0</td>\n",
       "      <td>0</td>\n",
       "      <td>0</td>\n",
       "      <td>0</td>\n",
       "    </tr>\n",
       "    <tr>\n",
       "      <th>7213441</th>\n",
       "      <td>-4.0</td>\n",
       "      <td>100.0</td>\n",
       "      <td>72.0</td>\n",
       "      <td>331.0</td>\n",
       "      <td>0</td>\n",
       "      <td>0</td>\n",
       "      <td>1</td>\n",
       "      <td>0</td>\n",
       "      <td>0</td>\n",
       "      <td>0</td>\n",
       "      <td>0</td>\n",
       "      <td>0</td>\n",
       "      <td>0</td>\n",
       "      <td>0</td>\n",
       "      <td>0</td>\n",
       "      <td>0</td>\n",
       "      <td>0</td>\n",
       "      <td>0</td>\n",
       "      <td>0</td>\n",
       "      <td>0</td>\n",
       "      <td>0</td>\n",
       "      <td>0</td>\n",
       "      <td>0</td>\n",
       "      <td>0</td>\n",
       "      <td>1</td>\n",
       "      <td>0</td>\n",
       "      <td>0</td>\n",
       "      <td>0</td>\n",
       "      <td>0</td>\n",
       "      <td>0</td>\n",
       "      <td>0</td>\n",
       "      <td>0</td>\n",
       "      <td>0</td>\n",
       "      <td>0</td>\n",
       "      <td>0</td>\n",
       "      <td>0</td>\n",
       "      <td>0</td>\n",
       "      <td>0</td>\n",
       "      <td>0</td>\n",
       "      <td>0</td>\n",
       "      <td>0</td>\n",
       "      <td>0</td>\n",
       "      <td>1</td>\n",
       "      <td>0</td>\n",
       "      <td>0</td>\n",
       "      <td>1</td>\n",
       "      <td>0</td>\n",
       "      <td>0</td>\n",
       "      <td>0</td>\n",
       "      <td>0</td>\n",
       "      <td>0</td>\n",
       "      <td>0</td>\n",
       "      <td>0</td>\n",
       "      <td>0</td>\n",
       "      <td>0</td>\n",
       "      <td>0</td>\n",
       "      <td>0</td>\n",
       "      <td>1</td>\n",
       "      <td>0</td>\n",
       "      <td>0</td>\n",
       "      <td>0</td>\n",
       "      <td>0</td>\n",
       "      <td>0</td>\n",
       "      <td>0</td>\n",
       "    </tr>\n",
       "    <tr>\n",
       "      <th>7213442</th>\n",
       "      <td>6.0</td>\n",
       "      <td>181.0</td>\n",
       "      <td>148.0</td>\n",
       "      <td>936.0</td>\n",
       "      <td>1</td>\n",
       "      <td>0</td>\n",
       "      <td>1</td>\n",
       "      <td>0</td>\n",
       "      <td>0</td>\n",
       "      <td>0</td>\n",
       "      <td>0</td>\n",
       "      <td>0</td>\n",
       "      <td>0</td>\n",
       "      <td>0</td>\n",
       "      <td>0</td>\n",
       "      <td>0</td>\n",
       "      <td>0</td>\n",
       "      <td>0</td>\n",
       "      <td>0</td>\n",
       "      <td>0</td>\n",
       "      <td>0</td>\n",
       "      <td>0</td>\n",
       "      <td>0</td>\n",
       "      <td>0</td>\n",
       "      <td>0</td>\n",
       "      <td>0</td>\n",
       "      <td>1</td>\n",
       "      <td>0</td>\n",
       "      <td>0</td>\n",
       "      <td>0</td>\n",
       "      <td>0</td>\n",
       "      <td>0</td>\n",
       "      <td>0</td>\n",
       "      <td>0</td>\n",
       "      <td>0</td>\n",
       "      <td>0</td>\n",
       "      <td>0</td>\n",
       "      <td>0</td>\n",
       "      <td>0</td>\n",
       "      <td>0</td>\n",
       "      <td>0</td>\n",
       "      <td>0</td>\n",
       "      <td>1</td>\n",
       "      <td>0</td>\n",
       "      <td>0</td>\n",
       "      <td>0</td>\n",
       "      <td>1</td>\n",
       "      <td>0</td>\n",
       "      <td>0</td>\n",
       "      <td>0</td>\n",
       "      <td>0</td>\n",
       "      <td>0</td>\n",
       "      <td>0</td>\n",
       "      <td>0</td>\n",
       "      <td>0</td>\n",
       "      <td>0</td>\n",
       "      <td>0</td>\n",
       "      <td>1</td>\n",
       "      <td>0</td>\n",
       "      <td>0</td>\n",
       "      <td>0</td>\n",
       "      <td>0</td>\n",
       "      <td>0</td>\n",
       "      <td>0</td>\n",
       "    </tr>\n",
       "    <tr>\n",
       "      <th>7213445</th>\n",
       "      <td>8.0</td>\n",
       "      <td>71.0</td>\n",
       "      <td>44.0</td>\n",
       "      <td>130.0</td>\n",
       "      <td>0</td>\n",
       "      <td>0</td>\n",
       "      <td>1</td>\n",
       "      <td>0</td>\n",
       "      <td>0</td>\n",
       "      <td>0</td>\n",
       "      <td>0</td>\n",
       "      <td>0</td>\n",
       "      <td>0</td>\n",
       "      <td>0</td>\n",
       "      <td>0</td>\n",
       "      <td>0</td>\n",
       "      <td>0</td>\n",
       "      <td>0</td>\n",
       "      <td>0</td>\n",
       "      <td>0</td>\n",
       "      <td>0</td>\n",
       "      <td>0</td>\n",
       "      <td>0</td>\n",
       "      <td>0</td>\n",
       "      <td>1</td>\n",
       "      <td>0</td>\n",
       "      <td>0</td>\n",
       "      <td>0</td>\n",
       "      <td>0</td>\n",
       "      <td>0</td>\n",
       "      <td>0</td>\n",
       "      <td>0</td>\n",
       "      <td>0</td>\n",
       "      <td>0</td>\n",
       "      <td>0</td>\n",
       "      <td>0</td>\n",
       "      <td>0</td>\n",
       "      <td>0</td>\n",
       "      <td>0</td>\n",
       "      <td>0</td>\n",
       "      <td>0</td>\n",
       "      <td>0</td>\n",
       "      <td>1</td>\n",
       "      <td>0</td>\n",
       "      <td>0</td>\n",
       "      <td>1</td>\n",
       "      <td>0</td>\n",
       "      <td>0</td>\n",
       "      <td>0</td>\n",
       "      <td>0</td>\n",
       "      <td>0</td>\n",
       "      <td>0</td>\n",
       "      <td>0</td>\n",
       "      <td>0</td>\n",
       "      <td>0</td>\n",
       "      <td>0</td>\n",
       "      <td>0</td>\n",
       "      <td>1</td>\n",
       "      <td>0</td>\n",
       "      <td>0</td>\n",
       "      <td>0</td>\n",
       "      <td>0</td>\n",
       "      <td>0</td>\n",
       "      <td>0</td>\n",
       "    </tr>\n",
       "  </tbody>\n",
       "</table>\n",
       "</div>"
      ],
      "text/plain": [
       "         DEP_DELAY  CRS_ELAPSED_TIME  AIR_TIME  DISTANCE  FLIGHT_STATUS  \\\n",
       "0             -5.0             268.0     225.0    1605.0              0   \n",
       "1             -8.0              99.0      65.0     414.0              0   \n",
       "2             -5.0             134.0     106.0     846.0              0   \n",
       "3              6.0             190.0     157.0    1120.0              0   \n",
       "6             -3.0             206.0     173.0    1222.0              0   \n",
       "7213439       31.0             182.0     142.0    1303.0              1   \n",
       "7213440       -1.0              84.0      46.0     331.0              0   \n",
       "7213441       -4.0             100.0      72.0     331.0              0   \n",
       "7213442        6.0             181.0     148.0     936.0              1   \n",
       "7213445        8.0              71.0      44.0     130.0              0   \n",
       "\n",
       "         OP_CARRIER_Allegiant Air  OP_CARRIER_American Airlines  \\\n",
       "0                               0                             0   \n",
       "1                               0                             0   \n",
       "2                               0                             0   \n",
       "3                               0                             0   \n",
       "6                               0                             0   \n",
       "7213439                         0                             1   \n",
       "7213440                         0                             1   \n",
       "7213441                         0                             1   \n",
       "7213442                         0                             1   \n",
       "7213445                         0                             1   \n",
       "\n",
       "         OP_CARRIER_Delta Airlines  OP_CARRIER_Endeavor Air  \\\n",
       "0                                0                        0   \n",
       "1                                0                        0   \n",
       "2                                0                        0   \n",
       "3                                0                        0   \n",
       "6                                0                        0   \n",
       "7213439                          0                        0   \n",
       "7213440                          0                        0   \n",
       "7213441                          0                        0   \n",
       "7213442                          0                        0   \n",
       "7213445                          0                        0   \n",
       "\n",
       "         OP_CARRIER_Envoy Air  OP_CARRIER_ExpressJet  \\\n",
       "0                           0                      0   \n",
       "1                           0                      0   \n",
       "2                           0                      0   \n",
       "3                           0                      0   \n",
       "6                           0                      0   \n",
       "7213439                     0                      0   \n",
       "7213440                     0                      0   \n",
       "7213441                     0                      0   \n",
       "7213442                     0                      0   \n",
       "7213445                     0                      0   \n",
       "\n",
       "         OP_CARRIER_Frontier Airlines  OP_CARRIER_Hawaiian Airlines  \\\n",
       "0                                   0                             0   \n",
       "1                                   0                             0   \n",
       "2                                   0                             0   \n",
       "3                                   0                             0   \n",
       "6                                   0                             0   \n",
       "7213439                             0                             0   \n",
       "7213440                             0                             0   \n",
       "7213441                             0                             0   \n",
       "7213442                             0                             0   \n",
       "7213445                             0                             0   \n",
       "\n",
       "         OP_CARRIER_JetBlue Airways  OP_CARRIER_Mesa Airline  \\\n",
       "0                                 0                        0   \n",
       "1                                 0                        0   \n",
       "2                                 0                        0   \n",
       "3                                 0                        0   \n",
       "6                                 0                        0   \n",
       "7213439                           0                        0   \n",
       "7213440                           0                        0   \n",
       "7213441                           0                        0   \n",
       "7213442                           0                        0   \n",
       "7213445                           0                        0   \n",
       "\n",
       "         OP_CARRIER_PSA Airlines  OP_CARRIER_Republic Airways  \\\n",
       "0                              0                            0   \n",
       "1                              0                            0   \n",
       "2                              0                            0   \n",
       "3                              0                            0   \n",
       "6                              0                            0   \n",
       "7213439                        0                            0   \n",
       "7213440                        0                            0   \n",
       "7213441                        0                            0   \n",
       "7213442                        0                            0   \n",
       "7213445                        0                            0   \n",
       "\n",
       "         OP_CARRIER_SkyWest Airlines  OP_CARRIER_Southwest Airlines  \\\n",
       "0                                  0                              0   \n",
       "1                                  0                              0   \n",
       "2                                  0                              0   \n",
       "3                                  0                              0   \n",
       "6                                  0                              0   \n",
       "7213439                            0                              0   \n",
       "7213440                            0                              0   \n",
       "7213441                            0                              0   \n",
       "7213442                            0                              0   \n",
       "7213445                            0                              0   \n",
       "\n",
       "         OP_CARRIER_Spirit Airlines  OP_CARRIER_United Airlines  \\\n",
       "0                                 0                           1   \n",
       "1                                 0                           1   \n",
       "2                                 0                           1   \n",
       "3                                 0                           1   \n",
       "6                                 0                           1   \n",
       "7213439                           0                           0   \n",
       "7213440                           0                           0   \n",
       "7213441                           0                           0   \n",
       "7213442                           0                           0   \n",
       "7213445                           0                           0   \n",
       "\n",
       "         OP_CARRIER_Virgin America  DEST_Atlanta  DEST_Boston  DEST_Charlotte  \\\n",
       "0                                0             0            0               0   \n",
       "1                                0             0            0               0   \n",
       "2                                0             0            0               0   \n",
       "3                                0             0            0               0   \n",
       "6                                0             0            0               0   \n",
       "7213439                          0             0            0               0   \n",
       "7213440                          0             0            0               0   \n",
       "7213441                          0             0            0               1   \n",
       "7213442                          0             0            0               0   \n",
       "7213445                          0             0            0               1   \n",
       "\n",
       "         DEST_Chicago  DEST_Dallas-Fort Worth  DEST_Denver  DEST_Detroit  \\\n",
       "0                   0                       0            1             0   \n",
       "1                   0                       0            0             0   \n",
       "2                   0                       0            1             0   \n",
       "3                   1                       0            0             0   \n",
       "6                   0                       0            0             0   \n",
       "7213439             0                       0            0             0   \n",
       "7213440             0                       0            0             0   \n",
       "7213441             0                       0            0             0   \n",
       "7213442             0                       1            0             0   \n",
       "7213445             0                       0            0             0   \n",
       "\n",
       "         DEST_Houston  DEST_Las Vegas  DEST_Los Angeles  DEST_Minneapolis  \\\n",
       "0                   0               0                 0                 0   \n",
       "1                   0               0                 0                 0   \n",
       "2                   0               0                 0                 0   \n",
       "3                   0               0                 0                 0   \n",
       "6                   0               1                 0                 0   \n",
       "7213439             0               0                 0                 0   \n",
       "7213440             0               0                 0                 0   \n",
       "7213441             0               0                 0                 0   \n",
       "7213442             0               0                 0                 0   \n",
       "7213445             0               0                 0                 0   \n",
       "\n",
       "         DEST_New York  DEST_Newark  DEST_Orlando  DEST_Philadelphia  \\\n",
       "0                    0            0             0                  0   \n",
       "1                    0            0             0                  0   \n",
       "2                    0            0             0                  0   \n",
       "3                    0            0             0                  0   \n",
       "6                    0            0             0                  0   \n",
       "7213439              0            0             0                  1   \n",
       "7213440              0            0             0                  0   \n",
       "7213441              0            0             0                  0   \n",
       "7213442              0            0             0                  0   \n",
       "7213445              0            0             0                  0   \n",
       "\n",
       "         DEST_Phoenix  DEST_Salt Lake City  DEST_San Francisco  DEST_Seattle  \\\n",
       "0                   0                    0                   0             0   \n",
       "1                   0                    0                   1             0   \n",
       "2                   0                    0                   0             0   \n",
       "3                   0                    0                   0             0   \n",
       "6                   0                    0                   0             0   \n",
       "7213439             0                    0                   0             0   \n",
       "7213440             0                    0                   0             0   \n",
       "7213441             0                    0                   0             0   \n",
       "7213442             0                    0                   0             0   \n",
       "7213445             0                    0                   0             0   \n",
       "\n",
       "         CRS_DEP_TIME_2  CRS_DEP_TIME_3  CRS_DEP_TIME_4  CRS_ARR_TIME_2  \\\n",
       "0                     0               1               0               0   \n",
       "1                     1               0               0               0   \n",
       "2                     0               1               0               0   \n",
       "3                     0               1               0               0   \n",
       "6                     1               0               0               1   \n",
       "7213439               0               0               1               0   \n",
       "7213440               0               1               0               0   \n",
       "7213441               0               1               0               0   \n",
       "7213442               0               1               0               0   \n",
       "7213445               0               1               0               0   \n",
       "\n",
       "         CRS_ARR_TIME_3  CRS_ARR_TIME_4  MONTH_2  MONTH_3  MONTH_4  MONTH_5  \\\n",
       "0                     1               0        0        0        0        0   \n",
       "1                     1               0        0        0        0        0   \n",
       "2                     1               0        0        0        0        0   \n",
       "3                     1               0        0        0        0        0   \n",
       "6                     0               0        0        0        0        0   \n",
       "7213439               0               1        0        0        0        0   \n",
       "7213440               1               0        0        0        0        0   \n",
       "7213441               1               0        0        0        0        0   \n",
       "7213442               0               1        0        0        0        0   \n",
       "7213445               1               0        0        0        0        0   \n",
       "\n",
       "         MONTH_6  MONTH_7  MONTH_8  MONTH_9  MONTH_10  MONTH_11  MONTH_12  \\\n",
       "0              0        0        0        0         0         0         0   \n",
       "1              0        0        0        0         0         0         0   \n",
       "2              0        0        0        0         0         0         0   \n",
       "3              0        0        0        0         0         0         0   \n",
       "6              0        0        0        0         0         0         0   \n",
       "7213439        0        0        0        0         0         0         1   \n",
       "7213440        0        0        0        0         0         0         1   \n",
       "7213441        0        0        0        0         0         0         1   \n",
       "7213442        0        0        0        0         0         0         1   \n",
       "7213445        0        0        0        0         0         0         1   \n",
       "\n",
       "         WEEKDAY_1  WEEKDAY_2  WEEKDAY_3  WEEKDAY_4  WEEKDAY_5  WEEKDAY_6  \n",
       "0                0          0          0          0          0          0  \n",
       "1                0          0          0          0          0          0  \n",
       "2                0          0          0          0          0          0  \n",
       "3                0          0          0          0          0          0  \n",
       "6                0          0          0          0          0          0  \n",
       "7213439          0          0          0          0          0          0  \n",
       "7213440          0          0          0          0          0          0  \n",
       "7213441          0          0          0          0          0          0  \n",
       "7213442          0          0          0          0          0          0  \n",
       "7213445          0          0          0          0          0          0  "
      ]
     },
     "execution_count": 2,
     "metadata": {},
     "output_type": "execute_result"
    }
   ],
   "source": [
    "dfm_ready = pd.read_csv('dfm_ready.csv', index_col=0)\n",
    "dfm_ready.head().append(dfm_ready.tail())"
   ]
  },
  {
   "cell_type": "code",
   "execution_count": 3,
   "metadata": {
    "ExecuteTime": {
     "end_time": "2020-10-14T18:54:17.388050Z",
     "start_time": "2020-10-14T18:54:16.277991Z"
    }
   },
   "outputs": [],
   "source": [
    "df = dfm_ready.astype(float)"
   ]
  },
  {
   "cell_type": "code",
   "execution_count": 4,
   "metadata": {
    "ExecuteTime": {
     "end_time": "2020-10-14T18:54:17.467611Z",
     "start_time": "2020-10-14T18:54:17.458595Z"
    }
   },
   "outputs": [
    {
     "name": "stdout",
     "output_type": "stream",
     "text": [
      "<class 'pandas.core.frame.DataFrame'>\n",
      "Int64Index: 4008257 entries, 0 to 7213445\n",
      "Data columns (total 64 columns):\n",
      " #   Column                         Dtype  \n",
      "---  ------                         -----  \n",
      " 0   DEP_DELAY                      float64\n",
      " 1   CRS_ELAPSED_TIME               float64\n",
      " 2   AIR_TIME                       float64\n",
      " 3   DISTANCE                       float64\n",
      " 4   FLIGHT_STATUS                  float64\n",
      " 5   OP_CARRIER_Allegiant Air       float64\n",
      " 6   OP_CARRIER_American Airlines   float64\n",
      " 7   OP_CARRIER_Delta Airlines      float64\n",
      " 8   OP_CARRIER_Endeavor Air        float64\n",
      " 9   OP_CARRIER_Envoy Air           float64\n",
      " 10  OP_CARRIER_ExpressJet          float64\n",
      " 11  OP_CARRIER_Frontier Airlines   float64\n",
      " 12  OP_CARRIER_Hawaiian Airlines   float64\n",
      " 13  OP_CARRIER_JetBlue Airways     float64\n",
      " 14  OP_CARRIER_Mesa Airline        float64\n",
      " 15  OP_CARRIER_PSA Airlines        float64\n",
      " 16  OP_CARRIER_Republic Airways    float64\n",
      " 17  OP_CARRIER_SkyWest Airlines    float64\n",
      " 18  OP_CARRIER_Southwest Airlines  float64\n",
      " 19  OP_CARRIER_Spirit Airlines     float64\n",
      " 20  OP_CARRIER_United Airlines     float64\n",
      " 21  OP_CARRIER_Virgin America      float64\n",
      " 22  DEST_Atlanta                   float64\n",
      " 23  DEST_Boston                    float64\n",
      " 24  DEST_Charlotte                 float64\n",
      " 25  DEST_Chicago                   float64\n",
      " 26  DEST_Dallas-Fort Worth         float64\n",
      " 27  DEST_Denver                    float64\n",
      " 28  DEST_Detroit                   float64\n",
      " 29  DEST_Houston                   float64\n",
      " 30  DEST_Las Vegas                 float64\n",
      " 31  DEST_Los Angeles               float64\n",
      " 32  DEST_Minneapolis               float64\n",
      " 33  DEST_New York                  float64\n",
      " 34  DEST_Newark                    float64\n",
      " 35  DEST_Orlando                   float64\n",
      " 36  DEST_Philadelphia              float64\n",
      " 37  DEST_Phoenix                   float64\n",
      " 38  DEST_Salt Lake City            float64\n",
      " 39  DEST_San Francisco             float64\n",
      " 40  DEST_Seattle                   float64\n",
      " 41  CRS_DEP_TIME_2                 float64\n",
      " 42  CRS_DEP_TIME_3                 float64\n",
      " 43  CRS_DEP_TIME_4                 float64\n",
      " 44  CRS_ARR_TIME_2                 float64\n",
      " 45  CRS_ARR_TIME_3                 float64\n",
      " 46  CRS_ARR_TIME_4                 float64\n",
      " 47  MONTH_2                        float64\n",
      " 48  MONTH_3                        float64\n",
      " 49  MONTH_4                        float64\n",
      " 50  MONTH_5                        float64\n",
      " 51  MONTH_6                        float64\n",
      " 52  MONTH_7                        float64\n",
      " 53  MONTH_8                        float64\n",
      " 54  MONTH_9                        float64\n",
      " 55  MONTH_10                       float64\n",
      " 56  MONTH_11                       float64\n",
      " 57  MONTH_12                       float64\n",
      " 58  WEEKDAY_1                      float64\n",
      " 59  WEEKDAY_2                      float64\n",
      " 60  WEEKDAY_3                      float64\n",
      " 61  WEEKDAY_4                      float64\n",
      " 62  WEEKDAY_5                      float64\n",
      " 63  WEEKDAY_6                      float64\n",
      "dtypes: float64(64)\n",
      "memory usage: 1.9 GB\n"
     ]
    }
   ],
   "source": [
    "df.info()"
   ]
  },
  {
   "cell_type": "markdown",
   "metadata": {},
   "source": [
    "=================================================================================="
   ]
  },
  {
   "cell_type": "markdown",
   "metadata": {},
   "source": [
    "# function Library"
   ]
  },
  {
   "cell_type": "markdown",
   "metadata": {},
   "source": [
    "This is a quick parenthesis to write down a few functions that I will be using to evaluate every model once finish training it. "
   ]
  },
  {
   "cell_type": "code",
   "execution_count": 87,
   "metadata": {
    "ExecuteTime": {
     "end_time": "2020-10-15T18:21:41.308780Z",
     "start_time": "2020-10-15T18:21:41.297512Z"
    }
   },
   "outputs": [],
   "source": [
    "def visualize_training_results(results):\n",
    "    history = results.history\n",
    "    plt.figure()\n",
    "    plt.plot(history['val_loss'])\n",
    "    plt.plot(history['loss'])\n",
    "    plt.legend(['val_loss', 'loss'])\n",
    "    plt.title('LOSS', fontsize=14)\n",
    "    plt.xlabel('Epochs', fontsize=12)\n",
    "    plt.ylabel('Loss', fontsize=12)\n",
    "    plt.show()\n",
    "    \n",
    "    plt.figure()\n",
    "    plt.plot(history['val_acc'])\n",
    "    plt.plot(history['acc'])\n",
    "    plt.legend(['val_acc', 'acc'])\n",
    "    plt.title('ACCURACY', fontsize=14)\n",
    "    plt.xlabel('Epochs', fontsize=12)\n",
    "    plt.ylabel('Accuracy', fontsize=12)\n",
    "    plt.show()"
   ]
  },
  {
   "cell_type": "code",
   "execution_count": 86,
   "metadata": {
    "ExecuteTime": {
     "end_time": "2020-10-15T18:21:39.524513Z",
     "start_time": "2020-10-15T18:21:39.518073Z"
    }
   },
   "outputs": [],
   "source": [
    "def conf_matrix(conf_mat):\n",
    "    \n",
    "    conf_mat = pd.DataFrame(conf_mat, index = ['0', '1'], columns = ['0', '1'])\n",
    "    sns.set(font_scale=1.4)\n",
    "    plt.figure(figsize = (8,7))\n",
    "    sns.heatmap(conf_mat, cmap= \"Blues\", linecolor = 'black' , linewidth = 1, annot = True, fmt='')\n",
    "    plt.xlabel('Predicted', fontsize=14)\n",
    "    plt.ylabel('True', fontsize=14)\n",
    "    plt.show()"
   ]
  },
  {
   "cell_type": "code",
   "execution_count": 77,
   "metadata": {
    "ExecuteTime": {
     "end_time": "2020-10-15T11:44:25.686045Z",
     "start_time": "2020-10-15T11:44:25.679318Z"
    }
   },
   "outputs": [],
   "source": [
    "def model_metrics(a, b):\n",
    "    \n",
    "    accuracy = metrics.accuracy_score(a, b)\n",
    "    precision = precision_score(a, b)\n",
    "    recall = recall_score(a, b)\n",
    "    f1 = f1_score(a, b)\n",
    " \n",
    "    print('Accuracy:', round(accuracy*100, 2),'%')\n",
    "    print('Precision score:', round(precision*100, 2),'%')\n",
    "    print('Recall score:', round(recall*100, 2),'%')\n",
    "    print('F1 score:', round(f1*100, 2),'%')"
   ]
  },
  {
   "cell_type": "markdown",
   "metadata": {},
   "source": [
    "=================================================================================="
   ]
  },
  {
   "cell_type": "markdown",
   "metadata": {},
   "source": [
    "In this notebook I will drop first only the FLIGHT_STATUS (target) and the DEP_DELAY to see how good the model can get with all the features, then I will drop some additional features which I already know are causing noise to see how much the model can improve. \n",
    "\n",
    "If you open the Part II of the MLP Neural Network set of notebooks, you will see how there are a series of models trained with few features which perform considerably better. Still there is not full convergence which is probably due to the low number of epochs (25 or lower) so hopefully the most recent tests with 50 epochs will be done on time and will be added to that notebook."
   ]
  },
  {
   "cell_type": "code",
   "execution_count": 6,
   "metadata": {
    "ExecuteTime": {
     "end_time": "2020-10-14T18:54:41.070967Z",
     "start_time": "2020-10-14T18:54:37.186755Z"
    }
   },
   "outputs": [],
   "source": [
    "y = df['FLIGHT_STATUS']\n",
    "X = df.drop(['FLIGHT_STATUS', 'DEP_DELAY'], axis=1)"
   ]
  },
  {
   "cell_type": "markdown",
   "metadata": {},
   "source": [
    "# Neural Network Conditions\n",
    "\n",
    "1. Data has to be purely numerical<br>\n",
    "2. Data cannot contain missing values<br>\n",
    "3. Data has to be Normalized<br>"
   ]
  },
  {
   "cell_type": "code",
   "execution_count": 88,
   "metadata": {
    "ExecuteTime": {
     "end_time": "2020-10-15T18:29:24.101900Z",
     "start_time": "2020-10-15T18:29:21.137662Z"
    }
   },
   "outputs": [
    {
     "data": {
      "text/plain": [
       "0"
      ]
     },
     "execution_count": 88,
     "metadata": {},
     "output_type": "execute_result"
    }
   ],
   "source": [
    "df.isna().sum().sum()"
   ]
  },
  {
   "cell_type": "code",
   "execution_count": 7,
   "metadata": {
    "ExecuteTime": {
     "end_time": "2020-10-14T18:54:43.347682Z",
     "start_time": "2020-10-14T18:54:43.300777Z"
    }
   },
   "outputs": [
    {
     "data": {
      "text/html": [
       "<div>\n",
       "<style scoped>\n",
       "    .dataframe tbody tr th:only-of-type {\n",
       "        vertical-align: middle;\n",
       "    }\n",
       "\n",
       "    .dataframe tbody tr th {\n",
       "        vertical-align: top;\n",
       "    }\n",
       "\n",
       "    .dataframe thead th {\n",
       "        text-align: right;\n",
       "    }\n",
       "</style>\n",
       "<table border=\"1\" class=\"dataframe\">\n",
       "  <thead>\n",
       "    <tr style=\"text-align: right;\">\n",
       "      <th></th>\n",
       "      <th>DEP_DELAY</th>\n",
       "      <th>CRS_ELAPSED_TIME</th>\n",
       "      <th>AIR_TIME</th>\n",
       "      <th>DISTANCE</th>\n",
       "      <th>FLIGHT_STATUS</th>\n",
       "      <th>OP_CARRIER_Allegiant Air</th>\n",
       "      <th>OP_CARRIER_American Airlines</th>\n",
       "      <th>OP_CARRIER_Delta Airlines</th>\n",
       "      <th>OP_CARRIER_Endeavor Air</th>\n",
       "      <th>OP_CARRIER_Envoy Air</th>\n",
       "      <th>OP_CARRIER_ExpressJet</th>\n",
       "      <th>OP_CARRIER_Frontier Airlines</th>\n",
       "      <th>OP_CARRIER_Hawaiian Airlines</th>\n",
       "      <th>OP_CARRIER_JetBlue Airways</th>\n",
       "      <th>OP_CARRIER_Mesa Airline</th>\n",
       "      <th>OP_CARRIER_PSA Airlines</th>\n",
       "      <th>OP_CARRIER_Republic Airways</th>\n",
       "      <th>OP_CARRIER_SkyWest Airlines</th>\n",
       "      <th>OP_CARRIER_Southwest Airlines</th>\n",
       "      <th>OP_CARRIER_Spirit Airlines</th>\n",
       "      <th>OP_CARRIER_United Airlines</th>\n",
       "      <th>OP_CARRIER_Virgin America</th>\n",
       "      <th>DEST_Atlanta</th>\n",
       "      <th>DEST_Boston</th>\n",
       "      <th>DEST_Charlotte</th>\n",
       "      <th>DEST_Chicago</th>\n",
       "      <th>DEST_Dallas-Fort Worth</th>\n",
       "      <th>DEST_Denver</th>\n",
       "      <th>DEST_Detroit</th>\n",
       "      <th>DEST_Houston</th>\n",
       "      <th>DEST_Las Vegas</th>\n",
       "      <th>DEST_Los Angeles</th>\n",
       "      <th>DEST_Minneapolis</th>\n",
       "      <th>DEST_New York</th>\n",
       "      <th>DEST_Newark</th>\n",
       "      <th>DEST_Orlando</th>\n",
       "      <th>DEST_Philadelphia</th>\n",
       "      <th>DEST_Phoenix</th>\n",
       "      <th>DEST_Salt Lake City</th>\n",
       "      <th>DEST_San Francisco</th>\n",
       "      <th>DEST_Seattle</th>\n",
       "      <th>CRS_DEP_TIME_2</th>\n",
       "      <th>CRS_DEP_TIME_3</th>\n",
       "      <th>CRS_DEP_TIME_4</th>\n",
       "      <th>CRS_ARR_TIME_2</th>\n",
       "      <th>CRS_ARR_TIME_3</th>\n",
       "      <th>CRS_ARR_TIME_4</th>\n",
       "      <th>MONTH_2</th>\n",
       "      <th>MONTH_3</th>\n",
       "      <th>MONTH_4</th>\n",
       "      <th>MONTH_5</th>\n",
       "      <th>MONTH_6</th>\n",
       "      <th>MONTH_7</th>\n",
       "      <th>MONTH_8</th>\n",
       "      <th>MONTH_9</th>\n",
       "      <th>MONTH_10</th>\n",
       "      <th>MONTH_11</th>\n",
       "      <th>MONTH_12</th>\n",
       "      <th>WEEKDAY_1</th>\n",
       "      <th>WEEKDAY_2</th>\n",
       "      <th>WEEKDAY_3</th>\n",
       "      <th>WEEKDAY_4</th>\n",
       "      <th>WEEKDAY_5</th>\n",
       "      <th>WEEKDAY_6</th>\n",
       "    </tr>\n",
       "  </thead>\n",
       "  <tbody>\n",
       "    <tr>\n",
       "      <th>0</th>\n",
       "      <td>-5.0</td>\n",
       "      <td>268.0</td>\n",
       "      <td>225.0</td>\n",
       "      <td>1605.0</td>\n",
       "      <td>0.0</td>\n",
       "      <td>0.0</td>\n",
       "      <td>0.0</td>\n",
       "      <td>0.0</td>\n",
       "      <td>0.0</td>\n",
       "      <td>0.0</td>\n",
       "      <td>0.0</td>\n",
       "      <td>0.0</td>\n",
       "      <td>0.0</td>\n",
       "      <td>0.0</td>\n",
       "      <td>0.0</td>\n",
       "      <td>0.0</td>\n",
       "      <td>0.0</td>\n",
       "      <td>0.0</td>\n",
       "      <td>0.0</td>\n",
       "      <td>0.0</td>\n",
       "      <td>1.0</td>\n",
       "      <td>0.0</td>\n",
       "      <td>0.0</td>\n",
       "      <td>0.0</td>\n",
       "      <td>0.0</td>\n",
       "      <td>0.0</td>\n",
       "      <td>0.0</td>\n",
       "      <td>1.0</td>\n",
       "      <td>0.0</td>\n",
       "      <td>0.0</td>\n",
       "      <td>0.0</td>\n",
       "      <td>0.0</td>\n",
       "      <td>0.0</td>\n",
       "      <td>0.0</td>\n",
       "      <td>0.0</td>\n",
       "      <td>0.0</td>\n",
       "      <td>0.0</td>\n",
       "      <td>0.0</td>\n",
       "      <td>0.0</td>\n",
       "      <td>0.0</td>\n",
       "      <td>0.0</td>\n",
       "      <td>0.0</td>\n",
       "      <td>1.0</td>\n",
       "      <td>0.0</td>\n",
       "      <td>0.0</td>\n",
       "      <td>1.0</td>\n",
       "      <td>0.0</td>\n",
       "      <td>0.0</td>\n",
       "      <td>0.0</td>\n",
       "      <td>0.0</td>\n",
       "      <td>0.0</td>\n",
       "      <td>0.0</td>\n",
       "      <td>0.0</td>\n",
       "      <td>0.0</td>\n",
       "      <td>0.0</td>\n",
       "      <td>0.0</td>\n",
       "      <td>0.0</td>\n",
       "      <td>0.0</td>\n",
       "      <td>0.0</td>\n",
       "      <td>0.0</td>\n",
       "      <td>0.0</td>\n",
       "      <td>0.0</td>\n",
       "      <td>0.0</td>\n",
       "      <td>0.0</td>\n",
       "    </tr>\n",
       "    <tr>\n",
       "      <th>1</th>\n",
       "      <td>-8.0</td>\n",
       "      <td>99.0</td>\n",
       "      <td>65.0</td>\n",
       "      <td>414.0</td>\n",
       "      <td>0.0</td>\n",
       "      <td>0.0</td>\n",
       "      <td>0.0</td>\n",
       "      <td>0.0</td>\n",
       "      <td>0.0</td>\n",
       "      <td>0.0</td>\n",
       "      <td>0.0</td>\n",
       "      <td>0.0</td>\n",
       "      <td>0.0</td>\n",
       "      <td>0.0</td>\n",
       "      <td>0.0</td>\n",
       "      <td>0.0</td>\n",
       "      <td>0.0</td>\n",
       "      <td>0.0</td>\n",
       "      <td>0.0</td>\n",
       "      <td>0.0</td>\n",
       "      <td>1.0</td>\n",
       "      <td>0.0</td>\n",
       "      <td>0.0</td>\n",
       "      <td>0.0</td>\n",
       "      <td>0.0</td>\n",
       "      <td>0.0</td>\n",
       "      <td>0.0</td>\n",
       "      <td>0.0</td>\n",
       "      <td>0.0</td>\n",
       "      <td>0.0</td>\n",
       "      <td>0.0</td>\n",
       "      <td>0.0</td>\n",
       "      <td>0.0</td>\n",
       "      <td>0.0</td>\n",
       "      <td>0.0</td>\n",
       "      <td>0.0</td>\n",
       "      <td>0.0</td>\n",
       "      <td>0.0</td>\n",
       "      <td>0.0</td>\n",
       "      <td>1.0</td>\n",
       "      <td>0.0</td>\n",
       "      <td>1.0</td>\n",
       "      <td>0.0</td>\n",
       "      <td>0.0</td>\n",
       "      <td>0.0</td>\n",
       "      <td>1.0</td>\n",
       "      <td>0.0</td>\n",
       "      <td>0.0</td>\n",
       "      <td>0.0</td>\n",
       "      <td>0.0</td>\n",
       "      <td>0.0</td>\n",
       "      <td>0.0</td>\n",
       "      <td>0.0</td>\n",
       "      <td>0.0</td>\n",
       "      <td>0.0</td>\n",
       "      <td>0.0</td>\n",
       "      <td>0.0</td>\n",
       "      <td>0.0</td>\n",
       "      <td>0.0</td>\n",
       "      <td>0.0</td>\n",
       "      <td>0.0</td>\n",
       "      <td>0.0</td>\n",
       "      <td>0.0</td>\n",
       "      <td>0.0</td>\n",
       "    </tr>\n",
       "  </tbody>\n",
       "</table>\n",
       "</div>"
      ],
      "text/plain": [
       "   DEP_DELAY  CRS_ELAPSED_TIME  AIR_TIME  DISTANCE  FLIGHT_STATUS  \\\n",
       "0       -5.0             268.0     225.0    1605.0            0.0   \n",
       "1       -8.0              99.0      65.0     414.0            0.0   \n",
       "\n",
       "   OP_CARRIER_Allegiant Air  OP_CARRIER_American Airlines  \\\n",
       "0                       0.0                           0.0   \n",
       "1                       0.0                           0.0   \n",
       "\n",
       "   OP_CARRIER_Delta Airlines  OP_CARRIER_Endeavor Air  OP_CARRIER_Envoy Air  \\\n",
       "0                        0.0                      0.0                   0.0   \n",
       "1                        0.0                      0.0                   0.0   \n",
       "\n",
       "   OP_CARRIER_ExpressJet  OP_CARRIER_Frontier Airlines  \\\n",
       "0                    0.0                           0.0   \n",
       "1                    0.0                           0.0   \n",
       "\n",
       "   OP_CARRIER_Hawaiian Airlines  OP_CARRIER_JetBlue Airways  \\\n",
       "0                           0.0                         0.0   \n",
       "1                           0.0                         0.0   \n",
       "\n",
       "   OP_CARRIER_Mesa Airline  OP_CARRIER_PSA Airlines  \\\n",
       "0                      0.0                      0.0   \n",
       "1                      0.0                      0.0   \n",
       "\n",
       "   OP_CARRIER_Republic Airways  OP_CARRIER_SkyWest Airlines  \\\n",
       "0                          0.0                          0.0   \n",
       "1                          0.0                          0.0   \n",
       "\n",
       "   OP_CARRIER_Southwest Airlines  OP_CARRIER_Spirit Airlines  \\\n",
       "0                            0.0                         0.0   \n",
       "1                            0.0                         0.0   \n",
       "\n",
       "   OP_CARRIER_United Airlines  OP_CARRIER_Virgin America  DEST_Atlanta  \\\n",
       "0                         1.0                        0.0           0.0   \n",
       "1                         1.0                        0.0           0.0   \n",
       "\n",
       "   DEST_Boston  DEST_Charlotte  DEST_Chicago  DEST_Dallas-Fort Worth  \\\n",
       "0          0.0             0.0           0.0                     0.0   \n",
       "1          0.0             0.0           0.0                     0.0   \n",
       "\n",
       "   DEST_Denver  DEST_Detroit  DEST_Houston  DEST_Las Vegas  DEST_Los Angeles  \\\n",
       "0          1.0           0.0           0.0             0.0               0.0   \n",
       "1          0.0           0.0           0.0             0.0               0.0   \n",
       "\n",
       "   DEST_Minneapolis  DEST_New York  DEST_Newark  DEST_Orlando  \\\n",
       "0               0.0            0.0          0.0           0.0   \n",
       "1               0.0            0.0          0.0           0.0   \n",
       "\n",
       "   DEST_Philadelphia  DEST_Phoenix  DEST_Salt Lake City  DEST_San Francisco  \\\n",
       "0                0.0           0.0                  0.0                 0.0   \n",
       "1                0.0           0.0                  0.0                 1.0   \n",
       "\n",
       "   DEST_Seattle  CRS_DEP_TIME_2  CRS_DEP_TIME_3  CRS_DEP_TIME_4  \\\n",
       "0           0.0             0.0             1.0             0.0   \n",
       "1           0.0             1.0             0.0             0.0   \n",
       "\n",
       "   CRS_ARR_TIME_2  CRS_ARR_TIME_3  CRS_ARR_TIME_4  MONTH_2  MONTH_3  MONTH_4  \\\n",
       "0             0.0             1.0             0.0      0.0      0.0      0.0   \n",
       "1             0.0             1.0             0.0      0.0      0.0      0.0   \n",
       "\n",
       "   MONTH_5  MONTH_6  MONTH_7  MONTH_8  MONTH_9  MONTH_10  MONTH_11  MONTH_12  \\\n",
       "0      0.0      0.0      0.0      0.0      0.0       0.0       0.0       0.0   \n",
       "1      0.0      0.0      0.0      0.0      0.0       0.0       0.0       0.0   \n",
       "\n",
       "   WEEKDAY_1  WEEKDAY_2  WEEKDAY_3  WEEKDAY_4  WEEKDAY_5  WEEKDAY_6  \n",
       "0        0.0        0.0        0.0        0.0        0.0        0.0  \n",
       "1        0.0        0.0        0.0        0.0        0.0        0.0  "
      ]
     },
     "execution_count": 7,
     "metadata": {},
     "output_type": "execute_result"
    }
   ],
   "source": [
    "df.head(2)"
   ]
  },
  {
   "cell_type": "markdown",
   "metadata": {},
   "source": [
    "We know the data is purely numerical and that it has no missing values, now all is needed is to normalized and we will do it by using the <b>StandardScaler</b>"
   ]
  },
  {
   "cell_type": "code",
   "execution_count": 8,
   "metadata": {
    "ExecuteTime": {
     "end_time": "2020-10-14T18:54:56.895165Z",
     "start_time": "2020-10-14T18:54:50.896969Z"
    }
   },
   "outputs": [],
   "source": [
    "col_names = list(df.columns)\n",
    "\n",
    "s_scaler = preprocessing.StandardScaler()\n",
    "df_s = s_scaler.fit_transform(df)\n",
    "\n",
    "df_s = pd.DataFrame(df_s, columns=col_names)"
   ]
  },
  {
   "cell_type": "code",
   "execution_count": 9,
   "metadata": {
    "ExecuteTime": {
     "end_time": "2020-10-14T18:54:57.039336Z",
     "start_time": "2020-10-14T18:54:57.000487Z"
    }
   },
   "outputs": [
    {
     "data": {
      "text/html": [
       "<div>\n",
       "<style scoped>\n",
       "    .dataframe tbody tr th:only-of-type {\n",
       "        vertical-align: middle;\n",
       "    }\n",
       "\n",
       "    .dataframe tbody tr th {\n",
       "        vertical-align: top;\n",
       "    }\n",
       "\n",
       "    .dataframe thead th {\n",
       "        text-align: right;\n",
       "    }\n",
       "</style>\n",
       "<table border=\"1\" class=\"dataframe\">\n",
       "  <thead>\n",
       "    <tr style=\"text-align: right;\">\n",
       "      <th></th>\n",
       "      <th>DEP_DELAY</th>\n",
       "      <th>CRS_ELAPSED_TIME</th>\n",
       "      <th>AIR_TIME</th>\n",
       "      <th>DISTANCE</th>\n",
       "      <th>FLIGHT_STATUS</th>\n",
       "      <th>OP_CARRIER_Allegiant Air</th>\n",
       "      <th>OP_CARRIER_American Airlines</th>\n",
       "      <th>OP_CARRIER_Delta Airlines</th>\n",
       "      <th>OP_CARRIER_Endeavor Air</th>\n",
       "      <th>OP_CARRIER_Envoy Air</th>\n",
       "      <th>OP_CARRIER_ExpressJet</th>\n",
       "      <th>OP_CARRIER_Frontier Airlines</th>\n",
       "      <th>OP_CARRIER_Hawaiian Airlines</th>\n",
       "      <th>OP_CARRIER_JetBlue Airways</th>\n",
       "      <th>OP_CARRIER_Mesa Airline</th>\n",
       "      <th>OP_CARRIER_PSA Airlines</th>\n",
       "      <th>OP_CARRIER_Republic Airways</th>\n",
       "      <th>OP_CARRIER_SkyWest Airlines</th>\n",
       "      <th>OP_CARRIER_Southwest Airlines</th>\n",
       "      <th>OP_CARRIER_Spirit Airlines</th>\n",
       "      <th>OP_CARRIER_United Airlines</th>\n",
       "      <th>OP_CARRIER_Virgin America</th>\n",
       "      <th>DEST_Atlanta</th>\n",
       "      <th>DEST_Boston</th>\n",
       "      <th>DEST_Charlotte</th>\n",
       "      <th>DEST_Chicago</th>\n",
       "      <th>DEST_Dallas-Fort Worth</th>\n",
       "      <th>DEST_Denver</th>\n",
       "      <th>DEST_Detroit</th>\n",
       "      <th>DEST_Houston</th>\n",
       "      <th>DEST_Las Vegas</th>\n",
       "      <th>DEST_Los Angeles</th>\n",
       "      <th>DEST_Minneapolis</th>\n",
       "      <th>DEST_New York</th>\n",
       "      <th>DEST_Newark</th>\n",
       "      <th>DEST_Orlando</th>\n",
       "      <th>DEST_Philadelphia</th>\n",
       "      <th>DEST_Phoenix</th>\n",
       "      <th>DEST_Salt Lake City</th>\n",
       "      <th>DEST_San Francisco</th>\n",
       "      <th>DEST_Seattle</th>\n",
       "      <th>CRS_DEP_TIME_2</th>\n",
       "      <th>CRS_DEP_TIME_3</th>\n",
       "      <th>CRS_DEP_TIME_4</th>\n",
       "      <th>CRS_ARR_TIME_2</th>\n",
       "      <th>CRS_ARR_TIME_3</th>\n",
       "      <th>CRS_ARR_TIME_4</th>\n",
       "      <th>MONTH_2</th>\n",
       "      <th>MONTH_3</th>\n",
       "      <th>MONTH_4</th>\n",
       "      <th>MONTH_5</th>\n",
       "      <th>MONTH_6</th>\n",
       "      <th>MONTH_7</th>\n",
       "      <th>MONTH_8</th>\n",
       "      <th>MONTH_9</th>\n",
       "      <th>MONTH_10</th>\n",
       "      <th>MONTH_11</th>\n",
       "      <th>MONTH_12</th>\n",
       "      <th>WEEKDAY_1</th>\n",
       "      <th>WEEKDAY_2</th>\n",
       "      <th>WEEKDAY_3</th>\n",
       "      <th>WEEKDAY_4</th>\n",
       "      <th>WEEKDAY_5</th>\n",
       "      <th>WEEKDAY_6</th>\n",
       "    </tr>\n",
       "  </thead>\n",
       "  <tbody>\n",
       "    <tr>\n",
       "      <th>0</th>\n",
       "      <td>-0.321419</td>\n",
       "      <td>1.534191</td>\n",
       "      <td>1.418987</td>\n",
       "      <td>1.176912</td>\n",
       "      <td>-0.768926</td>\n",
       "      <td>-0.081396</td>\n",
       "      <td>-0.435286</td>\n",
       "      <td>-0.442703</td>\n",
       "      <td>-0.180393</td>\n",
       "      <td>-0.187732</td>\n",
       "      <td>-0.159841</td>\n",
       "      <td>-0.126919</td>\n",
       "      <td>-0.036401</td>\n",
       "      <td>-0.212356</td>\n",
       "      <td>-0.159955</td>\n",
       "      <td>-0.187231</td>\n",
       "      <td>-0.217581</td>\n",
       "      <td>-0.332741</td>\n",
       "      <td>-0.406602</td>\n",
       "      <td>-0.164254</td>\n",
       "      <td>2.847426</td>\n",
       "      <td>-0.058525</td>\n",
       "      <td>-0.326623</td>\n",
       "      <td>-0.193125</td>\n",
       "      <td>-0.244507</td>\n",
       "      <td>-0.337433</td>\n",
       "      <td>-0.269893</td>\n",
       "      <td>4.021508</td>\n",
       "      <td>-0.200975</td>\n",
       "      <td>-0.245629</td>\n",
       "      <td>-0.203773</td>\n",
       "      <td>-0.240557</td>\n",
       "      <td>-0.202074</td>\n",
       "      <td>-0.278545</td>\n",
       "      <td>-0.18927</td>\n",
       "      <td>-0.194314</td>\n",
       "      <td>-0.170627</td>\n",
       "      <td>-0.215048</td>\n",
       "      <td>-0.169988</td>\n",
       "      <td>-0.212396</td>\n",
       "      <td>-0.189515</td>\n",
       "      <td>-0.789294</td>\n",
       "      <td>1.317508</td>\n",
       "      <td>-0.469889</td>\n",
       "      <td>-0.675979</td>\n",
       "      <td>1.355474</td>\n",
       "      <td>-0.666541</td>\n",
       "      <td>-0.279066</td>\n",
       "      <td>-0.301892</td>\n",
       "      <td>-0.301231</td>\n",
       "      <td>-0.306987</td>\n",
       "      <td>-0.308162</td>\n",
       "      <td>-0.31287</td>\n",
       "      <td>-0.313251</td>\n",
       "      <td>-0.298598</td>\n",
       "      <td>-0.307719</td>\n",
       "      <td>-0.297483</td>\n",
       "      <td>-0.298999</td>\n",
       "      <td>-0.409388</td>\n",
       "      <td>-0.411835</td>\n",
       "      <td>-0.417282</td>\n",
       "      <td>-0.418911</td>\n",
       "      <td>-0.371936</td>\n",
       "      <td>-0.405995</td>\n",
       "    </tr>\n",
       "    <tr>\n",
       "      <th>1</th>\n",
       "      <td>-0.384744</td>\n",
       "      <td>-0.703566</td>\n",
       "      <td>-0.754700</td>\n",
       "      <td>-0.729017</td>\n",
       "      <td>-0.768926</td>\n",
       "      <td>-0.081396</td>\n",
       "      <td>-0.435286</td>\n",
       "      <td>-0.442703</td>\n",
       "      <td>-0.180393</td>\n",
       "      <td>-0.187732</td>\n",
       "      <td>-0.159841</td>\n",
       "      <td>-0.126919</td>\n",
       "      <td>-0.036401</td>\n",
       "      <td>-0.212356</td>\n",
       "      <td>-0.159955</td>\n",
       "      <td>-0.187231</td>\n",
       "      <td>-0.217581</td>\n",
       "      <td>-0.332741</td>\n",
       "      <td>-0.406602</td>\n",
       "      <td>-0.164254</td>\n",
       "      <td>2.847426</td>\n",
       "      <td>-0.058525</td>\n",
       "      <td>-0.326623</td>\n",
       "      <td>-0.193125</td>\n",
       "      <td>-0.244507</td>\n",
       "      <td>-0.337433</td>\n",
       "      <td>-0.269893</td>\n",
       "      <td>-0.248663</td>\n",
       "      <td>-0.200975</td>\n",
       "      <td>-0.245629</td>\n",
       "      <td>-0.203773</td>\n",
       "      <td>-0.240557</td>\n",
       "      <td>-0.202074</td>\n",
       "      <td>-0.278545</td>\n",
       "      <td>-0.18927</td>\n",
       "      <td>-0.194314</td>\n",
       "      <td>-0.170627</td>\n",
       "      <td>-0.215048</td>\n",
       "      <td>-0.169988</td>\n",
       "      <td>4.708181</td>\n",
       "      <td>-0.189515</td>\n",
       "      <td>1.266955</td>\n",
       "      <td>-0.759008</td>\n",
       "      <td>-0.469889</td>\n",
       "      <td>-0.675979</td>\n",
       "      <td>1.355474</td>\n",
       "      <td>-0.666541</td>\n",
       "      <td>-0.279066</td>\n",
       "      <td>-0.301892</td>\n",
       "      <td>-0.301231</td>\n",
       "      <td>-0.306987</td>\n",
       "      <td>-0.308162</td>\n",
       "      <td>-0.31287</td>\n",
       "      <td>-0.313251</td>\n",
       "      <td>-0.298598</td>\n",
       "      <td>-0.307719</td>\n",
       "      <td>-0.297483</td>\n",
       "      <td>-0.298999</td>\n",
       "      <td>-0.409388</td>\n",
       "      <td>-0.411835</td>\n",
       "      <td>-0.417282</td>\n",
       "      <td>-0.418911</td>\n",
       "      <td>-0.371936</td>\n",
       "      <td>-0.405995</td>\n",
       "    </tr>\n",
       "  </tbody>\n",
       "</table>\n",
       "</div>"
      ],
      "text/plain": [
       "   DEP_DELAY  CRS_ELAPSED_TIME  AIR_TIME  DISTANCE  FLIGHT_STATUS  \\\n",
       "0  -0.321419          1.534191  1.418987  1.176912      -0.768926   \n",
       "1  -0.384744         -0.703566 -0.754700 -0.729017      -0.768926   \n",
       "\n",
       "   OP_CARRIER_Allegiant Air  OP_CARRIER_American Airlines  \\\n",
       "0                 -0.081396                     -0.435286   \n",
       "1                 -0.081396                     -0.435286   \n",
       "\n",
       "   OP_CARRIER_Delta Airlines  OP_CARRIER_Endeavor Air  OP_CARRIER_Envoy Air  \\\n",
       "0                  -0.442703                -0.180393             -0.187732   \n",
       "1                  -0.442703                -0.180393             -0.187732   \n",
       "\n",
       "   OP_CARRIER_ExpressJet  OP_CARRIER_Frontier Airlines  \\\n",
       "0              -0.159841                     -0.126919   \n",
       "1              -0.159841                     -0.126919   \n",
       "\n",
       "   OP_CARRIER_Hawaiian Airlines  OP_CARRIER_JetBlue Airways  \\\n",
       "0                     -0.036401                   -0.212356   \n",
       "1                     -0.036401                   -0.212356   \n",
       "\n",
       "   OP_CARRIER_Mesa Airline  OP_CARRIER_PSA Airlines  \\\n",
       "0                -0.159955                -0.187231   \n",
       "1                -0.159955                -0.187231   \n",
       "\n",
       "   OP_CARRIER_Republic Airways  OP_CARRIER_SkyWest Airlines  \\\n",
       "0                    -0.217581                    -0.332741   \n",
       "1                    -0.217581                    -0.332741   \n",
       "\n",
       "   OP_CARRIER_Southwest Airlines  OP_CARRIER_Spirit Airlines  \\\n",
       "0                      -0.406602                   -0.164254   \n",
       "1                      -0.406602                   -0.164254   \n",
       "\n",
       "   OP_CARRIER_United Airlines  OP_CARRIER_Virgin America  DEST_Atlanta  \\\n",
       "0                    2.847426                  -0.058525     -0.326623   \n",
       "1                    2.847426                  -0.058525     -0.326623   \n",
       "\n",
       "   DEST_Boston  DEST_Charlotte  DEST_Chicago  DEST_Dallas-Fort Worth  \\\n",
       "0    -0.193125       -0.244507     -0.337433               -0.269893   \n",
       "1    -0.193125       -0.244507     -0.337433               -0.269893   \n",
       "\n",
       "   DEST_Denver  DEST_Detroit  DEST_Houston  DEST_Las Vegas  DEST_Los Angeles  \\\n",
       "0     4.021508     -0.200975     -0.245629       -0.203773         -0.240557   \n",
       "1    -0.248663     -0.200975     -0.245629       -0.203773         -0.240557   \n",
       "\n",
       "   DEST_Minneapolis  DEST_New York  DEST_Newark  DEST_Orlando  \\\n",
       "0         -0.202074      -0.278545     -0.18927     -0.194314   \n",
       "1         -0.202074      -0.278545     -0.18927     -0.194314   \n",
       "\n",
       "   DEST_Philadelphia  DEST_Phoenix  DEST_Salt Lake City  DEST_San Francisco  \\\n",
       "0          -0.170627     -0.215048            -0.169988           -0.212396   \n",
       "1          -0.170627     -0.215048            -0.169988            4.708181   \n",
       "\n",
       "   DEST_Seattle  CRS_DEP_TIME_2  CRS_DEP_TIME_3  CRS_DEP_TIME_4  \\\n",
       "0     -0.189515       -0.789294        1.317508       -0.469889   \n",
       "1     -0.189515        1.266955       -0.759008       -0.469889   \n",
       "\n",
       "   CRS_ARR_TIME_2  CRS_ARR_TIME_3  CRS_ARR_TIME_4   MONTH_2   MONTH_3  \\\n",
       "0       -0.675979        1.355474       -0.666541 -0.279066 -0.301892   \n",
       "1       -0.675979        1.355474       -0.666541 -0.279066 -0.301892   \n",
       "\n",
       "    MONTH_4   MONTH_5   MONTH_6  MONTH_7   MONTH_8   MONTH_9  MONTH_10  \\\n",
       "0 -0.301231 -0.306987 -0.308162 -0.31287 -0.313251 -0.298598 -0.307719   \n",
       "1 -0.301231 -0.306987 -0.308162 -0.31287 -0.313251 -0.298598 -0.307719   \n",
       "\n",
       "   MONTH_11  MONTH_12  WEEKDAY_1  WEEKDAY_2  WEEKDAY_3  WEEKDAY_4  WEEKDAY_5  \\\n",
       "0 -0.297483 -0.298999  -0.409388  -0.411835  -0.417282  -0.418911  -0.371936   \n",
       "1 -0.297483 -0.298999  -0.409388  -0.411835  -0.417282  -0.418911  -0.371936   \n",
       "\n",
       "   WEEKDAY_6  \n",
       "0  -0.405995  \n",
       "1  -0.405995  "
      ]
     },
     "execution_count": 9,
     "metadata": {},
     "output_type": "execute_result"
    }
   ],
   "source": [
    "df_s.head(2)"
   ]
  },
  {
   "cell_type": "code",
   "execution_count": 10,
   "metadata": {
    "ExecuteTime": {
     "end_time": "2020-10-14T18:55:02.333912Z",
     "start_time": "2020-10-14T18:54:57.130335Z"
    }
   },
   "outputs": [],
   "source": [
    "X_train, X_test, y_train, y_test = train_test_split(X, y, test_size=0.2)"
   ]
  },
  {
   "cell_type": "markdown",
   "metadata": {},
   "source": [
    "# Modeling"
   ]
  },
  {
   "cell_type": "markdown",
   "metadata": {},
   "source": [
    "## Model 1"
   ]
  },
  {
   "cell_type": "code",
   "execution_count": 70,
   "metadata": {
    "ExecuteTime": {
     "end_time": "2020-10-14T18:10:24.153449Z",
     "start_time": "2020-10-14T18:10:24.111062Z"
    }
   },
   "outputs": [],
   "source": [
    "model_4 = Sequential()\n",
    "\n",
    "model_4.add(Dense(30, activation='relu', input_shape=(62,)))\n",
    "\n",
    "model_4.add(Dense(10, activation='relu'))\n",
    "\n",
    "model_4.add(Dense(5, activation='relu'))\n",
    "\n",
    "model_4.add(Dense(1, activation='sigmoid'))"
   ]
  },
  {
   "cell_type": "code",
   "execution_count": 71,
   "metadata": {
    "ExecuteTime": {
     "end_time": "2020-10-14T18:10:25.118251Z",
     "start_time": "2020-10-14T18:10:25.083861Z"
    }
   },
   "outputs": [],
   "source": [
    "model_4.compile(loss='binary_crossentropy', optimizer='adam', metrics=['accuracy'])"
   ]
  },
  {
   "cell_type": "code",
   "execution_count": 72,
   "metadata": {
    "ExecuteTime": {
     "end_time": "2020-10-14T18:32:04.888456Z",
     "start_time": "2020-10-14T18:10:28.357308Z"
    },
    "scrolled": false
   },
   "outputs": [
    {
     "name": "stdout",
     "output_type": "stream",
     "text": [
      "Train on 2885944 samples, validate on 320661 samples\n",
      "Epoch 1/10\n",
      "2885944/2885944 [==============================] - 124s 43us/step - loss: 0.6093 - acc: 0.6742 - val_loss: 0.5904 - val_acc: 0.6914\n",
      "Epoch 2/10\n",
      "2885944/2885944 [==============================] - 126s 44us/step - loss: 0.5919 - acc: 0.6892 - val_loss: 0.5904 - val_acc: 0.6881\n",
      "Epoch 3/10\n",
      "2885944/2885944 [==============================] - 133s 46us/step - loss: 0.5896 - acc: 0.6910 - val_loss: 0.5847 - val_acc: 0.6944\n",
      "Epoch 4/10\n",
      "2885944/2885944 [==============================] - 125s 43us/step - loss: 0.5881 - acc: 0.6923 - val_loss: 0.5835 - val_acc: 0.6953\n",
      "Epoch 5/10\n",
      "2885944/2885944 [==============================] - 126s 44us/step - loss: 0.5870 - acc: 0.6932 - val_loss: 0.5855 - val_acc: 0.6941\n",
      "Epoch 6/10\n",
      "2885944/2885944 [==============================] - 133s 46us/step - loss: 0.5862 - acc: 0.6937 - val_loss: 0.5871 - val_acc: 0.6924\n",
      "Epoch 7/10\n",
      "2885944/2885944 [==============================] - 128s 44us/step - loss: 0.5855 - acc: 0.6945 - val_loss: 0.5824 - val_acc: 0.6967\n",
      "Epoch 8/10\n",
      "2885944/2885944 [==============================] - 136s 47us/step - loss: 0.5850 - acc: 0.6948 - val_loss: 0.5869 - val_acc: 0.6944\n",
      "Epoch 9/10\n",
      "2885944/2885944 [==============================] - 138s 48us/step - loss: 0.5844 - acc: 0.6950 - val_loss: 0.5833 - val_acc: 0.6949\n",
      "Epoch 10/10\n",
      "2885944/2885944 [==============================] - 127s 44us/step - loss: 0.5839 - acc: 0.6954 - val_loss: 0.5835 - val_acc: 0.6948\n"
     ]
    }
   ],
   "source": [
    "results4 = model_4.fit(X_train, y_train, epochs=10, batch_size=32, validation_split=0.1)"
   ]
  },
  {
   "cell_type": "code",
   "execution_count": 78,
   "metadata": {
    "ExecuteTime": {
     "end_time": "2020-10-14T18:35:00.966484Z",
     "start_time": "2020-10-14T18:35:00.575649Z"
    }
   },
   "outputs": [
    {
     "data": {
      "image/png": "[encoded data removed]",
      "text/plain": [
       "<Figure size 432x288 with 1 Axes>"
      ]
     },
     "metadata": {},
     "output_type": "display_data"
    },
    {
     "data": {
      "image/png": "[encoded data removed]",
      "text/plain": [
       "<Figure size 432x288 with 1 Axes>"
      ]
     },
     "metadata": {},
     "output_type": "display_data"
    }
   ],
   "source": [
    "visualize_training_results(results4)"
   ]
  },
  {
   "cell_type": "code",
   "execution_count": 91,
   "metadata": {
    "ExecuteTime": {
     "end_time": "2020-10-15T18:30:57.506647Z",
     "start_time": "2020-10-15T18:30:57.504580Z"
    }
   },
   "outputs": [],
   "source": [
    "#y_pred_m4 = model_4.predict(X_test)\n",
    "#y_pred_m4 =(y_pred_m4 > 0.5)"
   ]
  },
  {
   "cell_type": "code",
   "execution_count": null,
   "metadata": {},
   "outputs": [],
   "source": [
    "# cm_m4 = confusion_matrix(y_test, y_pred_m4)\n",
    "# print(cm_m4)\n",
    "# print(\"------------------\")\n",
    "# print(classification_report(y_test, y_pred_m4))"
   ]
  },
  {
   "cell_type": "code",
   "execution_count": null,
   "metadata": {},
   "outputs": [],
   "source": [
    "# conf_matrix(cm_m4)"
   ]
  },
  {
   "cell_type": "code",
   "execution_count": null,
   "metadata": {},
   "outputs": [],
   "source": [
    "# model_metrics(y_test, y_pred_m4)"
   ]
  },
  {
   "cell_type": "markdown",
   "metadata": {},
   "source": [
    "## Model 5"
   ]
  },
  {
   "cell_type": "code",
   "execution_count": 35,
   "metadata": {
    "ExecuteTime": {
     "end_time": "2020-10-14T20:56:21.760757Z",
     "start_time": "2020-10-14T20:56:21.729609Z"
    }
   },
   "outputs": [],
   "source": [
    "model_5 = Sequential()\n",
    "\n",
    "model_5.add(Dense(30, activation='relu', input_shape=(62,)))\n",
    "\n",
    "model_5.add(Dense(10, activation='relu'))\n",
    "\n",
    "#model_5.add(Dense(5, activation='relu'))\n",
    "\n",
    "model_5.add(Dense(1, activation='sigmoid'))"
   ]
  },
  {
   "cell_type": "code",
   "execution_count": 36,
   "metadata": {
    "ExecuteTime": {
     "end_time": "2020-10-14T20:56:22.140907Z",
     "start_time": "2020-10-14T20:56:22.106183Z"
    }
   },
   "outputs": [],
   "source": [
    "model_5.compile(loss='binary_crossentropy', optimizer='adam', metrics=['accuracy'])"
   ]
  },
  {
   "cell_type": "code",
   "execution_count": 37,
   "metadata": {
    "ExecuteTime": {
     "end_time": "2020-10-14T21:20:01.683696Z",
     "start_time": "2020-10-14T20:56:22.553242Z"
    },
    "scrolled": false
   },
   "outputs": [
    {
     "name": "stdout",
     "output_type": "stream",
     "text": [
      "Train on 2885944 samples, validate on 320661 samples\n",
      "Epoch 1/10\n",
      "2885944/2885944 [==============================] - 137s 48us/step - loss: 0.6143 - acc: 0.6759 - val_loss: 0.5937 - val_acc: 0.6872\n",
      "Epoch 2/10\n",
      "2885944/2885944 [==============================] - 136s 47us/step - loss: 0.5934 - acc: 0.6874 - val_loss: 0.5859 - val_acc: 0.6929\n",
      "Epoch 3/10\n",
      "2885944/2885944 [==============================] - 133s 46us/step - loss: 0.5901 - acc: 0.6900 - val_loss: 0.5895 - val_acc: 0.6902\n",
      "Epoch 4/10\n",
      "2885944/2885944 [==============================] - 134s 47us/step - loss: 0.5883 - acc: 0.6916 - val_loss: 0.5853 - val_acc: 0.6944\n",
      "Epoch 5/10\n",
      "2885944/2885944 [==============================] - 135s 47us/step - loss: 0.5868 - acc: 0.6931 - val_loss: 0.5832 - val_acc: 0.6961\n",
      "Epoch 6/10\n",
      "2885944/2885944 [==============================] - 133s 46us/step - loss: 0.5860 - acc: 0.6937 - val_loss: 0.5915 - val_acc: 0.6918\n",
      "Epoch 7/10\n",
      "2885944/2885944 [==============================] - 132s 46us/step - loss: 0.5854 - acc: 0.6944 - val_loss: 0.5837 - val_acc: 0.6953\n",
      "Epoch 8/10\n",
      "2885944/2885944 [==============================] - 134s 46us/step - loss: 0.5849 - acc: 0.6948 - val_loss: 0.5832 - val_acc: 0.6964\n",
      "Epoch 9/10\n",
      "2885944/2885944 [==============================] - 191s 66us/step - loss: 0.5844 - acc: 0.6951 - val_loss: 0.5849 - val_acc: 0.6949\n",
      "Epoch 10/10\n",
      "2885944/2885944 [==============================] - 153s 53us/step - loss: 0.5840 - acc: 0.6954 - val_loss: 0.5821 - val_acc: 0.6964\n"
     ]
    }
   ],
   "source": [
    "results5 = model_5.fit(X_train, y_train, epochs=10, batch_size=32, validation_split=0.1)"
   ]
  },
  {
   "cell_type": "code",
   "execution_count": 48,
   "metadata": {
    "ExecuteTime": {
     "end_time": "2020-10-14T22:14:02.851879Z",
     "start_time": "2020-10-14T22:14:02.367707Z"
    }
   },
   "outputs": [
    {
     "data": {
      "image/png": "[encoded data removed]",
      "text/plain": [
       "<Figure size 432x288 with 1 Axes>"
      ]
     },
     "metadata": {
      "needs_background": "light"
     },
     "output_type": "display_data"
    },
    {
     "data": {
      "image/png": "[encoded data removed]",
      "text/plain": [
       "<Figure size 432x288 with 1 Axes>"
      ]
     },
     "metadata": {
      "needs_background": "light"
     },
     "output_type": "display_data"
    }
   ],
   "source": [
    "visualize_training_results(results5)"
   ]
  },
  {
   "cell_type": "code",
   "execution_count": 97,
   "metadata": {
    "ExecuteTime": {
     "end_time": "2020-10-15T18:35:31.954705Z",
     "start_time": "2020-10-15T18:35:17.844288Z"
    }
   },
   "outputs": [],
   "source": [
    "y_pred_m5 = model_5.predict(X_test)\n",
    "y_pred_m5 =(y_pred_m5 > 0.5)"
   ]
  },
  {
   "cell_type": "code",
   "execution_count": 98,
   "metadata": {
    "ExecuteTime": {
     "end_time": "2020-10-15T18:35:37.115817Z",
     "start_time": "2020-10-15T18:35:32.800562Z"
    }
   },
   "outputs": [
    {
     "name": "stdout",
     "output_type": "stream",
     "text": [
      "[[449374  54043]\n",
      " [189373 108862]]\n",
      "------------------\n",
      "              precision    recall  f1-score   support\n",
      "\n",
      "         0.0       0.70      0.89      0.79    503417\n",
      "         1.0       0.67      0.37      0.47    298235\n",
      "\n",
      "    accuracy                           0.70    801652\n",
      "   macro avg       0.69      0.63      0.63    801652\n",
      "weighted avg       0.69      0.70      0.67    801652\n",
      "\n"
     ]
    }
   ],
   "source": [
    "cm_m5 = confusion_matrix(y_test, y_pred_m5)\n",
    "print(cm_m5)\n",
    "print(\"------------------\")\n",
    "print(classification_report(y_test, y_pred_m5))"
   ]
  },
  {
   "cell_type": "code",
   "execution_count": 99,
   "metadata": {
    "ExecuteTime": {
     "end_time": "2020-10-15T18:36:37.007500Z",
     "start_time": "2020-10-15T18:36:36.799149Z"
    }
   },
   "outputs": [
    {
     "data": {
      "image/png": "[encoded data removed]",
      "text/plain": [
       "<Figure size 576x504 with 2 Axes>"
      ]
     },
     "metadata": {},
     "output_type": "display_data"
    }
   ],
   "source": [
    "conf_matrix(cm_m5)"
   ]
  },
  {
   "cell_type": "code",
   "execution_count": 100,
   "metadata": {
    "ExecuteTime": {
     "end_time": "2020-10-15T18:36:52.223850Z",
     "start_time": "2020-10-15T18:36:50.783344Z"
    }
   },
   "outputs": [
    {
     "name": "stdout",
     "output_type": "stream",
     "text": [
      "Accuracy: 69.64 %\n",
      "Precision score: 66.83 %\n",
      "Recall score: 36.5 %\n",
      "F1 score: 47.21 %\n"
     ]
    }
   ],
   "source": [
    "model_metrics(y_test, y_pred_m5)"
   ]
  },
  {
   "cell_type": "markdown",
   "metadata": {},
   "source": [
    "========================================================================================="
   ]
  },
  {
   "cell_type": "markdown",
   "metadata": {},
   "source": [
    "<b>FROM HERE ONWARDS THE MODELS HAVE A DIFFERENT SET OF FEATURES WITH ALL THE MONTHS BEING DROPPED. AFTER DOING A FEATURE SELECTION IT WAS CLEAR THAT THESE WOULD NOT HAVE ANY RELEVENCA IN THE MODEEL AND THEREFORE WOULD CAUSE NOISE."
   ]
  },
  {
   "cell_type": "markdown",
   "metadata": {},
   "source": [
    "========================================================================================="
   ]
  },
  {
   "cell_type": "code",
   "execution_count": 53,
   "metadata": {
    "ExecuteTime": {
     "end_time": "2020-10-14T23:32:54.104425Z",
     "start_time": "2020-10-14T23:32:49.866865Z"
    }
   },
   "outputs": [],
   "source": [
    "y = df['FLIGHT_STATUS']\n",
    "X = df.drop(['FLIGHT_STATUS', 'DEP_DELAY', 'MONTH_2', 'MONTH_3', 'MONTH_4', 'MONTH_5', 'MONTH_6', 'MONTH_7', 'MONTH_8', 'MONTH_9', 'MONTH_10', 'MONTH_11', 'MONTH_12'], axis=1)"
   ]
  },
  {
   "cell_type": "markdown",
   "metadata": {},
   "source": [
    "## Model 6"
   ]
  },
  {
   "cell_type": "code",
   "execution_count": 59,
   "metadata": {
    "ExecuteTime": {
     "end_time": "2020-10-15T00:07:28.027098Z",
     "start_time": "2020-10-15T00:07:27.983031Z"
    }
   },
   "outputs": [
    {
     "name": "stdout",
     "output_type": "stream",
     "text": [
      "_________________________________________________________________\n",
      "Layer (type)                 Output Shape              Param #   \n",
      "=================================================================\n",
      "dense_51 (Dense)             (None, 50)                3150      \n",
      "_________________________________________________________________\n",
      "dense_52 (Dense)             (None, 30)                1530      \n",
      "_________________________________________________________________\n",
      "dense_53 (Dense)             (None, 15)                465       \n",
      "_________________________________________________________________\n",
      "dense_54 (Dense)             (None, 1)                 16        \n",
      "=================================================================\n",
      "Total params: 5,161\n",
      "Trainable params: 5,161\n",
      "Non-trainable params: 0\n",
      "_________________________________________________________________\n"
     ]
    }
   ],
   "source": [
    "model_6 = Sequential()\n",
    "\n",
    "model_6.add(Dense(50, activation='relu', input_shape=(62,)))\n",
    "\n",
    "model_6.add(Dense(30, activation='relu'))\n",
    "\n",
    "model_6.add(Dense(15, activation='relu'))\n",
    "\n",
    "model_6.add(Dense(1, activation='sigmoid'))\n",
    "\n",
    "model_6.summary()"
   ]
  },
  {
   "cell_type": "code",
   "execution_count": 60,
   "metadata": {
    "ExecuteTime": {
     "end_time": "2020-10-15T00:07:28.812589Z",
     "start_time": "2020-10-15T00:07:28.778861Z"
    }
   },
   "outputs": [],
   "source": [
    "model_6.compile(loss='binary_crossentropy', optimizer='adam', metrics=['accuracy'])"
   ]
  },
  {
   "cell_type": "code",
   "execution_count": 61,
   "metadata": {
    "ExecuteTime": {
     "end_time": "2020-10-15T00:18:36.841796Z",
     "start_time": "2020-10-15T00:07:29.549719Z"
    },
    "scrolled": true
   },
   "outputs": [
    {
     "name": "stdout",
     "output_type": "stream",
     "text": [
      "Train on 2885944 samples, validate on 320661 samples\n",
      "Epoch 1/5\n",
      "2885944/2885944 [==============================] - 162s 56us/step - loss: 0.6066 - acc: 0.6797 - val_loss: 0.6033 - val_acc: 0.6808\n",
      "Epoch 2/5\n",
      "2885944/2885944 [==============================] - 129s 45us/step - loss: 0.5915 - acc: 0.6893 - val_loss: 0.5860 - val_acc: 0.6937\n",
      "Epoch 3/5\n",
      "2885944/2885944 [==============================] - 127s 44us/step - loss: 0.5889 - acc: 0.6915 - val_loss: 0.5852 - val_acc: 0.6937\n",
      "Epoch 4/5\n",
      "2885944/2885944 [==============================] - 125s 43us/step - loss: 0.5874 - acc: 0.6926 - val_loss: 0.5875 - val_acc: 0.6920\n",
      "Epoch 5/5\n",
      "2885944/2885944 [==============================] - 123s 43us/step - loss: 0.5865 - acc: 0.6934 - val_loss: 0.5823 - val_acc: 0.6960\n"
     ]
    }
   ],
   "source": [
    "results6 = model_6.fit(X_train, y_train, epochs=5, batch_size=32, validation_split=0.1)"
   ]
  },
  {
   "cell_type": "code",
   "execution_count": 62,
   "metadata": {
    "ExecuteTime": {
     "end_time": "2020-10-15T00:20:58.641884Z",
     "start_time": "2020-10-15T00:20:58.308012Z"
    }
   },
   "outputs": [
    {
     "data": {
      "image/png": "[encoded data removed]",
      "text/plain": [
       "<Figure size 432x288 with 1 Axes>"
      ]
     },
     "metadata": {
      "needs_background": "light"
     },
     "output_type": "display_data"
    },
    {
     "data": {
      "image/png": "[encoded data removed]",
      "text/plain": [
       "<Figure size 432x288 with 1 Axes>"
      ]
     },
     "metadata": {
      "needs_background": "light"
     },
     "output_type": "display_data"
    }
   ],
   "source": [
    "visualize_training_results(results6)"
   ]
  },
  {
   "cell_type": "code",
   "execution_count": 93,
   "metadata": {
    "ExecuteTime": {
     "end_time": "2020-10-15T18:34:35.757083Z",
     "start_time": "2020-10-15T18:34:23.294556Z"
    }
   },
   "outputs": [],
   "source": [
    "y_pred_m6 = model_6.predict(X_test)\n",
    "y_pred_m6 =(y_pred_m6 > 0.5)"
   ]
  },
  {
   "cell_type": "code",
   "execution_count": 94,
   "metadata": {
    "ExecuteTime": {
     "end_time": "2020-10-15T18:34:40.894975Z",
     "start_time": "2020-10-15T18:34:37.238066Z"
    }
   },
   "outputs": [
    {
     "name": "stdout",
     "output_type": "stream",
     "text": [
      "[[458940  44477]\n",
      " [198972  99263]]\n",
      "------------------\n",
      "              precision    recall  f1-score   support\n",
      "\n",
      "         0.0       0.70      0.91      0.79    503417\n",
      "         1.0       0.69      0.33      0.45    298235\n",
      "\n",
      "    accuracy                           0.70    801652\n",
      "   macro avg       0.69      0.62      0.62    801652\n",
      "weighted avg       0.69      0.70      0.66    801652\n",
      "\n"
     ]
    }
   ],
   "source": [
    "cm_m6 = confusion_matrix(y_test, y_pred_m6)\n",
    "print(cm_m6)\n",
    "print(\"------------------\")\n",
    "print(classification_report(y_test, y_pred_m6))"
   ]
  },
  {
   "cell_type": "code",
   "execution_count": 95,
   "metadata": {
    "ExecuteTime": {
     "end_time": "2020-10-15T18:34:41.350305Z",
     "start_time": "2020-10-15T18:34:41.076593Z"
    }
   },
   "outputs": [
    {
     "data": {
      "image/png": "[encoded data removed]",
      "text/plain": [
       "<Figure size 576x504 with 2 Axes>"
      ]
     },
     "metadata": {},
     "output_type": "display_data"
    }
   ],
   "source": [
    "conf_matrix(cm_m6)"
   ]
  },
  {
   "cell_type": "code",
   "execution_count": 96,
   "metadata": {
    "ExecuteTime": {
     "end_time": "2020-10-15T18:34:48.216934Z",
     "start_time": "2020-10-15T18:34:46.996086Z"
    }
   },
   "outputs": [
    {
     "name": "stdout",
     "output_type": "stream",
     "text": [
      "Accuracy: 69.63 %\n",
      "Precision score: 69.06 %\n",
      "Recall score: 33.28 %\n",
      "F1 score: 44.92 %\n"
     ]
    }
   ],
   "source": [
    "model_metrics(y_test, y_pred_m6)"
   ]
  },
  {
   "cell_type": "markdown",
   "metadata": {},
   "source": [
    "# Model 7"
   ]
  },
  {
   "cell_type": "code",
   "execution_count": 68,
   "metadata": {
    "ExecuteTime": {
     "end_time": "2020-10-15T09:39:35.355919Z",
     "start_time": "2020-10-15T09:39:35.290241Z"
    }
   },
   "outputs": [
    {
     "name": "stdout",
     "output_type": "stream",
     "text": [
      "_________________________________________________________________\n",
      "Layer (type)                 Output Shape              Param #   \n",
      "=================================================================\n",
      "dense_60 (Dense)             (None, 50)                3150      \n",
      "_________________________________________________________________\n",
      "dense_61 (Dense)             (None, 40)                2040      \n",
      "_________________________________________________________________\n",
      "dense_62 (Dense)             (None, 25)                1025      \n",
      "_________________________________________________________________\n",
      "dense_63 (Dense)             (None, 5)                 130       \n",
      "_________________________________________________________________\n",
      "dense_64 (Dense)             (None, 1)                 6         \n",
      "=================================================================\n",
      "Total params: 6,351\n",
      "Trainable params: 6,351\n",
      "Non-trainable params: 0\n",
      "_________________________________________________________________\n"
     ]
    }
   ],
   "source": [
    "model_7 = Sequential()\n",
    "\n",
    "model_7.add(Dense(50, activation='relu', input_shape=(62,)))\n",
    "\n",
    "model_7.add(Dense(40, activation='relu'))\n",
    "\n",
    "model_7.add(Dense(25, activation='relu'))\n",
    "\n",
    "model_7.add(Dense(5, activation='relu'))\n",
    "\n",
    "model_7.add(Dense(1, activation='sigmoid'))\n",
    "\n",
    "model_7.summary()"
   ]
  },
  {
   "cell_type": "code",
   "execution_count": 69,
   "metadata": {
    "ExecuteTime": {
     "end_time": "2020-10-15T09:39:35.875213Z",
     "start_time": "2020-10-15T09:39:35.840121Z"
    }
   },
   "outputs": [],
   "source": [
    "model_7.compile(loss='binary_crossentropy', optimizer='adam', metrics=['accuracy'])"
   ]
  },
  {
   "cell_type": "code",
   "execution_count": 70,
   "metadata": {
    "ExecuteTime": {
     "end_time": "2020-10-15T09:53:57.281142Z",
     "start_time": "2020-10-15T09:39:37.535303Z"
    }
   },
   "outputs": [
    {
     "name": "stdout",
     "output_type": "stream",
     "text": [
      "Train on 2885944 samples, validate on 320661 samples\n",
      "Epoch 1/5\n",
      "2885944/2885944 [==============================] - 157s 54us/step - loss: 0.6061 - acc: 0.6808 - val_loss: 0.5882 - val_acc: 0.6922\n",
      "Epoch 2/5\n",
      "2885944/2885944 [==============================] - 178s 62us/step - loss: 0.5909 - acc: 0.6899 - val_loss: 0.5870 - val_acc: 0.6930\n",
      "Epoch 3/5\n",
      "2885944/2885944 [==============================] - 175s 61us/step - loss: 0.5886 - acc: 0.6918 - val_loss: 0.5861 - val_acc: 0.6956\n",
      "Epoch 4/5\n",
      "2885944/2885944 [==============================] - 172s 60us/step - loss: 0.5875 - acc: 0.6925 - val_loss: 0.5825 - val_acc: 0.6964\n",
      "Epoch 5/5\n",
      "2885944/2885944 [==============================] - 178s 62us/step - loss: 0.5863 - acc: 0.6937 - val_loss: 0.5828 - val_acc: 0.6957\n"
     ]
    }
   ],
   "source": [
    "results7 = model_7.fit(X_train, y_train, epochs=5, batch_size=32, validation_split=0.1)"
   ]
  },
  {
   "cell_type": "code",
   "execution_count": 71,
   "metadata": {
    "ExecuteTime": {
     "end_time": "2020-10-15T09:53:57.879520Z",
     "start_time": "2020-10-15T09:53:57.461802Z"
    }
   },
   "outputs": [
    {
     "data": {
      "image/png": "[encoded data removed]",
      "text/plain": [
       "<Figure size 432x288 with 1 Axes>"
      ]
     },
     "metadata": {
      "needs_background": "light"
     },
     "output_type": "display_data"
    },
    {
     "data": {
      "image/png": "[encoded data removed]",
      "text/plain": [
       "<Figure size 432x288 with 1 Axes>"
      ]
     },
     "metadata": {
      "needs_background": "light"
     },
     "output_type": "display_data"
    }
   ],
   "source": [
    "visualize_training_results(results7)"
   ]
  },
  {
   "cell_type": "code",
   "execution_count": 73,
   "metadata": {
    "ExecuteTime": {
     "end_time": "2020-10-15T11:42:01.087352Z",
     "start_time": "2020-10-15T11:41:48.619819Z"
    }
   },
   "outputs": [],
   "source": [
    "y_pred_m7 = model_7.predict(X_test)\n",
    "y_pred_m7 =(y_pred_m7 > 0.5)"
   ]
  },
  {
   "cell_type": "code",
   "execution_count": 75,
   "metadata": {
    "ExecuteTime": {
     "end_time": "2020-10-15T11:43:45.996015Z",
     "start_time": "2020-10-15T11:43:42.870674Z"
    }
   },
   "outputs": [
    {
     "name": "stdout",
     "output_type": "stream",
     "text": [
      "[[469002  34415]\n",
      " [209751  88484]]\n",
      "------------------\n",
      "              precision    recall  f1-score   support\n",
      "\n",
      "         0.0       0.69      0.93      0.79    503417\n",
      "         1.0       0.72      0.30      0.42    298235\n",
      "\n",
      "    accuracy                           0.70    801652\n",
      "   macro avg       0.71      0.61      0.61    801652\n",
      "weighted avg       0.70      0.70      0.65    801652\n",
      "\n"
     ]
    }
   ],
   "source": [
    "cm_m7 = confusion_matrix(y_test, y_pred_m7)\n",
    "print(cm_m7)\n",
    "print(\"------------------\")\n",
    "print(classification_report(y_test, y_pred_m7))"
   ]
  },
  {
   "cell_type": "code",
   "execution_count": 101,
   "metadata": {
    "ExecuteTime": {
     "end_time": "2020-10-15T18:42:39.331474Z",
     "start_time": "2020-10-15T18:42:39.118740Z"
    }
   },
   "outputs": [
    {
     "data": {
      "image/png": "[encoded data removed]",
      "text/plain": [
       "<Figure size 576x504 with 2 Axes>"
      ]
     },
     "metadata": {},
     "output_type": "display_data"
    }
   ],
   "source": [
    "conf_matrix(cm_m7)"
   ]
  },
  {
   "cell_type": "code",
   "execution_count": 78,
   "metadata": {
    "ExecuteTime": {
     "end_time": "2020-10-15T11:44:53.624359Z",
     "start_time": "2020-10-15T11:44:52.546330Z"
    }
   },
   "outputs": [
    {
     "name": "stdout",
     "output_type": "stream",
     "text": [
      "Accuracy: 69.54 %\n",
      "Precision score: 72.0 %\n",
      "Recall score: 29.67 %\n",
      "F1 score: 42.02 %\n"
     ]
    }
   ],
   "source": [
    "model_metrics(y_test, y_pred_m7)"
   ]
  },
  {
   "cell_type": "code",
   "execution_count": null,
   "metadata": {},
   "outputs": [],
   "source": []
  }
 ],
 "metadata": {
  "kernelspec": {
   "display_name": "learn-env",
   "language": "python",
   "name": "learn-env"
  },
  "language_info": {
   "codemirror_mode": {
    "name": "ipython",
    "version": 3
   },
   "file_extension": ".py",
   "mimetype": "text/x-python",
   "name": "python",
   "nbconvert_exporter": "python",
   "pygments_lexer": "ipython3",
   "version": "3.6.9"
  },
  "toc": {
   "base_numbering": 1,
   "nav_menu": {},
   "number_sections": true,
   "sideBar": true,
   "skip_h1_title": false,
   "title_cell": "Table of Contents",
   "title_sidebar": "Contents",
   "toc_cell": false,
   "toc_position": {},
   "toc_section_display": true,
   "toc_window_display": true
  },
  "varInspector": {
   "cols": {
    "lenName": 16,
    "lenType": 16,
    "lenVar": 40
   },
   "kernels_config": {
    "python": {
     "delete_cmd_postfix": "",
     "delete_cmd_prefix": "del ",
     "library": "var_list.py",
     "varRefreshCmd": "print(var_dic_list())"
    },
    "r": {
     "delete_cmd_postfix": ") ",
     "delete_cmd_prefix": "rm(",
     "library": "var_list.r",
     "varRefreshCmd": "cat(var_dic_list()) "
    }
   },
   "types_to_exclude": [
    "module",
    "function",
    "builtin_function_or_method",
    "instance",
    "_Feature"
   ],
   "window_display": false
  }
 },
 "nbformat": 4,
 "nbformat_minor": 4
}
