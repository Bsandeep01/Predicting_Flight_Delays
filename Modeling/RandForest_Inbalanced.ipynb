{
 "cells": [
  {
   "cell_type": "markdown",
   "metadata": {},
   "source": [
    "<font size=\"6\"><b>Random Forest - Imbalanced</b></font>"
   ]
  },
  {
   "cell_type": "markdown",
   "metadata": {
    "ExecuteTime": {
     "end_time": "2020-10-07T19:14:02.365941Z",
     "start_time": "2020-10-07T19:14:02.134282Z"
    }
   },
   "source": [
    "![Figure_11](img/Figure_11.png)"
   ]
  },
  {
   "cell_type": "markdown",
   "metadata": {},
   "source": [
    "At this point of the project I believe the data is relatively clean to start going into the modeling part. I will start by loading the data, doing a quick QC to check once again that everything is in place and then I will check the data distribution (is the data is balance or not?). However, I will do this as part of following a standard workflow as it is clear that this dataset is unbalanced. How do I know this? remember that in one of my documents (The Preprocessing_and_Cleaning notebook), I engineered a binary column called \"Flight Status\", where a 0 corresponds to a flight that arrives on time, and a 1 to a delayed flight. Just in case you are wondering how I treated the negative values for the arrivals, I considered them as arriving on time, even when it mean you arrived earlier.  \n",
    "\n",
    "Any conclusion or comments that I have made based on the EDA done will be put aside until I come up with other conclusions based on my models and then I will try to tie them up. \n",
    "\n",
    "One last comment before I start is that this is a sandbox, so there will be a few of this documents to avoid having an extremely large one. Most probably one per algorithm."
   ]
  },
  {
   "cell_type": "markdown",
   "metadata": {},
   "source": [
    "# Libraries"
   ]
  },
  {
   "cell_type": "code",
   "execution_count": 1,
   "metadata": {
    "ExecuteTime": {
     "end_time": "2020-10-11T12:00:44.001049Z",
     "start_time": "2020-10-11T12:00:41.135740Z"
    }
   },
   "outputs": [
    {
     "name": "stderr",
     "output_type": "stream",
     "text": [
      "Using TensorFlow backend.\n"
     ]
    }
   ],
   "source": [
    "import pandas as pd\n",
    "import numpy as np\n",
    "import matplotlib.pyplot as plt\n",
    "%matplotlib inline\n",
    "import seaborn as sns\n",
    "sns.set_style('darkgrid')\n",
    "pd.set_option('display.max_columns', None)\n",
    "import datetime, warnings, scipy\n",
    "warnings.filterwarnings(\"ignore\")\n",
    "\n",
    "from sklearn import metrics, linear_model\n",
    "from sklearn.metrics import accuracy_score, confusion_matrix, classification_report, plot_confusion_matrix\n",
    "from sklearn.preprocessing import PolynomialFeatures, StandardScaler\n",
    "from sklearn.preprocessing import LabelEncoder, OneHotEncoder\n",
    "from sklearn.model_selection import train_test_split, cross_val_score, cross_val_predict, RepeatedStratifiedKFold\n",
    "from sklearn.tree import DecisionTreeClassifier\n",
    "from sklearn.ensemble import BaggingClassifier, RandomForestClassifier\n",
    "from scipy.optimize import curve_fit\n",
    "from sklearn.svm import SVC\n",
    "from random import sample\n",
    "\n",
    "import keras\n",
    "from keras.models import Sequential\n",
    "from keras.layers import Dense\n",
    "from sklearn.datasets import load_breast_cancer\n",
    "from sklearn.preprocessing import StandardScaler, LabelBinarizer\n",
    "\n",
    "import statsmodels.formula.api as smf\n",
    "import statsmodels.stats.api as sms\n",
    "from statsmodels.formula.api import ols\n",
    "from statsmodels.stats.outliers_influence import variance_inflation_factor\n",
    "import statsmodels.api as sm\n",
    "import scipy.stats as stats"
   ]
  },
  {
   "cell_type": "markdown",
   "metadata": {},
   "source": [
    "This is the first Notebook related to the Models, therefore the categoricals will be dealt with here. Afterwards, I will save a .csv file that will be just loaded into the other notebooks"
   ]
  },
  {
   "cell_type": "markdown",
   "metadata": {},
   "source": [
    "# Data Loading & QC"
   ]
  },
  {
   "cell_type": "code",
   "execution_count": 2,
   "metadata": {
    "ExecuteTime": {
     "end_time": "2020-10-11T12:00:49.886334Z",
     "start_time": "2020-10-11T12:00:44.002810Z"
    }
   },
   "outputs": [
    {
     "data": {
      "text/html": [
       "<div>\n",
       "<style scoped>\n",
       "    .dataframe tbody tr th:only-of-type {\n",
       "        vertical-align: middle;\n",
       "    }\n",
       "\n",
       "    .dataframe tbody tr th {\n",
       "        vertical-align: top;\n",
       "    }\n",
       "\n",
       "    .dataframe thead th {\n",
       "        text-align: right;\n",
       "    }\n",
       "</style>\n",
       "<table border=\"1\" class=\"dataframe\">\n",
       "  <thead>\n",
       "    <tr style=\"text-align: right;\">\n",
       "      <th></th>\n",
       "      <th>OP_CARRIER</th>\n",
       "      <th>ORIGIN</th>\n",
       "      <th>DEST</th>\n",
       "      <th>CRS_DEP_TIME</th>\n",
       "      <th>DEP_DELAY</th>\n",
       "      <th>TAXI_OUT</th>\n",
       "      <th>WHEELS_OFF</th>\n",
       "      <th>WHEELS_ON</th>\n",
       "      <th>TAXI_IN</th>\n",
       "      <th>CRS_ARR_TIME</th>\n",
       "      <th>ARR_DELAY</th>\n",
       "      <th>CRS_ELAPSED_TIME</th>\n",
       "      <th>ACTUAL_ELAPSED_TIME</th>\n",
       "      <th>AIR_TIME</th>\n",
       "      <th>DISTANCE</th>\n",
       "      <th>DAY</th>\n",
       "      <th>MONTH</th>\n",
       "      <th>FLIGHT_STATUS</th>\n",
       "      <th>WEEKDAY</th>\n",
       "    </tr>\n",
       "  </thead>\n",
       "  <tbody>\n",
       "    <tr>\n",
       "      <th>0</th>\n",
       "      <td>United Airlines</td>\n",
       "      <td>Newark</td>\n",
       "      <td>Denver</td>\n",
       "      <td>3</td>\n",
       "      <td>-5.0</td>\n",
       "      <td>15.0</td>\n",
       "      <td>3</td>\n",
       "      <td>3</td>\n",
       "      <td>10.0</td>\n",
       "      <td>3</td>\n",
       "      <td>-23.0</td>\n",
       "      <td>268.0</td>\n",
       "      <td>250.0</td>\n",
       "      <td>225.0</td>\n",
       "      <td>1605.0</td>\n",
       "      <td>1</td>\n",
       "      <td>1</td>\n",
       "      <td>0</td>\n",
       "      <td>0</td>\n",
       "    </tr>\n",
       "    <tr>\n",
       "      <th>1</th>\n",
       "      <td>United Airlines</td>\n",
       "      <td>Las Vegas</td>\n",
       "      <td>San Francisco</td>\n",
       "      <td>2</td>\n",
       "      <td>-8.0</td>\n",
       "      <td>11.0</td>\n",
       "      <td>2</td>\n",
       "      <td>3</td>\n",
       "      <td>7.0</td>\n",
       "      <td>3</td>\n",
       "      <td>-24.0</td>\n",
       "      <td>99.0</td>\n",
       "      <td>83.0</td>\n",
       "      <td>65.0</td>\n",
       "      <td>414.0</td>\n",
       "      <td>1</td>\n",
       "      <td>1</td>\n",
       "      <td>0</td>\n",
       "      <td>0</td>\n",
       "    </tr>\n",
       "    <tr>\n",
       "      <th>2</th>\n",
       "      <td>United Airlines</td>\n",
       "      <td>Santa Ana</td>\n",
       "      <td>Denver</td>\n",
       "      <td>3</td>\n",
       "      <td>-5.0</td>\n",
       "      <td>15.0</td>\n",
       "      <td>3</td>\n",
       "      <td>3</td>\n",
       "      <td>5.0</td>\n",
       "      <td>3</td>\n",
       "      <td>-13.0</td>\n",
       "      <td>134.0</td>\n",
       "      <td>126.0</td>\n",
       "      <td>106.0</td>\n",
       "      <td>846.0</td>\n",
       "      <td>1</td>\n",
       "      <td>1</td>\n",
       "      <td>0</td>\n",
       "      <td>0</td>\n",
       "    </tr>\n",
       "    <tr>\n",
       "      <th>3</th>\n",
       "      <td>United Airlines</td>\n",
       "      <td>Ft. Myers</td>\n",
       "      <td>Chicago</td>\n",
       "      <td>3</td>\n",
       "      <td>6.0</td>\n",
       "      <td>19.0</td>\n",
       "      <td>3</td>\n",
       "      <td>3</td>\n",
       "      <td>6.0</td>\n",
       "      <td>3</td>\n",
       "      <td>-2.0</td>\n",
       "      <td>190.0</td>\n",
       "      <td>182.0</td>\n",
       "      <td>157.0</td>\n",
       "      <td>1120.0</td>\n",
       "      <td>1</td>\n",
       "      <td>1</td>\n",
       "      <td>0</td>\n",
       "      <td>0</td>\n",
       "    </tr>\n",
       "    <tr>\n",
       "      <th>6</th>\n",
       "      <td>United Airlines</td>\n",
       "      <td>Houston</td>\n",
       "      <td>Las Vegas</td>\n",
       "      <td>2</td>\n",
       "      <td>-3.0</td>\n",
       "      <td>14.0</td>\n",
       "      <td>2</td>\n",
       "      <td>2</td>\n",
       "      <td>6.0</td>\n",
       "      <td>2</td>\n",
       "      <td>-16.0</td>\n",
       "      <td>206.0</td>\n",
       "      <td>193.0</td>\n",
       "      <td>173.0</td>\n",
       "      <td>1222.0</td>\n",
       "      <td>1</td>\n",
       "      <td>1</td>\n",
       "      <td>0</td>\n",
       "      <td>0</td>\n",
       "    </tr>\n",
       "  </tbody>\n",
       "</table>\n",
       "</div>"
      ],
      "text/plain": [
       "        OP_CARRIER     ORIGIN           DEST  CRS_DEP_TIME  DEP_DELAY  \\\n",
       "0  United Airlines     Newark         Denver             3       -5.0   \n",
       "1  United Airlines  Las Vegas  San Francisco             2       -8.0   \n",
       "2  United Airlines  Santa Ana         Denver             3       -5.0   \n",
       "3  United Airlines  Ft. Myers        Chicago             3        6.0   \n",
       "6  United Airlines    Houston      Las Vegas             2       -3.0   \n",
       "\n",
       "   TAXI_OUT  WHEELS_OFF  WHEELS_ON  TAXI_IN  CRS_ARR_TIME  ARR_DELAY  \\\n",
       "0      15.0           3          3     10.0             3      -23.0   \n",
       "1      11.0           2          3      7.0             3      -24.0   \n",
       "2      15.0           3          3      5.0             3      -13.0   \n",
       "3      19.0           3          3      6.0             3       -2.0   \n",
       "6      14.0           2          2      6.0             2      -16.0   \n",
       "\n",
       "   CRS_ELAPSED_TIME  ACTUAL_ELAPSED_TIME  AIR_TIME  DISTANCE  DAY  MONTH  \\\n",
       "0             268.0                250.0     225.0    1605.0    1      1   \n",
       "1              99.0                 83.0      65.0     414.0    1      1   \n",
       "2             134.0                126.0     106.0     846.0    1      1   \n",
       "3             190.0                182.0     157.0    1120.0    1      1   \n",
       "6             206.0                193.0     173.0    1222.0    1      1   \n",
       "\n",
       "   FLIGHT_STATUS  WEEKDAY  \n",
       "0              0        0  \n",
       "1              0        0  \n",
       "2              0        0  \n",
       "3              0        0  \n",
       "6              0        0  "
      ]
     },
     "execution_count": 2,
     "metadata": {},
     "output_type": "execute_result"
    }
   ],
   "source": [
    "dfm = pd.read_csv('dfm.csv', index_col=0)\n",
    "dfm.head()"
   ]
  },
  {
   "cell_type": "code",
   "execution_count": 3,
   "metadata": {
    "ExecuteTime": {
     "end_time": "2020-10-11T12:00:49.922292Z",
     "start_time": "2020-10-11T12:00:49.888244Z"
    },
    "scrolled": true
   },
   "outputs": [
    {
     "data": {
      "text/plain": [
       "2    0.383851\n",
       "3    0.365520\n",
       "4    0.180862\n",
       "1    0.069767\n",
       "Name: CRS_DEP_TIME, dtype: float64"
      ]
     },
     "execution_count": 3,
     "metadata": {},
     "output_type": "execute_result"
    }
   ],
   "source": [
    "dfm.CRS_DEP_TIME.value_counts(normalize=True)"
   ]
  },
  {
   "cell_type": "code",
   "execution_count": 4,
   "metadata": {
    "ExecuteTime": {
     "end_time": "2020-10-11T12:00:49.945480Z",
     "start_time": "2020-10-11T12:00:49.923695Z"
    }
   },
   "outputs": [
    {
     "data": {
      "text/plain": [
       "3    0.352446\n",
       "2    0.313633\n",
       "4    0.307612\n",
       "1    0.026308\n",
       "Name: CRS_ARR_TIME, dtype: float64"
      ]
     },
     "execution_count": 4,
     "metadata": {},
     "output_type": "execute_result"
    }
   ],
   "source": [
    "dfm.CRS_ARR_TIME.value_counts(normalize=True)"
   ]
  },
  {
   "cell_type": "code",
   "execution_count": 5,
   "metadata": {
    "ExecuteTime": {
     "end_time": "2020-10-11T12:00:49.968646Z",
     "start_time": "2020-10-11T12:00:49.946660Z"
    }
   },
   "outputs": [
    {
     "data": {
      "text/plain": [
       "0    0.150824\n",
       "4    0.149288\n",
       "3    0.148301\n",
       "2    0.145013\n",
       "1    0.143541\n",
       "6    0.141507\n",
       "5    0.121525\n",
       "Name: WEEKDAY, dtype: float64"
      ]
     },
     "execution_count": 5,
     "metadata": {},
     "output_type": "execute_result"
    }
   ],
   "source": [
    "dfm.WEEKDAY.value_counts(normalize=True)"
   ]
  },
  {
   "cell_type": "code",
   "execution_count": 6,
   "metadata": {
    "ExecuteTime": {
     "end_time": "2020-10-11T12:00:49.977428Z",
     "start_time": "2020-10-11T12:00:49.969947Z"
    },
    "scrolled": false
   },
   "outputs": [
    {
     "name": "stdout",
     "output_type": "stream",
     "text": [
      "<class 'pandas.core.frame.DataFrame'>\n",
      "Int64Index: 4008257 entries, 0 to 7213445\n",
      "Data columns (total 19 columns):\n",
      " #   Column               Dtype  \n",
      "---  ------               -----  \n",
      " 0   OP_CARRIER           object \n",
      " 1   ORIGIN               object \n",
      " 2   DEST                 object \n",
      " 3   CRS_DEP_TIME         int64  \n",
      " 4   DEP_DELAY            float64\n",
      " 5   TAXI_OUT             float64\n",
      " 6   WHEELS_OFF           int64  \n",
      " 7   WHEELS_ON            int64  \n",
      " 8   TAXI_IN              float64\n",
      " 9   CRS_ARR_TIME         int64  \n",
      " 10  ARR_DELAY            float64\n",
      " 11  CRS_ELAPSED_TIME     float64\n",
      " 12  ACTUAL_ELAPSED_TIME  float64\n",
      " 13  AIR_TIME             float64\n",
      " 14  DISTANCE             float64\n",
      " 15  DAY                  int64  \n",
      " 16  MONTH                int64  \n",
      " 17  FLIGHT_STATUS        int64  \n",
      " 18  WEEKDAY              int64  \n",
      "dtypes: float64(8), int64(8), object(3)\n",
      "memory usage: 611.6+ MB\n"
     ]
    }
   ],
   "source": [
    "dfm.info()"
   ]
  },
  {
   "cell_type": "markdown",
   "metadata": {},
   "source": [
    "Will now look at the dimensions of the dataframe using the .shape function:"
   ]
  },
  {
   "cell_type": "code",
   "execution_count": 7,
   "metadata": {
    "ExecuteTime": {
     "end_time": "2020-10-11T12:00:49.983295Z",
     "start_time": "2020-10-11T12:00:49.979000Z"
    }
   },
   "outputs": [
    {
     "data": {
      "text/plain": [
       "(4008257, 19)"
      ]
     },
     "execution_count": 7,
     "metadata": {},
     "output_type": "execute_result"
    }
   ],
   "source": [
    "dfm.shape"
   ]
  },
  {
   "cell_type": "markdown",
   "metadata": {},
   "source": [
    "Quick double check for missing values:"
   ]
  },
  {
   "cell_type": "code",
   "execution_count": 8,
   "metadata": {
    "ExecuteTime": {
     "end_time": "2020-10-11T12:00:50.447665Z",
     "start_time": "2020-10-11T12:00:49.985661Z"
    }
   },
   "outputs": [
    {
     "data": {
      "text/plain": [
       "OP_CARRIER             0\n",
       "ORIGIN                 0\n",
       "DEST                   0\n",
       "CRS_DEP_TIME           0\n",
       "DEP_DELAY              0\n",
       "TAXI_OUT               0\n",
       "WHEELS_OFF             0\n",
       "WHEELS_ON              0\n",
       "TAXI_IN                0\n",
       "CRS_ARR_TIME           0\n",
       "ARR_DELAY              0\n",
       "CRS_ELAPSED_TIME       0\n",
       "ACTUAL_ELAPSED_TIME    0\n",
       "AIR_TIME               0\n",
       "DISTANCE               0\n",
       "DAY                    0\n",
       "MONTH                  0\n",
       "FLIGHT_STATUS          0\n",
       "WEEKDAY                0\n",
       "dtype: int64"
      ]
     },
     "execution_count": 8,
     "metadata": {},
     "output_type": "execute_result"
    }
   ],
   "source": [
    "dfm.isna().sum()"
   ]
  },
  {
   "cell_type": "markdown",
   "metadata": {},
   "source": [
    "# Data Distribution\n",
    "\n",
    "I already know that this dataset is unbalanced, but just to follow standard workflows I will write a short function to see this visually and then keep on going."
   ]
  },
  {
   "cell_type": "code",
   "execution_count": 9,
   "metadata": {
    "ExecuteTime": {
     "end_time": "2020-10-11T12:00:50.454278Z",
     "start_time": "2020-10-11T12:00:50.449440Z"
    }
   },
   "outputs": [],
   "source": [
    "def scaling_check(data):\n",
    "    \n",
    "    case_count = dfm['FLIGHT_STATUS'].value_counts() # 'data' is our input which will be any of the 3 dataframes created\n",
    "    print('Legend:')\n",
    "    print(case_count)\n",
    "    \n",
    "    plt.figure(figsize=(10,6))\n",
    "    sns.barplot(x=case_count.index, y=case_count.values)\n",
    "    plt.rcParams[\"figure.facecolor\"] = \"lightblue\"\n",
    "    plt.title('Data Distribution', fontsize=16)\n",
    "    plt.xlabel('Flight Status', fontsize=12)\n",
    "    plt.ylabel('Number of Flights', fontsize=12)\n",
    "    plt.xticks(range(len(case_count.index)), ['ON TIME(0)', 'DELAYED(1)'])\n",
    "    plt.show()"
   ]
  },
  {
   "cell_type": "code",
   "execution_count": 10,
   "metadata": {
    "ExecuteTime": {
     "end_time": "2020-10-11T12:00:50.617443Z",
     "start_time": "2020-10-11T12:00:50.456162Z"
    }
   },
   "outputs": [
    {
     "name": "stdout",
     "output_type": "stream",
     "text": [
      "Legend:\n",
      "0    2518941\n",
      "1    1489316\n",
      "Name: FLIGHT_STATUS, dtype: int64\n"
     ]
    },
    {
     "data": {
      "image/png": "[encoded data removed]",
      "text/plain": [
       "<Figure size 720x432 with 1 Axes>"
      ]
     },
     "metadata": {
      "needs_background": "light"
     },
     "output_type": "display_data"
    }
   ],
   "source": [
    "scaling_check(dfm)"
   ]
  },
  {
   "cell_type": "code",
   "execution_count": 11,
   "metadata": {
    "ExecuteTime": {
     "end_time": "2020-10-11T12:00:50.642240Z",
     "start_time": "2020-10-11T12:00:50.619024Z"
    }
   },
   "outputs": [
    {
     "data": {
      "text/plain": [
       "0    0.628438\n",
       "1    0.371562\n",
       "Name: FLIGHT_STATUS, dtype: float64"
      ]
     },
     "execution_count": 11,
     "metadata": {},
     "output_type": "execute_result"
    }
   ],
   "source": [
    "dfm.FLIGHT_STATUS.value_counts(normalize=True)"
   ]
  },
  {
   "cell_type": "markdown",
   "metadata": {},
   "source": [
    "As mentioned above, the data is unbalance with a 62.84% of the flights arriving on time and 37.16% being delayed. For the time being I will keep it this way but if results are not adequate I will come back to this and try to balance it. At the moment is less than 2:1 ratio so the problem is there but it is not insanely big."
   ]
  },
  {
   "cell_type": "code",
   "execution_count": 26,
   "metadata": {
    "ExecuteTime": {
     "end_time": "2020-10-12T15:35:31.491513Z",
     "start_time": "2020-10-12T15:35:31.273370Z"
    }
   },
   "outputs": [
    {
     "data": {
      "text/plain": [
       "0    2518941\n",
       "1    1489316\n",
       "Name: FLIGHT_STATUS, dtype: int64"
      ]
     },
     "execution_count": 26,
     "metadata": {},
     "output_type": "execute_result"
    }
   ],
   "source": [
    "# This is the same as the above cell but with number of samples instead of percentage\n",
    "dfm.FLIGHT_STATUS.value_counts()"
   ]
  },
  {
   "cell_type": "markdown",
   "metadata": {},
   "source": [
    "<b>Calculating the weight to use later for the imbalanced dataset</b>"
   ]
  },
  {
   "cell_type": "code",
   "execution_count": 12,
   "metadata": {
    "ExecuteTime": {
     "end_time": "2020-10-11T12:00:50.656945Z",
     "start_time": "2020-10-11T12:00:50.643702Z"
    }
   },
   "outputs": [
    {
     "data": {
      "text/html": [
       "<div>\n",
       "<style scoped>\n",
       "    .dataframe tbody tr th:only-of-type {\n",
       "        vertical-align: middle;\n",
       "    }\n",
       "\n",
       "    .dataframe tbody tr th {\n",
       "        vertical-align: top;\n",
       "    }\n",
       "\n",
       "    .dataframe thead th {\n",
       "        text-align: right;\n",
       "    }\n",
       "</style>\n",
       "<table border=\"1\" class=\"dataframe\">\n",
       "  <thead>\n",
       "    <tr style=\"text-align: right;\">\n",
       "      <th></th>\n",
       "      <th>OP_CARRIER</th>\n",
       "      <th>ORIGIN</th>\n",
       "      <th>DEST</th>\n",
       "      <th>CRS_DEP_TIME</th>\n",
       "      <th>DEP_DELAY</th>\n",
       "      <th>TAXI_OUT</th>\n",
       "      <th>WHEELS_OFF</th>\n",
       "      <th>WHEELS_ON</th>\n",
       "      <th>TAXI_IN</th>\n",
       "      <th>CRS_ARR_TIME</th>\n",
       "      <th>ARR_DELAY</th>\n",
       "      <th>CRS_ELAPSED_TIME</th>\n",
       "      <th>ACTUAL_ELAPSED_TIME</th>\n",
       "      <th>AIR_TIME</th>\n",
       "      <th>DISTANCE</th>\n",
       "      <th>DAY</th>\n",
       "      <th>MONTH</th>\n",
       "      <th>FLIGHT_STATUS</th>\n",
       "      <th>WEEKDAY</th>\n",
       "    </tr>\n",
       "  </thead>\n",
       "  <tbody>\n",
       "    <tr>\n",
       "      <th>0</th>\n",
       "      <td>United Airlines</td>\n",
       "      <td>Newark</td>\n",
       "      <td>Denver</td>\n",
       "      <td>3</td>\n",
       "      <td>-5.0</td>\n",
       "      <td>15.0</td>\n",
       "      <td>3</td>\n",
       "      <td>3</td>\n",
       "      <td>10.0</td>\n",
       "      <td>3</td>\n",
       "      <td>-23.0</td>\n",
       "      <td>268.0</td>\n",
       "      <td>250.0</td>\n",
       "      <td>225.0</td>\n",
       "      <td>1605.0</td>\n",
       "      <td>1</td>\n",
       "      <td>1</td>\n",
       "      <td>0</td>\n",
       "      <td>0</td>\n",
       "    </tr>\n",
       "    <tr>\n",
       "      <th>1</th>\n",
       "      <td>United Airlines</td>\n",
       "      <td>Las Vegas</td>\n",
       "      <td>San Francisco</td>\n",
       "      <td>2</td>\n",
       "      <td>-8.0</td>\n",
       "      <td>11.0</td>\n",
       "      <td>2</td>\n",
       "      <td>3</td>\n",
       "      <td>7.0</td>\n",
       "      <td>3</td>\n",
       "      <td>-24.0</td>\n",
       "      <td>99.0</td>\n",
       "      <td>83.0</td>\n",
       "      <td>65.0</td>\n",
       "      <td>414.0</td>\n",
       "      <td>1</td>\n",
       "      <td>1</td>\n",
       "      <td>0</td>\n",
       "      <td>0</td>\n",
       "    </tr>\n",
       "  </tbody>\n",
       "</table>\n",
       "</div>"
      ],
      "text/plain": [
       "        OP_CARRIER     ORIGIN           DEST  CRS_DEP_TIME  DEP_DELAY  \\\n",
       "0  United Airlines     Newark         Denver             3       -5.0   \n",
       "1  United Airlines  Las Vegas  San Francisco             2       -8.0   \n",
       "\n",
       "   TAXI_OUT  WHEELS_OFF  WHEELS_ON  TAXI_IN  CRS_ARR_TIME  ARR_DELAY  \\\n",
       "0      15.0           3          3     10.0             3      -23.0   \n",
       "1      11.0           2          3      7.0             3      -24.0   \n",
       "\n",
       "   CRS_ELAPSED_TIME  ACTUAL_ELAPSED_TIME  AIR_TIME  DISTANCE  DAY  MONTH  \\\n",
       "0             268.0                250.0     225.0    1605.0    1      1   \n",
       "1              99.0                 83.0      65.0     414.0    1      1   \n",
       "\n",
       "   FLIGHT_STATUS  WEEKDAY  \n",
       "0              0        0  \n",
       "1              0        0  "
      ]
     },
     "execution_count": 12,
     "metadata": {},
     "output_type": "execute_result"
    }
   ],
   "source": [
    "dfm.head(2)"
   ]
  },
  {
   "cell_type": "code",
   "execution_count": 13,
   "metadata": {
    "ExecuteTime": {
     "end_time": "2020-10-11T12:00:50.681368Z",
     "start_time": "2020-10-11T12:00:50.658457Z"
    }
   },
   "outputs": [
    {
     "data": {
      "text/plain": [
       "0    2518941\n",
       "1    1489316\n",
       "Name: FLIGHT_STATUS, dtype: int64"
      ]
     },
     "execution_count": 13,
     "metadata": {},
     "output_type": "execute_result"
    }
   ],
   "source": [
    "dfm.FLIGHT_STATUS.value_counts()"
   ]
  },
  {
   "cell_type": "code",
   "execution_count": 14,
   "metadata": {
    "ExecuteTime": {
     "end_time": "2020-10-11T12:00:50.684933Z",
     "start_time": "2020-10-11T12:00:50.682577Z"
    }
   },
   "outputs": [],
   "source": [
    "count_0 = 2518941\n",
    "count_1 = 1489316"
   ]
  },
  {
   "cell_type": "code",
   "execution_count": 15,
   "metadata": {
    "ExecuteTime": {
     "end_time": "2020-10-11T12:00:50.689233Z",
     "start_time": "2020-10-11T12:00:50.686206Z"
    }
   },
   "outputs": [
    {
     "name": "stdout",
     "output_type": "stream",
     "text": [
      "2518941\n",
      "1489316\n"
     ]
    }
   ],
   "source": [
    "print(count_0)\n",
    "print(count_1)"
   ]
  },
  {
   "cell_type": "code",
   "execution_count": 16,
   "metadata": {
    "ExecuteTime": {
     "end_time": "2020-10-11T12:00:50.694976Z",
     "start_time": "2020-10-11T12:00:50.690840Z"
    }
   },
   "outputs": [
    {
     "name": "stdout",
     "output_type": "stream",
     "text": [
      "Weight for class 0: 0.80\n",
      "Weight for class 1: 1.35\n"
     ]
    }
   ],
   "source": [
    "initial_bias = np.log([count_1/count_0])\n",
    "initial_bias\n",
    "\n",
    "weight_for_0 = (1/count_0)*(count_0 + count_1)/2.0\n",
    "weight_for_1 = (1/count_1)*(count_0 + count_1)/2.0\n",
    "\n",
    "class_weight = {0: weight_for_0, 1: weight_for_1}\n",
    "\n",
    "print('Weight for class 0: {:.2f}'.format(weight_for_0))\n",
    "print('Weight for class 1: {:.2f}'.format(weight_for_1))"
   ]
  },
  {
   "cell_type": "markdown",
   "metadata": {},
   "source": [
    "Before going into the modeling, I will create histograms for all the features to get a better feeling of them:"
   ]
  },
  {
   "cell_type": "code",
   "execution_count": 17,
   "metadata": {
    "ExecuteTime": {
     "end_time": "2020-10-11T12:00:53.729460Z",
     "start_time": "2020-10-11T12:00:50.696580Z"
    }
   },
   "outputs": [
    {
     "data": {
      "image/png": "[encoded data removed]",
      "text/plain": [
       "<Figure size 1080x1080 with 16 Axes>"
      ]
     },
     "metadata": {},
     "output_type": "display_data"
    }
   ],
   "source": [
    "dfm.hist(figsize  = [15, 15],bins=9) \n",
    "plt.show()"
   ]
  },
  {
   "cell_type": "markdown",
   "metadata": {},
   "source": [
    "I will have a quick look at the DEP_DELAYS"
   ]
  },
  {
   "cell_type": "code",
   "execution_count": 27,
   "metadata": {
    "ExecuteTime": {
     "end_time": "2020-10-12T16:09:33.140510Z",
     "start_time": "2020-10-12T16:09:32.931633Z"
    }
   },
   "outputs": [
    {
     "data": {
      "text/plain": [
       "-5.0       7.605326e-02\n",
       "-4.0       7.301079e-02\n",
       "-3.0       7.088767e-02\n",
       "-6.0       6.475732e-02\n",
       "-2.0       6.441179e-02\n",
       "               ...     \n",
       " 1315.0    2.494850e-07\n",
       " 1121.0    2.494850e-07\n",
       " 1317.0    2.494850e-07\n",
       " 1321.0    2.494850e-07\n",
       "-57.0      2.494850e-07\n",
       "Name: DEP_DELAY, Length: 1432, dtype: float64"
      ]
     },
     "execution_count": 27,
     "metadata": {},
     "output_type": "execute_result"
    }
   ],
   "source": [
    "dfm.DEP_DELAY.value_counts(normalize=True)"
   ]
  },
  {
   "cell_type": "code",
   "execution_count": 19,
   "metadata": {
    "ExecuteTime": {
     "end_time": "2020-10-11T12:00:53.818547Z",
     "start_time": "2020-10-11T12:00:53.792451Z"
    }
   },
   "outputs": [
    {
     "data": {
      "text/html": [
       "<div>\n",
       "<style scoped>\n",
       "    .dataframe tbody tr th:only-of-type {\n",
       "        vertical-align: middle;\n",
       "    }\n",
       "\n",
       "    .dataframe tbody tr th {\n",
       "        vertical-align: top;\n",
       "    }\n",
       "\n",
       "    .dataframe thead th {\n",
       "        text-align: right;\n",
       "    }\n",
       "</style>\n",
       "<table border=\"1\" class=\"dataframe\">\n",
       "  <thead>\n",
       "    <tr style=\"text-align: right;\">\n",
       "      <th></th>\n",
       "      <th>OP_CARRIER</th>\n",
       "      <th>ORIGIN</th>\n",
       "      <th>DEST</th>\n",
       "      <th>CRS_DEP_TIME</th>\n",
       "      <th>DEP_DELAY</th>\n",
       "      <th>TAXI_OUT</th>\n",
       "      <th>WHEELS_OFF</th>\n",
       "      <th>WHEELS_ON</th>\n",
       "      <th>TAXI_IN</th>\n",
       "      <th>CRS_ARR_TIME</th>\n",
       "      <th>ARR_DELAY</th>\n",
       "      <th>CRS_ELAPSED_TIME</th>\n",
       "      <th>ACTUAL_ELAPSED_TIME</th>\n",
       "      <th>AIR_TIME</th>\n",
       "      <th>DISTANCE</th>\n",
       "      <th>DAY</th>\n",
       "      <th>MONTH</th>\n",
       "      <th>FLIGHT_STATUS</th>\n",
       "      <th>WEEKDAY</th>\n",
       "    </tr>\n",
       "  </thead>\n",
       "  <tbody>\n",
       "    <tr>\n",
       "      <th>7521</th>\n",
       "      <td>SkyWest Airlines</td>\n",
       "      <td>Eau Claire</td>\n",
       "      <td>Chicago</td>\n",
       "      <td>1</td>\n",
       "      <td>1041.0</td>\n",
       "      <td>18.0</td>\n",
       "      <td>4</td>\n",
       "      <td>4</td>\n",
       "      <td>7.0</td>\n",
       "      <td>2</td>\n",
       "      <td>1032.0</td>\n",
       "      <td>82.0</td>\n",
       "      <td>73.0</td>\n",
       "      <td>48.0</td>\n",
       "      <td>269.0</td>\n",
       "      <td>1</td>\n",
       "      <td>1</td>\n",
       "      <td>1</td>\n",
       "      <td>0</td>\n",
       "    </tr>\n",
       "    <tr>\n",
       "      <th>8227</th>\n",
       "      <td>SkyWest Airlines</td>\n",
       "      <td>Atlanta</td>\n",
       "      <td>Chicago</td>\n",
       "      <td>3</td>\n",
       "      <td>1140.0</td>\n",
       "      <td>26.0</td>\n",
       "      <td>2</td>\n",
       "      <td>2</td>\n",
       "      <td>13.0</td>\n",
       "      <td>3</td>\n",
       "      <td>1144.0</td>\n",
       "      <td>130.0</td>\n",
       "      <td>134.0</td>\n",
       "      <td>95.0</td>\n",
       "      <td>606.0</td>\n",
       "      <td>1</td>\n",
       "      <td>1</td>\n",
       "      <td>1</td>\n",
       "      <td>0</td>\n",
       "    </tr>\n",
       "    <tr>\n",
       "      <th>14275</th>\n",
       "      <td>American Airlines</td>\n",
       "      <td>Eagle</td>\n",
       "      <td>Dallas-Fort Worth</td>\n",
       "      <td>3</td>\n",
       "      <td>1144.0</td>\n",
       "      <td>17.0</td>\n",
       "      <td>2</td>\n",
       "      <td>3</td>\n",
       "      <td>14.0</td>\n",
       "      <td>4</td>\n",
       "      <td>1135.0</td>\n",
       "      <td>133.0</td>\n",
       "      <td>124.0</td>\n",
       "      <td>93.0</td>\n",
       "      <td>721.0</td>\n",
       "      <td>1</td>\n",
       "      <td>1</td>\n",
       "      <td>1</td>\n",
       "      <td>0</td>\n",
       "    </tr>\n",
       "    <tr>\n",
       "      <th>14636</th>\n",
       "      <td>American Airlines</td>\n",
       "      <td>Detroit</td>\n",
       "      <td>Dallas-Fort Worth</td>\n",
       "      <td>3</td>\n",
       "      <td>1013.0</td>\n",
       "      <td>34.0</td>\n",
       "      <td>2</td>\n",
       "      <td>2</td>\n",
       "      <td>8.0</td>\n",
       "      <td>4</td>\n",
       "      <td>1001.0</td>\n",
       "      <td>189.0</td>\n",
       "      <td>177.0</td>\n",
       "      <td>135.0</td>\n",
       "      <td>986.0</td>\n",
       "      <td>1</td>\n",
       "      <td>1</td>\n",
       "      <td>1</td>\n",
       "      <td>0</td>\n",
       "    </tr>\n",
       "    <tr>\n",
       "      <th>21972</th>\n",
       "      <td>Spirit Airlines</td>\n",
       "      <td>Detroit</td>\n",
       "      <td>Denver</td>\n",
       "      <td>3</td>\n",
       "      <td>1332.0</td>\n",
       "      <td>48.0</td>\n",
       "      <td>3</td>\n",
       "      <td>3</td>\n",
       "      <td>9.0</td>\n",
       "      <td>4</td>\n",
       "      <td>1345.0</td>\n",
       "      <td>202.0</td>\n",
       "      <td>215.0</td>\n",
       "      <td>158.0</td>\n",
       "      <td>1123.0</td>\n",
       "      <td>2</td>\n",
       "      <td>1</td>\n",
       "      <td>1</td>\n",
       "      <td>1</td>\n",
       "    </tr>\n",
       "    <tr>\n",
       "      <th>...</th>\n",
       "      <td>...</td>\n",
       "      <td>...</td>\n",
       "      <td>...</td>\n",
       "      <td>...</td>\n",
       "      <td>...</td>\n",
       "      <td>...</td>\n",
       "      <td>...</td>\n",
       "      <td>...</td>\n",
       "      <td>...</td>\n",
       "      <td>...</td>\n",
       "      <td>...</td>\n",
       "      <td>...</td>\n",
       "      <td>...</td>\n",
       "      <td>...</td>\n",
       "      <td>...</td>\n",
       "      <td>...</td>\n",
       "      <td>...</td>\n",
       "      <td>...</td>\n",
       "      <td>...</td>\n",
       "    </tr>\n",
       "    <tr>\n",
       "      <th>7202763</th>\n",
       "      <td>United Airlines</td>\n",
       "      <td>Eagle</td>\n",
       "      <td>Newark</td>\n",
       "      <td>3</td>\n",
       "      <td>1306.0</td>\n",
       "      <td>18.0</td>\n",
       "      <td>2</td>\n",
       "      <td>3</td>\n",
       "      <td>8.0</td>\n",
       "      <td>4</td>\n",
       "      <td>1271.0</td>\n",
       "      <td>241.0</td>\n",
       "      <td>206.0</td>\n",
       "      <td>180.0</td>\n",
       "      <td>1725.0</td>\n",
       "      <td>31</td>\n",
       "      <td>12</td>\n",
       "      <td>1</td>\n",
       "      <td>0</td>\n",
       "    </tr>\n",
       "    <tr>\n",
       "      <th>7203678</th>\n",
       "      <td>Endeavor Air</td>\n",
       "      <td>Traverse City</td>\n",
       "      <td>Detroit</td>\n",
       "      <td>3</td>\n",
       "      <td>1231.0</td>\n",
       "      <td>21.0</td>\n",
       "      <td>3</td>\n",
       "      <td>3</td>\n",
       "      <td>12.0</td>\n",
       "      <td>4</td>\n",
       "      <td>1226.0</td>\n",
       "      <td>78.0</td>\n",
       "      <td>73.0</td>\n",
       "      <td>40.0</td>\n",
       "      <td>207.0</td>\n",
       "      <td>31</td>\n",
       "      <td>12</td>\n",
       "      <td>1</td>\n",
       "      <td>0</td>\n",
       "    </tr>\n",
       "    <tr>\n",
       "      <th>7211246</th>\n",
       "      <td>SkyWest Airlines</td>\n",
       "      <td>Minneapolis</td>\n",
       "      <td>Houston</td>\n",
       "      <td>4</td>\n",
       "      <td>1074.0</td>\n",
       "      <td>20.0</td>\n",
       "      <td>3</td>\n",
       "      <td>3</td>\n",
       "      <td>10.0</td>\n",
       "      <td>4</td>\n",
       "      <td>1068.0</td>\n",
       "      <td>192.0</td>\n",
       "      <td>186.0</td>\n",
       "      <td>156.0</td>\n",
       "      <td>1034.0</td>\n",
       "      <td>31</td>\n",
       "      <td>12</td>\n",
       "      <td>1</td>\n",
       "      <td>0</td>\n",
       "    </tr>\n",
       "    <tr>\n",
       "      <th>7212368</th>\n",
       "      <td>SkyWest Airlines</td>\n",
       "      <td>Aspen</td>\n",
       "      <td>San Francisco</td>\n",
       "      <td>4</td>\n",
       "      <td>1041.0</td>\n",
       "      <td>29.0</td>\n",
       "      <td>3</td>\n",
       "      <td>3</td>\n",
       "      <td>8.0</td>\n",
       "      <td>4</td>\n",
       "      <td>1026.0</td>\n",
       "      <td>156.0</td>\n",
       "      <td>141.0</td>\n",
       "      <td>104.0</td>\n",
       "      <td>848.0</td>\n",
       "      <td>31</td>\n",
       "      <td>12</td>\n",
       "      <td>1</td>\n",
       "      <td>0</td>\n",
       "    </tr>\n",
       "    <tr>\n",
       "      <th>7212824</th>\n",
       "      <td>American Airlines</td>\n",
       "      <td>Jackson</td>\n",
       "      <td>Chicago</td>\n",
       "      <td>3</td>\n",
       "      <td>1307.0</td>\n",
       "      <td>45.0</td>\n",
       "      <td>2</td>\n",
       "      <td>3</td>\n",
       "      <td>14.0</td>\n",
       "      <td>3</td>\n",
       "      <td>1316.0</td>\n",
       "      <td>189.0</td>\n",
       "      <td>198.0</td>\n",
       "      <td>139.0</td>\n",
       "      <td>1162.0</td>\n",
       "      <td>31</td>\n",
       "      <td>12</td>\n",
       "      <td>1</td>\n",
       "      <td>0</td>\n",
       "    </tr>\n",
       "  </tbody>\n",
       "</table>\n",
       "<p>986 rows × 19 columns</p>\n",
       "</div>"
      ],
      "text/plain": [
       "                OP_CARRIER         ORIGIN               DEST  CRS_DEP_TIME  \\\n",
       "7521      SkyWest Airlines     Eau Claire            Chicago             1   \n",
       "8227      SkyWest Airlines        Atlanta            Chicago             3   \n",
       "14275    American Airlines          Eagle  Dallas-Fort Worth             3   \n",
       "14636    American Airlines        Detroit  Dallas-Fort Worth             3   \n",
       "21972      Spirit Airlines        Detroit             Denver             3   \n",
       "...                    ...            ...                ...           ...   \n",
       "7202763    United Airlines          Eagle             Newark             3   \n",
       "7203678       Endeavor Air  Traverse City            Detroit             3   \n",
       "7211246   SkyWest Airlines    Minneapolis            Houston             4   \n",
       "7212368   SkyWest Airlines          Aspen      San Francisco             4   \n",
       "7212824  American Airlines        Jackson            Chicago             3   \n",
       "\n",
       "         DEP_DELAY  TAXI_OUT  WHEELS_OFF  WHEELS_ON  TAXI_IN  CRS_ARR_TIME  \\\n",
       "7521        1041.0      18.0           4          4      7.0             2   \n",
       "8227        1140.0      26.0           2          2     13.0             3   \n",
       "14275       1144.0      17.0           2          3     14.0             4   \n",
       "14636       1013.0      34.0           2          2      8.0             4   \n",
       "21972       1332.0      48.0           3          3      9.0             4   \n",
       "...            ...       ...         ...        ...      ...           ...   \n",
       "7202763     1306.0      18.0           2          3      8.0             4   \n",
       "7203678     1231.0      21.0           3          3     12.0             4   \n",
       "7211246     1074.0      20.0           3          3     10.0             4   \n",
       "7212368     1041.0      29.0           3          3      8.0             4   \n",
       "7212824     1307.0      45.0           2          3     14.0             3   \n",
       "\n",
       "         ARR_DELAY  CRS_ELAPSED_TIME  ACTUAL_ELAPSED_TIME  AIR_TIME  DISTANCE  \\\n",
       "7521        1032.0              82.0                 73.0      48.0     269.0   \n",
       "8227        1144.0             130.0                134.0      95.0     606.0   \n",
       "14275       1135.0             133.0                124.0      93.0     721.0   \n",
       "14636       1001.0             189.0                177.0     135.0     986.0   \n",
       "21972       1345.0             202.0                215.0     158.0    1123.0   \n",
       "...            ...               ...                  ...       ...       ...   \n",
       "7202763     1271.0             241.0                206.0     180.0    1725.0   \n",
       "7203678     1226.0              78.0                 73.0      40.0     207.0   \n",
       "7211246     1068.0             192.0                186.0     156.0    1034.0   \n",
       "7212368     1026.0             156.0                141.0     104.0     848.0   \n",
       "7212824     1316.0             189.0                198.0     139.0    1162.0   \n",
       "\n",
       "         DAY  MONTH  FLIGHT_STATUS  WEEKDAY  \n",
       "7521       1      1              1        0  \n",
       "8227       1      1              1        0  \n",
       "14275      1      1              1        0  \n",
       "14636      1      1              1        0  \n",
       "21972      2      1              1        1  \n",
       "...      ...    ...            ...      ...  \n",
       "7202763   31     12              1        0  \n",
       "7203678   31     12              1        0  \n",
       "7211246   31     12              1        0  \n",
       "7212368   31     12              1        0  \n",
       "7212824   31     12              1        0  \n",
       "\n",
       "[986 rows x 19 columns]"
      ]
     },
     "execution_count": 19,
     "metadata": {},
     "output_type": "execute_result"
    }
   ],
   "source": [
    "dfm_test=dfm[(dfm['DEP_DELAY'] > 1000)]\n",
    "dfm_test"
   ]
  },
  {
   "cell_type": "markdown",
   "metadata": {},
   "source": [
    "# Categoricals"
   ]
  },
  {
   "cell_type": "code",
   "execution_count": 20,
   "metadata": {
    "ExecuteTime": {
     "end_time": "2020-10-11T12:00:53.823276Z",
     "start_time": "2020-10-11T12:00:53.819913Z"
    }
   },
   "outputs": [
    {
     "data": {
      "text/plain": [
       "Index(['OP_CARRIER', 'ORIGIN', 'DEST', 'CRS_DEP_TIME', 'DEP_DELAY', 'TAXI_OUT',\n",
       "       'WHEELS_OFF', 'WHEELS_ON', 'TAXI_IN', 'CRS_ARR_TIME', 'ARR_DELAY',\n",
       "       'CRS_ELAPSED_TIME', 'ACTUAL_ELAPSED_TIME', 'AIR_TIME', 'DISTANCE',\n",
       "       'DAY', 'MONTH', 'FLIGHT_STATUS', 'WEEKDAY'],\n",
       "      dtype='object')"
      ]
     },
     "execution_count": 20,
     "metadata": {},
     "output_type": "execute_result"
    }
   ],
   "source": [
    "dfm.columns"
   ]
  },
  {
   "cell_type": "markdown",
   "metadata": {},
   "source": [
    "I have a few Categoricals to deal with:<br>\n",
    "\n",
    "* OP_CARRIER = 18 airlines<br>\n",
    "* ORIGIN = 20 cities<br>\n",
    "* DEST = 20 cities<br>\n",
    "* CRS_DEP_TIME = 4 quarters<br>\n",
    "* CRS_ARR_TIME = 4 quarters<br>\n",
    "* MONTH = 12 months<br>\n",
    "* FLIGHT_STATUS = 2 categories (already dealt with)<br>\n",
    "* WEEKDAY = 7 days (from 0 to 6)\n",
    "\n"
   ]
  },
  {
   "cell_type": "code",
   "execution_count": 21,
   "metadata": {
    "ExecuteTime": {
     "end_time": "2020-10-11T12:00:59.680309Z",
     "start_time": "2020-10-11T12:00:53.824494Z"
    }
   },
   "outputs": [
    {
     "data": {
      "image/png": "[encoded data removed]",
      "text/plain": [
       "<Figure size 1152x1008 with 9 Axes>"
      ]
     },
     "metadata": {},
     "output_type": "display_data"
    }
   ],
   "source": [
    "fig, axes = plt.subplots(nrows=3, ncols=3, figsize=(16,14), sharey=True)\n",
    "\n",
    "categoricals = ['OP_CARRIER', 'DEST', 'CRS_DEP_TIME', 'CRS_ARR_TIME', 'MONTH', 'WEEKDAY', 'WHEELS_OFF', 'WHEELS_ON']\n",
    "\n",
    "for col, ax in zip(categoricals, axes.flatten()):\n",
    "    (dfm.groupby(col).sum()['FLIGHT_STATUS'].sort_values().plot.bar(ax=ax))\n",
    "    \n",
    "    ax.set_title(col)\n",
    "    \n",
    "fig.tight_layout()\n"
   ]
  },
  {
   "cell_type": "code",
   "execution_count": 22,
   "metadata": {
    "ExecuteTime": {
     "end_time": "2020-10-11T12:01:00.549808Z",
     "start_time": "2020-10-11T12:00:59.682444Z"
    }
   },
   "outputs": [],
   "source": [
    "OP_CARRIER_dummies = pd.get_dummies(dfm['OP_CARRIER'], prefix='OP_CARRIER', drop_first=True)\n",
    "DEST_dummies = pd.get_dummies(dfm['DEST'], prefix='DEST', drop_first=True)\n",
    "CRS_DEP_TIME_dummies = pd.get_dummies(dfm['CRS_DEP_TIME'], prefix='CRS_DEP_TIME', drop_first=True)\n",
    "CRS_ARR_TIME_dummines = pd.get_dummies(dfm['CRS_ARR_TIME'], prefix='CRS_ARR_TIME', drop_first=True) \n",
    "MONTH_dummies = pd.get_dummies(dfm['MONTH'], prefix='MONTH', drop_first=True)\n",
    "WEEKDAY_dummies = pd.get_dummies(dfm['WEEKDAY'], prefix='WEEKDAY', drop_first=True)\n",
    "#WHEELS_OFF_dummies = pd.get_dummies(dfm['WHEELS_OFF'], prefix='WHEELS_OFF', drop_first=True)\n",
    "#WHEELS_ON_dummies = pd.get_dummies(dfm['WHEELS_ON'], prefix='WHEELS_ON', drop_first=True)"
   ]
  },
  {
   "cell_type": "code",
   "execution_count": 23,
   "metadata": {
    "ExecuteTime": {
     "end_time": "2020-10-11T12:01:00.639182Z",
     "start_time": "2020-10-11T12:01:00.554053Z"
    }
   },
   "outputs": [],
   "source": [
    "dfm = dfm.drop(['OP_CARRIER', 'ORIGIN', 'DEST', 'CRS_DEP_TIME', 'CRS_ARR_TIME', 'MONTH', 'WEEKDAY', 'ACTUAL_ELAPSED_TIME', 'WHEELS_OFF', 'WHEELS_ON', 'ARR_DELAY', 'TAXI_IN', 'TAXI_OUT'], axis=1)"
   ]
  },
  {
   "cell_type": "code",
   "execution_count": 28,
   "metadata": {
    "ExecuteTime": {
     "end_time": "2020-10-12T16:10:50.274622Z",
     "start_time": "2020-10-12T16:10:49.156817Z"
    }
   },
   "outputs": [],
   "source": [
    "dfm = pd.concat([dfm, OP_CARRIER_dummies, DEST_dummies, CRS_DEP_TIME_dummies, CRS_ARR_TIME_dummines, MONTH_dummies, WEEKDAY_dummies], axis=1)"
   ]
  },
  {
   "cell_type": "code",
   "execution_count": 29,
   "metadata": {
    "ExecuteTime": {
     "end_time": "2020-10-12T16:10:53.179563Z",
     "start_time": "2020-10-12T16:10:53.119853Z"
    }
   },
   "outputs": [
    {
     "data": {
      "text/html": [
       "<div>\n",
       "<style scoped>\n",
       "    .dataframe tbody tr th:only-of-type {\n",
       "        vertical-align: middle;\n",
       "    }\n",
       "\n",
       "    .dataframe tbody tr th {\n",
       "        vertical-align: top;\n",
       "    }\n",
       "\n",
       "    .dataframe thead th {\n",
       "        text-align: right;\n",
       "    }\n",
       "</style>\n",
       "<table border=\"1\" class=\"dataframe\">\n",
       "  <thead>\n",
       "    <tr style=\"text-align: right;\">\n",
       "      <th></th>\n",
       "      <th>DEP_DELAY</th>\n",
       "      <th>CRS_ELAPSED_TIME</th>\n",
       "      <th>AIR_TIME</th>\n",
       "      <th>DISTANCE</th>\n",
       "      <th>DAY</th>\n",
       "      <th>FLIGHT_STATUS</th>\n",
       "      <th>OP_CARRIER_Allegiant Air</th>\n",
       "      <th>OP_CARRIER_American Airlines</th>\n",
       "      <th>OP_CARRIER_Delta Airlines</th>\n",
       "      <th>OP_CARRIER_Endeavor Air</th>\n",
       "      <th>OP_CARRIER_Envoy Air</th>\n",
       "      <th>OP_CARRIER_ExpressJet</th>\n",
       "      <th>OP_CARRIER_Frontier Airlines</th>\n",
       "      <th>OP_CARRIER_Hawaiian Airlines</th>\n",
       "      <th>OP_CARRIER_JetBlue Airways</th>\n",
       "      <th>OP_CARRIER_Mesa Airline</th>\n",
       "      <th>OP_CARRIER_PSA Airlines</th>\n",
       "      <th>OP_CARRIER_Republic Airways</th>\n",
       "      <th>OP_CARRIER_SkyWest Airlines</th>\n",
       "      <th>OP_CARRIER_Southwest Airlines</th>\n",
       "      <th>OP_CARRIER_Spirit Airlines</th>\n",
       "      <th>OP_CARRIER_United Airlines</th>\n",
       "      <th>OP_CARRIER_Virgin America</th>\n",
       "      <th>DEST_Atlanta</th>\n",
       "      <th>DEST_Boston</th>\n",
       "      <th>DEST_Charlotte</th>\n",
       "      <th>DEST_Chicago</th>\n",
       "      <th>DEST_Dallas-Fort Worth</th>\n",
       "      <th>DEST_Denver</th>\n",
       "      <th>DEST_Detroit</th>\n",
       "      <th>DEST_Houston</th>\n",
       "      <th>DEST_Las Vegas</th>\n",
       "      <th>DEST_Los Angeles</th>\n",
       "      <th>DEST_Minneapolis</th>\n",
       "      <th>DEST_New York</th>\n",
       "      <th>DEST_Newark</th>\n",
       "      <th>DEST_Orlando</th>\n",
       "      <th>DEST_Philadelphia</th>\n",
       "      <th>DEST_Phoenix</th>\n",
       "      <th>DEST_Salt Lake City</th>\n",
       "      <th>DEST_San Francisco</th>\n",
       "      <th>DEST_Seattle</th>\n",
       "      <th>CRS_DEP_TIME_2</th>\n",
       "      <th>CRS_DEP_TIME_3</th>\n",
       "      <th>CRS_DEP_TIME_4</th>\n",
       "      <th>CRS_ARR_TIME_2</th>\n",
       "      <th>CRS_ARR_TIME_3</th>\n",
       "      <th>CRS_ARR_TIME_4</th>\n",
       "      <th>MONTH_2</th>\n",
       "      <th>MONTH_3</th>\n",
       "      <th>MONTH_4</th>\n",
       "      <th>MONTH_5</th>\n",
       "      <th>MONTH_6</th>\n",
       "      <th>MONTH_7</th>\n",
       "      <th>MONTH_8</th>\n",
       "      <th>MONTH_9</th>\n",
       "      <th>MONTH_10</th>\n",
       "      <th>MONTH_11</th>\n",
       "      <th>MONTH_12</th>\n",
       "      <th>WEEKDAY_1</th>\n",
       "      <th>WEEKDAY_2</th>\n",
       "      <th>WEEKDAY_3</th>\n",
       "      <th>WEEKDAY_4</th>\n",
       "      <th>WEEKDAY_5</th>\n",
       "      <th>WEEKDAY_6</th>\n",
       "    </tr>\n",
       "  </thead>\n",
       "  <tbody>\n",
       "    <tr>\n",
       "      <th>0</th>\n",
       "      <td>-5.0</td>\n",
       "      <td>268.0</td>\n",
       "      <td>225.0</td>\n",
       "      <td>1605.0</td>\n",
       "      <td>1</td>\n",
       "      <td>0</td>\n",
       "      <td>0</td>\n",
       "      <td>0</td>\n",
       "      <td>0</td>\n",
       "      <td>0</td>\n",
       "      <td>0</td>\n",
       "      <td>0</td>\n",
       "      <td>0</td>\n",
       "      <td>0</td>\n",
       "      <td>0</td>\n",
       "      <td>0</td>\n",
       "      <td>0</td>\n",
       "      <td>0</td>\n",
       "      <td>0</td>\n",
       "      <td>0</td>\n",
       "      <td>0</td>\n",
       "      <td>1</td>\n",
       "      <td>0</td>\n",
       "      <td>0</td>\n",
       "      <td>0</td>\n",
       "      <td>0</td>\n",
       "      <td>0</td>\n",
       "      <td>0</td>\n",
       "      <td>1</td>\n",
       "      <td>0</td>\n",
       "      <td>0</td>\n",
       "      <td>0</td>\n",
       "      <td>0</td>\n",
       "      <td>0</td>\n",
       "      <td>0</td>\n",
       "      <td>0</td>\n",
       "      <td>0</td>\n",
       "      <td>0</td>\n",
       "      <td>0</td>\n",
       "      <td>0</td>\n",
       "      <td>0</td>\n",
       "      <td>0</td>\n",
       "      <td>0</td>\n",
       "      <td>1</td>\n",
       "      <td>0</td>\n",
       "      <td>0</td>\n",
       "      <td>1</td>\n",
       "      <td>0</td>\n",
       "      <td>0</td>\n",
       "      <td>0</td>\n",
       "      <td>0</td>\n",
       "      <td>0</td>\n",
       "      <td>0</td>\n",
       "      <td>0</td>\n",
       "      <td>0</td>\n",
       "      <td>0</td>\n",
       "      <td>0</td>\n",
       "      <td>0</td>\n",
       "      <td>0</td>\n",
       "      <td>0</td>\n",
       "      <td>0</td>\n",
       "      <td>0</td>\n",
       "      <td>0</td>\n",
       "      <td>0</td>\n",
       "      <td>0</td>\n",
       "    </tr>\n",
       "    <tr>\n",
       "      <th>1</th>\n",
       "      <td>-8.0</td>\n",
       "      <td>99.0</td>\n",
       "      <td>65.0</td>\n",
       "      <td>414.0</td>\n",
       "      <td>1</td>\n",
       "      <td>0</td>\n",
       "      <td>0</td>\n",
       "      <td>0</td>\n",
       "      <td>0</td>\n",
       "      <td>0</td>\n",
       "      <td>0</td>\n",
       "      <td>0</td>\n",
       "      <td>0</td>\n",
       "      <td>0</td>\n",
       "      <td>0</td>\n",
       "      <td>0</td>\n",
       "      <td>0</td>\n",
       "      <td>0</td>\n",
       "      <td>0</td>\n",
       "      <td>0</td>\n",
       "      <td>0</td>\n",
       "      <td>1</td>\n",
       "      <td>0</td>\n",
       "      <td>0</td>\n",
       "      <td>0</td>\n",
       "      <td>0</td>\n",
       "      <td>0</td>\n",
       "      <td>0</td>\n",
       "      <td>0</td>\n",
       "      <td>0</td>\n",
       "      <td>0</td>\n",
       "      <td>0</td>\n",
       "      <td>0</td>\n",
       "      <td>0</td>\n",
       "      <td>0</td>\n",
       "      <td>0</td>\n",
       "      <td>0</td>\n",
       "      <td>0</td>\n",
       "      <td>0</td>\n",
       "      <td>0</td>\n",
       "      <td>1</td>\n",
       "      <td>0</td>\n",
       "      <td>1</td>\n",
       "      <td>0</td>\n",
       "      <td>0</td>\n",
       "      <td>0</td>\n",
       "      <td>1</td>\n",
       "      <td>0</td>\n",
       "      <td>0</td>\n",
       "      <td>0</td>\n",
       "      <td>0</td>\n",
       "      <td>0</td>\n",
       "      <td>0</td>\n",
       "      <td>0</td>\n",
       "      <td>0</td>\n",
       "      <td>0</td>\n",
       "      <td>0</td>\n",
       "      <td>0</td>\n",
       "      <td>0</td>\n",
       "      <td>0</td>\n",
       "      <td>0</td>\n",
       "      <td>0</td>\n",
       "      <td>0</td>\n",
       "      <td>0</td>\n",
       "      <td>0</td>\n",
       "    </tr>\n",
       "  </tbody>\n",
       "</table>\n",
       "</div>"
      ],
      "text/plain": [
       "   DEP_DELAY  CRS_ELAPSED_TIME  AIR_TIME  DISTANCE  DAY  FLIGHT_STATUS  \\\n",
       "0       -5.0             268.0     225.0    1605.0    1              0   \n",
       "1       -8.0              99.0      65.0     414.0    1              0   \n",
       "\n",
       "   OP_CARRIER_Allegiant Air  OP_CARRIER_American Airlines  \\\n",
       "0                         0                             0   \n",
       "1                         0                             0   \n",
       "\n",
       "   OP_CARRIER_Delta Airlines  OP_CARRIER_Endeavor Air  OP_CARRIER_Envoy Air  \\\n",
       "0                          0                        0                     0   \n",
       "1                          0                        0                     0   \n",
       "\n",
       "   OP_CARRIER_ExpressJet  OP_CARRIER_Frontier Airlines  \\\n",
       "0                      0                             0   \n",
       "1                      0                             0   \n",
       "\n",
       "   OP_CARRIER_Hawaiian Airlines  OP_CARRIER_JetBlue Airways  \\\n",
       "0                             0                           0   \n",
       "1                             0                           0   \n",
       "\n",
       "   OP_CARRIER_Mesa Airline  OP_CARRIER_PSA Airlines  \\\n",
       "0                        0                        0   \n",
       "1                        0                        0   \n",
       "\n",
       "   OP_CARRIER_Republic Airways  OP_CARRIER_SkyWest Airlines  \\\n",
       "0                            0                            0   \n",
       "1                            0                            0   \n",
       "\n",
       "   OP_CARRIER_Southwest Airlines  OP_CARRIER_Spirit Airlines  \\\n",
       "0                              0                           0   \n",
       "1                              0                           0   \n",
       "\n",
       "   OP_CARRIER_United Airlines  OP_CARRIER_Virgin America  DEST_Atlanta  \\\n",
       "0                           1                          0             0   \n",
       "1                           1                          0             0   \n",
       "\n",
       "   DEST_Boston  DEST_Charlotte  DEST_Chicago  DEST_Dallas-Fort Worth  \\\n",
       "0            0               0             0                       0   \n",
       "1            0               0             0                       0   \n",
       "\n",
       "   DEST_Denver  DEST_Detroit  DEST_Houston  DEST_Las Vegas  DEST_Los Angeles  \\\n",
       "0            1             0             0               0                 0   \n",
       "1            0             0             0               0                 0   \n",
       "\n",
       "   DEST_Minneapolis  DEST_New York  DEST_Newark  DEST_Orlando  \\\n",
       "0                 0              0            0             0   \n",
       "1                 0              0            0             0   \n",
       "\n",
       "   DEST_Philadelphia  DEST_Phoenix  DEST_Salt Lake City  DEST_San Francisco  \\\n",
       "0                  0             0                    0                   0   \n",
       "1                  0             0                    0                   1   \n",
       "\n",
       "   DEST_Seattle  CRS_DEP_TIME_2  CRS_DEP_TIME_3  CRS_DEP_TIME_4  \\\n",
       "0             0               0               1               0   \n",
       "1             0               1               0               0   \n",
       "\n",
       "   CRS_ARR_TIME_2  CRS_ARR_TIME_3  CRS_ARR_TIME_4  MONTH_2  MONTH_3  MONTH_4  \\\n",
       "0               0               1               0        0        0        0   \n",
       "1               0               1               0        0        0        0   \n",
       "\n",
       "   MONTH_5  MONTH_6  MONTH_7  MONTH_8  MONTH_9  MONTH_10  MONTH_11  MONTH_12  \\\n",
       "0        0        0        0        0        0         0         0         0   \n",
       "1        0        0        0        0        0         0         0         0   \n",
       "\n",
       "   WEEKDAY_1  WEEKDAY_2  WEEKDAY_3  WEEKDAY_4  WEEKDAY_5  WEEKDAY_6  \n",
       "0          0          0          0          0          0          0  \n",
       "1          0          0          0          0          0          0  "
      ]
     },
     "execution_count": 29,
     "metadata": {},
     "output_type": "execute_result"
    }
   ],
   "source": [
    "dfm.head(2)"
   ]
  },
  {
   "cell_type": "code",
   "execution_count": 30,
   "metadata": {
    "ExecuteTime": {
     "end_time": "2020-10-12T16:10:54.633361Z",
     "start_time": "2020-10-12T16:10:54.624687Z"
    }
   },
   "outputs": [
    {
     "data": {
      "text/plain": [
       "(4008257, 65)"
      ]
     },
     "execution_count": 30,
     "metadata": {},
     "output_type": "execute_result"
    }
   ],
   "source": [
    "dfm.shape"
   ]
  },
  {
   "cell_type": "markdown",
   "metadata": {},
   "source": [
    "# Random Forest"
   ]
  },
  {
   "cell_type": "markdown",
   "metadata": {},
   "source": [
    "## Features, Labels, Training and Test Data Creation"
   ]
  },
  {
   "cell_type": "code",
   "execution_count": 31,
   "metadata": {
    "ExecuteTime": {
     "end_time": "2020-10-12T16:12:21.906279Z",
     "start_time": "2020-10-12T16:12:21.401277Z"
    }
   },
   "outputs": [],
   "source": [
    "# Create features (X) and labels (y)\n",
    "y = dfm['FLIGHT_STATUS']\n",
    "X = dfm.drop(['FLIGHT_STATUS', 'DEP_DELAY'], axis=1)"
   ]
  },
  {
   "cell_type": "code",
   "execution_count": 32,
   "metadata": {
    "ExecuteTime": {
     "end_time": "2020-10-12T16:12:25.172466Z",
     "start_time": "2020-10-12T16:12:23.369384Z"
    }
   },
   "outputs": [],
   "source": [
    "# Perform the split\n",
    "X_test, X_train, y_test, y_train = train_test_split(X, y, test_size=0.25, random_state=42)"
   ]
  },
  {
   "cell_type": "markdown",
   "metadata": {},
   "source": [
    "## Build Regular Tree as Baseline"
   ]
  },
  {
   "cell_type": "code",
   "execution_count": 33,
   "metadata": {
    "ExecuteTime": {
     "end_time": "2020-10-12T16:12:33.039313Z",
     "start_time": "2020-10-12T16:12:28.212908Z"
    }
   },
   "outputs": [
    {
     "data": {
      "text/plain": [
       "DecisionTreeClassifier(max_depth=5)"
      ]
     },
     "execution_count": 33,
     "metadata": {},
     "output_type": "execute_result"
    }
   ],
   "source": [
    "# Build a regular tree as baseline\n",
    "tree_clf = DecisionTreeClassifier(criterion='gini', max_depth=5)\n",
    "tree_clf.fit(X_train, y_train)"
   ]
  },
  {
   "cell_type": "markdown",
   "metadata": {},
   "source": [
    "Before I continue, I'll run a importance feature values and then plot them to see which ones are the ones with thee most weight. "
   ]
  },
  {
   "cell_type": "code",
   "execution_count": 34,
   "metadata": {
    "ExecuteTime": {
     "end_time": "2020-10-12T16:12:36.751094Z",
     "start_time": "2020-10-12T16:12:36.745991Z"
    }
   },
   "outputs": [
    {
     "data": {
      "text/plain": [
       "array([0.07146407, 0.08221646, 0.03794624, 0.        , 0.        ,\n",
       "       0.        , 0.15409822, 0.        , 0.        , 0.        ,\n",
       "       0.        , 0.        , 0.        , 0.        , 0.        ,\n",
       "       0.        , 0.        , 0.02648392, 0.        , 0.        ,\n",
       "       0.        , 0.00322696, 0.        , 0.        , 0.        ,\n",
       "       0.        , 0.        , 0.        , 0.        , 0.        ,\n",
       "       0.        , 0.        , 0.        , 0.04051762, 0.        ,\n",
       "       0.        , 0.        , 0.        , 0.        , 0.        ,\n",
       "       0.04006557, 0.        , 0.        , 0.36009877, 0.        ,\n",
       "       0.13363667, 0.        , 0.        , 0.        , 0.00437141,\n",
       "       0.        , 0.        , 0.        , 0.        , 0.        ,\n",
       "       0.00471518, 0.        , 0.        , 0.        , 0.        ,\n",
       "       0.        , 0.04115892, 0.        ])"
      ]
     },
     "execution_count": 34,
     "metadata": {},
     "output_type": "execute_result"
    }
   ],
   "source": [
    "tree_clf.feature_importances_"
   ]
  },
  {
   "cell_type": "code",
   "execution_count": 35,
   "metadata": {
    "ExecuteTime": {
     "end_time": "2020-10-12T16:12:40.370270Z",
     "start_time": "2020-10-12T16:12:38.914713Z"
    }
   },
   "outputs": [
    {
     "data": {
      "image/png": "[encoded data removed]",
      "text/plain": [
       "<Figure size 720x1440 with 1 Axes>"
      ]
     },
     "metadata": {},
     "output_type": "display_data"
    }
   ],
   "source": [
    "def plot_feature_importances(model):\n",
    "    n_features = X_train.shape[1]\n",
    "    plt.figure(figsize=(10, 20))\n",
    "    plt.barh(range(n_features), model.feature_importances_, color='k', align='center')\n",
    "    plt.yticks(np.arange(n_features), X_train.columns.values)\n",
    "    plt.xlabel('Feature importance')\n",
    "    plt.ylabel('Features')\n",
    "    plt.rcParams[\"figure.facecolor\"] = \"lightblue\"\n",
    "    plt.grid(True)\n",
    "plot_feature_importances(tree_clf)"
   ]
  },
  {
   "cell_type": "markdown",
   "metadata": {},
   "source": [
    "<b>Model Performance</b>"
   ]
  },
  {
   "cell_type": "code",
   "execution_count": 36,
   "metadata": {
    "ExecuteTime": {
     "end_time": "2020-10-12T16:13:37.144556Z",
     "start_time": "2020-10-12T16:13:35.283131Z"
    }
   },
   "outputs": [],
   "source": [
    "# Test set predictions\n",
    "pred = tree_clf.predict(X_test)"
   ]
  },
  {
   "cell_type": "code",
   "execution_count": 37,
   "metadata": {
    "ExecuteTime": {
     "end_time": "2020-10-12T16:13:40.136910Z",
     "start_time": "2020-10-12T16:13:39.218417Z"
    }
   },
   "outputs": [
    {
     "name": "stdout",
     "output_type": "stream",
     "text": [
      "\n",
      "Confusion Matrix\n",
      "----------------\n"
     ]
    },
    {
     "data": {
      "text/html": [
       "<div>\n",
       "<style scoped>\n",
       "    .dataframe tbody tr th:only-of-type {\n",
       "        vertical-align: middle;\n",
       "    }\n",
       "\n",
       "    .dataframe tbody tr th {\n",
       "        vertical-align: top;\n",
       "    }\n",
       "\n",
       "    .dataframe thead th {\n",
       "        text-align: right;\n",
       "    }\n",
       "</style>\n",
       "<table border=\"1\" class=\"dataframe\">\n",
       "  <thead>\n",
       "    <tr style=\"text-align: right;\">\n",
       "      <th>Predicted</th>\n",
       "      <th>0</th>\n",
       "      <th>1</th>\n",
       "      <th>All</th>\n",
       "    </tr>\n",
       "    <tr>\n",
       "      <th>True</th>\n",
       "      <th></th>\n",
       "      <th></th>\n",
       "      <th></th>\n",
       "    </tr>\n",
       "  </thead>\n",
       "  <tbody>\n",
       "    <tr>\n",
       "      <th>0</th>\n",
       "      <td>1876097</td>\n",
       "      <td>13311</td>\n",
       "      <td>1889408</td>\n",
       "    </tr>\n",
       "    <tr>\n",
       "      <th>1</th>\n",
       "      <td>1091585</td>\n",
       "      <td>25199</td>\n",
       "      <td>1116784</td>\n",
       "    </tr>\n",
       "    <tr>\n",
       "      <th>All</th>\n",
       "      <td>2967682</td>\n",
       "      <td>38510</td>\n",
       "      <td>3006192</td>\n",
       "    </tr>\n",
       "  </tbody>\n",
       "</table>\n",
       "</div>"
      ],
      "text/plain": [
       "Predicted        0      1      All\n",
       "True                              \n",
       "0          1876097  13311  1889408\n",
       "1          1091585  25199  1116784\n",
       "All        2967682  38510  3006192"
      ]
     },
     "execution_count": 37,
     "metadata": {},
     "output_type": "execute_result"
    }
   ],
   "source": [
    "# confusion matrix and classfication report\n",
    "print('\\nConfusion Matrix')\n",
    "print('----------------')\n",
    "pd.crosstab(y_test, pred, rownames=['True'], colnames=['Predicted'], margins=True)"
   ]
  },
  {
   "cell_type": "code",
   "execution_count": 38,
   "metadata": {
    "ExecuteTime": {
     "end_time": "2020-10-12T16:13:46.002350Z",
     "start_time": "2020-10-12T16:13:42.200259Z"
    }
   },
   "outputs": [
    {
     "name": "stdout",
     "output_type": "stream",
     "text": [
      "Classificiation Report\n",
      "---------------------\n",
      "              precision    recall  f1-score   support\n",
      "\n",
      "           0       0.63      0.99      0.77   1889408\n",
      "           1       0.65      0.02      0.04   1116784\n",
      "\n",
      "    accuracy                           0.63   3006192\n",
      "   macro avg       0.64      0.51      0.41   3006192\n",
      "weighted avg       0.64      0.63      0.50   3006192\n",
      "\n"
     ]
    }
   ],
   "source": [
    "print('Classificiation Report')\n",
    "print('---------------------')\n",
    "print(classification_report(y_test, pred))"
   ]
  },
  {
   "cell_type": "code",
   "execution_count": 39,
   "metadata": {
    "ExecuteTime": {
     "end_time": "2020-10-12T16:13:53.509040Z",
     "start_time": "2020-10-12T16:13:48.006074Z"
    }
   },
   "outputs": [
    {
     "data": {
      "image/png": "[encoded data removed]",
      "text/plain": [
       "<Figure size 432x288 with 2 Axes>"
      ]
     },
     "metadata": {},
     "output_type": "display_data"
    }
   ],
   "source": [
    "# Alternative confusion matrix\n",
    "plot_confusion_matrix(tree_clf, X, y, values_format='.3g')\n",
    "plt.show()"
   ]
  },
  {
   "cell_type": "code",
   "execution_count": 40,
   "metadata": {
    "ExecuteTime": {
     "end_time": "2020-10-12T16:13:55.765531Z",
     "start_time": "2020-10-12T16:13:55.522084Z"
    }
   },
   "outputs": [
    {
     "name": "stdout",
     "output_type": "stream",
     "text": [
      "Testing Accuracy for Decision Tree Classifier: 63.25%\n"
     ]
    }
   ],
   "source": [
    "print(\"Testing Accuracy for Decision Tree Classifier: {:.4}%\".format(accuracy_score(y_test, pred) * 100))"
   ]
  },
  {
   "cell_type": "markdown",
   "metadata": {},
   "source": [
    "<b>BAGGED TREES</b>"
   ]
  },
  {
   "cell_type": "code",
   "execution_count": 41,
   "metadata": {
    "ExecuteTime": {
     "end_time": "2020-10-12T16:49:35.452684Z",
     "start_time": "2020-10-12T16:49:35.449066Z"
    }
   },
   "outputs": [],
   "source": [
    "# We start by instantiating the BaggingClassifire\n",
    "bagged_tree =  BaggingClassifier(DecisionTreeClassifier(criterion='gini', max_depth=5), \n",
    "                                 n_estimators=20)"
   ]
  },
  {
   "cell_type": "code",
   "execution_count": 42,
   "metadata": {
    "ExecuteTime": {
     "end_time": "2020-10-12T16:51:11.160308Z",
     "start_time": "2020-10-12T16:49:37.571453Z"
    }
   },
   "outputs": [
    {
     "data": {
      "text/plain": [
       "BaggingClassifier(base_estimator=DecisionTreeClassifier(max_depth=5),\n",
       "                  n_estimators=20)"
      ]
     },
     "execution_count": 42,
     "metadata": {},
     "output_type": "execute_result"
    }
   ],
   "source": [
    "# Now to fitting the training data:\n",
    "bagged_tree.fit(X_train, y_train)"
   ]
  },
  {
   "cell_type": "code",
   "execution_count": 43,
   "metadata": {
    "ExecuteTime": {
     "end_time": "2020-10-12T16:51:23.147709Z",
     "start_time": "2020-10-12T16:51:13.176348Z"
    }
   },
   "outputs": [
    {
     "data": {
      "text/plain": [
       "0.6331695049722323"
      ]
     },
     "execution_count": 43,
     "metadata": {},
     "output_type": "execute_result"
    }
   ],
   "source": [
    "# I'm going to call the .score() to obtain the accuracy score on the training dataset and then on the test data:\n",
    "bagged_tree.score(X_train, y_train)"
   ]
  },
  {
   "cell_type": "code",
   "execution_count": 44,
   "metadata": {
    "ExecuteTime": {
     "end_time": "2020-10-12T16:51:57.178142Z",
     "start_time": "2020-10-12T16:51:25.132330Z"
    }
   },
   "outputs": [
    {
     "data": {
      "text/plain": [
       "0.6332672696886958"
      ]
     },
     "execution_count": 44,
     "metadata": {},
     "output_type": "execute_result"
    }
   ],
   "source": [
    "bagged_tree.score(X_test, y_test)"
   ]
  },
  {
   "cell_type": "markdown",
   "metadata": {},
   "source": [
    "<b>MODEL PERFORMANCE</b>"
   ]
  },
  {
   "cell_type": "code",
   "execution_count": 45,
   "metadata": {
    "ExecuteTime": {
     "end_time": "2020-10-12T16:52:29.929177Z",
     "start_time": "2020-10-12T16:51:59.229891Z"
    }
   },
   "outputs": [],
   "source": [
    "# Test set predictions\n",
    "pred_bt = bagged_tree.predict(X_test)"
   ]
  },
  {
   "cell_type": "code",
   "execution_count": 46,
   "metadata": {
    "ExecuteTime": {
     "end_time": "2020-10-12T16:52:32.835909Z",
     "start_time": "2020-10-12T16:52:31.954767Z"
    }
   },
   "outputs": [
    {
     "name": "stdout",
     "output_type": "stream",
     "text": [
      "\n",
      "Confusion Matrix\n",
      "----------------\n"
     ]
    },
    {
     "data": {
      "text/html": [
       "<div>\n",
       "<style scoped>\n",
       "    .dataframe tbody tr th:only-of-type {\n",
       "        vertical-align: middle;\n",
       "    }\n",
       "\n",
       "    .dataframe tbody tr th {\n",
       "        vertical-align: top;\n",
       "    }\n",
       "\n",
       "    .dataframe thead th {\n",
       "        text-align: right;\n",
       "    }\n",
       "</style>\n",
       "<table border=\"1\" class=\"dataframe\">\n",
       "  <thead>\n",
       "    <tr style=\"text-align: right;\">\n",
       "      <th>Predicted</th>\n",
       "      <th>0</th>\n",
       "      <th>1</th>\n",
       "      <th>All</th>\n",
       "    </tr>\n",
       "    <tr>\n",
       "      <th>True</th>\n",
       "      <th></th>\n",
       "      <th></th>\n",
       "      <th></th>\n",
       "    </tr>\n",
       "  </thead>\n",
       "  <tbody>\n",
       "    <tr>\n",
       "      <th>0</th>\n",
       "      <td>1878221</td>\n",
       "      <td>11187</td>\n",
       "      <td>1889408</td>\n",
       "    </tr>\n",
       "    <tr>\n",
       "      <th>1</th>\n",
       "      <td>1091282</td>\n",
       "      <td>25502</td>\n",
       "      <td>1116784</td>\n",
       "    </tr>\n",
       "    <tr>\n",
       "      <th>All</th>\n",
       "      <td>2969503</td>\n",
       "      <td>36689</td>\n",
       "      <td>3006192</td>\n",
       "    </tr>\n",
       "  </tbody>\n",
       "</table>\n",
       "</div>"
      ],
      "text/plain": [
       "Predicted        0      1      All\n",
       "True                              \n",
       "0          1878221  11187  1889408\n",
       "1          1091282  25502  1116784\n",
       "All        2969503  36689  3006192"
      ]
     },
     "execution_count": 46,
     "metadata": {},
     "output_type": "execute_result"
    }
   ],
   "source": [
    "# confusion matrix and classfication report\n",
    "print('\\nConfusion Matrix')\n",
    "print('----------------')\n",
    "pd.crosstab(y_test, pred_bt, rownames=['True'], colnames=['Predicted'], margins=True)"
   ]
  },
  {
   "cell_type": "code",
   "execution_count": 47,
   "metadata": {
    "ExecuteTime": {
     "end_time": "2020-10-12T16:52:38.603711Z",
     "start_time": "2020-10-12T16:52:34.851137Z"
    }
   },
   "outputs": [
    {
     "name": "stdout",
     "output_type": "stream",
     "text": [
      "Classificiation Report\n",
      "---------------------\n",
      "              precision    recall  f1-score   support\n",
      "\n",
      "           0       0.63      0.99      0.77   1889408\n",
      "           1       0.70      0.02      0.04   1116784\n",
      "\n",
      "    accuracy                           0.63   3006192\n",
      "   macro avg       0.66      0.51      0.41   3006192\n",
      "weighted avg       0.66      0.63      0.50   3006192\n",
      "\n"
     ]
    }
   ],
   "source": [
    "print('Classificiation Report')\n",
    "print('---------------------')\n",
    "print(classification_report(y_test, pred_bt))"
   ]
  },
  {
   "cell_type": "code",
   "execution_count": 48,
   "metadata": {
    "ExecuteTime": {
     "end_time": "2020-10-12T16:53:23.293384Z",
     "start_time": "2020-10-12T16:52:40.589547Z"
    }
   },
   "outputs": [
    {
     "data": {
      "image/png": "[encoded data removed]",
      "text/plain": [
       "<Figure size 432x288 with 2 Axes>"
      ]
     },
     "metadata": {},
     "output_type": "display_data"
    }
   ],
   "source": [
    "# Alternative confusion matrix\n",
    "plot_confusion_matrix(bagged_tree, X, y, values_format='.3g')\n",
    "plt.show()"
   ]
  },
  {
   "cell_type": "code",
   "execution_count": 49,
   "metadata": {
    "ExecuteTime": {
     "end_time": "2020-10-12T16:53:25.536202Z",
     "start_time": "2020-10-12T16:53:25.304045Z"
    }
   },
   "outputs": [
    {
     "name": "stdout",
     "output_type": "stream",
     "text": [
      "Testing Accuracy for Decision Tree Classifier: 63.33%\n"
     ]
    }
   ],
   "source": [
    "print(\"Testing Accuracy for Decision Tree Classifier: {:.4}%\".format(accuracy_score(y_test, pred_bt) * 100))"
   ]
  },
  {
   "cell_type": "markdown",
   "metadata": {},
   "source": [
    "## Random Forest With No Class Weighting"
   ]
  },
  {
   "cell_type": "code",
   "execution_count": 50,
   "metadata": {
    "ExecuteTime": {
     "end_time": "2020-10-12T16:56:08.739133Z",
     "start_time": "2020-10-12T16:54:52.501541Z"
    }
   },
   "outputs": [
    {
     "data": {
      "text/plain": [
       "RandomForestClassifier(max_depth=5)"
      ]
     },
     "execution_count": 50,
     "metadata": {},
     "output_type": "execute_result"
    }
   ],
   "source": [
    "# I'll start by instantiating the RandomForestClassifier\n",
    "forest = RandomForestClassifier(n_estimators=100, max_depth=5)\n",
    "forest.fit(X_train, y_train)"
   ]
  },
  {
   "cell_type": "code",
   "execution_count": 51,
   "metadata": {
    "ExecuteTime": {
     "end_time": "2020-10-12T16:56:17.295480Z",
     "start_time": "2020-10-12T16:56:10.820263Z"
    }
   },
   "outputs": [
    {
     "data": {
      "text/plain": [
       "0.6284043450275182"
      ]
     },
     "execution_count": 51,
     "metadata": {},
     "output_type": "execute_result"
    }
   ],
   "source": [
    "# Now to check the accuracy score\n",
    "forest.score(X_train, y_train)"
   ]
  },
  {
   "cell_type": "code",
   "execution_count": 52,
   "metadata": {
    "ExecuteTime": {
     "end_time": "2020-10-12T16:56:39.395664Z",
     "start_time": "2020-10-12T16:56:19.432560Z"
    }
   },
   "outputs": [
    {
     "data": {
      "text/plain": [
       "0.6286757465923667"
      ]
     },
     "execution_count": 52,
     "metadata": {},
     "output_type": "execute_result"
    }
   ],
   "source": [
    "# And for the test set:\n",
    "forest.score(X_test, y_test)"
   ]
  },
  {
   "cell_type": "code",
   "execution_count": 53,
   "metadata": {
    "ExecuteTime": {
     "end_time": "2020-10-12T16:56:43.046166Z",
     "start_time": "2020-10-12T16:56:41.496523Z"
    }
   },
   "outputs": [
    {
     "data": {
      "image/png": "[encoded data removed]",
      "text/plain": [
       "<Figure size 720x1440 with 1 Axes>"
      ]
     },
     "metadata": {},
     "output_type": "display_data"
    }
   ],
   "source": [
    "plot_feature_importances(forest)\n",
    "plt.rcParams[\"figure.facecolor\"] = \"lightblue\""
   ]
  },
  {
   "cell_type": "markdown",
   "metadata": {},
   "source": [
    "<b>MODEL PERFORMANCE</b>"
   ]
  },
  {
   "cell_type": "code",
   "execution_count": 54,
   "metadata": {
    "ExecuteTime": {
     "end_time": "2020-10-12T16:57:04.324670Z",
     "start_time": "2020-10-12T16:56:45.143444Z"
    }
   },
   "outputs": [],
   "source": [
    "# Test set predictions\n",
    "pred_rf = forest.predict(X_test)"
   ]
  },
  {
   "cell_type": "code",
   "execution_count": 55,
   "metadata": {
    "ExecuteTime": {
     "end_time": "2020-10-12T16:57:07.369413Z",
     "start_time": "2020-10-12T16:57:06.433550Z"
    }
   },
   "outputs": [
    {
     "name": "stdout",
     "output_type": "stream",
     "text": [
      "\n",
      "Confusion Matrix\n",
      "----------------\n"
     ]
    },
    {
     "data": {
      "text/html": [
       "<div>\n",
       "<style scoped>\n",
       "    .dataframe tbody tr th:only-of-type {\n",
       "        vertical-align: middle;\n",
       "    }\n",
       "\n",
       "    .dataframe tbody tr th {\n",
       "        vertical-align: top;\n",
       "    }\n",
       "\n",
       "    .dataframe thead th {\n",
       "        text-align: right;\n",
       "    }\n",
       "</style>\n",
       "<table border=\"1\" class=\"dataframe\">\n",
       "  <thead>\n",
       "    <tr style=\"text-align: right;\">\n",
       "      <th>Predicted</th>\n",
       "      <th>0</th>\n",
       "      <th>1</th>\n",
       "      <th>All</th>\n",
       "    </tr>\n",
       "    <tr>\n",
       "      <th>True</th>\n",
       "      <th></th>\n",
       "      <th></th>\n",
       "      <th></th>\n",
       "    </tr>\n",
       "  </thead>\n",
       "  <tbody>\n",
       "    <tr>\n",
       "      <th>0</th>\n",
       "      <td>1889305</td>\n",
       "      <td>103</td>\n",
       "      <td>1889408</td>\n",
       "    </tr>\n",
       "    <tr>\n",
       "      <th>1</th>\n",
       "      <td>1116169</td>\n",
       "      <td>615</td>\n",
       "      <td>1116784</td>\n",
       "    </tr>\n",
       "    <tr>\n",
       "      <th>All</th>\n",
       "      <td>3005474</td>\n",
       "      <td>718</td>\n",
       "      <td>3006192</td>\n",
       "    </tr>\n",
       "  </tbody>\n",
       "</table>\n",
       "</div>"
      ],
      "text/plain": [
       "Predicted        0    1      All\n",
       "True                            \n",
       "0          1889305  103  1889408\n",
       "1          1116169  615  1116784\n",
       "All        3005474  718  3006192"
      ]
     },
     "execution_count": 55,
     "metadata": {},
     "output_type": "execute_result"
    }
   ],
   "source": [
    "# confusion matrix and classfication report\n",
    "print('\\nConfusion Matrix')\n",
    "print('----------------')\n",
    "pd.crosstab(y_test, pred_rf, rownames=['True'], colnames=['Predicted'], margins=True)"
   ]
  },
  {
   "cell_type": "code",
   "execution_count": 56,
   "metadata": {
    "ExecuteTime": {
     "end_time": "2020-10-12T16:57:13.813982Z",
     "start_time": "2020-10-12T16:57:09.393177Z"
    }
   },
   "outputs": [
    {
     "name": "stdout",
     "output_type": "stream",
     "text": [
      "Classificiation Report\n",
      "---------------------\n",
      "              precision    recall  f1-score   support\n",
      "\n",
      "           0       0.63      1.00      0.77   1889408\n",
      "           1       0.86      0.00      0.00   1116784\n",
      "\n",
      "    accuracy                           0.63   3006192\n",
      "   macro avg       0.74      0.50      0.39   3006192\n",
      "weighted avg       0.71      0.63      0.49   3006192\n",
      "\n"
     ]
    }
   ],
   "source": [
    "print('Classificiation Report')\n",
    "print('---------------------')\n",
    "print(classification_report(y_test, pred_rf))"
   ]
  },
  {
   "cell_type": "code",
   "execution_count": 57,
   "metadata": {
    "ExecuteTime": {
     "end_time": "2020-10-12T16:57:42.130972Z",
     "start_time": "2020-10-12T16:57:15.872948Z"
    }
   },
   "outputs": [
    {
     "data": {
      "image/png": "[encoded data removed]",
      "text/plain": [
       "<Figure size 432x288 with 2 Axes>"
      ]
     },
     "metadata": {},
     "output_type": "display_data"
    }
   ],
   "source": [
    "# Alternative confusion matrix\n",
    "plot_confusion_matrix(forest, X, y, values_format='.3g')\n",
    "plt.show()"
   ]
  },
  {
   "cell_type": "code",
   "execution_count": 58,
   "metadata": {
    "ExecuteTime": {
     "end_time": "2020-10-12T16:57:44.536068Z",
     "start_time": "2020-10-12T16:57:44.251176Z"
    }
   },
   "outputs": [
    {
     "name": "stdout",
     "output_type": "stream",
     "text": [
      "Testing Accuracy for RandomForest Classifier: 62.87%\n"
     ]
    }
   ],
   "source": [
    "print(\"Testing Accuracy for RandomForest Classifier: {:.4}%\".format(accuracy_score(y_test, pred_rf) * 100))"
   ]
  },
  {
   "cell_type": "code",
   "execution_count": null,
   "metadata": {},
   "outputs": [],
   "source": []
  },
  {
   "cell_type": "markdown",
   "metadata": {},
   "source": [
    "## Random Forest With Bootstrat Class Weighting"
   ]
  },
  {
   "cell_type": "code",
   "execution_count": 59,
   "metadata": {
    "ExecuteTime": {
     "end_time": "2020-10-12T16:59:24.870283Z",
     "start_time": "2020-10-12T16:57:46.642684Z"
    }
   },
   "outputs": [
    {
     "data": {
      "text/plain": [
       "RandomForestClassifier(class_weight='balanced_subsample', max_depth=5)"
      ]
     },
     "execution_count": 59,
     "metadata": {},
     "output_type": "execute_result"
    }
   ],
   "source": [
    "forest_bcw = RandomForestClassifier(n_estimators=100, max_depth=5, class_weight='balanced_subsample')\n",
    "forest_bcw.fit(X_train, y_train)"
   ]
  },
  {
   "cell_type": "code",
   "execution_count": 60,
   "metadata": {
    "ExecuteTime": {
     "end_time": "2020-10-12T16:59:32.763072Z",
     "start_time": "2020-10-12T16:59:26.912248Z"
    }
   },
   "outputs": [
    {
     "data": {
      "text/plain": [
       "0.5725496849006801"
      ]
     },
     "execution_count": 60,
     "metadata": {},
     "output_type": "execute_result"
    }
   ],
   "source": [
    "# Now to check the accuracy score\n",
    "forest_bcw.score(X_train, y_train)"
   ]
  },
  {
   "cell_type": "code",
   "execution_count": 61,
   "metadata": {
    "ExecuteTime": {
     "end_time": "2020-10-12T16:59:53.029920Z",
     "start_time": "2020-10-12T16:59:34.789493Z"
    }
   },
   "outputs": [
    {
     "data": {
      "text/plain": [
       "0.5725146630687594"
      ]
     },
     "execution_count": 61,
     "metadata": {},
     "output_type": "execute_result"
    }
   ],
   "source": [
    "# And for the test set:\n",
    "forest_bcw.score(X_test, y_test)"
   ]
  },
  {
   "cell_type": "code",
   "execution_count": null,
   "metadata": {},
   "outputs": [],
   "source": []
  },
  {
   "cell_type": "markdown",
   "metadata": {},
   "source": [
    "<b>MODEL PERFORMANCE</b>"
   ]
  },
  {
   "cell_type": "code",
   "execution_count": 62,
   "metadata": {
    "ExecuteTime": {
     "end_time": "2020-10-12T17:00:14.644820Z",
     "start_time": "2020-10-12T16:59:55.096239Z"
    }
   },
   "outputs": [],
   "source": [
    "# Test set predictions\n",
    "pred_rfbcw = forest_bcw.predict(X_test)"
   ]
  },
  {
   "cell_type": "code",
   "execution_count": 63,
   "metadata": {
    "ExecuteTime": {
     "end_time": "2020-10-12T17:00:17.817451Z",
     "start_time": "2020-10-12T17:00:16.734896Z"
    }
   },
   "outputs": [
    {
     "name": "stdout",
     "output_type": "stream",
     "text": [
      "\n",
      "Confusion Matrix\n",
      "----------------\n"
     ]
    },
    {
     "data": {
      "text/html": [
       "<div>\n",
       "<style scoped>\n",
       "    .dataframe tbody tr th:only-of-type {\n",
       "        vertical-align: middle;\n",
       "    }\n",
       "\n",
       "    .dataframe tbody tr th {\n",
       "        vertical-align: top;\n",
       "    }\n",
       "\n",
       "    .dataframe thead th {\n",
       "        text-align: right;\n",
       "    }\n",
       "</style>\n",
       "<table border=\"1\" class=\"dataframe\">\n",
       "  <thead>\n",
       "    <tr style=\"text-align: right;\">\n",
       "      <th>Predicted</th>\n",
       "      <th>0</th>\n",
       "      <th>1</th>\n",
       "      <th>All</th>\n",
       "    </tr>\n",
       "    <tr>\n",
       "      <th>True</th>\n",
       "      <th></th>\n",
       "      <th></th>\n",
       "      <th></th>\n",
       "    </tr>\n",
       "  </thead>\n",
       "  <tbody>\n",
       "    <tr>\n",
       "      <th>0</th>\n",
       "      <td>1074232</td>\n",
       "      <td>815176</td>\n",
       "      <td>1889408</td>\n",
       "    </tr>\n",
       "    <tr>\n",
       "      <th>1</th>\n",
       "      <td>469927</td>\n",
       "      <td>646857</td>\n",
       "      <td>1116784</td>\n",
       "    </tr>\n",
       "    <tr>\n",
       "      <th>All</th>\n",
       "      <td>1544159</td>\n",
       "      <td>1462033</td>\n",
       "      <td>3006192</td>\n",
       "    </tr>\n",
       "  </tbody>\n",
       "</table>\n",
       "</div>"
      ],
      "text/plain": [
       "Predicted        0        1      All\n",
       "True                                \n",
       "0          1074232   815176  1889408\n",
       "1           469927   646857  1116784\n",
       "All        1544159  1462033  3006192"
      ]
     },
     "execution_count": 63,
     "metadata": {},
     "output_type": "execute_result"
    }
   ],
   "source": [
    "# confusion matrix and classfication report\n",
    "print('\\nConfusion Matrix')\n",
    "print('----------------')\n",
    "pd.crosstab(y_test, pred_rfbcw, rownames=['True'], colnames=['Predicted'], margins=True)"
   ]
  },
  {
   "cell_type": "code",
   "execution_count": 64,
   "metadata": {
    "ExecuteTime": {
     "end_time": "2020-10-12T17:00:27.696837Z",
     "start_time": "2020-10-12T17:00:20.451328Z"
    }
   },
   "outputs": [
    {
     "name": "stdout",
     "output_type": "stream",
     "text": [
      "Classificiation Report\n",
      "---------------------\n",
      "              precision    recall  f1-score   support\n",
      "\n",
      "           0       0.70      0.57      0.63   1889408\n",
      "           1       0.44      0.58      0.50   1116784\n",
      "\n",
      "    accuracy                           0.57   3006192\n",
      "   macro avg       0.57      0.57      0.56   3006192\n",
      "weighted avg       0.60      0.57      0.58   3006192\n",
      "\n"
     ]
    }
   ],
   "source": [
    "print('Classificiation Report')\n",
    "print('---------------------')\n",
    "print(classification_report(y_test, pred_rfbcw))"
   ]
  },
  {
   "cell_type": "code",
   "execution_count": 65,
   "metadata": {
    "ExecuteTime": {
     "end_time": "2020-10-12T17:00:31.151103Z",
     "start_time": "2020-10-12T17:00:30.798797Z"
    }
   },
   "outputs": [
    {
     "name": "stdout",
     "output_type": "stream",
     "text": [
      "Testing Accuracy for RandomForest Classifier: 57.25%\n"
     ]
    }
   ],
   "source": [
    "print(\"Testing Accuracy for RandomForest Classifier: {:.4}%\".format(accuracy_score(y_test, pred_rfbcw) * 100))"
   ]
  },
  {
   "cell_type": "code",
   "execution_count": null,
   "metadata": {},
   "outputs": [],
   "source": []
  },
  {
   "cell_type": "code",
   "execution_count": null,
   "metadata": {},
   "outputs": [],
   "source": []
  },
  {
   "cell_type": "code",
   "execution_count": null,
   "metadata": {},
   "outputs": [],
   "source": []
  }
 ],
 "metadata": {
  "kernelspec": {
   "display_name": "learn-env",
   "language": "python",
   "name": "learn-env"
  },
  "language_info": {
   "codemirror_mode": {
    "name": "ipython",
    "version": 3
   },
   "file_extension": ".py",
   "mimetype": "text/x-python",
   "name": "python",
   "nbconvert_exporter": "python",
   "pygments_lexer": "ipython3",
   "version": "3.6.9"
  },
  "toc": {
   "base_numbering": 1,
   "nav_menu": {},
   "number_sections": true,
   "sideBar": true,
   "skip_h1_title": false,
   "title_cell": "Table of Contents",
   "title_sidebar": "Contents",
   "toc_cell": false,
   "toc_position": {
    "height": "calc(100% - 180px)",
    "left": "10px",
    "top": "150px",
    "width": "362.796875px"
   },
   "toc_section_display": true,
   "toc_window_display": false
  },
  "varInspector": {
   "cols": {
    "lenName": 16,
    "lenType": 16,
    "lenVar": 40
   },
   "kernels_config": {
    "python": {
     "delete_cmd_postfix": "",
     "delete_cmd_prefix": "del ",
     "library": "var_list.py",
     "varRefreshCmd": "print(var_dic_list())"
    },
    "r": {
     "delete_cmd_postfix": ") ",
     "delete_cmd_prefix": "rm(",
     "library": "var_list.r",
     "varRefreshCmd": "cat(var_dic_list()) "
    }
   },
   "types_to_exclude": [
    "module",
    "function",
    "builtin_function_or_method",
    "instance",
    "_Feature"
   ],
   "window_display": false
  }
 },
 "nbformat": 4,
 "nbformat_minor": 4
}
