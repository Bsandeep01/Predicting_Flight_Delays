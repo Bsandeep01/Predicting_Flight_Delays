{
 "cells": [
  {
   "cell_type": "markdown",
   "metadata": {},
   "source": [
    "<font size=\"6\"><b>XGBoost - without DEP_DELAY</b></font>"
   ]
  },
  {
   "cell_type": "markdown",
   "metadata": {},
   "source": [
    "![Figure_8](img/Figure_8.png)"
   ]
  },
  {
   "cell_type": "code",
   "execution_count": 3,
   "metadata": {
    "ExecuteTime": {
     "end_time": "2020-10-12T22:40:12.317383Z",
     "start_time": "2020-10-12T22:40:10.665736Z"
    }
   },
   "outputs": [],
   "source": [
    "import pandas as pd\n",
    "import numpy as np\n",
    "np.random.seed(0)\n",
    "import matplotlib.pyplot as plt\n",
    "%matplotlib inline\n",
    "import seaborn as sns\n",
    "import xgboost as xgb\n",
    "sns.set_style('darkgrid')\n",
    "pd.set_option('display.max_columns', None)\n",
    "import datetime, warnings, scipy\n",
    "warnings.filterwarnings(\"ignore\")\n",
    "\n",
    "from sklearn.svm import LinearSVC\n",
    "from sklearn.svm import SVC\n",
    "from sklearn import svm\n",
    "from sklearn.preprocessing import StandardScaler\n",
    "\n",
    "from sklearn.metrics import confusion_matrix\n",
    "from sklearn.model_selection import train_test_split, GridSearchCV, cross_val_score\n",
    "from sklearn import metrics\n",
    "from sklearn.tree import DecisionTreeClassifier\n",
    "from sklearn.ensemble import RandomForestClassifier\n",
    "from sklearn.ensemble import BaggingClassifier\n",
    "from xgboost import XGBClassifier\n",
    "from sklearn.metrics import accuracy_score\n",
    "from sklearn.ensemble import AdaBoostClassifier, GradientBoostingClassifier\n",
    "from sklearn.metrics import accuracy_score, f1_score, confusion_matrix, classification_report"
   ]
  },
  {
   "cell_type": "markdown",
   "metadata": {},
   "source": [
    "This is second version of the XGBoost where I will drop the DEP_DELAY to actually give no indications of any possible delays to the algorithm and see how it behaves. I am expecting a significant drop on the accuracy of the model but this will be more realistic and useful from my point of view. \n",
    "\n",
    "I think this is a good time to mentioned that there are a few factors that I should have considered while cleaning the data and could have affected these decisions that I am making now with the DEP_DELAY and the ones already made with regards to the ARR_DELAY. These factors are that according to the OAG, a flight is not considered delayed from the departure nor the arrival city, if it is lower or equal than 15 minutes. That could have affected the EDA that I did plus the decisions made for the models in terms of variables. So it will definitely be a suggestion for a way forward. This would have also decreased the size of the dataframe and therefore the time to run the models, which if you see on the bottom of each fitting cell, it has been considerably long with some being up to 9 hours. \n",
    "\n",
    "You can look at the source of the information <a href=\"https://www.oag.com/airline-on-time-performance-defining-late\">here</a>"
   ]
  },
  {
   "cell_type": "code",
   "execution_count": 4,
   "metadata": {
    "ExecuteTime": {
     "end_time": "2020-10-12T22:40:23.527554Z",
     "start_time": "2020-10-12T22:40:13.688513Z"
    },
    "scrolled": true
   },
   "outputs": [
    {
     "data": {
      "text/html": [
       "<div>\n",
       "<style scoped>\n",
       "    .dataframe tbody tr th:only-of-type {\n",
       "        vertical-align: middle;\n",
       "    }\n",
       "\n",
       "    .dataframe tbody tr th {\n",
       "        vertical-align: top;\n",
       "    }\n",
       "\n",
       "    .dataframe thead th {\n",
       "        text-align: right;\n",
       "    }\n",
       "</style>\n",
       "<table border=\"1\" class=\"dataframe\">\n",
       "  <thead>\n",
       "    <tr style=\"text-align: right;\">\n",
       "      <th></th>\n",
       "      <th>DEP_DELAY</th>\n",
       "      <th>CRS_ELAPSED_TIME</th>\n",
       "      <th>AIR_TIME</th>\n",
       "      <th>DISTANCE</th>\n",
       "      <th>FLIGHT_STATUS</th>\n",
       "      <th>OP_CARRIER_Allegiant Air</th>\n",
       "      <th>OP_CARRIER_American Airlines</th>\n",
       "      <th>OP_CARRIER_Delta Airlines</th>\n",
       "      <th>OP_CARRIER_Endeavor Air</th>\n",
       "      <th>OP_CARRIER_Envoy Air</th>\n",
       "      <th>OP_CARRIER_ExpressJet</th>\n",
       "      <th>OP_CARRIER_Frontier Airlines</th>\n",
       "      <th>OP_CARRIER_Hawaiian Airlines</th>\n",
       "      <th>OP_CARRIER_JetBlue Airways</th>\n",
       "      <th>OP_CARRIER_Mesa Airline</th>\n",
       "      <th>OP_CARRIER_PSA Airlines</th>\n",
       "      <th>OP_CARRIER_Republic Airways</th>\n",
       "      <th>OP_CARRIER_SkyWest Airlines</th>\n",
       "      <th>OP_CARRIER_Southwest Airlines</th>\n",
       "      <th>OP_CARRIER_Spirit Airlines</th>\n",
       "      <th>OP_CARRIER_United Airlines</th>\n",
       "      <th>OP_CARRIER_Virgin America</th>\n",
       "      <th>DEST_Atlanta</th>\n",
       "      <th>DEST_Boston</th>\n",
       "      <th>DEST_Charlotte</th>\n",
       "      <th>DEST_Chicago</th>\n",
       "      <th>DEST_Dallas-Fort Worth</th>\n",
       "      <th>DEST_Denver</th>\n",
       "      <th>DEST_Detroit</th>\n",
       "      <th>DEST_Houston</th>\n",
       "      <th>DEST_Las Vegas</th>\n",
       "      <th>DEST_Los Angeles</th>\n",
       "      <th>DEST_Minneapolis</th>\n",
       "      <th>DEST_New York</th>\n",
       "      <th>DEST_Newark</th>\n",
       "      <th>DEST_Orlando</th>\n",
       "      <th>DEST_Philadelphia</th>\n",
       "      <th>DEST_Phoenix</th>\n",
       "      <th>DEST_Salt Lake City</th>\n",
       "      <th>DEST_San Francisco</th>\n",
       "      <th>DEST_Seattle</th>\n",
       "      <th>CRS_DEP_TIME_2</th>\n",
       "      <th>CRS_DEP_TIME_3</th>\n",
       "      <th>CRS_DEP_TIME_4</th>\n",
       "      <th>CRS_ARR_TIME_2</th>\n",
       "      <th>CRS_ARR_TIME_3</th>\n",
       "      <th>CRS_ARR_TIME_4</th>\n",
       "      <th>MONTH_2</th>\n",
       "      <th>MONTH_3</th>\n",
       "      <th>MONTH_4</th>\n",
       "      <th>MONTH_5</th>\n",
       "      <th>MONTH_6</th>\n",
       "      <th>MONTH_7</th>\n",
       "      <th>MONTH_8</th>\n",
       "      <th>MONTH_9</th>\n",
       "      <th>MONTH_10</th>\n",
       "      <th>MONTH_11</th>\n",
       "      <th>MONTH_12</th>\n",
       "      <th>WEEKDAY_1</th>\n",
       "      <th>WEEKDAY_2</th>\n",
       "      <th>WEEKDAY_3</th>\n",
       "      <th>WEEKDAY_4</th>\n",
       "      <th>WEEKDAY_5</th>\n",
       "      <th>WEEKDAY_6</th>\n",
       "    </tr>\n",
       "  </thead>\n",
       "  <tbody>\n",
       "    <tr>\n",
       "      <th>0</th>\n",
       "      <td>-5.0</td>\n",
       "      <td>268.0</td>\n",
       "      <td>225.0</td>\n",
       "      <td>1605.0</td>\n",
       "      <td>0</td>\n",
       "      <td>0</td>\n",
       "      <td>0</td>\n",
       "      <td>0</td>\n",
       "      <td>0</td>\n",
       "      <td>0</td>\n",
       "      <td>0</td>\n",
       "      <td>0</td>\n",
       "      <td>0</td>\n",
       "      <td>0</td>\n",
       "      <td>0</td>\n",
       "      <td>0</td>\n",
       "      <td>0</td>\n",
       "      <td>0</td>\n",
       "      <td>0</td>\n",
       "      <td>0</td>\n",
       "      <td>1</td>\n",
       "      <td>0</td>\n",
       "      <td>0</td>\n",
       "      <td>0</td>\n",
       "      <td>0</td>\n",
       "      <td>0</td>\n",
       "      <td>0</td>\n",
       "      <td>1</td>\n",
       "      <td>0</td>\n",
       "      <td>0</td>\n",
       "      <td>0</td>\n",
       "      <td>0</td>\n",
       "      <td>0</td>\n",
       "      <td>0</td>\n",
       "      <td>0</td>\n",
       "      <td>0</td>\n",
       "      <td>0</td>\n",
       "      <td>0</td>\n",
       "      <td>0</td>\n",
       "      <td>0</td>\n",
       "      <td>0</td>\n",
       "      <td>0</td>\n",
       "      <td>1</td>\n",
       "      <td>0</td>\n",
       "      <td>0</td>\n",
       "      <td>1</td>\n",
       "      <td>0</td>\n",
       "      <td>0</td>\n",
       "      <td>0</td>\n",
       "      <td>0</td>\n",
       "      <td>0</td>\n",
       "      <td>0</td>\n",
       "      <td>0</td>\n",
       "      <td>0</td>\n",
       "      <td>0</td>\n",
       "      <td>0</td>\n",
       "      <td>0</td>\n",
       "      <td>0</td>\n",
       "      <td>0</td>\n",
       "      <td>0</td>\n",
       "      <td>0</td>\n",
       "      <td>0</td>\n",
       "      <td>0</td>\n",
       "      <td>0</td>\n",
       "    </tr>\n",
       "    <tr>\n",
       "      <th>1</th>\n",
       "      <td>-8.0</td>\n",
       "      <td>99.0</td>\n",
       "      <td>65.0</td>\n",
       "      <td>414.0</td>\n",
       "      <td>0</td>\n",
       "      <td>0</td>\n",
       "      <td>0</td>\n",
       "      <td>0</td>\n",
       "      <td>0</td>\n",
       "      <td>0</td>\n",
       "      <td>0</td>\n",
       "      <td>0</td>\n",
       "      <td>0</td>\n",
       "      <td>0</td>\n",
       "      <td>0</td>\n",
       "      <td>0</td>\n",
       "      <td>0</td>\n",
       "      <td>0</td>\n",
       "      <td>0</td>\n",
       "      <td>0</td>\n",
       "      <td>1</td>\n",
       "      <td>0</td>\n",
       "      <td>0</td>\n",
       "      <td>0</td>\n",
       "      <td>0</td>\n",
       "      <td>0</td>\n",
       "      <td>0</td>\n",
       "      <td>0</td>\n",
       "      <td>0</td>\n",
       "      <td>0</td>\n",
       "      <td>0</td>\n",
       "      <td>0</td>\n",
       "      <td>0</td>\n",
       "      <td>0</td>\n",
       "      <td>0</td>\n",
       "      <td>0</td>\n",
       "      <td>0</td>\n",
       "      <td>0</td>\n",
       "      <td>0</td>\n",
       "      <td>1</td>\n",
       "      <td>0</td>\n",
       "      <td>1</td>\n",
       "      <td>0</td>\n",
       "      <td>0</td>\n",
       "      <td>0</td>\n",
       "      <td>1</td>\n",
       "      <td>0</td>\n",
       "      <td>0</td>\n",
       "      <td>0</td>\n",
       "      <td>0</td>\n",
       "      <td>0</td>\n",
       "      <td>0</td>\n",
       "      <td>0</td>\n",
       "      <td>0</td>\n",
       "      <td>0</td>\n",
       "      <td>0</td>\n",
       "      <td>0</td>\n",
       "      <td>0</td>\n",
       "      <td>0</td>\n",
       "      <td>0</td>\n",
       "      <td>0</td>\n",
       "      <td>0</td>\n",
       "      <td>0</td>\n",
       "      <td>0</td>\n",
       "    </tr>\n",
       "    <tr>\n",
       "      <th>2</th>\n",
       "      <td>-5.0</td>\n",
       "      <td>134.0</td>\n",
       "      <td>106.0</td>\n",
       "      <td>846.0</td>\n",
       "      <td>0</td>\n",
       "      <td>0</td>\n",
       "      <td>0</td>\n",
       "      <td>0</td>\n",
       "      <td>0</td>\n",
       "      <td>0</td>\n",
       "      <td>0</td>\n",
       "      <td>0</td>\n",
       "      <td>0</td>\n",
       "      <td>0</td>\n",
       "      <td>0</td>\n",
       "      <td>0</td>\n",
       "      <td>0</td>\n",
       "      <td>0</td>\n",
       "      <td>0</td>\n",
       "      <td>0</td>\n",
       "      <td>1</td>\n",
       "      <td>0</td>\n",
       "      <td>0</td>\n",
       "      <td>0</td>\n",
       "      <td>0</td>\n",
       "      <td>0</td>\n",
       "      <td>0</td>\n",
       "      <td>1</td>\n",
       "      <td>0</td>\n",
       "      <td>0</td>\n",
       "      <td>0</td>\n",
       "      <td>0</td>\n",
       "      <td>0</td>\n",
       "      <td>0</td>\n",
       "      <td>0</td>\n",
       "      <td>0</td>\n",
       "      <td>0</td>\n",
       "      <td>0</td>\n",
       "      <td>0</td>\n",
       "      <td>0</td>\n",
       "      <td>0</td>\n",
       "      <td>0</td>\n",
       "      <td>1</td>\n",
       "      <td>0</td>\n",
       "      <td>0</td>\n",
       "      <td>1</td>\n",
       "      <td>0</td>\n",
       "      <td>0</td>\n",
       "      <td>0</td>\n",
       "      <td>0</td>\n",
       "      <td>0</td>\n",
       "      <td>0</td>\n",
       "      <td>0</td>\n",
       "      <td>0</td>\n",
       "      <td>0</td>\n",
       "      <td>0</td>\n",
       "      <td>0</td>\n",
       "      <td>0</td>\n",
       "      <td>0</td>\n",
       "      <td>0</td>\n",
       "      <td>0</td>\n",
       "      <td>0</td>\n",
       "      <td>0</td>\n",
       "      <td>0</td>\n",
       "    </tr>\n",
       "    <tr>\n",
       "      <th>3</th>\n",
       "      <td>6.0</td>\n",
       "      <td>190.0</td>\n",
       "      <td>157.0</td>\n",
       "      <td>1120.0</td>\n",
       "      <td>0</td>\n",
       "      <td>0</td>\n",
       "      <td>0</td>\n",
       "      <td>0</td>\n",
       "      <td>0</td>\n",
       "      <td>0</td>\n",
       "      <td>0</td>\n",
       "      <td>0</td>\n",
       "      <td>0</td>\n",
       "      <td>0</td>\n",
       "      <td>0</td>\n",
       "      <td>0</td>\n",
       "      <td>0</td>\n",
       "      <td>0</td>\n",
       "      <td>0</td>\n",
       "      <td>0</td>\n",
       "      <td>1</td>\n",
       "      <td>0</td>\n",
       "      <td>0</td>\n",
       "      <td>0</td>\n",
       "      <td>0</td>\n",
       "      <td>1</td>\n",
       "      <td>0</td>\n",
       "      <td>0</td>\n",
       "      <td>0</td>\n",
       "      <td>0</td>\n",
       "      <td>0</td>\n",
       "      <td>0</td>\n",
       "      <td>0</td>\n",
       "      <td>0</td>\n",
       "      <td>0</td>\n",
       "      <td>0</td>\n",
       "      <td>0</td>\n",
       "      <td>0</td>\n",
       "      <td>0</td>\n",
       "      <td>0</td>\n",
       "      <td>0</td>\n",
       "      <td>0</td>\n",
       "      <td>1</td>\n",
       "      <td>0</td>\n",
       "      <td>0</td>\n",
       "      <td>1</td>\n",
       "      <td>0</td>\n",
       "      <td>0</td>\n",
       "      <td>0</td>\n",
       "      <td>0</td>\n",
       "      <td>0</td>\n",
       "      <td>0</td>\n",
       "      <td>0</td>\n",
       "      <td>0</td>\n",
       "      <td>0</td>\n",
       "      <td>0</td>\n",
       "      <td>0</td>\n",
       "      <td>0</td>\n",
       "      <td>0</td>\n",
       "      <td>0</td>\n",
       "      <td>0</td>\n",
       "      <td>0</td>\n",
       "      <td>0</td>\n",
       "      <td>0</td>\n",
       "    </tr>\n",
       "    <tr>\n",
       "      <th>6</th>\n",
       "      <td>-3.0</td>\n",
       "      <td>206.0</td>\n",
       "      <td>173.0</td>\n",
       "      <td>1222.0</td>\n",
       "      <td>0</td>\n",
       "      <td>0</td>\n",
       "      <td>0</td>\n",
       "      <td>0</td>\n",
       "      <td>0</td>\n",
       "      <td>0</td>\n",
       "      <td>0</td>\n",
       "      <td>0</td>\n",
       "      <td>0</td>\n",
       "      <td>0</td>\n",
       "      <td>0</td>\n",
       "      <td>0</td>\n",
       "      <td>0</td>\n",
       "      <td>0</td>\n",
       "      <td>0</td>\n",
       "      <td>0</td>\n",
       "      <td>1</td>\n",
       "      <td>0</td>\n",
       "      <td>0</td>\n",
       "      <td>0</td>\n",
       "      <td>0</td>\n",
       "      <td>0</td>\n",
       "      <td>0</td>\n",
       "      <td>0</td>\n",
       "      <td>0</td>\n",
       "      <td>0</td>\n",
       "      <td>1</td>\n",
       "      <td>0</td>\n",
       "      <td>0</td>\n",
       "      <td>0</td>\n",
       "      <td>0</td>\n",
       "      <td>0</td>\n",
       "      <td>0</td>\n",
       "      <td>0</td>\n",
       "      <td>0</td>\n",
       "      <td>0</td>\n",
       "      <td>0</td>\n",
       "      <td>1</td>\n",
       "      <td>0</td>\n",
       "      <td>0</td>\n",
       "      <td>1</td>\n",
       "      <td>0</td>\n",
       "      <td>0</td>\n",
       "      <td>0</td>\n",
       "      <td>0</td>\n",
       "      <td>0</td>\n",
       "      <td>0</td>\n",
       "      <td>0</td>\n",
       "      <td>0</td>\n",
       "      <td>0</td>\n",
       "      <td>0</td>\n",
       "      <td>0</td>\n",
       "      <td>0</td>\n",
       "      <td>0</td>\n",
       "      <td>0</td>\n",
       "      <td>0</td>\n",
       "      <td>0</td>\n",
       "      <td>0</td>\n",
       "      <td>0</td>\n",
       "      <td>0</td>\n",
       "    </tr>\n",
       "  </tbody>\n",
       "</table>\n",
       "</div>"
      ],
      "text/plain": [
       "   DEP_DELAY  CRS_ELAPSED_TIME  AIR_TIME  DISTANCE  FLIGHT_STATUS  \\\n",
       "0       -5.0             268.0     225.0    1605.0              0   \n",
       "1       -8.0              99.0      65.0     414.0              0   \n",
       "2       -5.0             134.0     106.0     846.0              0   \n",
       "3        6.0             190.0     157.0    1120.0              0   \n",
       "6       -3.0             206.0     173.0    1222.0              0   \n",
       "\n",
       "   OP_CARRIER_Allegiant Air  OP_CARRIER_American Airlines  \\\n",
       "0                         0                             0   \n",
       "1                         0                             0   \n",
       "2                         0                             0   \n",
       "3                         0                             0   \n",
       "6                         0                             0   \n",
       "\n",
       "   OP_CARRIER_Delta Airlines  OP_CARRIER_Endeavor Air  OP_CARRIER_Envoy Air  \\\n",
       "0                          0                        0                     0   \n",
       "1                          0                        0                     0   \n",
       "2                          0                        0                     0   \n",
       "3                          0                        0                     0   \n",
       "6                          0                        0                     0   \n",
       "\n",
       "   OP_CARRIER_ExpressJet  OP_CARRIER_Frontier Airlines  \\\n",
       "0                      0                             0   \n",
       "1                      0                             0   \n",
       "2                      0                             0   \n",
       "3                      0                             0   \n",
       "6                      0                             0   \n",
       "\n",
       "   OP_CARRIER_Hawaiian Airlines  OP_CARRIER_JetBlue Airways  \\\n",
       "0                             0                           0   \n",
       "1                             0                           0   \n",
       "2                             0                           0   \n",
       "3                             0                           0   \n",
       "6                             0                           0   \n",
       "\n",
       "   OP_CARRIER_Mesa Airline  OP_CARRIER_PSA Airlines  \\\n",
       "0                        0                        0   \n",
       "1                        0                        0   \n",
       "2                        0                        0   \n",
       "3                        0                        0   \n",
       "6                        0                        0   \n",
       "\n",
       "   OP_CARRIER_Republic Airways  OP_CARRIER_SkyWest Airlines  \\\n",
       "0                            0                            0   \n",
       "1                            0                            0   \n",
       "2                            0                            0   \n",
       "3                            0                            0   \n",
       "6                            0                            0   \n",
       "\n",
       "   OP_CARRIER_Southwest Airlines  OP_CARRIER_Spirit Airlines  \\\n",
       "0                              0                           0   \n",
       "1                              0                           0   \n",
       "2                              0                           0   \n",
       "3                              0                           0   \n",
       "6                              0                           0   \n",
       "\n",
       "   OP_CARRIER_United Airlines  OP_CARRIER_Virgin America  DEST_Atlanta  \\\n",
       "0                           1                          0             0   \n",
       "1                           1                          0             0   \n",
       "2                           1                          0             0   \n",
       "3                           1                          0             0   \n",
       "6                           1                          0             0   \n",
       "\n",
       "   DEST_Boston  DEST_Charlotte  DEST_Chicago  DEST_Dallas-Fort Worth  \\\n",
       "0            0               0             0                       0   \n",
       "1            0               0             0                       0   \n",
       "2            0               0             0                       0   \n",
       "3            0               0             1                       0   \n",
       "6            0               0             0                       0   \n",
       "\n",
       "   DEST_Denver  DEST_Detroit  DEST_Houston  DEST_Las Vegas  DEST_Los Angeles  \\\n",
       "0            1             0             0               0                 0   \n",
       "1            0             0             0               0                 0   \n",
       "2            1             0             0               0                 0   \n",
       "3            0             0             0               0                 0   \n",
       "6            0             0             0               1                 0   \n",
       "\n",
       "   DEST_Minneapolis  DEST_New York  DEST_Newark  DEST_Orlando  \\\n",
       "0                 0              0            0             0   \n",
       "1                 0              0            0             0   \n",
       "2                 0              0            0             0   \n",
       "3                 0              0            0             0   \n",
       "6                 0              0            0             0   \n",
       "\n",
       "   DEST_Philadelphia  DEST_Phoenix  DEST_Salt Lake City  DEST_San Francisco  \\\n",
       "0                  0             0                    0                   0   \n",
       "1                  0             0                    0                   1   \n",
       "2                  0             0                    0                   0   \n",
       "3                  0             0                    0                   0   \n",
       "6                  0             0                    0                   0   \n",
       "\n",
       "   DEST_Seattle  CRS_DEP_TIME_2  CRS_DEP_TIME_3  CRS_DEP_TIME_4  \\\n",
       "0             0               0               1               0   \n",
       "1             0               1               0               0   \n",
       "2             0               0               1               0   \n",
       "3             0               0               1               0   \n",
       "6             0               1               0               0   \n",
       "\n",
       "   CRS_ARR_TIME_2  CRS_ARR_TIME_3  CRS_ARR_TIME_4  MONTH_2  MONTH_3  MONTH_4  \\\n",
       "0               0               1               0        0        0        0   \n",
       "1               0               1               0        0        0        0   \n",
       "2               0               1               0        0        0        0   \n",
       "3               0               1               0        0        0        0   \n",
       "6               1               0               0        0        0        0   \n",
       "\n",
       "   MONTH_5  MONTH_6  MONTH_7  MONTH_8  MONTH_9  MONTH_10  MONTH_11  MONTH_12  \\\n",
       "0        0        0        0        0        0         0         0         0   \n",
       "1        0        0        0        0        0         0         0         0   \n",
       "2        0        0        0        0        0         0         0         0   \n",
       "3        0        0        0        0        0         0         0         0   \n",
       "6        0        0        0        0        0         0         0         0   \n",
       "\n",
       "   WEEKDAY_1  WEEKDAY_2  WEEKDAY_3  WEEKDAY_4  WEEKDAY_5  WEEKDAY_6  \n",
       "0          0          0          0          0          0          0  \n",
       "1          0          0          0          0          0          0  \n",
       "2          0          0          0          0          0          0  \n",
       "3          0          0          0          0          0          0  \n",
       "6          0          0          0          0          0          0  "
      ]
     },
     "execution_count": 4,
     "metadata": {},
     "output_type": "execute_result"
    }
   ],
   "source": [
    "dfm_ready = pd.read_csv('dfm_ready.csv', index_col=0)\n",
    "dfm_ready.head()"
   ]
  },
  {
   "cell_type": "code",
   "execution_count": 4,
   "metadata": {
    "ExecuteTime": {
     "end_time": "2020-10-11T22:06:30.861874Z",
     "start_time": "2020-10-11T22:06:30.851076Z"
    }
   },
   "outputs": [
    {
     "name": "stdout",
     "output_type": "stream",
     "text": [
      "<class 'pandas.core.frame.DataFrame'>\n",
      "Int64Index: 4008257 entries, 0 to 7213445\n",
      "Data columns (total 64 columns):\n",
      " #   Column                         Dtype  \n",
      "---  ------                         -----  \n",
      " 0   DEP_DELAY                      float64\n",
      " 1   CRS_ELAPSED_TIME               float64\n",
      " 2   AIR_TIME                       float64\n",
      " 3   DISTANCE                       float64\n",
      " 4   FLIGHT_STATUS                  int64  \n",
      " 5   OP_CARRIER_Allegiant Air       int64  \n",
      " 6   OP_CARRIER_American Airlines   int64  \n",
      " 7   OP_CARRIER_Delta Airlines      int64  \n",
      " 8   OP_CARRIER_Endeavor Air        int64  \n",
      " 9   OP_CARRIER_Envoy Air           int64  \n",
      " 10  OP_CARRIER_ExpressJet          int64  \n",
      " 11  OP_CARRIER_Frontier Airlines   int64  \n",
      " 12  OP_CARRIER_Hawaiian Airlines   int64  \n",
      " 13  OP_CARRIER_JetBlue Airways     int64  \n",
      " 14  OP_CARRIER_Mesa Airline        int64  \n",
      " 15  OP_CARRIER_PSA Airlines        int64  \n",
      " 16  OP_CARRIER_Republic Airways    int64  \n",
      " 17  OP_CARRIER_SkyWest Airlines    int64  \n",
      " 18  OP_CARRIER_Southwest Airlines  int64  \n",
      " 19  OP_CARRIER_Spirit Airlines     int64  \n",
      " 20  OP_CARRIER_United Airlines     int64  \n",
      " 21  OP_CARRIER_Virgin America      int64  \n",
      " 22  DEST_Atlanta                   int64  \n",
      " 23  DEST_Boston                    int64  \n",
      " 24  DEST_Charlotte                 int64  \n",
      " 25  DEST_Chicago                   int64  \n",
      " 26  DEST_Dallas-Fort Worth         int64  \n",
      " 27  DEST_Denver                    int64  \n",
      " 28  DEST_Detroit                   int64  \n",
      " 29  DEST_Houston                   int64  \n",
      " 30  DEST_Las Vegas                 int64  \n",
      " 31  DEST_Los Angeles               int64  \n",
      " 32  DEST_Minneapolis               int64  \n",
      " 33  DEST_New York                  int64  \n",
      " 34  DEST_Newark                    int64  \n",
      " 35  DEST_Orlando                   int64  \n",
      " 36  DEST_Philadelphia              int64  \n",
      " 37  DEST_Phoenix                   int64  \n",
      " 38  DEST_Salt Lake City            int64  \n",
      " 39  DEST_San Francisco             int64  \n",
      " 40  DEST_Seattle                   int64  \n",
      " 41  CRS_DEP_TIME_2                 int64  \n",
      " 42  CRS_DEP_TIME_3                 int64  \n",
      " 43  CRS_DEP_TIME_4                 int64  \n",
      " 44  CRS_ARR_TIME_2                 int64  \n",
      " 45  CRS_ARR_TIME_3                 int64  \n",
      " 46  CRS_ARR_TIME_4                 int64  \n",
      " 47  MONTH_2                        int64  \n",
      " 48  MONTH_3                        int64  \n",
      " 49  MONTH_4                        int64  \n",
      " 50  MONTH_5                        int64  \n",
      " 51  MONTH_6                        int64  \n",
      " 52  MONTH_7                        int64  \n",
      " 53  MONTH_8                        int64  \n",
      " 54  MONTH_9                        int64  \n",
      " 55  MONTH_10                       int64  \n",
      " 56  MONTH_11                       int64  \n",
      " 57  MONTH_12                       int64  \n",
      " 58  WEEKDAY_1                      int64  \n",
      " 59  WEEKDAY_2                      int64  \n",
      " 60  WEEKDAY_3                      int64  \n",
      " 61  WEEKDAY_4                      int64  \n",
      " 62  WEEKDAY_5                      int64  \n",
      " 63  WEEKDAY_6                      int64  \n",
      "dtypes: float64(4), int64(60)\n",
      "memory usage: 1.9 GB\n"
     ]
    }
   ],
   "source": [
    "dfm_ready.info()"
   ]
  },
  {
   "cell_type": "markdown",
   "metadata": {
    "ExecuteTime": {
     "end_time": "2020-10-11T10:08:15.709396Z",
     "start_time": "2020-10-11T10:08:15.707084Z"
    }
   },
   "source": [
    "# XGBoost"
   ]
  },
  {
   "cell_type": "code",
   "execution_count": 5,
   "metadata": {
    "ExecuteTime": {
     "end_time": "2020-10-12T22:40:25.476866Z",
     "start_time": "2020-10-12T22:40:24.326496Z"
    }
   },
   "outputs": [],
   "source": [
    "# Define features (X) and traget(y)\n",
    "y = dfm_ready['FLIGHT_STATUS']\n",
    "X = dfm_ready.drop(['FLIGHT_STATUS', 'DEP_DELAY'], axis = 1)"
   ]
  },
  {
   "cell_type": "code",
   "execution_count": 6,
   "metadata": {
    "ExecuteTime": {
     "end_time": "2020-10-12T22:40:35.009278Z",
     "start_time": "2020-10-12T22:40:27.088300Z"
    }
   },
   "outputs": [],
   "source": [
    "scaler = StandardScaler()\n",
    "scaled_df = scaler.fit_transform(X)"
   ]
  },
  {
   "cell_type": "code",
   "execution_count": 7,
   "metadata": {
    "ExecuteTime": {
     "end_time": "2020-10-12T22:40:48.181384Z",
     "start_time": "2020-10-12T22:40:35.051698Z"
    }
   },
   "outputs": [],
   "source": [
    "# Perform the dataset split\n",
    "X_test, X_train, y_test, y_train = train_test_split(scaled_df, y, test_size=0.25, random_state=42)"
   ]
  },
  {
   "cell_type": "code",
   "execution_count": 10,
   "metadata": {
    "ExecuteTime": {
     "end_time": "2020-10-12T22:48:49.825359Z",
     "start_time": "2020-10-12T22:43:53.435557Z"
    }
   },
   "outputs": [
    {
     "name": "stdout",
     "output_type": "stream",
     "text": [
      "Training Accuracy: 66.67%\n",
      "Validation accuracy: 66.64%\n"
     ]
    }
   ],
   "source": [
    "# Fitting the model and calculating the training and text (val) accuracies\n",
    "\n",
    "clf = xgb.XGBClassifier()\n",
    "clf.fit(X_train, y_train)\n",
    "training_preds = clf.predict(X_train)\n",
    "val_preds = clf.predict(X_test)\n",
    "training_accuracy = accuracy_score(y_train, training_preds)\n",
    "val_accuracy = accuracy_score(y_test, val_preds)\n",
    "\n",
    "print(\"Training Accuracy: {:.4}%\".format(training_accuracy * 100))\n",
    "print(\"Validation accuracy: {:.4}%\".format(val_accuracy * 100))"
   ]
  },
  {
   "cell_type": "markdown",
   "metadata": {},
   "source": [
    "As expected, this model has almost a 20% drop compared to the previous one where the DEP_DELAY was left. Still at almost 67% it is not that bad because the predictions come before you go into the plane and even before the possible delay is announced on the departure boards/screens.\n",
    "\n",
    "The fact that the test set (validation) has an accuracy so close to the training one, suggests that the model is properly fit. If there was a high difference between then (with the test being considerably lower), then that would suggest an overfit of the training data. \n",
    "\n",
    "Still it is always worth it to try to tune the model and see if the accuracy improves, like I said, at 66.64% is not bad but I believe that there might be room for improvement. I would like to aim for at least a 70%. I have already created paremeters dictionary and ran it, so unless I do any other tests with a new dictionary, which will be time dependent, I will keep the previous values. "
   ]
  },
  {
   "cell_type": "markdown",
   "metadata": {},
   "source": [
    "# Tuning XGBoost"
   ]
  },
  {
   "cell_type": "code",
   "execution_count": 14,
   "metadata": {
    "ExecuteTime": {
     "end_time": "2020-10-11T23:12:15.652139Z",
     "start_time": "2020-10-11T23:12:15.647711Z"
    }
   },
   "outputs": [],
   "source": [
    "param_grid = {\n",
    "    \"learning_rate\": [0.1],\n",
    "    'max_depth': [6],\n",
    "    'min_child_weight': [10],\n",
    "    'subsample': [ 0.7],\n",
    "    'n_estimators': [100],\n",
    "}"
   ]
  },
  {
   "cell_type": "code",
   "execution_count": null,
   "metadata": {
    "ExecuteTime": {
     "start_time": "2020-10-12T22:30:53.821Z"
    }
   },
   "outputs": [],
   "source": [
    "grid_clf = GridSearchCV(clf, param_grid, scoring='accuracy', cv=None, n_jobs=1)\n",
    "grid_clf.fit(scaled_df, y)\n",
    "\n",
    "best_parameters = grid_clf.best_params_\n",
    "\n",
    "print(\"Grid Search found the following optimal parameters: \")\n",
    "for param_name in sorted(best_parameters.keys()):\n",
    "    print(\"%s: %r\" % (param_name, best_parameters[param_name]))\n",
    "\n",
    "training_preds = grid_clf.predict(X_train)\n",
    "val_preds = grid_clf.predict(X_test)\n",
    "training_accuracy = accuracy_score(y_train, training_preds)\n",
    "val_accuracy = accuracy_score(y_test, val_preds)\n",
    "\n",
    "print(\"\")\n",
    "print(\"Training Accuracy: {:.4}%\".format(training_accuracy * 100))\n",
    "print(\"Validation accuracy: {:.4}%\".format(val_accuracy * 100))"
   ]
  },
  {
   "cell_type": "markdown",
   "metadata": {},
   "source": [
    "Ok, so this is more like what I was looking for, getting closer to 70% accuracy. Once I'm done with the rest of the models, and I have put a check mark on everything I had planned to do, I will come back and create a different dictionary to see if there is any additional tunning that I can do to reach my goal of 70%. For the time being let's this is my best model so far."
   ]
  },
  {
   "cell_type": "markdown",
   "metadata": {},
   "source": []
  },
  {
   "cell_type": "code",
   "execution_count": 28,
   "metadata": {
    "ExecuteTime": {
     "end_time": "2020-10-12T10:51:11.267796Z",
     "start_time": "2020-10-12T10:42:24.442002Z"
    }
   },
   "outputs": [
    {
     "data": {
      "text/plain": [
       "XGBClassifier(max_depth=6, min_child_weight=10, subsample=0.7)"
      ]
     },
     "execution_count": 28,
     "metadata": {},
     "output_type": "execute_result"
    }
   ],
   "source": [
    "model_grid_clf = xgb.XGBClassifier(learning_rate = 0.1, \n",
    "                                   max_depth = 6, \n",
    "                                   min_child_weight = 10,\n",
    "                                   subsample = 0.7, \n",
    "                                   n_estimators = 100)\n",
    "model_grid_clf.fit(X_train, y_train)"
   ]
  },
  {
   "cell_type": "code",
   "execution_count": 30,
   "metadata": {
    "ExecuteTime": {
     "end_time": "2020-10-12T12:01:15.957275Z",
     "start_time": "2020-10-12T12:00:53.179560Z"
    }
   },
   "outputs": [
    {
     "name": "stdout",
     "output_type": "stream",
     "text": [
      "Accuracy on training set: 69.547\n",
      "Accuracy on validation set: 69.374\n"
     ]
    }
   ],
   "source": [
    "print(\"Accuracy on training set: {:.2f}\".format(model_grid_clf.score(X_train, y_train) * 100))\n",
    "print(\"Accuracy on validation set: {:.2f}\".format(model_grid_clf.score(X_test, y_test) * 100))"
   ]
  },
  {
   "cell_type": "markdown",
   "metadata": {},
   "source": []
  },
  {
   "cell_type": "code",
   "execution_count": 52,
   "metadata": {
    "ExecuteTime": {
     "end_time": "2020-10-12T15:04:53.736153Z",
     "start_time": "2020-10-12T15:04:32.998037Z"
    }
   },
   "outputs": [
    {
     "data": {
      "text/plain": [
       "array([0, 0, 0, ..., 0, 0, 0])"
      ]
     },
     "execution_count": 52,
     "metadata": {},
     "output_type": "execute_result"
    }
   ],
   "source": [
    "model_grid_clf1_predict = model_grid_clf.predict(X_test)\n",
    "model_grid_clf1_predict"
   ]
  },
  {
   "cell_type": "code",
   "execution_count": 53,
   "metadata": {
    "ExecuteTime": {
     "end_time": "2020-10-12T15:05:01.470689Z",
     "start_time": "2020-10-12T15:04:54.844627Z"
    }
   },
   "outputs": [
    {
     "name": "stdout",
     "output_type": "stream",
     "text": [
      "[[1766883  122525]\n",
      " [ 798163  318621]]\n",
      "              precision    recall  f1-score   support\n",
      "\n",
      "           0       0.69      0.94      0.79   1889408\n",
      "           1       0.72      0.29      0.41   1116784\n",
      "\n",
      "    accuracy                           0.69   3006192\n",
      "   macro avg       0.71      0.61      0.60   3006192\n",
      "weighted avg       0.70      0.69      0.65   3006192\n",
      "\n"
     ]
    }
   ],
   "source": [
    "print(confusion_matrix(y_test, model_grid_clf1_predict))\n",
    "print(classification_report(y_test, model_grid_clf1_predict))"
   ]
  },
  {
   "cell_type": "markdown",
   "metadata": {},
   "source": [
    "# XGBoost for Imbalance Classification"
   ]
  },
  {
   "cell_type": "markdown",
   "metadata": {},
   "source": [
    "Let's see if anything improves for the model with the addition of the scale_pos_weight and small modifications on the dictionary"
   ]
  },
  {
   "cell_type": "markdown",
   "metadata": {
    "ExecuteTime": {
     "end_time": "2020-10-12T09:58:43.990377Z",
     "start_time": "2020-10-12T09:58:43.795631Z"
    }
   },
   "source": [
    "scale_pos_weight = total_negative_examples/total_positive_examples"
   ]
  },
  {
   "cell_type": "code",
   "execution_count": 38,
   "metadata": {
    "ExecuteTime": {
     "end_time": "2020-10-12T12:42:13.763497Z",
     "start_time": "2020-10-12T12:33:57.428396Z"
    }
   },
   "outputs": [
    {
     "data": {
      "text/plain": [
       "XGBClassifier(max_depth=6, min_child_weight=10, scale_pos_weight=1.69,\n",
       "              subsample=0.7)"
      ]
     },
     "execution_count": 38,
     "metadata": {},
     "output_type": "execute_result"
    }
   ],
   "source": [
    "model_imb = xgb.XGBClassifier(learning_rate = 0.1, \n",
    "                                   max_depth = 6, \n",
    "                                   min_child_weight = 10,\n",
    "                                   subsample = 0.7, \n",
    "                                   n_estimators = 100, \n",
    "                                   scale_pos_weight=1.69)\n",
    "model_imb.fit(X_train, y_train)"
   ]
  },
  {
   "cell_type": "code",
   "execution_count": 39,
   "metadata": {
    "ExecuteTime": {
     "end_time": "2020-10-12T12:42:43.951356Z",
     "start_time": "2020-10-12T12:42:13.925840Z"
    }
   },
   "outputs": [
    {
     "name": "stdout",
     "output_type": "stream",
     "text": [
      "Accuracy on training set: 66.72\n",
      "Accuracy on validation set: 66.30\n"
     ]
    }
   ],
   "source": [
    "print(\"Accuracy on training set: {:.2f}\".format(model_imb.score(X_train, y_train) * 100))\n",
    "print(\"Accuracy on validation set: {:.2f}\".format(model_imb.score(X_test, y_test) * 100))"
   ]
  },
  {
   "cell_type": "code",
   "execution_count": 40,
   "metadata": {
    "ExecuteTime": {
     "end_time": "2020-10-12T12:43:02.403597Z",
     "start_time": "2020-10-12T12:42:44.071887Z"
    }
   },
   "outputs": [
    {
     "data": {
      "text/plain": [
       "array([1, 0, 0, ..., 0, 1, 1])"
      ]
     },
     "execution_count": 40,
     "metadata": {},
     "output_type": "execute_result"
    }
   ],
   "source": [
    "xgb_predict = model_imb.predict(X_test)\n",
    "xgb_predict"
   ]
  },
  {
   "cell_type": "code",
   "execution_count": 41,
   "metadata": {
    "ExecuteTime": {
     "end_time": "2020-10-12T12:43:10.450651Z",
     "start_time": "2020-10-12T12:43:02.774820Z"
    }
   },
   "outputs": [
    {
     "name": "stdout",
     "output_type": "stream",
     "text": [
      "[[1317324  572084]\n",
      " [ 440873  675911]]\n",
      "              precision    recall  f1-score   support\n",
      "\n",
      "           0       0.75      0.70      0.72   1889408\n",
      "           1       0.54      0.61      0.57   1116784\n",
      "\n",
      "    accuracy                           0.66   3006192\n",
      "   macro avg       0.65      0.65      0.65   3006192\n",
      "weighted avg       0.67      0.66      0.67   3006192\n",
      "\n"
     ]
    }
   ],
   "source": [
    "print(confusion_matrix(y_test,xgb_predict))\n",
    "print(classification_report(y_test,xgb_predict))"
   ]
  },
  {
   "cell_type": "markdown",
   "metadata": {},
   "source": [
    "It doesn't seem as those modification worked but on the contrary they made less performant the model. I'm going to go back to the original one but now add some different value for the scale_pos_weight and see if the model improves"
   ]
  },
  {
   "cell_type": "markdown",
   "metadata": {
    "ExecuteTime": {
     "end_time": "2020-10-12T12:31:58.412785Z",
     "start_time": "2020-10-12T12:31:58.388022Z"
    }
   },
   "source": [
    "<b>scale_pos_weight = 2</b>"
   ]
  },
  {
   "cell_type": "code",
   "execution_count": 33,
   "metadata": {
    "ExecuteTime": {
     "end_time": "2020-10-12T12:31:26.227920Z",
     "start_time": "2020-10-12T12:22:37.870705Z"
    }
   },
   "outputs": [
    {
     "data": {
      "text/plain": [
       "XGBClassifier(max_depth=6, min_child_weight=10, scale_pos_weight=2,\n",
       "              subsample=0.7)"
      ]
     },
     "execution_count": 33,
     "metadata": {},
     "output_type": "execute_result"
    }
   ],
   "source": [
    "model_grid_clf1 = xgb.XGBClassifier(learning_rate = 0.1, \n",
    "                                   max_depth = 6, \n",
    "                                   min_child_weight = 10,\n",
    "                                   subsample = 0.7, \n",
    "                                   n_estimators = 100, \n",
    "                                   scale_pos_weight=2)\n",
    "model_grid_clf1.fit(X_train, y_train)"
   ]
  },
  {
   "cell_type": "code",
   "execution_count": 34,
   "metadata": {
    "ExecuteTime": {
     "end_time": "2020-10-12T12:31:58.261513Z",
     "start_time": "2020-10-12T12:31:26.360708Z"
    }
   },
   "outputs": [
    {
     "name": "stdout",
     "output_type": "stream",
     "text": [
      "Accuracy on training set: 62.54\n",
      "Accuracy on validation set: 62.14\n"
     ]
    }
   ],
   "source": [
    "print(\"Accuracy on training set: {:.2f}\".format(model_grid_clf1.score(X_train, y_train) * 100))\n",
    "print(\"Accuracy on validation set: {:.2f}\".format(model_grid_clf1.score(X_test, y_test) * 100))"
   ]
  },
  {
   "cell_type": "markdown",
   "metadata": {},
   "source": [
    "Wow, that was definitely a big drop from the original model that doesn't account for the data imbalance. I'm going to try dropping the 1.69 to 1.25 and see how that behaves, and if it doesn't work then I will stop there and keep on going assuming my original model as the best XGBoost"
   ]
  },
  {
   "cell_type": "markdown",
   "metadata": {
    "ExecuteTime": {
     "end_time": "2020-10-12T12:32:22.925167Z",
     "start_time": "2020-10-12T12:32:22.921706Z"
    }
   },
   "source": [
    "<b>scale_pos_weight = 1.25 </b>"
   ]
  },
  {
   "cell_type": "code",
   "execution_count": 42,
   "metadata": {
    "ExecuteTime": {
     "end_time": "2020-10-12T12:52:26.117492Z",
     "start_time": "2020-10-12T12:43:10.565904Z"
    }
   },
   "outputs": [
    {
     "data": {
      "text/plain": [
       "XGBClassifier(max_depth=6, min_child_weight=10, scale_pos_weight=1.25,\n",
       "              subsample=0.7)"
      ]
     },
     "execution_count": 42,
     "metadata": {},
     "output_type": "execute_result"
    }
   ],
   "source": [
    "model_grid_clf2 = xgb.XGBClassifier(learning_rate = 0.1, \n",
    "                                   max_depth = 6, \n",
    "                                   min_child_weight = 10,\n",
    "                                   subsample = 0.7, \n",
    "                                   n_estimators = 100, \n",
    "                                   scale_pos_weight=1.25)\n",
    "model_grid_clf2.fit(X_train, y_train)"
   ]
  },
  {
   "cell_type": "code",
   "execution_count": 43,
   "metadata": {
    "ExecuteTime": {
     "end_time": "2020-10-12T12:52:50.802978Z",
     "start_time": "2020-10-12T12:52:26.232651Z"
    }
   },
   "outputs": [
    {
     "name": "stdout",
     "output_type": "stream",
     "text": [
      "Accuracy on training set: 69.76\n",
      "Accuracy on validation set: 69.54\n"
     ]
    }
   ],
   "source": [
    "print(\"Accuracy on training set: {:.2f}\".format(model_grid_clf2.score(X_train, y_train) * 100))\n",
    "print(\"Accuracy on validation set: {:.2f}\".format(model_grid_clf2.score(X_test, y_test) * 100))"
   ]
  },
  {
   "cell_type": "markdown",
   "metadata": {},
   "source": [
    "<b>scale_pos_weight = 1.15</b>"
   ]
  },
  {
   "cell_type": "code",
   "execution_count": 44,
   "metadata": {
    "ExecuteTime": {
     "end_time": "2020-10-12T13:46:29.111032Z",
     "start_time": "2020-10-12T13:37:42.915162Z"
    }
   },
   "outputs": [
    {
     "data": {
      "text/plain": [
       "XGBClassifier(max_depth=6, min_child_weight=10, scale_pos_weight=1.15,\n",
       "              subsample=0.7)"
      ]
     },
     "execution_count": 44,
     "metadata": {},
     "output_type": "execute_result"
    }
   ],
   "source": [
    "model_grid_clf3 = xgb.XGBClassifier(learning_rate = 0.1, \n",
    "                                   max_depth = 6, \n",
    "                                   min_child_weight = 10,\n",
    "                                   subsample = 0.7, \n",
    "                                   n_estimators = 100, \n",
    "                                   scale_pos_weight=1.15)\n",
    "model_grid_clf3.fit(X_train, y_train)"
   ]
  },
  {
   "cell_type": "code",
   "execution_count": 45,
   "metadata": {
    "ExecuteTime": {
     "end_time": "2020-10-12T13:46:55.410956Z",
     "start_time": "2020-10-12T13:46:29.230027Z"
    }
   },
   "outputs": [
    {
     "name": "stdout",
     "output_type": "stream",
     "text": [
      "Accuracy on training set: 69.86\n",
      "Accuracy on validation set: 69.68\n"
     ]
    }
   ],
   "source": [
    "print(\"Accuracy on training set: {:.2f}\".format(model_grid_clf3.score(X_train, y_train) * 100))\n",
    "print(\"Accuracy on validation set: {:.2f}\".format(model_grid_clf3.score(X_test, y_test) * 100))"
   ]
  },
  {
   "cell_type": "code",
   "execution_count": 50,
   "metadata": {
    "ExecuteTime": {
     "end_time": "2020-10-12T14:10:31.442963Z",
     "start_time": "2020-10-12T14:10:12.233256Z"
    }
   },
   "outputs": [
    {
     "data": {
      "text/plain": [
       "array([0, 0, 0, ..., 0, 0, 1])"
      ]
     },
     "execution_count": 50,
     "metadata": {},
     "output_type": "execute_result"
    }
   ],
   "source": [
    "xgb_predict_clf3 = model_grid_clf3.predict(X_test)\n",
    "xgb_predict_clf3"
   ]
  },
  {
   "cell_type": "code",
   "execution_count": 51,
   "metadata": {
    "ExecuteTime": {
     "end_time": "2020-10-12T14:10:38.953598Z",
     "start_time": "2020-10-12T14:10:31.559375Z"
    }
   },
   "outputs": [
    {
     "name": "stdout",
     "output_type": "stream",
     "text": [
      "[[1695821  193587]\n",
      " [ 717753  399031]]\n",
      "              precision    recall  f1-score   support\n",
      "\n",
      "           0       0.70      0.90      0.79   1889408\n",
      "           1       0.67      0.36      0.47   1116784\n",
      "\n",
      "    accuracy                           0.70   3006192\n",
      "   macro avg       0.69      0.63      0.63   3006192\n",
      "weighted avg       0.69      0.70      0.67   3006192\n",
      "\n"
     ]
    }
   ],
   "source": [
    "print(confusion_matrix(y_test,xgb_predict_clf3))\n",
    "print(classification_report(y_test,xgb_predict_clf3))"
   ]
  },
  {
   "cell_type": "markdown",
   "metadata": {},
   "source": [
    "<b>The scale_pos_weight of 1.15 gave the best results with an accuracy very close to what I had in mind (70%) with 69.68%, a Recall of 63% and Precision of 69%.  So far this is the best of the models that I have made without the DEP_DEELAY and accounting for the imbalanced data</b>"
   ]
  },
  {
   "cell_type": "markdown",
   "metadata": {
    "ExecuteTime": {
     "end_time": "2020-10-12T14:08:21.500514Z",
     "start_time": "2020-10-12T14:08:21.492946Z"
    }
   },
   "source": [
    "<b>scale_pos_weight = 0.9</b>"
   ]
  },
  {
   "cell_type": "code",
   "execution_count": 46,
   "metadata": {
    "ExecuteTime": {
     "end_time": "2020-10-12T14:07:17.108460Z",
     "start_time": "2020-10-12T13:58:27.798924Z"
    }
   },
   "outputs": [
    {
     "data": {
      "text/plain": [
       "XGBClassifier(max_depth=6, min_child_weight=10, scale_pos_weight=0.9,\n",
       "              subsample=0.7)"
      ]
     },
     "execution_count": 46,
     "metadata": {},
     "output_type": "execute_result"
    }
   ],
   "source": [
    "model_grid_clf4 = xgb.XGBClassifier(learning_rate = 0.1, \n",
    "                                   max_depth = 6, \n",
    "                                   min_child_weight = 10,\n",
    "                                   subsample = 0.7, \n",
    "                                   n_estimators = 100, \n",
    "                                   scale_pos_weight=0.9)\n",
    "model_grid_clf4.fit(X_train, y_train)"
   ]
  },
  {
   "cell_type": "code",
   "execution_count": 47,
   "metadata": {
    "ExecuteTime": {
     "end_time": "2020-10-12T14:07:41.798092Z",
     "start_time": "2020-10-12T14:07:17.243082Z"
    }
   },
   "outputs": [
    {
     "name": "stdout",
     "output_type": "stream",
     "text": [
      "Accuracy on training set: 69.13\n",
      "Accuracy on validation set: 68.98\n"
     ]
    }
   ],
   "source": [
    "print(\"Accuracy on training set: {:.2f}\".format(model_grid_clf4.score(X_train, y_train) * 100))\n",
    "print(\"Accuracy on validation set: {:.2f}\".format(model_grid_clf4.score(X_test, y_test) * 100))"
   ]
  },
  {
   "cell_type": "code",
   "execution_count": null,
   "metadata": {},
   "outputs": [],
   "source": []
  },
  {
   "cell_type": "markdown",
   "metadata": {},
   "source": [
    "================================================================"
   ]
  },
  {
   "cell_type": "markdown",
   "metadata": {},
   "source": [
    "Separate test to try and get best parameters..."
   ]
  },
  {
   "cell_type": "code",
   "execution_count": 8,
   "metadata": {
    "ExecuteTime": {
     "end_time": "2020-10-12T22:40:48.240056Z",
     "start_time": "2020-10-12T22:40:48.236534Z"
    }
   },
   "outputs": [],
   "source": [
    "param_grid_ltest = {\n",
    "    \"learning_rate\": [0.01, 0.1],\n",
    "    'max_depth': [4, 6],\n",
    "    'min_child_weight': [10],\n",
    "    'subsample': [ 0.7],\n",
    "    'n_estimators': [100, 200],\n",
    "}"
   ]
  },
  {
   "cell_type": "code",
   "execution_count": null,
   "metadata": {
    "ExecuteTime": {
     "start_time": "2020-10-12T22:50:13.724Z"
    }
   },
   "outputs": [],
   "source": [
    "grid_clf_2 = GridSearchCV(clf, param_grid_ltest, scoring='accuracy', cv=None, n_jobs=1)\n",
    "grid_clf_2.fit(scaled_df, y)\n",
    "\n",
    "best_parameters = grid_clf_2.best_params_\n",
    "\n",
    "print(\"Grid Search found the following optimal parameters: \")\n",
    "for param_name in sorted(best_parameters.keys()):\n",
    "    print(\"%s: %r\" % (param_name, best_parameters[param_name]))\n",
    "\n",
    "training_preds = grid_clf_2.predict(X_train)\n",
    "val_preds = grid_clf_2.predict(X_test)\n",
    "training_accuracy = accuracy_score(y_train, training_preds)\n",
    "val_accuracy = accuracy_score(y_test, val_preds)\n",
    "\n",
    "print(\"\")\n",
    "print(\"Training Accuracy: {:.4}%\".format(training_accuracy * 100))\n",
    "print(\"Validation accuracy: {:.4}%\".format(val_accuracy * 100))"
   ]
  },
  {
   "cell_type": "code",
   "execution_count": null,
   "metadata": {},
   "outputs": [],
   "source": []
  }
 ],
 "metadata": {
  "kernelspec": {
   "display_name": "learn-env",
   "language": "python",
   "name": "learn-env"
  },
  "language_info": {
   "codemirror_mode": {
    "name": "ipython",
    "version": 3
   },
   "file_extension": ".py",
   "mimetype": "text/x-python",
   "name": "python",
   "nbconvert_exporter": "python",
   "pygments_lexer": "ipython3",
   "version": "3.6.9"
  },
  "toc": {
   "base_numbering": 1,
   "nav_menu": {},
   "number_sections": true,
   "sideBar": true,
   "skip_h1_title": false,
   "title_cell": "Table of Contents",
   "title_sidebar": "Contents",
   "toc_cell": false,
   "toc_position": {},
   "toc_section_display": true,
   "toc_window_display": false
  },
  "varInspector": {
   "cols": {
    "lenName": 16,
    "lenType": 16,
    "lenVar": 40
   },
   "kernels_config": {
    "python": {
     "delete_cmd_postfix": "",
     "delete_cmd_prefix": "del ",
     "library": "var_list.py",
     "varRefreshCmd": "print(var_dic_list())"
    },
    "r": {
     "delete_cmd_postfix": ") ",
     "delete_cmd_prefix": "rm(",
     "library": "var_list.r",
     "varRefreshCmd": "cat(var_dic_list()) "
    }
   },
   "types_to_exclude": [
    "module",
    "function",
    "builtin_function_or_method",
    "instance",
    "_Feature"
   ],
   "window_display": false
  }
 },
 "nbformat": 4,
 "nbformat_minor": 4
}
