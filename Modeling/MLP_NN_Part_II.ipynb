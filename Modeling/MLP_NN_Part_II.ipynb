{
 "cells": [
  {
   "cell_type": "markdown",
   "metadata": {
    "ExecuteTime": {
     "end_time": "2020-10-15T16:00:00.253988Z",
     "start_time": "2020-10-15T16:00:00.250223Z"
    }
   },
   "source": [
    "<font size=\"6\"><b>MLP Neural Networks - Part II</b></font>"
   ]
  },
  {
   "cell_type": "markdown",
   "metadata": {},
   "source": [
    "![Figure_12](img/Figure_12.png)"
   ]
  },
  {
   "cell_type": "markdown",
   "metadata": {},
   "source": [
    "# Libraries"
   ]
  },
  {
   "cell_type": "code",
   "execution_count": 104,
   "metadata": {
    "ExecuteTime": {
     "end_time": "2020-10-15T12:11:06.734486Z",
     "start_time": "2020-10-15T12:11:06.720791Z"
    }
   },
   "outputs": [],
   "source": [
    "import pandas as pd\n",
    "import numpy as np\n",
    "np.random.seed(0)\n",
    "import matplotlib.pyplot as plt\n",
    "%matplotlib inline\n",
    "import seaborn as sns\n",
    "import xgboost as xgb\n",
    "sns.set_style('darkgrid')\n",
    "pd.set_option('display.max_columns', None)\n",
    "\n",
    "import datetime, warnings, scipy\n",
    "warnings.filterwarnings(\"ignore\")\n",
    "\n",
    "import keras\n",
    "from keras.models import Sequential\n",
    "from keras.layers import Dense\n",
    "from sklearn.preprocessing import StandardScaler, LabelBinarizer\n",
    "from sklearn.model_selection import train_test_split\n",
    "from keras.layers import Dense, Dropout , BatchNormalization\n",
    "from sklearn import preprocessing\n",
    "import sklearn.metrics as metrics\n",
    "from sklearn.metrics import classification_report, confusion_matrix\n",
    "from sklearn.metrics import precision_score, recall_score, f1_score\n",
    "import tensorflow as tf\n",
    "from tensorflow import keras"
   ]
  },
  {
   "cell_type": "markdown",
   "metadata": {},
   "source": [
    "# Data Loading"
   ]
  },
  {
   "cell_type": "code",
   "execution_count": 2,
   "metadata": {
    "ExecuteTime": {
     "end_time": "2020-10-14T21:52:18.727333Z",
     "start_time": "2020-10-14T21:51:59.813476Z"
    }
   },
   "outputs": [
    {
     "data": {
      "text/html": [
       "<div>\n",
       "<style scoped>\n",
       "    .dataframe tbody tr th:only-of-type {\n",
       "        vertical-align: middle;\n",
       "    }\n",
       "\n",
       "    .dataframe tbody tr th {\n",
       "        vertical-align: top;\n",
       "    }\n",
       "\n",
       "    .dataframe thead th {\n",
       "        text-align: right;\n",
       "    }\n",
       "</style>\n",
       "<table border=\"1\" class=\"dataframe\">\n",
       "  <thead>\n",
       "    <tr style=\"text-align: right;\">\n",
       "      <th></th>\n",
       "      <th>DEP_DELAY</th>\n",
       "      <th>CRS_ELAPSED_TIME</th>\n",
       "      <th>AIR_TIME</th>\n",
       "      <th>DISTANCE</th>\n",
       "      <th>FLIGHT_STATUS</th>\n",
       "      <th>OP_CARRIER_Allegiant Air</th>\n",
       "      <th>OP_CARRIER_American Airlines</th>\n",
       "      <th>OP_CARRIER_Delta Airlines</th>\n",
       "      <th>OP_CARRIER_Endeavor Air</th>\n",
       "      <th>OP_CARRIER_Envoy Air</th>\n",
       "      <th>OP_CARRIER_ExpressJet</th>\n",
       "      <th>OP_CARRIER_Frontier Airlines</th>\n",
       "      <th>OP_CARRIER_Hawaiian Airlines</th>\n",
       "      <th>OP_CARRIER_JetBlue Airways</th>\n",
       "      <th>OP_CARRIER_Mesa Airline</th>\n",
       "      <th>OP_CARRIER_PSA Airlines</th>\n",
       "      <th>OP_CARRIER_Republic Airways</th>\n",
       "      <th>OP_CARRIER_SkyWest Airlines</th>\n",
       "      <th>OP_CARRIER_Southwest Airlines</th>\n",
       "      <th>OP_CARRIER_Spirit Airlines</th>\n",
       "      <th>OP_CARRIER_United Airlines</th>\n",
       "      <th>OP_CARRIER_Virgin America</th>\n",
       "      <th>DEST_Atlanta</th>\n",
       "      <th>DEST_Boston</th>\n",
       "      <th>DEST_Charlotte</th>\n",
       "      <th>DEST_Chicago</th>\n",
       "      <th>DEST_Dallas-Fort Worth</th>\n",
       "      <th>DEST_Denver</th>\n",
       "      <th>DEST_Detroit</th>\n",
       "      <th>DEST_Houston</th>\n",
       "      <th>DEST_Las Vegas</th>\n",
       "      <th>DEST_Los Angeles</th>\n",
       "      <th>DEST_Minneapolis</th>\n",
       "      <th>DEST_New York</th>\n",
       "      <th>DEST_Newark</th>\n",
       "      <th>DEST_Orlando</th>\n",
       "      <th>DEST_Philadelphia</th>\n",
       "      <th>DEST_Phoenix</th>\n",
       "      <th>DEST_Salt Lake City</th>\n",
       "      <th>DEST_San Francisco</th>\n",
       "      <th>DEST_Seattle</th>\n",
       "      <th>CRS_DEP_TIME_2</th>\n",
       "      <th>CRS_DEP_TIME_3</th>\n",
       "      <th>CRS_DEP_TIME_4</th>\n",
       "      <th>CRS_ARR_TIME_2</th>\n",
       "      <th>CRS_ARR_TIME_3</th>\n",
       "      <th>CRS_ARR_TIME_4</th>\n",
       "      <th>MONTH_2</th>\n",
       "      <th>MONTH_3</th>\n",
       "      <th>MONTH_4</th>\n",
       "      <th>MONTH_5</th>\n",
       "      <th>MONTH_6</th>\n",
       "      <th>MONTH_7</th>\n",
       "      <th>MONTH_8</th>\n",
       "      <th>MONTH_9</th>\n",
       "      <th>MONTH_10</th>\n",
       "      <th>MONTH_11</th>\n",
       "      <th>MONTH_12</th>\n",
       "      <th>WEEKDAY_1</th>\n",
       "      <th>WEEKDAY_2</th>\n",
       "      <th>WEEKDAY_3</th>\n",
       "      <th>WEEKDAY_4</th>\n",
       "      <th>WEEKDAY_5</th>\n",
       "      <th>WEEKDAY_6</th>\n",
       "    </tr>\n",
       "  </thead>\n",
       "  <tbody>\n",
       "    <tr>\n",
       "      <th>0</th>\n",
       "      <td>-5.0</td>\n",
       "      <td>268.0</td>\n",
       "      <td>225.0</td>\n",
       "      <td>1605.0</td>\n",
       "      <td>0</td>\n",
       "      <td>0</td>\n",
       "      <td>0</td>\n",
       "      <td>0</td>\n",
       "      <td>0</td>\n",
       "      <td>0</td>\n",
       "      <td>0</td>\n",
       "      <td>0</td>\n",
       "      <td>0</td>\n",
       "      <td>0</td>\n",
       "      <td>0</td>\n",
       "      <td>0</td>\n",
       "      <td>0</td>\n",
       "      <td>0</td>\n",
       "      <td>0</td>\n",
       "      <td>0</td>\n",
       "      <td>1</td>\n",
       "      <td>0</td>\n",
       "      <td>0</td>\n",
       "      <td>0</td>\n",
       "      <td>0</td>\n",
       "      <td>0</td>\n",
       "      <td>0</td>\n",
       "      <td>1</td>\n",
       "      <td>0</td>\n",
       "      <td>0</td>\n",
       "      <td>0</td>\n",
       "      <td>0</td>\n",
       "      <td>0</td>\n",
       "      <td>0</td>\n",
       "      <td>0</td>\n",
       "      <td>0</td>\n",
       "      <td>0</td>\n",
       "      <td>0</td>\n",
       "      <td>0</td>\n",
       "      <td>0</td>\n",
       "      <td>0</td>\n",
       "      <td>0</td>\n",
       "      <td>1</td>\n",
       "      <td>0</td>\n",
       "      <td>0</td>\n",
       "      <td>1</td>\n",
       "      <td>0</td>\n",
       "      <td>0</td>\n",
       "      <td>0</td>\n",
       "      <td>0</td>\n",
       "      <td>0</td>\n",
       "      <td>0</td>\n",
       "      <td>0</td>\n",
       "      <td>0</td>\n",
       "      <td>0</td>\n",
       "      <td>0</td>\n",
       "      <td>0</td>\n",
       "      <td>0</td>\n",
       "      <td>0</td>\n",
       "      <td>0</td>\n",
       "      <td>0</td>\n",
       "      <td>0</td>\n",
       "      <td>0</td>\n",
       "      <td>0</td>\n",
       "    </tr>\n",
       "    <tr>\n",
       "      <th>1</th>\n",
       "      <td>-8.0</td>\n",
       "      <td>99.0</td>\n",
       "      <td>65.0</td>\n",
       "      <td>414.0</td>\n",
       "      <td>0</td>\n",
       "      <td>0</td>\n",
       "      <td>0</td>\n",
       "      <td>0</td>\n",
       "      <td>0</td>\n",
       "      <td>0</td>\n",
       "      <td>0</td>\n",
       "      <td>0</td>\n",
       "      <td>0</td>\n",
       "      <td>0</td>\n",
       "      <td>0</td>\n",
       "      <td>0</td>\n",
       "      <td>0</td>\n",
       "      <td>0</td>\n",
       "      <td>0</td>\n",
       "      <td>0</td>\n",
       "      <td>1</td>\n",
       "      <td>0</td>\n",
       "      <td>0</td>\n",
       "      <td>0</td>\n",
       "      <td>0</td>\n",
       "      <td>0</td>\n",
       "      <td>0</td>\n",
       "      <td>0</td>\n",
       "      <td>0</td>\n",
       "      <td>0</td>\n",
       "      <td>0</td>\n",
       "      <td>0</td>\n",
       "      <td>0</td>\n",
       "      <td>0</td>\n",
       "      <td>0</td>\n",
       "      <td>0</td>\n",
       "      <td>0</td>\n",
       "      <td>0</td>\n",
       "      <td>0</td>\n",
       "      <td>1</td>\n",
       "      <td>0</td>\n",
       "      <td>1</td>\n",
       "      <td>0</td>\n",
       "      <td>0</td>\n",
       "      <td>0</td>\n",
       "      <td>1</td>\n",
       "      <td>0</td>\n",
       "      <td>0</td>\n",
       "      <td>0</td>\n",
       "      <td>0</td>\n",
       "      <td>0</td>\n",
       "      <td>0</td>\n",
       "      <td>0</td>\n",
       "      <td>0</td>\n",
       "      <td>0</td>\n",
       "      <td>0</td>\n",
       "      <td>0</td>\n",
       "      <td>0</td>\n",
       "      <td>0</td>\n",
       "      <td>0</td>\n",
       "      <td>0</td>\n",
       "      <td>0</td>\n",
       "      <td>0</td>\n",
       "      <td>0</td>\n",
       "    </tr>\n",
       "    <tr>\n",
       "      <th>2</th>\n",
       "      <td>-5.0</td>\n",
       "      <td>134.0</td>\n",
       "      <td>106.0</td>\n",
       "      <td>846.0</td>\n",
       "      <td>0</td>\n",
       "      <td>0</td>\n",
       "      <td>0</td>\n",
       "      <td>0</td>\n",
       "      <td>0</td>\n",
       "      <td>0</td>\n",
       "      <td>0</td>\n",
       "      <td>0</td>\n",
       "      <td>0</td>\n",
       "      <td>0</td>\n",
       "      <td>0</td>\n",
       "      <td>0</td>\n",
       "      <td>0</td>\n",
       "      <td>0</td>\n",
       "      <td>0</td>\n",
       "      <td>0</td>\n",
       "      <td>1</td>\n",
       "      <td>0</td>\n",
       "      <td>0</td>\n",
       "      <td>0</td>\n",
       "      <td>0</td>\n",
       "      <td>0</td>\n",
       "      <td>0</td>\n",
       "      <td>1</td>\n",
       "      <td>0</td>\n",
       "      <td>0</td>\n",
       "      <td>0</td>\n",
       "      <td>0</td>\n",
       "      <td>0</td>\n",
       "      <td>0</td>\n",
       "      <td>0</td>\n",
       "      <td>0</td>\n",
       "      <td>0</td>\n",
       "      <td>0</td>\n",
       "      <td>0</td>\n",
       "      <td>0</td>\n",
       "      <td>0</td>\n",
       "      <td>0</td>\n",
       "      <td>1</td>\n",
       "      <td>0</td>\n",
       "      <td>0</td>\n",
       "      <td>1</td>\n",
       "      <td>0</td>\n",
       "      <td>0</td>\n",
       "      <td>0</td>\n",
       "      <td>0</td>\n",
       "      <td>0</td>\n",
       "      <td>0</td>\n",
       "      <td>0</td>\n",
       "      <td>0</td>\n",
       "      <td>0</td>\n",
       "      <td>0</td>\n",
       "      <td>0</td>\n",
       "      <td>0</td>\n",
       "      <td>0</td>\n",
       "      <td>0</td>\n",
       "      <td>0</td>\n",
       "      <td>0</td>\n",
       "      <td>0</td>\n",
       "      <td>0</td>\n",
       "    </tr>\n",
       "    <tr>\n",
       "      <th>3</th>\n",
       "      <td>6.0</td>\n",
       "      <td>190.0</td>\n",
       "      <td>157.0</td>\n",
       "      <td>1120.0</td>\n",
       "      <td>0</td>\n",
       "      <td>0</td>\n",
       "      <td>0</td>\n",
       "      <td>0</td>\n",
       "      <td>0</td>\n",
       "      <td>0</td>\n",
       "      <td>0</td>\n",
       "      <td>0</td>\n",
       "      <td>0</td>\n",
       "      <td>0</td>\n",
       "      <td>0</td>\n",
       "      <td>0</td>\n",
       "      <td>0</td>\n",
       "      <td>0</td>\n",
       "      <td>0</td>\n",
       "      <td>0</td>\n",
       "      <td>1</td>\n",
       "      <td>0</td>\n",
       "      <td>0</td>\n",
       "      <td>0</td>\n",
       "      <td>0</td>\n",
       "      <td>1</td>\n",
       "      <td>0</td>\n",
       "      <td>0</td>\n",
       "      <td>0</td>\n",
       "      <td>0</td>\n",
       "      <td>0</td>\n",
       "      <td>0</td>\n",
       "      <td>0</td>\n",
       "      <td>0</td>\n",
       "      <td>0</td>\n",
       "      <td>0</td>\n",
       "      <td>0</td>\n",
       "      <td>0</td>\n",
       "      <td>0</td>\n",
       "      <td>0</td>\n",
       "      <td>0</td>\n",
       "      <td>0</td>\n",
       "      <td>1</td>\n",
       "      <td>0</td>\n",
       "      <td>0</td>\n",
       "      <td>1</td>\n",
       "      <td>0</td>\n",
       "      <td>0</td>\n",
       "      <td>0</td>\n",
       "      <td>0</td>\n",
       "      <td>0</td>\n",
       "      <td>0</td>\n",
       "      <td>0</td>\n",
       "      <td>0</td>\n",
       "      <td>0</td>\n",
       "      <td>0</td>\n",
       "      <td>0</td>\n",
       "      <td>0</td>\n",
       "      <td>0</td>\n",
       "      <td>0</td>\n",
       "      <td>0</td>\n",
       "      <td>0</td>\n",
       "      <td>0</td>\n",
       "      <td>0</td>\n",
       "    </tr>\n",
       "    <tr>\n",
       "      <th>6</th>\n",
       "      <td>-3.0</td>\n",
       "      <td>206.0</td>\n",
       "      <td>173.0</td>\n",
       "      <td>1222.0</td>\n",
       "      <td>0</td>\n",
       "      <td>0</td>\n",
       "      <td>0</td>\n",
       "      <td>0</td>\n",
       "      <td>0</td>\n",
       "      <td>0</td>\n",
       "      <td>0</td>\n",
       "      <td>0</td>\n",
       "      <td>0</td>\n",
       "      <td>0</td>\n",
       "      <td>0</td>\n",
       "      <td>0</td>\n",
       "      <td>0</td>\n",
       "      <td>0</td>\n",
       "      <td>0</td>\n",
       "      <td>0</td>\n",
       "      <td>1</td>\n",
       "      <td>0</td>\n",
       "      <td>0</td>\n",
       "      <td>0</td>\n",
       "      <td>0</td>\n",
       "      <td>0</td>\n",
       "      <td>0</td>\n",
       "      <td>0</td>\n",
       "      <td>0</td>\n",
       "      <td>0</td>\n",
       "      <td>1</td>\n",
       "      <td>0</td>\n",
       "      <td>0</td>\n",
       "      <td>0</td>\n",
       "      <td>0</td>\n",
       "      <td>0</td>\n",
       "      <td>0</td>\n",
       "      <td>0</td>\n",
       "      <td>0</td>\n",
       "      <td>0</td>\n",
       "      <td>0</td>\n",
       "      <td>1</td>\n",
       "      <td>0</td>\n",
       "      <td>0</td>\n",
       "      <td>1</td>\n",
       "      <td>0</td>\n",
       "      <td>0</td>\n",
       "      <td>0</td>\n",
       "      <td>0</td>\n",
       "      <td>0</td>\n",
       "      <td>0</td>\n",
       "      <td>0</td>\n",
       "      <td>0</td>\n",
       "      <td>0</td>\n",
       "      <td>0</td>\n",
       "      <td>0</td>\n",
       "      <td>0</td>\n",
       "      <td>0</td>\n",
       "      <td>0</td>\n",
       "      <td>0</td>\n",
       "      <td>0</td>\n",
       "      <td>0</td>\n",
       "      <td>0</td>\n",
       "      <td>0</td>\n",
       "    </tr>\n",
       "    <tr>\n",
       "      <th>7213439</th>\n",
       "      <td>31.0</td>\n",
       "      <td>182.0</td>\n",
       "      <td>142.0</td>\n",
       "      <td>1303.0</td>\n",
       "      <td>1</td>\n",
       "      <td>0</td>\n",
       "      <td>1</td>\n",
       "      <td>0</td>\n",
       "      <td>0</td>\n",
       "      <td>0</td>\n",
       "      <td>0</td>\n",
       "      <td>0</td>\n",
       "      <td>0</td>\n",
       "      <td>0</td>\n",
       "      <td>0</td>\n",
       "      <td>0</td>\n",
       "      <td>0</td>\n",
       "      <td>0</td>\n",
       "      <td>0</td>\n",
       "      <td>0</td>\n",
       "      <td>0</td>\n",
       "      <td>0</td>\n",
       "      <td>0</td>\n",
       "      <td>0</td>\n",
       "      <td>0</td>\n",
       "      <td>0</td>\n",
       "      <td>0</td>\n",
       "      <td>0</td>\n",
       "      <td>0</td>\n",
       "      <td>0</td>\n",
       "      <td>0</td>\n",
       "      <td>0</td>\n",
       "      <td>0</td>\n",
       "      <td>0</td>\n",
       "      <td>0</td>\n",
       "      <td>0</td>\n",
       "      <td>1</td>\n",
       "      <td>0</td>\n",
       "      <td>0</td>\n",
       "      <td>0</td>\n",
       "      <td>0</td>\n",
       "      <td>0</td>\n",
       "      <td>0</td>\n",
       "      <td>1</td>\n",
       "      <td>0</td>\n",
       "      <td>0</td>\n",
       "      <td>1</td>\n",
       "      <td>0</td>\n",
       "      <td>0</td>\n",
       "      <td>0</td>\n",
       "      <td>0</td>\n",
       "      <td>0</td>\n",
       "      <td>0</td>\n",
       "      <td>0</td>\n",
       "      <td>0</td>\n",
       "      <td>0</td>\n",
       "      <td>0</td>\n",
       "      <td>1</td>\n",
       "      <td>0</td>\n",
       "      <td>0</td>\n",
       "      <td>0</td>\n",
       "      <td>0</td>\n",
       "      <td>0</td>\n",
       "      <td>0</td>\n",
       "    </tr>\n",
       "    <tr>\n",
       "      <th>7213440</th>\n",
       "      <td>-1.0</td>\n",
       "      <td>84.0</td>\n",
       "      <td>46.0</td>\n",
       "      <td>331.0</td>\n",
       "      <td>0</td>\n",
       "      <td>0</td>\n",
       "      <td>1</td>\n",
       "      <td>0</td>\n",
       "      <td>0</td>\n",
       "      <td>0</td>\n",
       "      <td>0</td>\n",
       "      <td>0</td>\n",
       "      <td>0</td>\n",
       "      <td>0</td>\n",
       "      <td>0</td>\n",
       "      <td>0</td>\n",
       "      <td>0</td>\n",
       "      <td>0</td>\n",
       "      <td>0</td>\n",
       "      <td>0</td>\n",
       "      <td>0</td>\n",
       "      <td>0</td>\n",
       "      <td>0</td>\n",
       "      <td>0</td>\n",
       "      <td>0</td>\n",
       "      <td>0</td>\n",
       "      <td>0</td>\n",
       "      <td>0</td>\n",
       "      <td>0</td>\n",
       "      <td>0</td>\n",
       "      <td>0</td>\n",
       "      <td>0</td>\n",
       "      <td>0</td>\n",
       "      <td>0</td>\n",
       "      <td>0</td>\n",
       "      <td>0</td>\n",
       "      <td>0</td>\n",
       "      <td>0</td>\n",
       "      <td>0</td>\n",
       "      <td>0</td>\n",
       "      <td>0</td>\n",
       "      <td>0</td>\n",
       "      <td>1</td>\n",
       "      <td>0</td>\n",
       "      <td>0</td>\n",
       "      <td>1</td>\n",
       "      <td>0</td>\n",
       "      <td>0</td>\n",
       "      <td>0</td>\n",
       "      <td>0</td>\n",
       "      <td>0</td>\n",
       "      <td>0</td>\n",
       "      <td>0</td>\n",
       "      <td>0</td>\n",
       "      <td>0</td>\n",
       "      <td>0</td>\n",
       "      <td>0</td>\n",
       "      <td>1</td>\n",
       "      <td>0</td>\n",
       "      <td>0</td>\n",
       "      <td>0</td>\n",
       "      <td>0</td>\n",
       "      <td>0</td>\n",
       "      <td>0</td>\n",
       "    </tr>\n",
       "    <tr>\n",
       "      <th>7213441</th>\n",
       "      <td>-4.0</td>\n",
       "      <td>100.0</td>\n",
       "      <td>72.0</td>\n",
       "      <td>331.0</td>\n",
       "      <td>0</td>\n",
       "      <td>0</td>\n",
       "      <td>1</td>\n",
       "      <td>0</td>\n",
       "      <td>0</td>\n",
       "      <td>0</td>\n",
       "      <td>0</td>\n",
       "      <td>0</td>\n",
       "      <td>0</td>\n",
       "      <td>0</td>\n",
       "      <td>0</td>\n",
       "      <td>0</td>\n",
       "      <td>0</td>\n",
       "      <td>0</td>\n",
       "      <td>0</td>\n",
       "      <td>0</td>\n",
       "      <td>0</td>\n",
       "      <td>0</td>\n",
       "      <td>0</td>\n",
       "      <td>0</td>\n",
       "      <td>1</td>\n",
       "      <td>0</td>\n",
       "      <td>0</td>\n",
       "      <td>0</td>\n",
       "      <td>0</td>\n",
       "      <td>0</td>\n",
       "      <td>0</td>\n",
       "      <td>0</td>\n",
       "      <td>0</td>\n",
       "      <td>0</td>\n",
       "      <td>0</td>\n",
       "      <td>0</td>\n",
       "      <td>0</td>\n",
       "      <td>0</td>\n",
       "      <td>0</td>\n",
       "      <td>0</td>\n",
       "      <td>0</td>\n",
       "      <td>0</td>\n",
       "      <td>1</td>\n",
       "      <td>0</td>\n",
       "      <td>0</td>\n",
       "      <td>1</td>\n",
       "      <td>0</td>\n",
       "      <td>0</td>\n",
       "      <td>0</td>\n",
       "      <td>0</td>\n",
       "      <td>0</td>\n",
       "      <td>0</td>\n",
       "      <td>0</td>\n",
       "      <td>0</td>\n",
       "      <td>0</td>\n",
       "      <td>0</td>\n",
       "      <td>0</td>\n",
       "      <td>1</td>\n",
       "      <td>0</td>\n",
       "      <td>0</td>\n",
       "      <td>0</td>\n",
       "      <td>0</td>\n",
       "      <td>0</td>\n",
       "      <td>0</td>\n",
       "    </tr>\n",
       "    <tr>\n",
       "      <th>7213442</th>\n",
       "      <td>6.0</td>\n",
       "      <td>181.0</td>\n",
       "      <td>148.0</td>\n",
       "      <td>936.0</td>\n",
       "      <td>1</td>\n",
       "      <td>0</td>\n",
       "      <td>1</td>\n",
       "      <td>0</td>\n",
       "      <td>0</td>\n",
       "      <td>0</td>\n",
       "      <td>0</td>\n",
       "      <td>0</td>\n",
       "      <td>0</td>\n",
       "      <td>0</td>\n",
       "      <td>0</td>\n",
       "      <td>0</td>\n",
       "      <td>0</td>\n",
       "      <td>0</td>\n",
       "      <td>0</td>\n",
       "      <td>0</td>\n",
       "      <td>0</td>\n",
       "      <td>0</td>\n",
       "      <td>0</td>\n",
       "      <td>0</td>\n",
       "      <td>0</td>\n",
       "      <td>0</td>\n",
       "      <td>1</td>\n",
       "      <td>0</td>\n",
       "      <td>0</td>\n",
       "      <td>0</td>\n",
       "      <td>0</td>\n",
       "      <td>0</td>\n",
       "      <td>0</td>\n",
       "      <td>0</td>\n",
       "      <td>0</td>\n",
       "      <td>0</td>\n",
       "      <td>0</td>\n",
       "      <td>0</td>\n",
       "      <td>0</td>\n",
       "      <td>0</td>\n",
       "      <td>0</td>\n",
       "      <td>0</td>\n",
       "      <td>1</td>\n",
       "      <td>0</td>\n",
       "      <td>0</td>\n",
       "      <td>0</td>\n",
       "      <td>1</td>\n",
       "      <td>0</td>\n",
       "      <td>0</td>\n",
       "      <td>0</td>\n",
       "      <td>0</td>\n",
       "      <td>0</td>\n",
       "      <td>0</td>\n",
       "      <td>0</td>\n",
       "      <td>0</td>\n",
       "      <td>0</td>\n",
       "      <td>0</td>\n",
       "      <td>1</td>\n",
       "      <td>0</td>\n",
       "      <td>0</td>\n",
       "      <td>0</td>\n",
       "      <td>0</td>\n",
       "      <td>0</td>\n",
       "      <td>0</td>\n",
       "    </tr>\n",
       "    <tr>\n",
       "      <th>7213445</th>\n",
       "      <td>8.0</td>\n",
       "      <td>71.0</td>\n",
       "      <td>44.0</td>\n",
       "      <td>130.0</td>\n",
       "      <td>0</td>\n",
       "      <td>0</td>\n",
       "      <td>1</td>\n",
       "      <td>0</td>\n",
       "      <td>0</td>\n",
       "      <td>0</td>\n",
       "      <td>0</td>\n",
       "      <td>0</td>\n",
       "      <td>0</td>\n",
       "      <td>0</td>\n",
       "      <td>0</td>\n",
       "      <td>0</td>\n",
       "      <td>0</td>\n",
       "      <td>0</td>\n",
       "      <td>0</td>\n",
       "      <td>0</td>\n",
       "      <td>0</td>\n",
       "      <td>0</td>\n",
       "      <td>0</td>\n",
       "      <td>0</td>\n",
       "      <td>1</td>\n",
       "      <td>0</td>\n",
       "      <td>0</td>\n",
       "      <td>0</td>\n",
       "      <td>0</td>\n",
       "      <td>0</td>\n",
       "      <td>0</td>\n",
       "      <td>0</td>\n",
       "      <td>0</td>\n",
       "      <td>0</td>\n",
       "      <td>0</td>\n",
       "      <td>0</td>\n",
       "      <td>0</td>\n",
       "      <td>0</td>\n",
       "      <td>0</td>\n",
       "      <td>0</td>\n",
       "      <td>0</td>\n",
       "      <td>0</td>\n",
       "      <td>1</td>\n",
       "      <td>0</td>\n",
       "      <td>0</td>\n",
       "      <td>1</td>\n",
       "      <td>0</td>\n",
       "      <td>0</td>\n",
       "      <td>0</td>\n",
       "      <td>0</td>\n",
       "      <td>0</td>\n",
       "      <td>0</td>\n",
       "      <td>0</td>\n",
       "      <td>0</td>\n",
       "      <td>0</td>\n",
       "      <td>0</td>\n",
       "      <td>0</td>\n",
       "      <td>1</td>\n",
       "      <td>0</td>\n",
       "      <td>0</td>\n",
       "      <td>0</td>\n",
       "      <td>0</td>\n",
       "      <td>0</td>\n",
       "      <td>0</td>\n",
       "    </tr>\n",
       "  </tbody>\n",
       "</table>\n",
       "</div>"
      ],
      "text/plain": [
       "         DEP_DELAY  CRS_ELAPSED_TIME  AIR_TIME  DISTANCE  FLIGHT_STATUS  \\\n",
       "0             -5.0             268.0     225.0    1605.0              0   \n",
       "1             -8.0              99.0      65.0     414.0              0   \n",
       "2             -5.0             134.0     106.0     846.0              0   \n",
       "3              6.0             190.0     157.0    1120.0              0   \n",
       "6             -3.0             206.0     173.0    1222.0              0   \n",
       "7213439       31.0             182.0     142.0    1303.0              1   \n",
       "7213440       -1.0              84.0      46.0     331.0              0   \n",
       "7213441       -4.0             100.0      72.0     331.0              0   \n",
       "7213442        6.0             181.0     148.0     936.0              1   \n",
       "7213445        8.0              71.0      44.0     130.0              0   \n",
       "\n",
       "         OP_CARRIER_Allegiant Air  OP_CARRIER_American Airlines  \\\n",
       "0                               0                             0   \n",
       "1                               0                             0   \n",
       "2                               0                             0   \n",
       "3                               0                             0   \n",
       "6                               0                             0   \n",
       "7213439                         0                             1   \n",
       "7213440                         0                             1   \n",
       "7213441                         0                             1   \n",
       "7213442                         0                             1   \n",
       "7213445                         0                             1   \n",
       "\n",
       "         OP_CARRIER_Delta Airlines  OP_CARRIER_Endeavor Air  \\\n",
       "0                                0                        0   \n",
       "1                                0                        0   \n",
       "2                                0                        0   \n",
       "3                                0                        0   \n",
       "6                                0                        0   \n",
       "7213439                          0                        0   \n",
       "7213440                          0                        0   \n",
       "7213441                          0                        0   \n",
       "7213442                          0                        0   \n",
       "7213445                          0                        0   \n",
       "\n",
       "         OP_CARRIER_Envoy Air  OP_CARRIER_ExpressJet  \\\n",
       "0                           0                      0   \n",
       "1                           0                      0   \n",
       "2                           0                      0   \n",
       "3                           0                      0   \n",
       "6                           0                      0   \n",
       "7213439                     0                      0   \n",
       "7213440                     0                      0   \n",
       "7213441                     0                      0   \n",
       "7213442                     0                      0   \n",
       "7213445                     0                      0   \n",
       "\n",
       "         OP_CARRIER_Frontier Airlines  OP_CARRIER_Hawaiian Airlines  \\\n",
       "0                                   0                             0   \n",
       "1                                   0                             0   \n",
       "2                                   0                             0   \n",
       "3                                   0                             0   \n",
       "6                                   0                             0   \n",
       "7213439                             0                             0   \n",
       "7213440                             0                             0   \n",
       "7213441                             0                             0   \n",
       "7213442                             0                             0   \n",
       "7213445                             0                             0   \n",
       "\n",
       "         OP_CARRIER_JetBlue Airways  OP_CARRIER_Mesa Airline  \\\n",
       "0                                 0                        0   \n",
       "1                                 0                        0   \n",
       "2                                 0                        0   \n",
       "3                                 0                        0   \n",
       "6                                 0                        0   \n",
       "7213439                           0                        0   \n",
       "7213440                           0                        0   \n",
       "7213441                           0                        0   \n",
       "7213442                           0                        0   \n",
       "7213445                           0                        0   \n",
       "\n",
       "         OP_CARRIER_PSA Airlines  OP_CARRIER_Republic Airways  \\\n",
       "0                              0                            0   \n",
       "1                              0                            0   \n",
       "2                              0                            0   \n",
       "3                              0                            0   \n",
       "6                              0                            0   \n",
       "7213439                        0                            0   \n",
       "7213440                        0                            0   \n",
       "7213441                        0                            0   \n",
       "7213442                        0                            0   \n",
       "7213445                        0                            0   \n",
       "\n",
       "         OP_CARRIER_SkyWest Airlines  OP_CARRIER_Southwest Airlines  \\\n",
       "0                                  0                              0   \n",
       "1                                  0                              0   \n",
       "2                                  0                              0   \n",
       "3                                  0                              0   \n",
       "6                                  0                              0   \n",
       "7213439                            0                              0   \n",
       "7213440                            0                              0   \n",
       "7213441                            0                              0   \n",
       "7213442                            0                              0   \n",
       "7213445                            0                              0   \n",
       "\n",
       "         OP_CARRIER_Spirit Airlines  OP_CARRIER_United Airlines  \\\n",
       "0                                 0                           1   \n",
       "1                                 0                           1   \n",
       "2                                 0                           1   \n",
       "3                                 0                           1   \n",
       "6                                 0                           1   \n",
       "7213439                           0                           0   \n",
       "7213440                           0                           0   \n",
       "7213441                           0                           0   \n",
       "7213442                           0                           0   \n",
       "7213445                           0                           0   \n",
       "\n",
       "         OP_CARRIER_Virgin America  DEST_Atlanta  DEST_Boston  DEST_Charlotte  \\\n",
       "0                                0             0            0               0   \n",
       "1                                0             0            0               0   \n",
       "2                                0             0            0               0   \n",
       "3                                0             0            0               0   \n",
       "6                                0             0            0               0   \n",
       "7213439                          0             0            0               0   \n",
       "7213440                          0             0            0               0   \n",
       "7213441                          0             0            0               1   \n",
       "7213442                          0             0            0               0   \n",
       "7213445                          0             0            0               1   \n",
       "\n",
       "         DEST_Chicago  DEST_Dallas-Fort Worth  DEST_Denver  DEST_Detroit  \\\n",
       "0                   0                       0            1             0   \n",
       "1                   0                       0            0             0   \n",
       "2                   0                       0            1             0   \n",
       "3                   1                       0            0             0   \n",
       "6                   0                       0            0             0   \n",
       "7213439             0                       0            0             0   \n",
       "7213440             0                       0            0             0   \n",
       "7213441             0                       0            0             0   \n",
       "7213442             0                       1            0             0   \n",
       "7213445             0                       0            0             0   \n",
       "\n",
       "         DEST_Houston  DEST_Las Vegas  DEST_Los Angeles  DEST_Minneapolis  \\\n",
       "0                   0               0                 0                 0   \n",
       "1                   0               0                 0                 0   \n",
       "2                   0               0                 0                 0   \n",
       "3                   0               0                 0                 0   \n",
       "6                   0               1                 0                 0   \n",
       "7213439             0               0                 0                 0   \n",
       "7213440             0               0                 0                 0   \n",
       "7213441             0               0                 0                 0   \n",
       "7213442             0               0                 0                 0   \n",
       "7213445             0               0                 0                 0   \n",
       "\n",
       "         DEST_New York  DEST_Newark  DEST_Orlando  DEST_Philadelphia  \\\n",
       "0                    0            0             0                  0   \n",
       "1                    0            0             0                  0   \n",
       "2                    0            0             0                  0   \n",
       "3                    0            0             0                  0   \n",
       "6                    0            0             0                  0   \n",
       "7213439              0            0             0                  1   \n",
       "7213440              0            0             0                  0   \n",
       "7213441              0            0             0                  0   \n",
       "7213442              0            0             0                  0   \n",
       "7213445              0            0             0                  0   \n",
       "\n",
       "         DEST_Phoenix  DEST_Salt Lake City  DEST_San Francisco  DEST_Seattle  \\\n",
       "0                   0                    0                   0             0   \n",
       "1                   0                    0                   1             0   \n",
       "2                   0                    0                   0             0   \n",
       "3                   0                    0                   0             0   \n",
       "6                   0                    0                   0             0   \n",
       "7213439             0                    0                   0             0   \n",
       "7213440             0                    0                   0             0   \n",
       "7213441             0                    0                   0             0   \n",
       "7213442             0                    0                   0             0   \n",
       "7213445             0                    0                   0             0   \n",
       "\n",
       "         CRS_DEP_TIME_2  CRS_DEP_TIME_3  CRS_DEP_TIME_4  CRS_ARR_TIME_2  \\\n",
       "0                     0               1               0               0   \n",
       "1                     1               0               0               0   \n",
       "2                     0               1               0               0   \n",
       "3                     0               1               0               0   \n",
       "6                     1               0               0               1   \n",
       "7213439               0               0               1               0   \n",
       "7213440               0               1               0               0   \n",
       "7213441               0               1               0               0   \n",
       "7213442               0               1               0               0   \n",
       "7213445               0               1               0               0   \n",
       "\n",
       "         CRS_ARR_TIME_3  CRS_ARR_TIME_4  MONTH_2  MONTH_3  MONTH_4  MONTH_5  \\\n",
       "0                     1               0        0        0        0        0   \n",
       "1                     1               0        0        0        0        0   \n",
       "2                     1               0        0        0        0        0   \n",
       "3                     1               0        0        0        0        0   \n",
       "6                     0               0        0        0        0        0   \n",
       "7213439               0               1        0        0        0        0   \n",
       "7213440               1               0        0        0        0        0   \n",
       "7213441               1               0        0        0        0        0   \n",
       "7213442               0               1        0        0        0        0   \n",
       "7213445               1               0        0        0        0        0   \n",
       "\n",
       "         MONTH_6  MONTH_7  MONTH_8  MONTH_9  MONTH_10  MONTH_11  MONTH_12  \\\n",
       "0              0        0        0        0         0         0         0   \n",
       "1              0        0        0        0         0         0         0   \n",
       "2              0        0        0        0         0         0         0   \n",
       "3              0        0        0        0         0         0         0   \n",
       "6              0        0        0        0         0         0         0   \n",
       "7213439        0        0        0        0         0         0         1   \n",
       "7213440        0        0        0        0         0         0         1   \n",
       "7213441        0        0        0        0         0         0         1   \n",
       "7213442        0        0        0        0         0         0         1   \n",
       "7213445        0        0        0        0         0         0         1   \n",
       "\n",
       "         WEEKDAY_1  WEEKDAY_2  WEEKDAY_3  WEEKDAY_4  WEEKDAY_5  WEEKDAY_6  \n",
       "0                0          0          0          0          0          0  \n",
       "1                0          0          0          0          0          0  \n",
       "2                0          0          0          0          0          0  \n",
       "3                0          0          0          0          0          0  \n",
       "6                0          0          0          0          0          0  \n",
       "7213439          0          0          0          0          0          0  \n",
       "7213440          0          0          0          0          0          0  \n",
       "7213441          0          0          0          0          0          0  \n",
       "7213442          0          0          0          0          0          0  \n",
       "7213445          0          0          0          0          0          0  "
      ]
     },
     "execution_count": 2,
     "metadata": {},
     "output_type": "execute_result"
    }
   ],
   "source": [
    "dfm_ready = pd.read_csv('dfm_ready.csv', index_col=0)\n",
    "dfm_ready.head().append(dfm_ready.tail())"
   ]
  },
  {
   "cell_type": "markdown",
   "metadata": {},
   "source": [
    "The next cell will make sure that all my features are in floating format, followed by a double check with the .info() function"
   ]
  },
  {
   "cell_type": "code",
   "execution_count": 3,
   "metadata": {
    "ExecuteTime": {
     "end_time": "2020-10-14T21:52:20.235354Z",
     "start_time": "2020-10-14T21:52:18.798061Z"
    }
   },
   "outputs": [],
   "source": [
    "df = dfm_ready.astype(float)"
   ]
  },
  {
   "cell_type": "code",
   "execution_count": 4,
   "metadata": {
    "ExecuteTime": {
     "end_time": "2020-10-14T21:52:20.401045Z",
     "start_time": "2020-10-14T21:52:20.388404Z"
    }
   },
   "outputs": [
    {
     "name": "stdout",
     "output_type": "stream",
     "text": [
      "<class 'pandas.core.frame.DataFrame'>\n",
      "Int64Index: 4008257 entries, 0 to 7213445\n",
      "Data columns (total 64 columns):\n",
      " #   Column                         Dtype  \n",
      "---  ------                         -----  \n",
      " 0   DEP_DELAY                      float64\n",
      " 1   CRS_ELAPSED_TIME               float64\n",
      " 2   AIR_TIME                       float64\n",
      " 3   DISTANCE                       float64\n",
      " 4   FLIGHT_STATUS                  float64\n",
      " 5   OP_CARRIER_Allegiant Air       float64\n",
      " 6   OP_CARRIER_American Airlines   float64\n",
      " 7   OP_CARRIER_Delta Airlines      float64\n",
      " 8   OP_CARRIER_Endeavor Air        float64\n",
      " 9   OP_CARRIER_Envoy Air           float64\n",
      " 10  OP_CARRIER_ExpressJet          float64\n",
      " 11  OP_CARRIER_Frontier Airlines   float64\n",
      " 12  OP_CARRIER_Hawaiian Airlines   float64\n",
      " 13  OP_CARRIER_JetBlue Airways     float64\n",
      " 14  OP_CARRIER_Mesa Airline        float64\n",
      " 15  OP_CARRIER_PSA Airlines        float64\n",
      " 16  OP_CARRIER_Republic Airways    float64\n",
      " 17  OP_CARRIER_SkyWest Airlines    float64\n",
      " 18  OP_CARRIER_Southwest Airlines  float64\n",
      " 19  OP_CARRIER_Spirit Airlines     float64\n",
      " 20  OP_CARRIER_United Airlines     float64\n",
      " 21  OP_CARRIER_Virgin America      float64\n",
      " 22  DEST_Atlanta                   float64\n",
      " 23  DEST_Boston                    float64\n",
      " 24  DEST_Charlotte                 float64\n",
      " 25  DEST_Chicago                   float64\n",
      " 26  DEST_Dallas-Fort Worth         float64\n",
      " 27  DEST_Denver                    float64\n",
      " 28  DEST_Detroit                   float64\n",
      " 29  DEST_Houston                   float64\n",
      " 30  DEST_Las Vegas                 float64\n",
      " 31  DEST_Los Angeles               float64\n",
      " 32  DEST_Minneapolis               float64\n",
      " 33  DEST_New York                  float64\n",
      " 34  DEST_Newark                    float64\n",
      " 35  DEST_Orlando                   float64\n",
      " 36  DEST_Philadelphia              float64\n",
      " 37  DEST_Phoenix                   float64\n",
      " 38  DEST_Salt Lake City            float64\n",
      " 39  DEST_San Francisco             float64\n",
      " 40  DEST_Seattle                   float64\n",
      " 41  CRS_DEP_TIME_2                 float64\n",
      " 42  CRS_DEP_TIME_3                 float64\n",
      " 43  CRS_DEP_TIME_4                 float64\n",
      " 44  CRS_ARR_TIME_2                 float64\n",
      " 45  CRS_ARR_TIME_3                 float64\n",
      " 46  CRS_ARR_TIME_4                 float64\n",
      " 47  MONTH_2                        float64\n",
      " 48  MONTH_3                        float64\n",
      " 49  MONTH_4                        float64\n",
      " 50  MONTH_5                        float64\n",
      " 51  MONTH_6                        float64\n",
      " 52  MONTH_7                        float64\n",
      " 53  MONTH_8                        float64\n",
      " 54  MONTH_9                        float64\n",
      " 55  MONTH_10                       float64\n",
      " 56  MONTH_11                       float64\n",
      " 57  MONTH_12                       float64\n",
      " 58  WEEKDAY_1                      float64\n",
      " 59  WEEKDAY_2                      float64\n",
      " 60  WEEKDAY_3                      float64\n",
      " 61  WEEKDAY_4                      float64\n",
      " 62  WEEKDAY_5                      float64\n",
      " 63  WEEKDAY_6                      float64\n",
      "dtypes: float64(64)\n",
      "memory usage: 1.9 GB\n"
     ]
    }
   ],
   "source": [
    "df.info()"
   ]
  },
  {
   "cell_type": "markdown",
   "metadata": {},
   "source": [
    "=================================================================================="
   ]
  },
  {
   "cell_type": "markdown",
   "metadata": {},
   "source": [
    "# Function Library"
   ]
  },
  {
   "cell_type": "markdown",
   "metadata": {},
   "source": [
    "This is a quick parenthesis to write down a few functions that I will be using to evaluate every model once finish training it. "
   ]
  },
  {
   "cell_type": "code",
   "execution_count": 117,
   "metadata": {
    "ExecuteTime": {
     "end_time": "2020-10-15T14:37:31.495394Z",
     "start_time": "2020-10-15T14:37:31.489870Z"
    }
   },
   "outputs": [],
   "source": [
    "def visualize_training_results(results):\n",
    "    history = results.history\n",
    "    plt.figure()\n",
    "    plt.plot(history['val_loss'])\n",
    "    plt.plot(history['loss'])\n",
    "    plt.legend(['val_loss', 'loss'])\n",
    "    plt.title('LOSS', fontsize=14)\n",
    "    plt.xlabel('Epochs', fontsize=12)\n",
    "    plt.ylabel('Loss', fontsize=12)\n",
    "    plt.show()\n",
    "    \n",
    "    plt.figure()\n",
    "    plt.plot(history['val_acc'])\n",
    "    plt.plot(history['acc'])\n",
    "    plt.legend(['val_acc', 'acc'])\n",
    "    plt.title('ACCURACY', fontsize=14)\n",
    "    plt.xlabel('Epochs', fontsize=12)\n",
    "    plt.ylabel('Accuracy', fontsize=12)\n",
    "    plt.show()"
   ]
  },
  {
   "cell_type": "code",
   "execution_count": 121,
   "metadata": {
    "ExecuteTime": {
     "end_time": "2020-10-15T14:43:21.746980Z",
     "start_time": "2020-10-15T14:43:21.740738Z"
    }
   },
   "outputs": [],
   "source": [
    "def conf_matrix(conf_mat):\n",
    "    \n",
    "    conf_mat = pd.DataFrame(conf_mat, index = ['0', '1'], columns = ['0', '1'])\n",
    "    sns.set(font_scale=1.4)\n",
    "    plt.figure(figsize = (8,7))\n",
    "    sns.heatmap(conf_mat, cmap= \"Blues\", linecolor = 'black' , linewidth = 1, annot = True, fmt='')\n",
    "    plt.xlabel('Predicted', fontsize=14)\n",
    "    plt.ylabel('True', fontsize=14)\n",
    "    plt.show()\n"
   ]
  },
  {
   "cell_type": "code",
   "execution_count": 92,
   "metadata": {
    "ExecuteTime": {
     "end_time": "2020-10-15T11:45:40.336096Z",
     "start_time": "2020-10-15T11:45:40.331752Z"
    }
   },
   "outputs": [],
   "source": [
    "def model_metrics(a, b):\n",
    "    \n",
    "    accuracy = metrics.accuracy_score(a, b)\n",
    "    precision = precision_score(a, b)\n",
    "    recall = recall_score(a, b)\n",
    "    f1 = f1_score(a, b)\n",
    "\n",
    "    print('Accuracy:', round(accuracy*100, 2),'%')\n",
    "    print('Precision score:', round(precision*100, 2),'%')\n",
    "    print('Recall score:', round(recall*100, 2),'%')\n",
    "    print('F1 score:', round(f1*100, 2),'%')"
   ]
  },
  {
   "cell_type": "markdown",
   "metadata": {},
   "source": [
    "=================================================================================="
   ]
  },
  {
   "cell_type": "markdown",
   "metadata": {},
   "source": [
    "<b>Target (y) and Features (X) definitions:</b>"
   ]
  },
  {
   "cell_type": "markdown",
   "metadata": {},
   "source": [
    "The first model of this Notebook will have only the FLIGHT_STATUS (target) dropped from the input data. The reason for this is to be able to compare the accuracy and other metrics with the other models which will have the DEP_DELAY and all the MONTHS dropped as well. The months have been dropped following a feature selection done, which suggested that the months would not affect the model and by looking at the plots on the EDA, this is clear as there are no real trends or patterns with the months"
   ]
  },
  {
   "cell_type": "code",
   "execution_count": 6,
   "metadata": {
    "ExecuteTime": {
     "end_time": "2020-10-14T21:52:49.645818Z",
     "start_time": "2020-10-14T21:52:43.141644Z"
    }
   },
   "outputs": [],
   "source": [
    "y = df['FLIGHT_STATUS']\n",
    "X = df.drop(['FLIGHT_STATUS'], axis=1)"
   ]
  },
  {
   "cell_type": "markdown",
   "metadata": {},
   "source": [
    "# Neural Network Conditions\n",
    "\n",
    "1. Data has to be purely numerical<br>\n",
    "2. Data cannot contain missing values<br>\n",
    "3. Data has to be Normalized<br>"
   ]
  },
  {
   "cell_type": "code",
   "execution_count": 146,
   "metadata": {
    "ExecuteTime": {
     "end_time": "2020-10-15T17:02:26.468135Z",
     "start_time": "2020-10-15T17:02:23.221146Z"
    }
   },
   "outputs": [
    {
     "data": {
      "text/plain": [
       "0"
      ]
     },
     "execution_count": 146,
     "metadata": {},
     "output_type": "execute_result"
    }
   ],
   "source": [
    "df.isna().sum().sum()"
   ]
  },
  {
   "cell_type": "markdown",
   "metadata": {},
   "source": [
    "We know the data is purely numerical and that it has no missing values, now all is needed is to normalized and we will do it by using the <b>StandardScaler</b>"
   ]
  },
  {
   "cell_type": "code",
   "execution_count": 7,
   "metadata": {
    "ExecuteTime": {
     "end_time": "2020-10-14T21:53:01.223879Z",
     "start_time": "2020-10-14T21:52:52.071446Z"
    }
   },
   "outputs": [],
   "source": [
    "col_names = list(df.columns)\n",
    "\n",
    "s_scaler = preprocessing.StandardScaler()\n",
    "df_s = s_scaler.fit_transform(df)\n",
    "\n",
    "df_s = pd.DataFrame(df_s, columns=col_names)"
   ]
  },
  {
   "cell_type": "code",
   "execution_count": 8,
   "metadata": {
    "ExecuteTime": {
     "end_time": "2020-10-14T21:53:01.716359Z",
     "start_time": "2020-10-14T21:53:01.626703Z"
    }
   },
   "outputs": [
    {
     "data": {
      "text/html": [
       "<div>\n",
       "<style scoped>\n",
       "    .dataframe tbody tr th:only-of-type {\n",
       "        vertical-align: middle;\n",
       "    }\n",
       "\n",
       "    .dataframe tbody tr th {\n",
       "        vertical-align: top;\n",
       "    }\n",
       "\n",
       "    .dataframe thead th {\n",
       "        text-align: right;\n",
       "    }\n",
       "</style>\n",
       "<table border=\"1\" class=\"dataframe\">\n",
       "  <thead>\n",
       "    <tr style=\"text-align: right;\">\n",
       "      <th></th>\n",
       "      <th>DEP_DELAY</th>\n",
       "      <th>CRS_ELAPSED_TIME</th>\n",
       "      <th>AIR_TIME</th>\n",
       "      <th>DISTANCE</th>\n",
       "      <th>FLIGHT_STATUS</th>\n",
       "      <th>OP_CARRIER_Allegiant Air</th>\n",
       "      <th>OP_CARRIER_American Airlines</th>\n",
       "      <th>OP_CARRIER_Delta Airlines</th>\n",
       "      <th>OP_CARRIER_Endeavor Air</th>\n",
       "      <th>OP_CARRIER_Envoy Air</th>\n",
       "      <th>OP_CARRIER_ExpressJet</th>\n",
       "      <th>OP_CARRIER_Frontier Airlines</th>\n",
       "      <th>OP_CARRIER_Hawaiian Airlines</th>\n",
       "      <th>OP_CARRIER_JetBlue Airways</th>\n",
       "      <th>OP_CARRIER_Mesa Airline</th>\n",
       "      <th>OP_CARRIER_PSA Airlines</th>\n",
       "      <th>OP_CARRIER_Republic Airways</th>\n",
       "      <th>OP_CARRIER_SkyWest Airlines</th>\n",
       "      <th>OP_CARRIER_Southwest Airlines</th>\n",
       "      <th>OP_CARRIER_Spirit Airlines</th>\n",
       "      <th>OP_CARRIER_United Airlines</th>\n",
       "      <th>OP_CARRIER_Virgin America</th>\n",
       "      <th>DEST_Atlanta</th>\n",
       "      <th>DEST_Boston</th>\n",
       "      <th>DEST_Charlotte</th>\n",
       "      <th>DEST_Chicago</th>\n",
       "      <th>DEST_Dallas-Fort Worth</th>\n",
       "      <th>DEST_Denver</th>\n",
       "      <th>DEST_Detroit</th>\n",
       "      <th>DEST_Houston</th>\n",
       "      <th>DEST_Las Vegas</th>\n",
       "      <th>DEST_Los Angeles</th>\n",
       "      <th>DEST_Minneapolis</th>\n",
       "      <th>DEST_New York</th>\n",
       "      <th>DEST_Newark</th>\n",
       "      <th>DEST_Orlando</th>\n",
       "      <th>DEST_Philadelphia</th>\n",
       "      <th>DEST_Phoenix</th>\n",
       "      <th>DEST_Salt Lake City</th>\n",
       "      <th>DEST_San Francisco</th>\n",
       "      <th>DEST_Seattle</th>\n",
       "      <th>CRS_DEP_TIME_2</th>\n",
       "      <th>CRS_DEP_TIME_3</th>\n",
       "      <th>CRS_DEP_TIME_4</th>\n",
       "      <th>CRS_ARR_TIME_2</th>\n",
       "      <th>CRS_ARR_TIME_3</th>\n",
       "      <th>CRS_ARR_TIME_4</th>\n",
       "      <th>MONTH_2</th>\n",
       "      <th>MONTH_3</th>\n",
       "      <th>MONTH_4</th>\n",
       "      <th>MONTH_5</th>\n",
       "      <th>MONTH_6</th>\n",
       "      <th>MONTH_7</th>\n",
       "      <th>MONTH_8</th>\n",
       "      <th>MONTH_9</th>\n",
       "      <th>MONTH_10</th>\n",
       "      <th>MONTH_11</th>\n",
       "      <th>MONTH_12</th>\n",
       "      <th>WEEKDAY_1</th>\n",
       "      <th>WEEKDAY_2</th>\n",
       "      <th>WEEKDAY_3</th>\n",
       "      <th>WEEKDAY_4</th>\n",
       "      <th>WEEKDAY_5</th>\n",
       "      <th>WEEKDAY_6</th>\n",
       "    </tr>\n",
       "  </thead>\n",
       "  <tbody>\n",
       "    <tr>\n",
       "      <th>0</th>\n",
       "      <td>-0.321419</td>\n",
       "      <td>1.534191</td>\n",
       "      <td>1.418987</td>\n",
       "      <td>1.176912</td>\n",
       "      <td>-0.768926</td>\n",
       "      <td>-0.081396</td>\n",
       "      <td>-0.435286</td>\n",
       "      <td>-0.442703</td>\n",
       "      <td>-0.180393</td>\n",
       "      <td>-0.187732</td>\n",
       "      <td>-0.159841</td>\n",
       "      <td>-0.126919</td>\n",
       "      <td>-0.036401</td>\n",
       "      <td>-0.212356</td>\n",
       "      <td>-0.159955</td>\n",
       "      <td>-0.187231</td>\n",
       "      <td>-0.217581</td>\n",
       "      <td>-0.332741</td>\n",
       "      <td>-0.406602</td>\n",
       "      <td>-0.164254</td>\n",
       "      <td>2.847426</td>\n",
       "      <td>-0.058525</td>\n",
       "      <td>-0.326623</td>\n",
       "      <td>-0.193125</td>\n",
       "      <td>-0.244507</td>\n",
       "      <td>-0.337433</td>\n",
       "      <td>-0.269893</td>\n",
       "      <td>4.021508</td>\n",
       "      <td>-0.200975</td>\n",
       "      <td>-0.245629</td>\n",
       "      <td>-0.203773</td>\n",
       "      <td>-0.240557</td>\n",
       "      <td>-0.202074</td>\n",
       "      <td>-0.278545</td>\n",
       "      <td>-0.18927</td>\n",
       "      <td>-0.194314</td>\n",
       "      <td>-0.170627</td>\n",
       "      <td>-0.215048</td>\n",
       "      <td>-0.169988</td>\n",
       "      <td>-0.212396</td>\n",
       "      <td>-0.189515</td>\n",
       "      <td>-0.789294</td>\n",
       "      <td>1.317508</td>\n",
       "      <td>-0.469889</td>\n",
       "      <td>-0.675979</td>\n",
       "      <td>1.355474</td>\n",
       "      <td>-0.666541</td>\n",
       "      <td>-0.279066</td>\n",
       "      <td>-0.301892</td>\n",
       "      <td>-0.301231</td>\n",
       "      <td>-0.306987</td>\n",
       "      <td>-0.308162</td>\n",
       "      <td>-0.31287</td>\n",
       "      <td>-0.313251</td>\n",
       "      <td>-0.298598</td>\n",
       "      <td>-0.307719</td>\n",
       "      <td>-0.297483</td>\n",
       "      <td>-0.298999</td>\n",
       "      <td>-0.409388</td>\n",
       "      <td>-0.411835</td>\n",
       "      <td>-0.417282</td>\n",
       "      <td>-0.418911</td>\n",
       "      <td>-0.371936</td>\n",
       "      <td>-0.405995</td>\n",
       "    </tr>\n",
       "    <tr>\n",
       "      <th>1</th>\n",
       "      <td>-0.384744</td>\n",
       "      <td>-0.703566</td>\n",
       "      <td>-0.754700</td>\n",
       "      <td>-0.729017</td>\n",
       "      <td>-0.768926</td>\n",
       "      <td>-0.081396</td>\n",
       "      <td>-0.435286</td>\n",
       "      <td>-0.442703</td>\n",
       "      <td>-0.180393</td>\n",
       "      <td>-0.187732</td>\n",
       "      <td>-0.159841</td>\n",
       "      <td>-0.126919</td>\n",
       "      <td>-0.036401</td>\n",
       "      <td>-0.212356</td>\n",
       "      <td>-0.159955</td>\n",
       "      <td>-0.187231</td>\n",
       "      <td>-0.217581</td>\n",
       "      <td>-0.332741</td>\n",
       "      <td>-0.406602</td>\n",
       "      <td>-0.164254</td>\n",
       "      <td>2.847426</td>\n",
       "      <td>-0.058525</td>\n",
       "      <td>-0.326623</td>\n",
       "      <td>-0.193125</td>\n",
       "      <td>-0.244507</td>\n",
       "      <td>-0.337433</td>\n",
       "      <td>-0.269893</td>\n",
       "      <td>-0.248663</td>\n",
       "      <td>-0.200975</td>\n",
       "      <td>-0.245629</td>\n",
       "      <td>-0.203773</td>\n",
       "      <td>-0.240557</td>\n",
       "      <td>-0.202074</td>\n",
       "      <td>-0.278545</td>\n",
       "      <td>-0.18927</td>\n",
       "      <td>-0.194314</td>\n",
       "      <td>-0.170627</td>\n",
       "      <td>-0.215048</td>\n",
       "      <td>-0.169988</td>\n",
       "      <td>4.708181</td>\n",
       "      <td>-0.189515</td>\n",
       "      <td>1.266955</td>\n",
       "      <td>-0.759008</td>\n",
       "      <td>-0.469889</td>\n",
       "      <td>-0.675979</td>\n",
       "      <td>1.355474</td>\n",
       "      <td>-0.666541</td>\n",
       "      <td>-0.279066</td>\n",
       "      <td>-0.301892</td>\n",
       "      <td>-0.301231</td>\n",
       "      <td>-0.306987</td>\n",
       "      <td>-0.308162</td>\n",
       "      <td>-0.31287</td>\n",
       "      <td>-0.313251</td>\n",
       "      <td>-0.298598</td>\n",
       "      <td>-0.307719</td>\n",
       "      <td>-0.297483</td>\n",
       "      <td>-0.298999</td>\n",
       "      <td>-0.409388</td>\n",
       "      <td>-0.411835</td>\n",
       "      <td>-0.417282</td>\n",
       "      <td>-0.418911</td>\n",
       "      <td>-0.371936</td>\n",
       "      <td>-0.405995</td>\n",
       "    </tr>\n",
       "  </tbody>\n",
       "</table>\n",
       "</div>"
      ],
      "text/plain": [
       "   DEP_DELAY  CRS_ELAPSED_TIME  AIR_TIME  DISTANCE  FLIGHT_STATUS  \\\n",
       "0  -0.321419          1.534191  1.418987  1.176912      -0.768926   \n",
       "1  -0.384744         -0.703566 -0.754700 -0.729017      -0.768926   \n",
       "\n",
       "   OP_CARRIER_Allegiant Air  OP_CARRIER_American Airlines  \\\n",
       "0                 -0.081396                     -0.435286   \n",
       "1                 -0.081396                     -0.435286   \n",
       "\n",
       "   OP_CARRIER_Delta Airlines  OP_CARRIER_Endeavor Air  OP_CARRIER_Envoy Air  \\\n",
       "0                  -0.442703                -0.180393             -0.187732   \n",
       "1                  -0.442703                -0.180393             -0.187732   \n",
       "\n",
       "   OP_CARRIER_ExpressJet  OP_CARRIER_Frontier Airlines  \\\n",
       "0              -0.159841                     -0.126919   \n",
       "1              -0.159841                     -0.126919   \n",
       "\n",
       "   OP_CARRIER_Hawaiian Airlines  OP_CARRIER_JetBlue Airways  \\\n",
       "0                     -0.036401                   -0.212356   \n",
       "1                     -0.036401                   -0.212356   \n",
       "\n",
       "   OP_CARRIER_Mesa Airline  OP_CARRIER_PSA Airlines  \\\n",
       "0                -0.159955                -0.187231   \n",
       "1                -0.159955                -0.187231   \n",
       "\n",
       "   OP_CARRIER_Republic Airways  OP_CARRIER_SkyWest Airlines  \\\n",
       "0                    -0.217581                    -0.332741   \n",
       "1                    -0.217581                    -0.332741   \n",
       "\n",
       "   OP_CARRIER_Southwest Airlines  OP_CARRIER_Spirit Airlines  \\\n",
       "0                      -0.406602                   -0.164254   \n",
       "1                      -0.406602                   -0.164254   \n",
       "\n",
       "   OP_CARRIER_United Airlines  OP_CARRIER_Virgin America  DEST_Atlanta  \\\n",
       "0                    2.847426                  -0.058525     -0.326623   \n",
       "1                    2.847426                  -0.058525     -0.326623   \n",
       "\n",
       "   DEST_Boston  DEST_Charlotte  DEST_Chicago  DEST_Dallas-Fort Worth  \\\n",
       "0    -0.193125       -0.244507     -0.337433               -0.269893   \n",
       "1    -0.193125       -0.244507     -0.337433               -0.269893   \n",
       "\n",
       "   DEST_Denver  DEST_Detroit  DEST_Houston  DEST_Las Vegas  DEST_Los Angeles  \\\n",
       "0     4.021508     -0.200975     -0.245629       -0.203773         -0.240557   \n",
       "1    -0.248663     -0.200975     -0.245629       -0.203773         -0.240557   \n",
       "\n",
       "   DEST_Minneapolis  DEST_New York  DEST_Newark  DEST_Orlando  \\\n",
       "0         -0.202074      -0.278545     -0.18927     -0.194314   \n",
       "1         -0.202074      -0.278545     -0.18927     -0.194314   \n",
       "\n",
       "   DEST_Philadelphia  DEST_Phoenix  DEST_Salt Lake City  DEST_San Francisco  \\\n",
       "0          -0.170627     -0.215048            -0.169988           -0.212396   \n",
       "1          -0.170627     -0.215048            -0.169988            4.708181   \n",
       "\n",
       "   DEST_Seattle  CRS_DEP_TIME_2  CRS_DEP_TIME_3  CRS_DEP_TIME_4  \\\n",
       "0     -0.189515       -0.789294        1.317508       -0.469889   \n",
       "1     -0.189515        1.266955       -0.759008       -0.469889   \n",
       "\n",
       "   CRS_ARR_TIME_2  CRS_ARR_TIME_3  CRS_ARR_TIME_4   MONTH_2   MONTH_3  \\\n",
       "0       -0.675979        1.355474       -0.666541 -0.279066 -0.301892   \n",
       "1       -0.675979        1.355474       -0.666541 -0.279066 -0.301892   \n",
       "\n",
       "    MONTH_4   MONTH_5   MONTH_6  MONTH_7   MONTH_8   MONTH_9  MONTH_10  \\\n",
       "0 -0.301231 -0.306987 -0.308162 -0.31287 -0.313251 -0.298598 -0.307719   \n",
       "1 -0.301231 -0.306987 -0.308162 -0.31287 -0.313251 -0.298598 -0.307719   \n",
       "\n",
       "   MONTH_11  MONTH_12  WEEKDAY_1  WEEKDAY_2  WEEKDAY_3  WEEKDAY_4  WEEKDAY_5  \\\n",
       "0 -0.297483 -0.298999  -0.409388  -0.411835  -0.417282  -0.418911  -0.371936   \n",
       "1 -0.297483 -0.298999  -0.409388  -0.411835  -0.417282  -0.418911  -0.371936   \n",
       "\n",
       "   WEEKDAY_6  \n",
       "0  -0.405995  \n",
       "1  -0.405995  "
      ]
     },
     "execution_count": 8,
     "metadata": {},
     "output_type": "execute_result"
    }
   ],
   "source": [
    "df_s.head(2)"
   ]
  },
  {
   "cell_type": "code",
   "execution_count": 10,
   "metadata": {
    "ExecuteTime": {
     "end_time": "2020-10-14T21:53:58.128575Z",
     "start_time": "2020-10-14T21:53:50.399830Z"
    }
   },
   "outputs": [],
   "source": [
    "X_train, X_test, y_train, y_test = train_test_split(X, y, test_size=0.25)"
   ]
  },
  {
   "cell_type": "markdown",
   "metadata": {},
   "source": [
    "# Modeling"
   ]
  },
  {
   "cell_type": "markdown",
   "metadata": {},
   "source": [
    "## Model 1"
   ]
  },
  {
   "cell_type": "code",
   "execution_count": 110,
   "metadata": {
    "ExecuteTime": {
     "end_time": "2020-10-15T12:18:31.507689Z",
     "start_time": "2020-10-15T12:18:31.459201Z"
    }
   },
   "outputs": [
    {
     "name": "stdout",
     "output_type": "stream",
     "text": [
      "_________________________________________________________________\n",
      "Layer (type)                 Output Shape              Param #   \n",
      "=================================================================\n",
      "dense_63 (Dense)             (None, 50)                3200      \n",
      "_________________________________________________________________\n",
      "dense_64 (Dense)             (None, 30)                1530      \n",
      "_________________________________________________________________\n",
      "dense_65 (Dense)             (None, 10)                310       \n",
      "_________________________________________________________________\n",
      "dense_66 (Dense)             (None, 1)                 11        \n",
      "=================================================================\n",
      "Total params: 5,051\n",
      "Trainable params: 5,051\n",
      "Non-trainable params: 0\n",
      "_________________________________________________________________\n"
     ]
    }
   ],
   "source": [
    "model_1 = Sequential()\n",
    "\n",
    "model_1.add(Dense(50, activation='relu', input_shape=(63,)))\n",
    "\n",
    "model_1.add(Dense(30, activation='relu'))\n",
    "\n",
    "model_1.add(Dense(10, activation='relu'))\n",
    "\n",
    "model_1.add(Dense(1, activation='sigmoid'))\n",
    "\n",
    "model_1.summary()"
   ]
  },
  {
   "cell_type": "code",
   "execution_count": 111,
   "metadata": {
    "ExecuteTime": {
     "end_time": "2020-10-15T12:18:32.281367Z",
     "start_time": "2020-10-15T12:18:32.245874Z"
    }
   },
   "outputs": [],
   "source": [
    "model_1.compile(loss='binary_crossentropy', optimizer='adam', metrics=['accuracy'])"
   ]
  },
  {
   "cell_type": "code",
   "execution_count": 112,
   "metadata": {
    "ExecuteTime": {
     "end_time": "2020-10-15T13:06:22.586710Z",
     "start_time": "2020-10-15T12:18:32.856938Z"
    },
    "scrolled": false
   },
   "outputs": [
    {
     "name": "stdout",
     "output_type": "stream",
     "text": [
      "Train on 2705572 samples, validate on 300620 samples\n",
      "Epoch 1/10\n",
      "2705572/2705572 [==============================] - 142s 52us/step - loss: 0.3436 - acc: 0.8577 - val_loss: 0.3239 - val_acc: 0.8663\n",
      "Epoch 2/10\n",
      "2705572/2705572 [==============================] - 137s 51us/step - loss: 0.3276 - acc: 0.8640 - val_loss: 0.3245 - val_acc: 0.8666\n",
      "Epoch 3/10\n",
      "2705572/2705572 [==============================] - 129s 48us/step - loss: 0.3259 - acc: 0.8648 - val_loss: 0.3260 - val_acc: 0.8659\n",
      "Epoch 4/10\n",
      "2705572/2705572 [==============================] - 123s 45us/step - loss: 0.3248 - acc: 0.8653 - val_loss: 0.3301 - val_acc: 0.8608\n",
      "Epoch 5/10\n",
      "2705572/2705572 [==============================] - 123s 45us/step - loss: 0.3243 - acc: 0.8655 - val_loss: 0.3208 - val_acc: 0.8672\n",
      "Epoch 6/10\n",
      "2705572/2705572 [==============================] - 124s 46us/step - loss: 0.3234 - acc: 0.8658 - val_loss: 0.3255 - val_acc: 0.8648\n",
      "Epoch 7/10\n",
      "2705572/2705572 [==============================] - 125s 46us/step - loss: 0.3233 - acc: 0.8660 - val_loss: 0.3229 - val_acc: 0.8665\n",
      "Epoch 8/10\n",
      "2705572/2705572 [==============================] - 1680s 621us/step - loss: 0.3227 - acc: 0.8661 - val_loss: 0.3256 - val_acc: 0.8648\n",
      "Epoch 9/10\n",
      "2705572/2705572 [==============================] - 140s 52us/step - loss: 0.3221 - acc: 0.8663 - val_loss: 0.3274 - val_acc: 0.8646\n",
      "Epoch 10/10\n",
      "2705572/2705572 [==============================] - 147s 54us/step - loss: 0.3217 - acc: 0.8666 - val_loss: 0.3223 - val_acc: 0.8661\n"
     ]
    }
   ],
   "source": [
    "results1 = model_1.fit(X_train, y_train, epochs=10, batch_size=32, validation_split=0.1)"
   ]
  },
  {
   "cell_type": "code",
   "execution_count": 118,
   "metadata": {
    "ExecuteTime": {
     "end_time": "2020-10-15T14:37:36.625247Z",
     "start_time": "2020-10-15T14:37:36.324406Z"
    }
   },
   "outputs": [
    {
     "data": {
      "image/png": "[encoded data removed]",
      "text/plain": [
       "<Figure size 432x288 with 1 Axes>"
      ]
     },
     "metadata": {},
     "output_type": "display_data"
    },
    {
     "data": {
      "image/png": "[encoded data removed]",
      "text/plain": [
       "<Figure size 432x288 with 1 Axes>"
      ]
     },
     "metadata": {},
     "output_type": "display_data"
    }
   ],
   "source": [
    "visualize_training_results(results1)"
   ]
  },
  {
   "cell_type": "code",
   "execution_count": 128,
   "metadata": {
    "ExecuteTime": {
     "end_time": "2020-10-15T14:46:51.476780Z",
     "start_time": "2020-10-15T14:46:34.505162Z"
    }
   },
   "outputs": [],
   "source": [
    "y_pred_m1 = model_1.predict(X_test)\n",
    "y_pred_m1 =(y_pred_m1 > 0.5)"
   ]
  },
  {
   "cell_type": "code",
   "execution_count": 129,
   "metadata": {
    "ExecuteTime": {
     "end_time": "2020-10-15T14:47:05.172628Z",
     "start_time": "2020-10-15T14:47:01.147235Z"
    }
   },
   "outputs": [
    {
     "name": "stdout",
     "output_type": "stream",
     "text": [
      "[[609344  19891]\n",
      " [113924 258906]]\n",
      "------------------\n",
      "              precision    recall  f1-score   support\n",
      "\n",
      "         0.0       0.84      0.97      0.90    629235\n",
      "         1.0       0.93      0.69      0.79    372830\n",
      "\n",
      "    accuracy                           0.87   1002065\n",
      "   macro avg       0.89      0.83      0.85   1002065\n",
      "weighted avg       0.87      0.87      0.86   1002065\n",
      "\n"
     ]
    }
   ],
   "source": [
    "cm_m1 = confusion_matrix(y_test, y_pred_m1)\n",
    "print(cm_m1)\n",
    "print(\"------------------\")\n",
    "print(classification_report(y_test, y_pred_m1))"
   ]
  },
  {
   "cell_type": "code",
   "execution_count": 131,
   "metadata": {
    "ExecuteTime": {
     "end_time": "2020-10-15T14:50:15.205077Z",
     "start_time": "2020-10-15T14:50:15.036081Z"
    }
   },
   "outputs": [
    {
     "data": {
      "image/png": "[encoded data removed]",
      "text/plain": [
       "<Figure size 576x504 with 2 Axes>"
      ]
     },
     "metadata": {},
     "output_type": "display_data"
    }
   ],
   "source": [
    "conf_matrix(cm_m1)"
   ]
  },
  {
   "cell_type": "code",
   "execution_count": 130,
   "metadata": {
    "ExecuteTime": {
     "end_time": "2020-10-15T14:47:35.913159Z",
     "start_time": "2020-10-15T14:47:34.530973Z"
    },
    "scrolled": true
   },
   "outputs": [
    {
     "name": "stdout",
     "output_type": "stream",
     "text": [
      "Accuracy: 86.65 %\n",
      "Precision score: 92.87 %\n",
      "Recall score: 69.44 %\n",
      "F1 score: 79.46 %\n"
     ]
    }
   ],
   "source": [
    "model_metrics(y_test, y_pred_m1)"
   ]
  },
  {
   "cell_type": "markdown",
   "metadata": {
    "ExecuteTime": {
     "end_time": "2020-10-15T14:50:45.973943Z",
     "start_time": "2020-10-15T14:50:45.970118Z"
    }
   },
   "source": [
    "========================================================================================="
   ]
  },
  {
   "cell_type": "markdown",
   "metadata": {
    "ExecuteTime": {
     "end_time": "2020-10-15T15:00:23.710547Z",
     "start_time": "2020-10-15T15:00:23.706458Z"
    }
   },
   "source": [
    "<b>FROM HERE ONWARDS THE MODELS HAVE A DIFFERENT SET OF FEATURES WITH ALL THE MONTHS BEING DROPPED. AFTER DOING A FEATURE SELECTION IT WAS CLEAR THAT THESE WOULD NOT HAVE ANY RELEVENCA IN THE MODEEL AND THEREFORE WOULD CAUSE NOISE. "
   ]
  },
  {
   "cell_type": "markdown",
   "metadata": {
    "ExecuteTime": {
     "end_time": "2020-10-15T14:50:45.973943Z",
     "start_time": "2020-10-15T14:50:45.970118Z"
    }
   },
   "source": [
    "========================================================================================="
   ]
  },
  {
   "cell_type": "code",
   "execution_count": 37,
   "metadata": {
    "ExecuteTime": {
     "end_time": "2020-10-14T23:05:23.052570Z",
     "start_time": "2020-10-14T23:05:19.038556Z"
    }
   },
   "outputs": [],
   "source": [
    "y = df['FLIGHT_STATUS']\n",
    "X = df.drop(['FLIGHT_STATUS', 'DEP_DELAY', 'MONTH_2', 'MONTH_3', 'MONTH_4', 'MONTH_5', 'MONTH_6', 'MONTH_7', 'MONTH_8', 'MONTH_9', 'MONTH_10', 'MONTH_11', 'MONTH_12'], axis=1)"
   ]
  },
  {
   "cell_type": "markdown",
   "metadata": {},
   "source": [
    "## Model 2"
   ]
  },
  {
   "cell_type": "code",
   "execution_count": 42,
   "metadata": {
    "ExecuteTime": {
     "end_time": "2020-10-14T23:12:57.121546Z",
     "start_time": "2020-10-14T23:12:57.065749Z"
    }
   },
   "outputs": [
    {
     "name": "stdout",
     "output_type": "stream",
     "text": [
      "_________________________________________________________________\n",
      "Layer (type)                 Output Shape              Param #   \n",
      "=================================================================\n",
      "dense_28 (Dense)             (None, 50)                3200      \n",
      "_________________________________________________________________\n",
      "dense_29 (Dense)             (None, 30)                1530      \n",
      "_________________________________________________________________\n",
      "dense_30 (Dense)             (None, 10)                310       \n",
      "_________________________________________________________________\n",
      "dense_31 (Dense)             (None, 1)                 11        \n",
      "=================================================================\n",
      "Total params: 5,051\n",
      "Trainable params: 5,051\n",
      "Non-trainable params: 0\n",
      "_________________________________________________________________\n"
     ]
    }
   ],
   "source": [
    "model_2 = Sequential()\n",
    "\n",
    "model_2.add(Dense(50, activation='relu', input_shape=(63,)))\n",
    "\n",
    "model_2.add(Dense(30, activation='relu'))\n",
    "\n",
    "model_2.add(Dense(10, activation='relu'))\n",
    "\n",
    "model_2.add(Dense(1, activation='sigmoid'))\n",
    "\n",
    "model_2.summary()"
   ]
  },
  {
   "cell_type": "code",
   "execution_count": 43,
   "metadata": {
    "ExecuteTime": {
     "end_time": "2020-10-14T23:12:58.022908Z",
     "start_time": "2020-10-14T23:12:57.984190Z"
    }
   },
   "outputs": [],
   "source": [
    "model_2.compile(loss='binary_crossentropy', optimizer='adam', metrics=['accuracy'])"
   ]
  },
  {
   "cell_type": "code",
   "execution_count": 44,
   "metadata": {
    "ExecuteTime": {
     "end_time": "2020-10-14T23:45:06.436178Z",
     "start_time": "2020-10-14T23:12:58.581281Z"
    },
    "scrolled": false
   },
   "outputs": [
    {
     "name": "stdout",
     "output_type": "stream",
     "text": [
      "Train on 2705572 samples, validate on 300620 samples\n",
      "Epoch 1/10\n",
      "2705572/2705572 [==============================] - 191s 71us/step - loss: 0.3396 - acc: 0.8589 - val_loss: 0.3267 - val_acc: 0.8650\n",
      "Epoch 2/10\n",
      "2705572/2705572 [==============================] - 186s 69us/step - loss: 0.3270 - acc: 0.8643 - val_loss: 0.3243 - val_acc: 0.8657\n",
      "Epoch 3/10\n",
      "2705572/2705572 [==============================] - 185s 68us/step - loss: 0.3254 - acc: 0.8647 - val_loss: 0.3528 - val_acc: 0.8492\n",
      "Epoch 4/10\n",
      "2705572/2705572 [==============================] - 188s 70us/step - loss: 0.3249 - acc: 0.8650 - val_loss: 0.3242 - val_acc: 0.8656\n",
      "Epoch 5/10\n",
      "2705572/2705572 [==============================] - 185s 68us/step - loss: 0.3239 - acc: 0.8655 - val_loss: 0.3232 - val_acc: 0.8656\n",
      "Epoch 6/10\n",
      "2705572/2705572 [==============================] - 186s 69us/step - loss: 0.3235 - acc: 0.8656 - val_loss: 0.3213 - val_acc: 0.8668\n",
      "Epoch 7/10\n",
      "2705572/2705572 [==============================] - 183s 68us/step - loss: 0.3227 - acc: 0.8660 - val_loss: 0.3233 - val_acc: 0.8658\n",
      "Epoch 8/10\n",
      "2705572/2705572 [==============================] - 219s 81us/step - loss: 0.3220 - acc: 0.8662 - val_loss: 0.3255 - val_acc: 0.8648\n",
      "Epoch 9/10\n",
      "2705572/2705572 [==============================] - 200s 74us/step - loss: 0.3218 - acc: 0.8663 - val_loss: 0.3246 - val_acc: 0.8659\n",
      "Epoch 10/10\n",
      "2705572/2705572 [==============================] - 205s 76us/step - loss: 0.3213 - acc: 0.8665 - val_loss: 0.3194 - val_acc: 0.8676\n"
     ]
    }
   ],
   "source": [
    "results2 = model_2.fit(X_train, y_train, epochs=10, batch_size=32, validation_split=0.1)"
   ]
  },
  {
   "cell_type": "code",
   "execution_count": 119,
   "metadata": {
    "ExecuteTime": {
     "end_time": "2020-10-15T14:37:45.022257Z",
     "start_time": "2020-10-15T14:37:44.692480Z"
    }
   },
   "outputs": [
    {
     "data": {
      "image/png": "[encoded data removed]",
      "text/plain": [
       "<Figure size 432x288 with 1 Axes>"
      ]
     },
     "metadata": {},
     "output_type": "display_data"
    },
    {
     "data": {
      "image/png": "[encoded data removed]",
      "text/plain": [
       "<Figure size 432x288 with 1 Axes>"
      ]
     },
     "metadata": {},
     "output_type": "display_data"
    }
   ],
   "source": [
    "visualize_training_results(results2)"
   ]
  },
  {
   "cell_type": "code",
   "execution_count": 125,
   "metadata": {
    "ExecuteTime": {
     "end_time": "2020-10-15T14:45:50.259628Z",
     "start_time": "2020-10-15T14:45:35.281655Z"
    }
   },
   "outputs": [],
   "source": [
    "y_pred_m2 = model_2.predict(X_test)\n",
    "y_pred_m2 =(y_pred_m2 > 0.5)"
   ]
  },
  {
   "cell_type": "code",
   "execution_count": 126,
   "metadata": {
    "ExecuteTime": {
     "end_time": "2020-10-15T14:45:55.802995Z",
     "start_time": "2020-10-15T14:45:51.763679Z"
    }
   },
   "outputs": [
    {
     "name": "stdout",
     "output_type": "stream",
     "text": [
      "[[597824  31411]\n",
      " [101152 271678]]\n",
      "------------------\n",
      "              precision    recall  f1-score   support\n",
      "\n",
      "         0.0       0.86      0.95      0.90    629235\n",
      "         1.0       0.90      0.73      0.80    372830\n",
      "\n",
      "    accuracy                           0.87   1002065\n",
      "   macro avg       0.88      0.84      0.85   1002065\n",
      "weighted avg       0.87      0.87      0.86   1002065\n",
      "\n"
     ]
    }
   ],
   "source": [
    "cm_m2 = confusion_matrix(y_test, y_pred_m2)\n",
    "print(cm_m2)\n",
    "print(\"------------------\")\n",
    "print(classification_report(y_test, y_pred_m2))"
   ]
  },
  {
   "cell_type": "code",
   "execution_count": 127,
   "metadata": {
    "ExecuteTime": {
     "end_time": "2020-10-15T14:45:58.087428Z",
     "start_time": "2020-10-15T14:45:57.919496Z"
    }
   },
   "outputs": [
    {
     "data": {
      "image/png": "[encoded data removed]",
      "text/plain": [
       "<Figure size 576x504 with 2 Axes>"
      ]
     },
     "metadata": {},
     "output_type": "display_data"
    }
   ],
   "source": [
    "conf_matrix(cm_m2)"
   ]
  },
  {
   "cell_type": "code",
   "execution_count": 133,
   "metadata": {
    "ExecuteTime": {
     "end_time": "2020-10-15T14:56:05.158367Z",
     "start_time": "2020-10-15T14:56:03.656387Z"
    }
   },
   "outputs": [
    {
     "name": "stdout",
     "output_type": "stream",
     "text": [
      "Accuracy: 86.77 %\n",
      "Precision score: 89.64 %\n",
      "Recall score: 72.87 %\n",
      "F1 score: 80.39 %\n"
     ]
    }
   ],
   "source": [
    "model_metrics(y_test, y_pred_m2)"
   ]
  },
  {
   "cell_type": "markdown",
   "metadata": {
    "ExecuteTime": {
     "end_time": "2020-10-15T14:50:45.973943Z",
     "start_time": "2020-10-15T14:50:45.970118Z"
    }
   },
   "source": [
    "========================================================================================="
   ]
  },
  {
   "cell_type": "markdown",
   "metadata": {
    "ExecuteTime": {
     "end_time": "2020-10-15T14:50:45.973943Z",
     "start_time": "2020-10-15T14:50:45.970118Z"
    }
   },
   "source": [
    "========================================================================================="
   ]
  },
  {
   "cell_type": "markdown",
   "metadata": {},
   "source": [
    "## Model 3"
   ]
  },
  {
   "cell_type": "code",
   "execution_count": 49,
   "metadata": {
    "ExecuteTime": {
     "end_time": "2020-10-14T23:54:17.935112Z",
     "start_time": "2020-10-14T23:54:17.876978Z"
    }
   },
   "outputs": [
    {
     "name": "stdout",
     "output_type": "stream",
     "text": [
      "_________________________________________________________________\n",
      "Layer (type)                 Output Shape              Param #   \n",
      "=================================================================\n",
      "dense_37 (Dense)             (None, 50)                3200      \n",
      "_________________________________________________________________\n",
      "dense_38 (Dense)             (None, 30)                1530      \n",
      "_________________________________________________________________\n",
      "dense_39 (Dense)             (None, 15)                465       \n",
      "_________________________________________________________________\n",
      "dense_40 (Dense)             (None, 5)                 80        \n",
      "_________________________________________________________________\n",
      "dense_41 (Dense)             (None, 1)                 6         \n",
      "=================================================================\n",
      "Total params: 5,281\n",
      "Trainable params: 5,281\n",
      "Non-trainable params: 0\n",
      "_________________________________________________________________\n"
     ]
    }
   ],
   "source": [
    "model_3 = Sequential()\n",
    "\n",
    "model_3.add(Dense(50, activation='relu', input_shape=(63,)))\n",
    "\n",
    "model_3.add(Dense(30, activation='relu'))\n",
    "\n",
    "model_3.add(Dense(15, activation='relu'))\n",
    "\n",
    "model_3.add(Dense(5, activation='relu'))\n",
    "\n",
    "model_3.add(Dense(1, activation='sigmoid'))\n",
    "\n",
    "model_3.summary()"
   ]
  },
  {
   "cell_type": "code",
   "execution_count": 50,
   "metadata": {
    "ExecuteTime": {
     "end_time": "2020-10-14T23:54:18.557240Z",
     "start_time": "2020-10-14T23:54:18.524183Z"
    }
   },
   "outputs": [],
   "source": [
    "model_3.compile(loss='binary_crossentropy', optimizer='adam', metrics=['accuracy'])"
   ]
  },
  {
   "cell_type": "code",
   "execution_count": 51,
   "metadata": {
    "ExecuteTime": {
     "end_time": "2020-10-14T23:59:06.689222Z",
     "start_time": "2020-10-14T23:54:19.084290Z"
    }
   },
   "outputs": [
    {
     "name": "stdout",
     "output_type": "stream",
     "text": [
      "Train on 2705572 samples, validate on 300620 samples\n",
      "Epoch 1/2\n",
      "2705572/2705572 [==============================] - 164s 60us/step - loss: 0.3393 - acc: 0.8590 - val_loss: 0.3230 - val_acc: 0.8663\n",
      "Epoch 2/2\n",
      "2705572/2705572 [==============================] - 124s 46us/step - loss: 0.3271 - acc: 0.8640 - val_loss: 0.3236 - val_acc: 0.8662\n"
     ]
    }
   ],
   "source": [
    "results3 = model_3.fit(X_train, y_train, epochs=2, batch_size=32, validation_split=0.1)"
   ]
  },
  {
   "cell_type": "code",
   "execution_count": 139,
   "metadata": {
    "ExecuteTime": {
     "end_time": "2020-10-15T15:10:10.267244Z",
     "start_time": "2020-10-15T15:09:54.693888Z"
    }
   },
   "outputs": [],
   "source": [
    "y_pred_m3 = model_3.predict(X_test)\n",
    "y_pred_m3 =(y_pred>0.5)"
   ]
  },
  {
   "cell_type": "code",
   "execution_count": 140,
   "metadata": {
    "ExecuteTime": {
     "end_time": "2020-10-15T15:10:14.677168Z",
     "start_time": "2020-10-15T15:10:10.596212Z"
    }
   },
   "outputs": [
    {
     "name": "stdout",
     "output_type": "stream",
     "text": [
      "[[612248  16987]\n",
      " [138749 234081]]\n",
      "------------------\n",
      "              precision    recall  f1-score   support\n",
      "\n",
      "         0.0       0.82      0.97      0.89    629235\n",
      "         1.0       0.93      0.63      0.75    372830\n",
      "\n",
      "    accuracy                           0.84   1002065\n",
      "   macro avg       0.87      0.80      0.82   1002065\n",
      "weighted avg       0.86      0.84      0.84   1002065\n",
      "\n"
     ]
    }
   ],
   "source": [
    "cm_m3 = confusion_matrix(y_test, y_pred_m3)\n",
    "print(cm_m3)\n",
    "print(\"------------------\")\n",
    "print(classification_report(y_test, y_pred_m3))"
   ]
  },
  {
   "cell_type": "code",
   "execution_count": 141,
   "metadata": {
    "ExecuteTime": {
     "end_time": "2020-10-15T15:10:15.128252Z",
     "start_time": "2020-10-15T15:10:14.975060Z"
    }
   },
   "outputs": [
    {
     "data": {
      "image/png": "[encoded data removed]",
      "text/plain": [
       "<Figure size 576x504 with 2 Axes>"
      ]
     },
     "metadata": {},
     "output_type": "display_data"
    }
   ],
   "source": [
    "conf_matrix(cm_m3)"
   ]
  },
  {
   "cell_type": "code",
   "execution_count": 142,
   "metadata": {
    "ExecuteTime": {
     "end_time": "2020-10-15T15:10:16.791369Z",
     "start_time": "2020-10-15T15:10:15.428775Z"
    }
   },
   "outputs": [
    {
     "name": "stdout",
     "output_type": "stream",
     "text": [
      "Accuracy: 84.46 %\n",
      "Precision score: 93.23 %\n",
      "Recall score: 62.78 %\n",
      "F1 score: 75.04 %\n"
     ]
    }
   ],
   "source": [
    "model_metrics(y_test, y_pred_m3)"
   ]
  },
  {
   "cell_type": "markdown",
   "metadata": {
    "ExecuteTime": {
     "end_time": "2020-10-15T14:50:45.973943Z",
     "start_time": "2020-10-15T14:50:45.970118Z"
    }
   },
   "source": [
    "========================================================================================="
   ]
  },
  {
   "cell_type": "markdown",
   "metadata": {
    "ExecuteTime": {
     "end_time": "2020-10-15T14:50:45.973943Z",
     "start_time": "2020-10-15T14:50:45.970118Z"
    }
   },
   "source": [
    "========================================================================================="
   ]
  },
  {
   "cell_type": "markdown",
   "metadata": {},
   "source": [
    "## Model 4"
   ]
  },
  {
   "cell_type": "code",
   "execution_count": 52,
   "metadata": {
    "ExecuteTime": {
     "end_time": "2020-10-15T00:05:01.524212Z",
     "start_time": "2020-10-15T00:05:01.472887Z"
    }
   },
   "outputs": [
    {
     "name": "stdout",
     "output_type": "stream",
     "text": [
      "_________________________________________________________________\n",
      "Layer (type)                 Output Shape              Param #   \n",
      "=================================================================\n",
      "dense_42 (Dense)             (None, 50)                3200      \n",
      "_________________________________________________________________\n",
      "dense_43 (Dense)             (None, 30)                1530      \n",
      "_________________________________________________________________\n",
      "dense_44 (Dense)             (None, 15)                465       \n",
      "_________________________________________________________________\n",
      "dense_45 (Dense)             (None, 5)                 80        \n",
      "_________________________________________________________________\n",
      "dense_46 (Dense)             (None, 1)                 6         \n",
      "=================================================================\n",
      "Total params: 5,281\n",
      "Trainable params: 5,281\n",
      "Non-trainable params: 0\n",
      "_________________________________________________________________\n"
     ]
    }
   ],
   "source": [
    "model_4 = Sequential()\n",
    "\n",
    "model_4.add(Dense(50, activation='tanh', input_shape=(63,)))\n",
    "\n",
    "model_4.add(Dense(30, activation='tanh'))\n",
    "\n",
    "model_4.add(Dense(15, activation='tanh'))\n",
    "\n",
    "model_4.add(Dense(5, activation='relu'))\n",
    "\n",
    "model_4.add(Dense(1, activation='sigmoid'))\n",
    "\n",
    "model_4.summary()"
   ]
  },
  {
   "cell_type": "code",
   "execution_count": 53,
   "metadata": {
    "ExecuteTime": {
     "end_time": "2020-10-15T00:05:04.012034Z",
     "start_time": "2020-10-15T00:05:03.980706Z"
    }
   },
   "outputs": [],
   "source": [
    "model_4.compile(loss='binary_crossentropy', optimizer='adam', metrics=['accuracy'])"
   ]
  },
  {
   "cell_type": "code",
   "execution_count": 54,
   "metadata": {
    "ExecuteTime": {
     "end_time": "2020-10-15T00:09:49.857937Z",
     "start_time": "2020-10-15T00:05:04.355697Z"
    }
   },
   "outputs": [
    {
     "name": "stdout",
     "output_type": "stream",
     "text": [
      "Train on 2705572 samples, validate on 300620 samples\n",
      "Epoch 1/2\n",
      "2705572/2705572 [==============================] - 128s 47us/step - loss: 0.3620 - acc: 0.8525 - val_loss: 0.3394 - val_acc: 0.8642\n",
      "Epoch 2/2\n",
      "2705572/2705572 [==============================] - 158s 58us/step - loss: 0.3506 - acc: 0.8569 - val_loss: 0.3372 - val_acc: 0.8647\n"
     ]
    }
   ],
   "source": [
    "results4 = model_4.fit(X_train, y_train, epochs=2, batch_size=32, validation_split=0.1)"
   ]
  },
  {
   "cell_type": "code",
   "execution_count": 135,
   "metadata": {
    "ExecuteTime": {
     "end_time": "2020-10-15T15:05:32.972805Z",
     "start_time": "2020-10-15T15:05:15.285792Z"
    }
   },
   "outputs": [],
   "source": [
    "y_pred_m4 = model_4.predict(X_test)\n",
    "y_pred_m4 =(y_pred>0.5)"
   ]
  },
  {
   "cell_type": "code",
   "execution_count": 136,
   "metadata": {
    "ExecuteTime": {
     "end_time": "2020-10-15T15:05:43.942945Z",
     "start_time": "2020-10-15T15:05:39.290650Z"
    }
   },
   "outputs": [
    {
     "name": "stdout",
     "output_type": "stream",
     "text": [
      "[[612248  16987]\n",
      " [138749 234081]]\n",
      "------------------\n",
      "              precision    recall  f1-score   support\n",
      "\n",
      "         0.0       0.82      0.97      0.89    629235\n",
      "         1.0       0.93      0.63      0.75    372830\n",
      "\n",
      "    accuracy                           0.84   1002065\n",
      "   macro avg       0.87      0.80      0.82   1002065\n",
      "weighted avg       0.86      0.84      0.84   1002065\n",
      "\n"
     ]
    }
   ],
   "source": [
    "cm_m4 = confusion_matrix(y_test, y_pred_m4)\n",
    "print(cm_m4)\n",
    "print(\"------------------\")\n",
    "print(classification_report(y_test, y_pred_m4))"
   ]
  },
  {
   "cell_type": "code",
   "execution_count": 137,
   "metadata": {
    "ExecuteTime": {
     "end_time": "2020-10-15T15:05:55.702147Z",
     "start_time": "2020-10-15T15:05:55.528398Z"
    }
   },
   "outputs": [
    {
     "data": {
      "image/png": "[encoded data removed]",
      "text/plain": [
       "<Figure size 576x504 with 2 Axes>"
      ]
     },
     "metadata": {},
     "output_type": "display_data"
    }
   ],
   "source": [
    "conf_matrix(cm_m4)"
   ]
  },
  {
   "cell_type": "code",
   "execution_count": 138,
   "metadata": {
    "ExecuteTime": {
     "end_time": "2020-10-15T15:06:15.980245Z",
     "start_time": "2020-10-15T15:06:14.604236Z"
    }
   },
   "outputs": [
    {
     "name": "stdout",
     "output_type": "stream",
     "text": [
      "Accuracy: 84.46 %\n",
      "Precision score: 93.23 %\n",
      "Recall score: 62.78 %\n",
      "F1 score: 75.04 %\n"
     ]
    }
   ],
   "source": [
    "model_metrics(y_test, y_pred_m4)"
   ]
  },
  {
   "cell_type": "markdown",
   "metadata": {
    "ExecuteTime": {
     "end_time": "2020-10-15T14:50:45.973943Z",
     "start_time": "2020-10-15T14:50:45.970118Z"
    }
   },
   "source": [
    "========================================================================================="
   ]
  },
  {
   "cell_type": "markdown",
   "metadata": {
    "ExecuteTime": {
     "end_time": "2020-10-15T14:50:45.973943Z",
     "start_time": "2020-10-15T14:50:45.970118Z"
    }
   },
   "source": [
    "========================================================================================="
   ]
  },
  {
   "cell_type": "markdown",
   "metadata": {},
   "source": [
    "## Model 5"
   ]
  },
  {
   "cell_type": "code",
   "execution_count": 55,
   "metadata": {
    "ExecuteTime": {
     "end_time": "2020-10-15T00:23:42.050893Z",
     "start_time": "2020-10-15T00:23:41.997950Z"
    }
   },
   "outputs": [
    {
     "name": "stdout",
     "output_type": "stream",
     "text": [
      "_________________________________________________________________\n",
      "Layer (type)                 Output Shape              Param #   \n",
      "=================================================================\n",
      "dense_47 (Dense)             (None, 50)                3200      \n",
      "_________________________________________________________________\n",
      "dense_48 (Dense)             (None, 30)                1530      \n",
      "_________________________________________________________________\n",
      "dense_49 (Dense)             (None, 15)                465       \n",
      "_________________________________________________________________\n",
      "dense_50 (Dense)             (None, 5)                 80        \n",
      "_________________________________________________________________\n",
      "dense_51 (Dense)             (None, 1)                 6         \n",
      "=================================================================\n",
      "Total params: 5,281\n",
      "Trainable params: 5,281\n",
      "Non-trainable params: 0\n",
      "_________________________________________________________________\n"
     ]
    }
   ],
   "source": [
    "model_5 = Sequential()\n",
    "\n",
    "model_5.add(Dense(50, activation='tanh', input_shape=(63,)))\n",
    "\n",
    "model_5.add(Dense(30, activation='tanh'))\n",
    "\n",
    "model_5.add(Dense(15, activation='tanh'))\n",
    "\n",
    "model_5.add(Dense(5, activation='relu'))\n",
    "\n",
    "model_5.add(Dense(1, activation='sigmoid'))\n",
    "\n",
    "model_5.summary()"
   ]
  },
  {
   "cell_type": "code",
   "execution_count": 56,
   "metadata": {
    "ExecuteTime": {
     "end_time": "2020-10-15T00:23:53.858142Z",
     "start_time": "2020-10-15T00:23:53.824545Z"
    }
   },
   "outputs": [],
   "source": [
    "model_5.compile(loss='binary_crossentropy', optimizer='adam', metrics=['accuracy'])"
   ]
  },
  {
   "cell_type": "code",
   "execution_count": 57,
   "metadata": {
    "ExecuteTime": {
     "end_time": "2020-10-15T07:43:39.250446Z",
     "start_time": "2020-10-15T00:24:14.077675Z"
    }
   },
   "outputs": [
    {
     "name": "stdout",
     "output_type": "stream",
     "text": [
      "Train on 2705572 samples, validate on 300620 samples\n",
      "Epoch 1/25\n",
      "2705572/2705572 [==============================] - 153s 57us/step - loss: 0.3594 - acc: 0.8541 - val_loss: 0.3801 - val_acc: 0.8425\n",
      "Epoch 2/25\n",
      "2705572/2705572 [==============================] - 147s 54us/step - loss: 0.3503 - acc: 0.8574 - val_loss: 0.3385 - val_acc: 0.8652\n",
      "Epoch 3/25\n",
      "2705572/2705572 [==============================] - 146s 54us/step - loss: 0.3485 - acc: 0.8576 - val_loss: 0.3369 - val_acc: 0.8627\n",
      "Epoch 4/25\n",
      "2705572/2705572 [==============================] - 146s 54us/step - loss: 0.3470 - acc: 0.8577 - val_loss: 0.3502 - val_acc: 0.8558\n",
      "Epoch 5/25\n",
      "2705572/2705572 [==============================] - 2094s 774us/step - loss: 0.3465 - acc: 0.8578 - val_loss: 0.3577 - val_acc: 0.8447\n",
      "Epoch 6/25\n",
      "2705572/2705572 [==============================] - 416s 154us/step - loss: 0.3463 - acc: 0.8576 - val_loss: 0.3378 - val_acc: 0.8643\n",
      "Epoch 7/25\n",
      "2705572/2705572 [==============================] - 422s 156us/step - loss: 0.3455 - acc: 0.8575 - val_loss: 0.3440 - val_acc: 0.8626\n",
      "Epoch 8/25\n",
      "2705572/2705572 [==============================] - 425s 157us/step - loss: 0.3470 - acc: 0.8561 - val_loss: 0.3392 - val_acc: 0.8615\n",
      "Epoch 9/25\n",
      "2705572/2705572 [==============================] - 7632s 3ms/step - loss: 0.3456 - acc: 0.8571 - val_loss: 0.3537 - val_acc: 0.8553\n",
      "Epoch 10/25\n",
      "2705572/2705572 [==============================] - 447s 165us/step - loss: 0.3440 - acc: 0.8578 - val_loss: 0.3386 - val_acc: 0.8631\n",
      "Epoch 11/25\n",
      "2705572/2705572 [==============================] - 417s 154us/step - loss: 0.3444 - acc: 0.8576 - val_loss: 0.3367 - val_acc: 0.8604\n",
      "Epoch 12/25\n",
      "2705572/2705572 [==============================] - 420s 155us/step - loss: 0.3427 - acc: 0.8583 - val_loss: 0.3441 - val_acc: 0.8586\n",
      "Epoch 13/25\n",
      "2705572/2705572 [==============================] - 422s 156us/step - loss: 0.3438 - acc: 0.8580 - val_loss: 0.3366 - val_acc: 0.8647\n",
      "Epoch 14/25\n",
      "2705572/2705572 [==============================] - 2606s 963us/step - loss: 0.3435 - acc: 0.8583 - val_loss: 0.3465 - val_acc: 0.8523\n",
      "Epoch 15/25\n",
      "2705572/2705572 [==============================] - 416s 154us/step - loss: 0.3428 - acc: 0.8584 - val_loss: 0.3421 - val_acc: 0.8605\n",
      "Epoch 16/25\n",
      "2705572/2705572 [==============================] - 421s 156us/step - loss: 0.3425 - acc: 0.8587 - val_loss: 0.3410 - val_acc: 0.8593\n",
      "Epoch 17/25\n",
      "2705572/2705572 [==============================] - 421s 156us/step - loss: 0.3430 - acc: 0.8584 - val_loss: 0.3368 - val_acc: 0.8607\n",
      "Epoch 18/25\n",
      "2705572/2705572 [==============================] - 7652s 3ms/step - loss: 0.3422 - acc: 0.8584 - val_loss: 0.3431 - val_acc: 0.8603\n",
      "Epoch 19/25\n",
      "2705572/2705572 [==============================] - 413s 153us/step - loss: 0.3428 - acc: 0.8587 - val_loss: 0.3421 - val_acc: 0.8589\n",
      "Epoch 20/25\n",
      "2705572/2705572 [==============================] - 420s 155us/step - loss: 0.3443 - acc: 0.8587 - val_loss: 0.3389 - val_acc: 0.8584\n",
      "Epoch 21/25\n",
      "2705572/2705572 [==============================] - 217s 80us/step - loss: 0.3422 - acc: 0.8593 - val_loss: 0.3470 - val_acc: 0.8554\n",
      "Epoch 22/25\n",
      "2705572/2705572 [==============================] - 128s 47us/step - loss: 0.3434 - acc: 0.8593 - val_loss: 0.3473 - val_acc: 0.8552\n",
      "Epoch 23/25\n",
      "2705572/2705572 [==============================] - 128s 47us/step - loss: 0.3439 - acc: 0.8587 - val_loss: 0.3469 - val_acc: 0.8574\n",
      "Epoch 24/25\n",
      "2705572/2705572 [==============================] - 128s 47us/step - loss: 0.3440 - acc: 0.8587 - val_loss: 0.3377 - val_acc: 0.8627\n",
      "Epoch 25/25\n",
      "2705572/2705572 [==============================] - 128s 47us/step - loss: 0.3429 - acc: 0.8597 - val_loss: 0.3362 - val_acc: 0.8583\n"
     ]
    }
   ],
   "source": [
    "results5 = model_5.fit(X_train, y_train, epochs=25, batch_size=32, validation_split=0.1)"
   ]
  },
  {
   "cell_type": "code",
   "execution_count": 120,
   "metadata": {
    "ExecuteTime": {
     "end_time": "2020-10-15T14:37:52.511081Z",
     "start_time": "2020-10-15T14:37:52.212256Z"
    }
   },
   "outputs": [
    {
     "data": {
      "image/png": "[encoded data removed]",
      "text/plain": [
       "<Figure size 432x288 with 1 Axes>"
      ]
     },
     "metadata": {},
     "output_type": "display_data"
    },
    {
     "data": {
      "image/png": "[encoded data removed]",
      "text/plain": [
       "<Figure size 432x288 with 1 Axes>"
      ]
     },
     "metadata": {},
     "output_type": "display_data"
    }
   ],
   "source": [
    "visualize_training_results(results5)"
   ]
  },
  {
   "cell_type": "code",
   "execution_count": 93,
   "metadata": {
    "ExecuteTime": {
     "end_time": "2020-10-15T11:47:42.797806Z",
     "start_time": "2020-10-15T11:47:27.909236Z"
    }
   },
   "outputs": [],
   "source": [
    "y_pred_m5 = model_5.predict(X_test)\n",
    "y_pred_m5 =(y_pred_m5 > 0.5)"
   ]
  },
  {
   "cell_type": "code",
   "execution_count": 94,
   "metadata": {
    "ExecuteTime": {
     "end_time": "2020-10-15T11:47:58.046112Z",
     "start_time": "2020-10-15T11:47:53.805685Z"
    }
   },
   "outputs": [
    {
     "name": "stdout",
     "output_type": "stream",
     "text": [
      "[[579238  49997]\n",
      " [ 91701 281129]]\n",
      "------------------\n",
      "              precision    recall  f1-score   support\n",
      "\n",
      "         0.0       0.86      0.92      0.89    629235\n",
      "         1.0       0.85      0.75      0.80    372830\n",
      "\n",
      "    accuracy                           0.86   1002065\n",
      "   macro avg       0.86      0.84      0.84   1002065\n",
      "weighted avg       0.86      0.86      0.86   1002065\n",
      "\n"
     ]
    }
   ],
   "source": [
    "cm_m5 = confusion_matrix(y_test, y_pred_m5)\n",
    "print(cm_m5)\n",
    "print(\"------------------\")\n",
    "print(classification_report(y_test, y_pred_m5))"
   ]
  },
  {
   "cell_type": "code",
   "execution_count": 123,
   "metadata": {
    "ExecuteTime": {
     "end_time": "2020-10-15T14:44:07.371650Z",
     "start_time": "2020-10-15T14:44:07.200374Z"
    }
   },
   "outputs": [
    {
     "data": {
      "image/png": "[encoded data removed]",
      "text/plain": [
       "<Figure size 576x504 with 2 Axes>"
      ]
     },
     "metadata": {},
     "output_type": "display_data"
    }
   ],
   "source": [
    "conf_matrix(cm_m5)"
   ]
  },
  {
   "cell_type": "code",
   "execution_count": 97,
   "metadata": {
    "ExecuteTime": {
     "end_time": "2020-10-15T11:48:56.484150Z",
     "start_time": "2020-10-15T11:48:55.107616Z"
    }
   },
   "outputs": [
    {
     "name": "stdout",
     "output_type": "stream",
     "text": [
      "Accuracy: 85.86 %\n",
      "Precision score: 84.9 %\n",
      "Recall score: 75.4 %\n",
      "F1 score: 79.87 %\n"
     ]
    }
   ],
   "source": [
    "model_metrics(y_test, y_pred_m5)"
   ]
  },
  {
   "cell_type": "markdown",
   "metadata": {
    "ExecuteTime": {
     "end_time": "2020-10-15T14:50:45.973943Z",
     "start_time": "2020-10-15T14:50:45.970118Z"
    }
   },
   "source": [
    "========================================================================================="
   ]
  },
  {
   "cell_type": "markdown",
   "metadata": {
    "ExecuteTime": {
     "end_time": "2020-10-15T14:50:45.973943Z",
     "start_time": "2020-10-15T14:50:45.970118Z"
    }
   },
   "source": [
    "========================================================================================="
   ]
  },
  {
   "cell_type": "markdown",
   "metadata": {},
   "source": [
    "## Model 6"
   ]
  },
  {
   "cell_type": "code",
   "execution_count": 62,
   "metadata": {
    "ExecuteTime": {
     "end_time": "2020-10-15T09:41:05.706901Z",
     "start_time": "2020-10-15T09:41:05.592957Z"
    }
   },
   "outputs": [
    {
     "name": "stdout",
     "output_type": "stream",
     "text": [
      "_________________________________________________________________\n",
      "Layer (type)                 Output Shape              Param #   \n",
      "=================================================================\n",
      "dense_57 (Dense)             (None, 50)                3200      \n",
      "_________________________________________________________________\n",
      "dense_58 (Dense)             (None, 40)                2040      \n",
      "_________________________________________________________________\n",
      "dense_59 (Dense)             (None, 30)                1230      \n",
      "_________________________________________________________________\n",
      "dense_60 (Dense)             (None, 10)                310       \n",
      "_________________________________________________________________\n",
      "dense_61 (Dense)             (None, 5)                 55        \n",
      "_________________________________________________________________\n",
      "dense_62 (Dense)             (None, 1)                 6         \n",
      "=================================================================\n",
      "Total params: 6,841\n",
      "Trainable params: 6,841\n",
      "Non-trainable params: 0\n",
      "_________________________________________________________________\n"
     ]
    }
   ],
   "source": [
    "model_6 = Sequential()\n",
    "\n",
    "model_6.add(Dense(50, activation='tanh', input_shape=(63,)))\n",
    "\n",
    "model_6.add(Dense(40, activation='relu'))\n",
    "\n",
    "model_6.add(Dense(30, activation='tanh'))\n",
    "\n",
    "model_6.add(Dense(10, activation='relu'))\n",
    "\n",
    "model_6.add(Dense(5, activation='relu'))\n",
    "\n",
    "model_6.add(Dense(1, activation='sigmoid'))\n",
    "\n",
    "model_6.summary()"
   ]
  },
  {
   "cell_type": "code",
   "execution_count": 63,
   "metadata": {
    "ExecuteTime": {
     "end_time": "2020-10-15T09:41:06.606661Z",
     "start_time": "2020-10-15T09:41:06.571075Z"
    }
   },
   "outputs": [],
   "source": [
    "model_6.compile(loss='binary_crossentropy', optimizer='adam', metrics=['accuracy'])"
   ]
  },
  {
   "cell_type": "code",
   "execution_count": 64,
   "metadata": {
    "ExecuteTime": {
     "end_time": "2020-10-15T09:57:52.454183Z",
     "start_time": "2020-10-15T09:41:07.622947Z"
    }
   },
   "outputs": [
    {
     "name": "stdout",
     "output_type": "stream",
     "text": [
      "Train on 2705572 samples, validate on 300620 samples\n",
      "Epoch 1/2\n",
      "2705572/2705572 [==============================] - 535s 198us/step - loss: 0.3817 - acc: 0.8427 - val_loss: 0.3954 - val_acc: 0.8402\n",
      "Epoch 2/2\n",
      "2705572/2705572 [==============================] - 470s 174us/step - loss: 0.3667 - acc: 0.8474 - val_loss: 0.3668 - val_acc: 0.8445\n"
     ]
    }
   ],
   "source": [
    "results6 = model_6.fit(X_train, y_train, epochs=2, batch_size=10, validation_split=0.1)"
   ]
  },
  {
   "cell_type": "markdown",
   "metadata": {},
   "source": [
    "No need for the visualizations because of the low epoch number. This was just a parameters test."
   ]
  },
  {
   "cell_type": "code",
   "execution_count": 69,
   "metadata": {
    "ExecuteTime": {
     "end_time": "2020-10-15T11:22:31.152659Z",
     "start_time": "2020-10-15T11:21:23.231640Z"
    }
   },
   "outputs": [
    {
     "name": "stdout",
     "output_type": "stream",
     "text": [
      "3006192/3006192 [==============================] - 68s 23us/step\n"
     ]
    },
    {
     "data": {
      "text/plain": [
       "[0.36567949176902476, 0.8445408676491721]"
      ]
     },
     "execution_count": 69,
     "metadata": {},
     "output_type": "execute_result"
    }
   ],
   "source": [
    "eval_model = model_6.evaluate(X_train, y_train)\n",
    "eval_model"
   ]
  },
  {
   "cell_type": "code",
   "execution_count": 106,
   "metadata": {
    "ExecuteTime": {
     "end_time": "2020-10-15T12:11:49.627102Z",
     "start_time": "2020-10-15T12:11:35.047756Z"
    }
   },
   "outputs": [],
   "source": [
    "y_pred_m6 = model_6.predict(X_test)\n",
    "y_pred_m6 =(y_pred>0.5)"
   ]
  },
  {
   "cell_type": "code",
   "execution_count": 107,
   "metadata": {
    "ExecuteTime": {
     "end_time": "2020-10-15T12:11:53.943303Z",
     "start_time": "2020-10-15T12:11:49.942599Z"
    }
   },
   "outputs": [
    {
     "name": "stdout",
     "output_type": "stream",
     "text": [
      "[[612248  16987]\n",
      " [138749 234081]]\n",
      "------------------\n",
      "              precision    recall  f1-score   support\n",
      "\n",
      "         0.0       0.82      0.97      0.89    629235\n",
      "         1.0       0.93      0.63      0.75    372830\n",
      "\n",
      "    accuracy                           0.84   1002065\n",
      "   macro avg       0.87      0.80      0.82   1002065\n",
      "weighted avg       0.86      0.84      0.84   1002065\n",
      "\n"
     ]
    }
   ],
   "source": [
    "cm_m6 = confusion_matrix(y_test, y_pred_m6)\n",
    "print(cm_m6)\n",
    "print(\"------------------\")\n",
    "print(classification_report(y_test, y_pred_m6))"
   ]
  },
  {
   "cell_type": "code",
   "execution_count": 122,
   "metadata": {
    "ExecuteTime": {
     "end_time": "2020-10-15T14:43:35.067690Z",
     "start_time": "2020-10-15T14:43:34.856073Z"
    }
   },
   "outputs": [
    {
     "data": {
      "image/png": "[encoded data removed]",
      "text/plain": [
       "<Figure size 576x504 with 2 Axes>"
      ]
     },
     "metadata": {},
     "output_type": "display_data"
    }
   ],
   "source": [
    "conf_matrix(cm_m6)"
   ]
  },
  {
   "cell_type": "code",
   "execution_count": 91,
   "metadata": {
    "ExecuteTime": {
     "end_time": "2020-10-15T11:36:38.425717Z",
     "start_time": "2020-10-15T11:36:37.053476Z"
    }
   },
   "outputs": [
    {
     "name": "stdout",
     "output_type": "stream",
     "text": [
      "Accuracy: 84.46 %\n",
      "Precision score: 93.23 %\n",
      "Recall score: 62.78 %\n",
      "F1 score: 75.04 %\n"
     ]
    }
   ],
   "source": [
    "model_metrics(y_test, y_pred)"
   ]
  },
  {
   "cell_type": "markdown",
   "metadata": {},
   "source": [
    "## Model 7"
   ]
  },
  {
   "cell_type": "code",
   "execution_count": 150,
   "metadata": {
    "ExecuteTime": {
     "end_time": "2020-10-15T18:04:30.883480Z",
     "start_time": "2020-10-15T18:04:30.828793Z"
    }
   },
   "outputs": [
    {
     "name": "stdout",
     "output_type": "stream",
     "text": [
      "_________________________________________________________________\n",
      "Layer (type)                 Output Shape              Param #   \n",
      "=================================================================\n",
      "dense_72 (Dense)             (None, 50)                3200      \n",
      "_________________________________________________________________\n",
      "dense_73 (Dense)             (None, 30)                1530      \n",
      "_________________________________________________________________\n",
      "dense_74 (Dense)             (None, 15)                465       \n",
      "_________________________________________________________________\n",
      "dense_75 (Dense)             (None, 5)                 80        \n",
      "_________________________________________________________________\n",
      "dense_76 (Dense)             (None, 1)                 6         \n",
      "=================================================================\n",
      "Total params: 5,281\n",
      "Trainable params: 5,281\n",
      "Non-trainable params: 0\n",
      "_________________________________________________________________\n"
     ]
    }
   ],
   "source": [
    "model_7 = Sequential()\n",
    "\n",
    "model_7.add(Dense(50, activation='tanh', input_shape=(63,)))\n",
    "\n",
    "model_7.add(Dense(30, activation='tanh'))\n",
    "\n",
    "model_7.add(Dense(15, activation='tanh'))\n",
    "\n",
    "model_7.add(Dense(5, activation='relu'))\n",
    "\n",
    "model_7.add(Dense(1, activation='sigmoid'))\n",
    "\n",
    "model_7.summary()"
   ]
  },
  {
   "cell_type": "code",
   "execution_count": 151,
   "metadata": {
    "ExecuteTime": {
     "end_time": "2020-10-15T18:04:31.850669Z",
     "start_time": "2020-10-15T18:04:31.819095Z"
    }
   },
   "outputs": [],
   "source": [
    "model_7.compile(loss='binary_crossentropy', optimizer='adam', metrics=['accuracy'])"
   ]
  },
  {
   "cell_type": "code",
   "execution_count": null,
   "metadata": {},
   "outputs": [],
   "source": []
  }
 ],
 "metadata": {
  "kernelspec": {
   "display_name": "learn-env",
   "language": "python",
   "name": "learn-env"
  },
  "language_info": {
   "codemirror_mode": {
    "name": "ipython",
    "version": 3
   },
   "file_extension": ".py",
   "mimetype": "text/x-python",
   "name": "python",
   "nbconvert_exporter": "python",
   "pygments_lexer": "ipython3",
   "version": "3.6.9"
  },
  "toc": {
   "base_numbering": 1,
   "nav_menu": {},
   "number_sections": true,
   "sideBar": true,
   "skip_h1_title": false,
   "title_cell": "Table of Contents",
   "title_sidebar": "Contents",
   "toc_cell": false,
   "toc_position": {},
   "toc_section_display": true,
   "toc_window_display": false
  },
  "varInspector": {
   "cols": {
    "lenName": 16,
    "lenType": 16,
    "lenVar": 40
   },
   "kernels_config": {
    "python": {
     "delete_cmd_postfix": "",
     "delete_cmd_prefix": "del ",
     "library": "var_list.py",
     "varRefreshCmd": "print(var_dic_list())"
    },
    "r": {
     "delete_cmd_postfix": ") ",
     "delete_cmd_prefix": "rm(",
     "library": "var_list.r",
     "varRefreshCmd": "cat(var_dic_list()) "
    }
   },
   "types_to_exclude": [
    "module",
    "function",
    "builtin_function_or_method",
    "instance",
    "_Feature"
   ],
   "window_display": false
  }
 },
 "nbformat": 4,
 "nbformat_minor": 4
}
