{
 "cells": [
  {
   "cell_type": "markdown",
   "metadata": {
    "ExecuteTime": {
     "end_time": "2020-10-15T16:23:19.642791Z",
     "start_time": "2020-10-15T16:23:19.585257Z"
    }
   },
   "source": [
    "<font size=\"6\"><b>MLP Neural Networks - Part I</b></font>"
   ]
  },
  {
   "cell_type": "markdown",
   "metadata": {},
   "source": [
    "![Figure_13](img/Figure_13.png)"
   ]
  },
  {
   "cell_type": "markdown",
   "metadata": {},
   "source": [
    "# Libraries"
   ]
  },
  {
   "cell_type": "code",
   "execution_count": 174,
   "metadata": {
    "ExecuteTime": {
     "end_time": "2020-10-15T12:10:46.993232Z",
     "start_time": "2020-10-15T12:10:46.973882Z"
    }
   },
   "outputs": [],
   "source": [
    "import pandas as pd\n",
    "import numpy as np\n",
    "np.random.seed(0)\n",
    "import matplotlib.pyplot as plt\n",
    "%matplotlib inline\n",
    "import seaborn as sns\n",
    "import xgboost as xgb\n",
    "sns.set_style('darkgrid')\n",
    "pd.set_option('display.max_columns', None)\n",
    "import datetime, warnings, scipy\n",
    "warnings.filterwarnings(\"ignore\")\n",
    "\n",
    "import keras\n",
    "from keras.models import Sequential\n",
    "from keras.layers import Dense\n",
    "from sklearn.datasets import load_breast_cancer\n",
    "from sklearn.preprocessing import StandardScaler, LabelBinarizer\n",
    "from sklearn.model_selection import train_test_split\n",
    "from keras.layers import Dense, Conv2D , SeparableConv2D, MaxPool2D, Flatten , Dropout , BatchNormalization\n",
    "from keras import Sequential\n",
    "from keras.layers import Dense\n",
    "from sklearn import preprocessing\n",
    "import sklearn.metrics as metrics\n",
    "from sklearn.metrics import classification_report, confusion_matrix\n",
    "from sklearn.metrics import precision_score, recall_score, f1_score\n",
    "\n",
    "import tensorflow as tf\n",
    "from tensorflow import keras"
   ]
  },
  {
   "cell_type": "markdown",
   "metadata": {},
   "source": [
    "# Data Loading"
   ]
  },
  {
   "cell_type": "code",
   "execution_count": 2,
   "metadata": {
    "ExecuteTime": {
     "end_time": "2020-10-14T15:41:23.942153Z",
     "start_time": "2020-10-14T15:41:07.993425Z"
    }
   },
   "outputs": [
    {
     "data": {
      "text/html": [
       "<div>\n",
       "<style scoped>\n",
       "    .dataframe tbody tr th:only-of-type {\n",
       "        vertical-align: middle;\n",
       "    }\n",
       "\n",
       "    .dataframe tbody tr th {\n",
       "        vertical-align: top;\n",
       "    }\n",
       "\n",
       "    .dataframe thead th {\n",
       "        text-align: right;\n",
       "    }\n",
       "</style>\n",
       "<table border=\"1\" class=\"dataframe\">\n",
       "  <thead>\n",
       "    <tr style=\"text-align: right;\">\n",
       "      <th></th>\n",
       "      <th>DEP_DELAY</th>\n",
       "      <th>CRS_ELAPSED_TIME</th>\n",
       "      <th>AIR_TIME</th>\n",
       "      <th>DISTANCE</th>\n",
       "      <th>FLIGHT_STATUS</th>\n",
       "      <th>OP_CARRIER_Allegiant Air</th>\n",
       "      <th>OP_CARRIER_American Airlines</th>\n",
       "      <th>OP_CARRIER_Delta Airlines</th>\n",
       "      <th>OP_CARRIER_Endeavor Air</th>\n",
       "      <th>OP_CARRIER_Envoy Air</th>\n",
       "      <th>OP_CARRIER_ExpressJet</th>\n",
       "      <th>OP_CARRIER_Frontier Airlines</th>\n",
       "      <th>OP_CARRIER_Hawaiian Airlines</th>\n",
       "      <th>OP_CARRIER_JetBlue Airways</th>\n",
       "      <th>OP_CARRIER_Mesa Airline</th>\n",
       "      <th>OP_CARRIER_PSA Airlines</th>\n",
       "      <th>OP_CARRIER_Republic Airways</th>\n",
       "      <th>OP_CARRIER_SkyWest Airlines</th>\n",
       "      <th>OP_CARRIER_Southwest Airlines</th>\n",
       "      <th>OP_CARRIER_Spirit Airlines</th>\n",
       "      <th>OP_CARRIER_United Airlines</th>\n",
       "      <th>OP_CARRIER_Virgin America</th>\n",
       "      <th>DEST_Atlanta</th>\n",
       "      <th>DEST_Boston</th>\n",
       "      <th>DEST_Charlotte</th>\n",
       "      <th>DEST_Chicago</th>\n",
       "      <th>DEST_Dallas-Fort Worth</th>\n",
       "      <th>DEST_Denver</th>\n",
       "      <th>DEST_Detroit</th>\n",
       "      <th>DEST_Houston</th>\n",
       "      <th>DEST_Las Vegas</th>\n",
       "      <th>DEST_Los Angeles</th>\n",
       "      <th>DEST_Minneapolis</th>\n",
       "      <th>DEST_New York</th>\n",
       "      <th>DEST_Newark</th>\n",
       "      <th>DEST_Orlando</th>\n",
       "      <th>DEST_Philadelphia</th>\n",
       "      <th>DEST_Phoenix</th>\n",
       "      <th>DEST_Salt Lake City</th>\n",
       "      <th>DEST_San Francisco</th>\n",
       "      <th>DEST_Seattle</th>\n",
       "      <th>CRS_DEP_TIME_2</th>\n",
       "      <th>CRS_DEP_TIME_3</th>\n",
       "      <th>CRS_DEP_TIME_4</th>\n",
       "      <th>CRS_ARR_TIME_2</th>\n",
       "      <th>CRS_ARR_TIME_3</th>\n",
       "      <th>CRS_ARR_TIME_4</th>\n",
       "      <th>MONTH_2</th>\n",
       "      <th>MONTH_3</th>\n",
       "      <th>MONTH_4</th>\n",
       "      <th>MONTH_5</th>\n",
       "      <th>MONTH_6</th>\n",
       "      <th>MONTH_7</th>\n",
       "      <th>MONTH_8</th>\n",
       "      <th>MONTH_9</th>\n",
       "      <th>MONTH_10</th>\n",
       "      <th>MONTH_11</th>\n",
       "      <th>MONTH_12</th>\n",
       "      <th>WEEKDAY_1</th>\n",
       "      <th>WEEKDAY_2</th>\n",
       "      <th>WEEKDAY_3</th>\n",
       "      <th>WEEKDAY_4</th>\n",
       "      <th>WEEKDAY_5</th>\n",
       "      <th>WEEKDAY_6</th>\n",
       "    </tr>\n",
       "  </thead>\n",
       "  <tbody>\n",
       "    <tr>\n",
       "      <th>0</th>\n",
       "      <td>-5.0</td>\n",
       "      <td>268.0</td>\n",
       "      <td>225.0</td>\n",
       "      <td>1605.0</td>\n",
       "      <td>0</td>\n",
       "      <td>0</td>\n",
       "      <td>0</td>\n",
       "      <td>0</td>\n",
       "      <td>0</td>\n",
       "      <td>0</td>\n",
       "      <td>0</td>\n",
       "      <td>0</td>\n",
       "      <td>0</td>\n",
       "      <td>0</td>\n",
       "      <td>0</td>\n",
       "      <td>0</td>\n",
       "      <td>0</td>\n",
       "      <td>0</td>\n",
       "      <td>0</td>\n",
       "      <td>0</td>\n",
       "      <td>1</td>\n",
       "      <td>0</td>\n",
       "      <td>0</td>\n",
       "      <td>0</td>\n",
       "      <td>0</td>\n",
       "      <td>0</td>\n",
       "      <td>0</td>\n",
       "      <td>1</td>\n",
       "      <td>0</td>\n",
       "      <td>0</td>\n",
       "      <td>0</td>\n",
       "      <td>0</td>\n",
       "      <td>0</td>\n",
       "      <td>0</td>\n",
       "      <td>0</td>\n",
       "      <td>0</td>\n",
       "      <td>0</td>\n",
       "      <td>0</td>\n",
       "      <td>0</td>\n",
       "      <td>0</td>\n",
       "      <td>0</td>\n",
       "      <td>0</td>\n",
       "      <td>1</td>\n",
       "      <td>0</td>\n",
       "      <td>0</td>\n",
       "      <td>1</td>\n",
       "      <td>0</td>\n",
       "      <td>0</td>\n",
       "      <td>0</td>\n",
       "      <td>0</td>\n",
       "      <td>0</td>\n",
       "      <td>0</td>\n",
       "      <td>0</td>\n",
       "      <td>0</td>\n",
       "      <td>0</td>\n",
       "      <td>0</td>\n",
       "      <td>0</td>\n",
       "      <td>0</td>\n",
       "      <td>0</td>\n",
       "      <td>0</td>\n",
       "      <td>0</td>\n",
       "      <td>0</td>\n",
       "      <td>0</td>\n",
       "      <td>0</td>\n",
       "    </tr>\n",
       "    <tr>\n",
       "      <th>1</th>\n",
       "      <td>-8.0</td>\n",
       "      <td>99.0</td>\n",
       "      <td>65.0</td>\n",
       "      <td>414.0</td>\n",
       "      <td>0</td>\n",
       "      <td>0</td>\n",
       "      <td>0</td>\n",
       "      <td>0</td>\n",
       "      <td>0</td>\n",
       "      <td>0</td>\n",
       "      <td>0</td>\n",
       "      <td>0</td>\n",
       "      <td>0</td>\n",
       "      <td>0</td>\n",
       "      <td>0</td>\n",
       "      <td>0</td>\n",
       "      <td>0</td>\n",
       "      <td>0</td>\n",
       "      <td>0</td>\n",
       "      <td>0</td>\n",
       "      <td>1</td>\n",
       "      <td>0</td>\n",
       "      <td>0</td>\n",
       "      <td>0</td>\n",
       "      <td>0</td>\n",
       "      <td>0</td>\n",
       "      <td>0</td>\n",
       "      <td>0</td>\n",
       "      <td>0</td>\n",
       "      <td>0</td>\n",
       "      <td>0</td>\n",
       "      <td>0</td>\n",
       "      <td>0</td>\n",
       "      <td>0</td>\n",
       "      <td>0</td>\n",
       "      <td>0</td>\n",
       "      <td>0</td>\n",
       "      <td>0</td>\n",
       "      <td>0</td>\n",
       "      <td>1</td>\n",
       "      <td>0</td>\n",
       "      <td>1</td>\n",
       "      <td>0</td>\n",
       "      <td>0</td>\n",
       "      <td>0</td>\n",
       "      <td>1</td>\n",
       "      <td>0</td>\n",
       "      <td>0</td>\n",
       "      <td>0</td>\n",
       "      <td>0</td>\n",
       "      <td>0</td>\n",
       "      <td>0</td>\n",
       "      <td>0</td>\n",
       "      <td>0</td>\n",
       "      <td>0</td>\n",
       "      <td>0</td>\n",
       "      <td>0</td>\n",
       "      <td>0</td>\n",
       "      <td>0</td>\n",
       "      <td>0</td>\n",
       "      <td>0</td>\n",
       "      <td>0</td>\n",
       "      <td>0</td>\n",
       "      <td>0</td>\n",
       "    </tr>\n",
       "    <tr>\n",
       "      <th>2</th>\n",
       "      <td>-5.0</td>\n",
       "      <td>134.0</td>\n",
       "      <td>106.0</td>\n",
       "      <td>846.0</td>\n",
       "      <td>0</td>\n",
       "      <td>0</td>\n",
       "      <td>0</td>\n",
       "      <td>0</td>\n",
       "      <td>0</td>\n",
       "      <td>0</td>\n",
       "      <td>0</td>\n",
       "      <td>0</td>\n",
       "      <td>0</td>\n",
       "      <td>0</td>\n",
       "      <td>0</td>\n",
       "      <td>0</td>\n",
       "      <td>0</td>\n",
       "      <td>0</td>\n",
       "      <td>0</td>\n",
       "      <td>0</td>\n",
       "      <td>1</td>\n",
       "      <td>0</td>\n",
       "      <td>0</td>\n",
       "      <td>0</td>\n",
       "      <td>0</td>\n",
       "      <td>0</td>\n",
       "      <td>0</td>\n",
       "      <td>1</td>\n",
       "      <td>0</td>\n",
       "      <td>0</td>\n",
       "      <td>0</td>\n",
       "      <td>0</td>\n",
       "      <td>0</td>\n",
       "      <td>0</td>\n",
       "      <td>0</td>\n",
       "      <td>0</td>\n",
       "      <td>0</td>\n",
       "      <td>0</td>\n",
       "      <td>0</td>\n",
       "      <td>0</td>\n",
       "      <td>0</td>\n",
       "      <td>0</td>\n",
       "      <td>1</td>\n",
       "      <td>0</td>\n",
       "      <td>0</td>\n",
       "      <td>1</td>\n",
       "      <td>0</td>\n",
       "      <td>0</td>\n",
       "      <td>0</td>\n",
       "      <td>0</td>\n",
       "      <td>0</td>\n",
       "      <td>0</td>\n",
       "      <td>0</td>\n",
       "      <td>0</td>\n",
       "      <td>0</td>\n",
       "      <td>0</td>\n",
       "      <td>0</td>\n",
       "      <td>0</td>\n",
       "      <td>0</td>\n",
       "      <td>0</td>\n",
       "      <td>0</td>\n",
       "      <td>0</td>\n",
       "      <td>0</td>\n",
       "      <td>0</td>\n",
       "    </tr>\n",
       "    <tr>\n",
       "      <th>3</th>\n",
       "      <td>6.0</td>\n",
       "      <td>190.0</td>\n",
       "      <td>157.0</td>\n",
       "      <td>1120.0</td>\n",
       "      <td>0</td>\n",
       "      <td>0</td>\n",
       "      <td>0</td>\n",
       "      <td>0</td>\n",
       "      <td>0</td>\n",
       "      <td>0</td>\n",
       "      <td>0</td>\n",
       "      <td>0</td>\n",
       "      <td>0</td>\n",
       "      <td>0</td>\n",
       "      <td>0</td>\n",
       "      <td>0</td>\n",
       "      <td>0</td>\n",
       "      <td>0</td>\n",
       "      <td>0</td>\n",
       "      <td>0</td>\n",
       "      <td>1</td>\n",
       "      <td>0</td>\n",
       "      <td>0</td>\n",
       "      <td>0</td>\n",
       "      <td>0</td>\n",
       "      <td>1</td>\n",
       "      <td>0</td>\n",
       "      <td>0</td>\n",
       "      <td>0</td>\n",
       "      <td>0</td>\n",
       "      <td>0</td>\n",
       "      <td>0</td>\n",
       "      <td>0</td>\n",
       "      <td>0</td>\n",
       "      <td>0</td>\n",
       "      <td>0</td>\n",
       "      <td>0</td>\n",
       "      <td>0</td>\n",
       "      <td>0</td>\n",
       "      <td>0</td>\n",
       "      <td>0</td>\n",
       "      <td>0</td>\n",
       "      <td>1</td>\n",
       "      <td>0</td>\n",
       "      <td>0</td>\n",
       "      <td>1</td>\n",
       "      <td>0</td>\n",
       "      <td>0</td>\n",
       "      <td>0</td>\n",
       "      <td>0</td>\n",
       "      <td>0</td>\n",
       "      <td>0</td>\n",
       "      <td>0</td>\n",
       "      <td>0</td>\n",
       "      <td>0</td>\n",
       "      <td>0</td>\n",
       "      <td>0</td>\n",
       "      <td>0</td>\n",
       "      <td>0</td>\n",
       "      <td>0</td>\n",
       "      <td>0</td>\n",
       "      <td>0</td>\n",
       "      <td>0</td>\n",
       "      <td>0</td>\n",
       "    </tr>\n",
       "    <tr>\n",
       "      <th>6</th>\n",
       "      <td>-3.0</td>\n",
       "      <td>206.0</td>\n",
       "      <td>173.0</td>\n",
       "      <td>1222.0</td>\n",
       "      <td>0</td>\n",
       "      <td>0</td>\n",
       "      <td>0</td>\n",
       "      <td>0</td>\n",
       "      <td>0</td>\n",
       "      <td>0</td>\n",
       "      <td>0</td>\n",
       "      <td>0</td>\n",
       "      <td>0</td>\n",
       "      <td>0</td>\n",
       "      <td>0</td>\n",
       "      <td>0</td>\n",
       "      <td>0</td>\n",
       "      <td>0</td>\n",
       "      <td>0</td>\n",
       "      <td>0</td>\n",
       "      <td>1</td>\n",
       "      <td>0</td>\n",
       "      <td>0</td>\n",
       "      <td>0</td>\n",
       "      <td>0</td>\n",
       "      <td>0</td>\n",
       "      <td>0</td>\n",
       "      <td>0</td>\n",
       "      <td>0</td>\n",
       "      <td>0</td>\n",
       "      <td>1</td>\n",
       "      <td>0</td>\n",
       "      <td>0</td>\n",
       "      <td>0</td>\n",
       "      <td>0</td>\n",
       "      <td>0</td>\n",
       "      <td>0</td>\n",
       "      <td>0</td>\n",
       "      <td>0</td>\n",
       "      <td>0</td>\n",
       "      <td>0</td>\n",
       "      <td>1</td>\n",
       "      <td>0</td>\n",
       "      <td>0</td>\n",
       "      <td>1</td>\n",
       "      <td>0</td>\n",
       "      <td>0</td>\n",
       "      <td>0</td>\n",
       "      <td>0</td>\n",
       "      <td>0</td>\n",
       "      <td>0</td>\n",
       "      <td>0</td>\n",
       "      <td>0</td>\n",
       "      <td>0</td>\n",
       "      <td>0</td>\n",
       "      <td>0</td>\n",
       "      <td>0</td>\n",
       "      <td>0</td>\n",
       "      <td>0</td>\n",
       "      <td>0</td>\n",
       "      <td>0</td>\n",
       "      <td>0</td>\n",
       "      <td>0</td>\n",
       "      <td>0</td>\n",
       "    </tr>\n",
       "    <tr>\n",
       "      <th>7213439</th>\n",
       "      <td>31.0</td>\n",
       "      <td>182.0</td>\n",
       "      <td>142.0</td>\n",
       "      <td>1303.0</td>\n",
       "      <td>1</td>\n",
       "      <td>0</td>\n",
       "      <td>1</td>\n",
       "      <td>0</td>\n",
       "      <td>0</td>\n",
       "      <td>0</td>\n",
       "      <td>0</td>\n",
       "      <td>0</td>\n",
       "      <td>0</td>\n",
       "      <td>0</td>\n",
       "      <td>0</td>\n",
       "      <td>0</td>\n",
       "      <td>0</td>\n",
       "      <td>0</td>\n",
       "      <td>0</td>\n",
       "      <td>0</td>\n",
       "      <td>0</td>\n",
       "      <td>0</td>\n",
       "      <td>0</td>\n",
       "      <td>0</td>\n",
       "      <td>0</td>\n",
       "      <td>0</td>\n",
       "      <td>0</td>\n",
       "      <td>0</td>\n",
       "      <td>0</td>\n",
       "      <td>0</td>\n",
       "      <td>0</td>\n",
       "      <td>0</td>\n",
       "      <td>0</td>\n",
       "      <td>0</td>\n",
       "      <td>0</td>\n",
       "      <td>0</td>\n",
       "      <td>1</td>\n",
       "      <td>0</td>\n",
       "      <td>0</td>\n",
       "      <td>0</td>\n",
       "      <td>0</td>\n",
       "      <td>0</td>\n",
       "      <td>0</td>\n",
       "      <td>1</td>\n",
       "      <td>0</td>\n",
       "      <td>0</td>\n",
       "      <td>1</td>\n",
       "      <td>0</td>\n",
       "      <td>0</td>\n",
       "      <td>0</td>\n",
       "      <td>0</td>\n",
       "      <td>0</td>\n",
       "      <td>0</td>\n",
       "      <td>0</td>\n",
       "      <td>0</td>\n",
       "      <td>0</td>\n",
       "      <td>0</td>\n",
       "      <td>1</td>\n",
       "      <td>0</td>\n",
       "      <td>0</td>\n",
       "      <td>0</td>\n",
       "      <td>0</td>\n",
       "      <td>0</td>\n",
       "      <td>0</td>\n",
       "    </tr>\n",
       "    <tr>\n",
       "      <th>7213440</th>\n",
       "      <td>-1.0</td>\n",
       "      <td>84.0</td>\n",
       "      <td>46.0</td>\n",
       "      <td>331.0</td>\n",
       "      <td>0</td>\n",
       "      <td>0</td>\n",
       "      <td>1</td>\n",
       "      <td>0</td>\n",
       "      <td>0</td>\n",
       "      <td>0</td>\n",
       "      <td>0</td>\n",
       "      <td>0</td>\n",
       "      <td>0</td>\n",
       "      <td>0</td>\n",
       "      <td>0</td>\n",
       "      <td>0</td>\n",
       "      <td>0</td>\n",
       "      <td>0</td>\n",
       "      <td>0</td>\n",
       "      <td>0</td>\n",
       "      <td>0</td>\n",
       "      <td>0</td>\n",
       "      <td>0</td>\n",
       "      <td>0</td>\n",
       "      <td>0</td>\n",
       "      <td>0</td>\n",
       "      <td>0</td>\n",
       "      <td>0</td>\n",
       "      <td>0</td>\n",
       "      <td>0</td>\n",
       "      <td>0</td>\n",
       "      <td>0</td>\n",
       "      <td>0</td>\n",
       "      <td>0</td>\n",
       "      <td>0</td>\n",
       "      <td>0</td>\n",
       "      <td>0</td>\n",
       "      <td>0</td>\n",
       "      <td>0</td>\n",
       "      <td>0</td>\n",
       "      <td>0</td>\n",
       "      <td>0</td>\n",
       "      <td>1</td>\n",
       "      <td>0</td>\n",
       "      <td>0</td>\n",
       "      <td>1</td>\n",
       "      <td>0</td>\n",
       "      <td>0</td>\n",
       "      <td>0</td>\n",
       "      <td>0</td>\n",
       "      <td>0</td>\n",
       "      <td>0</td>\n",
       "      <td>0</td>\n",
       "      <td>0</td>\n",
       "      <td>0</td>\n",
       "      <td>0</td>\n",
       "      <td>0</td>\n",
       "      <td>1</td>\n",
       "      <td>0</td>\n",
       "      <td>0</td>\n",
       "      <td>0</td>\n",
       "      <td>0</td>\n",
       "      <td>0</td>\n",
       "      <td>0</td>\n",
       "    </tr>\n",
       "    <tr>\n",
       "      <th>7213441</th>\n",
       "      <td>-4.0</td>\n",
       "      <td>100.0</td>\n",
       "      <td>72.0</td>\n",
       "      <td>331.0</td>\n",
       "      <td>0</td>\n",
       "      <td>0</td>\n",
       "      <td>1</td>\n",
       "      <td>0</td>\n",
       "      <td>0</td>\n",
       "      <td>0</td>\n",
       "      <td>0</td>\n",
       "      <td>0</td>\n",
       "      <td>0</td>\n",
       "      <td>0</td>\n",
       "      <td>0</td>\n",
       "      <td>0</td>\n",
       "      <td>0</td>\n",
       "      <td>0</td>\n",
       "      <td>0</td>\n",
       "      <td>0</td>\n",
       "      <td>0</td>\n",
       "      <td>0</td>\n",
       "      <td>0</td>\n",
       "      <td>0</td>\n",
       "      <td>1</td>\n",
       "      <td>0</td>\n",
       "      <td>0</td>\n",
       "      <td>0</td>\n",
       "      <td>0</td>\n",
       "      <td>0</td>\n",
       "      <td>0</td>\n",
       "      <td>0</td>\n",
       "      <td>0</td>\n",
       "      <td>0</td>\n",
       "      <td>0</td>\n",
       "      <td>0</td>\n",
       "      <td>0</td>\n",
       "      <td>0</td>\n",
       "      <td>0</td>\n",
       "      <td>0</td>\n",
       "      <td>0</td>\n",
       "      <td>0</td>\n",
       "      <td>1</td>\n",
       "      <td>0</td>\n",
       "      <td>0</td>\n",
       "      <td>1</td>\n",
       "      <td>0</td>\n",
       "      <td>0</td>\n",
       "      <td>0</td>\n",
       "      <td>0</td>\n",
       "      <td>0</td>\n",
       "      <td>0</td>\n",
       "      <td>0</td>\n",
       "      <td>0</td>\n",
       "      <td>0</td>\n",
       "      <td>0</td>\n",
       "      <td>0</td>\n",
       "      <td>1</td>\n",
       "      <td>0</td>\n",
       "      <td>0</td>\n",
       "      <td>0</td>\n",
       "      <td>0</td>\n",
       "      <td>0</td>\n",
       "      <td>0</td>\n",
       "    </tr>\n",
       "    <tr>\n",
       "      <th>7213442</th>\n",
       "      <td>6.0</td>\n",
       "      <td>181.0</td>\n",
       "      <td>148.0</td>\n",
       "      <td>936.0</td>\n",
       "      <td>1</td>\n",
       "      <td>0</td>\n",
       "      <td>1</td>\n",
       "      <td>0</td>\n",
       "      <td>0</td>\n",
       "      <td>0</td>\n",
       "      <td>0</td>\n",
       "      <td>0</td>\n",
       "      <td>0</td>\n",
       "      <td>0</td>\n",
       "      <td>0</td>\n",
       "      <td>0</td>\n",
       "      <td>0</td>\n",
       "      <td>0</td>\n",
       "      <td>0</td>\n",
       "      <td>0</td>\n",
       "      <td>0</td>\n",
       "      <td>0</td>\n",
       "      <td>0</td>\n",
       "      <td>0</td>\n",
       "      <td>0</td>\n",
       "      <td>0</td>\n",
       "      <td>1</td>\n",
       "      <td>0</td>\n",
       "      <td>0</td>\n",
       "      <td>0</td>\n",
       "      <td>0</td>\n",
       "      <td>0</td>\n",
       "      <td>0</td>\n",
       "      <td>0</td>\n",
       "      <td>0</td>\n",
       "      <td>0</td>\n",
       "      <td>0</td>\n",
       "      <td>0</td>\n",
       "      <td>0</td>\n",
       "      <td>0</td>\n",
       "      <td>0</td>\n",
       "      <td>0</td>\n",
       "      <td>1</td>\n",
       "      <td>0</td>\n",
       "      <td>0</td>\n",
       "      <td>0</td>\n",
       "      <td>1</td>\n",
       "      <td>0</td>\n",
       "      <td>0</td>\n",
       "      <td>0</td>\n",
       "      <td>0</td>\n",
       "      <td>0</td>\n",
       "      <td>0</td>\n",
       "      <td>0</td>\n",
       "      <td>0</td>\n",
       "      <td>0</td>\n",
       "      <td>0</td>\n",
       "      <td>1</td>\n",
       "      <td>0</td>\n",
       "      <td>0</td>\n",
       "      <td>0</td>\n",
       "      <td>0</td>\n",
       "      <td>0</td>\n",
       "      <td>0</td>\n",
       "    </tr>\n",
       "    <tr>\n",
       "      <th>7213445</th>\n",
       "      <td>8.0</td>\n",
       "      <td>71.0</td>\n",
       "      <td>44.0</td>\n",
       "      <td>130.0</td>\n",
       "      <td>0</td>\n",
       "      <td>0</td>\n",
       "      <td>1</td>\n",
       "      <td>0</td>\n",
       "      <td>0</td>\n",
       "      <td>0</td>\n",
       "      <td>0</td>\n",
       "      <td>0</td>\n",
       "      <td>0</td>\n",
       "      <td>0</td>\n",
       "      <td>0</td>\n",
       "      <td>0</td>\n",
       "      <td>0</td>\n",
       "      <td>0</td>\n",
       "      <td>0</td>\n",
       "      <td>0</td>\n",
       "      <td>0</td>\n",
       "      <td>0</td>\n",
       "      <td>0</td>\n",
       "      <td>0</td>\n",
       "      <td>1</td>\n",
       "      <td>0</td>\n",
       "      <td>0</td>\n",
       "      <td>0</td>\n",
       "      <td>0</td>\n",
       "      <td>0</td>\n",
       "      <td>0</td>\n",
       "      <td>0</td>\n",
       "      <td>0</td>\n",
       "      <td>0</td>\n",
       "      <td>0</td>\n",
       "      <td>0</td>\n",
       "      <td>0</td>\n",
       "      <td>0</td>\n",
       "      <td>0</td>\n",
       "      <td>0</td>\n",
       "      <td>0</td>\n",
       "      <td>0</td>\n",
       "      <td>1</td>\n",
       "      <td>0</td>\n",
       "      <td>0</td>\n",
       "      <td>1</td>\n",
       "      <td>0</td>\n",
       "      <td>0</td>\n",
       "      <td>0</td>\n",
       "      <td>0</td>\n",
       "      <td>0</td>\n",
       "      <td>0</td>\n",
       "      <td>0</td>\n",
       "      <td>0</td>\n",
       "      <td>0</td>\n",
       "      <td>0</td>\n",
       "      <td>0</td>\n",
       "      <td>1</td>\n",
       "      <td>0</td>\n",
       "      <td>0</td>\n",
       "      <td>0</td>\n",
       "      <td>0</td>\n",
       "      <td>0</td>\n",
       "      <td>0</td>\n",
       "    </tr>\n",
       "  </tbody>\n",
       "</table>\n",
       "</div>"
      ],
      "text/plain": [
       "         DEP_DELAY  CRS_ELAPSED_TIME  AIR_TIME  DISTANCE  FLIGHT_STATUS  \\\n",
       "0             -5.0             268.0     225.0    1605.0              0   \n",
       "1             -8.0              99.0      65.0     414.0              0   \n",
       "2             -5.0             134.0     106.0     846.0              0   \n",
       "3              6.0             190.0     157.0    1120.0              0   \n",
       "6             -3.0             206.0     173.0    1222.0              0   \n",
       "7213439       31.0             182.0     142.0    1303.0              1   \n",
       "7213440       -1.0              84.0      46.0     331.0              0   \n",
       "7213441       -4.0             100.0      72.0     331.0              0   \n",
       "7213442        6.0             181.0     148.0     936.0              1   \n",
       "7213445        8.0              71.0      44.0     130.0              0   \n",
       "\n",
       "         OP_CARRIER_Allegiant Air  OP_CARRIER_American Airlines  \\\n",
       "0                               0                             0   \n",
       "1                               0                             0   \n",
       "2                               0                             0   \n",
       "3                               0                             0   \n",
       "6                               0                             0   \n",
       "7213439                         0                             1   \n",
       "7213440                         0                             1   \n",
       "7213441                         0                             1   \n",
       "7213442                         0                             1   \n",
       "7213445                         0                             1   \n",
       "\n",
       "         OP_CARRIER_Delta Airlines  OP_CARRIER_Endeavor Air  \\\n",
       "0                                0                        0   \n",
       "1                                0                        0   \n",
       "2                                0                        0   \n",
       "3                                0                        0   \n",
       "6                                0                        0   \n",
       "7213439                          0                        0   \n",
       "7213440                          0                        0   \n",
       "7213441                          0                        0   \n",
       "7213442                          0                        0   \n",
       "7213445                          0                        0   \n",
       "\n",
       "         OP_CARRIER_Envoy Air  OP_CARRIER_ExpressJet  \\\n",
       "0                           0                      0   \n",
       "1                           0                      0   \n",
       "2                           0                      0   \n",
       "3                           0                      0   \n",
       "6                           0                      0   \n",
       "7213439                     0                      0   \n",
       "7213440                     0                      0   \n",
       "7213441                     0                      0   \n",
       "7213442                     0                      0   \n",
       "7213445                     0                      0   \n",
       "\n",
       "         OP_CARRIER_Frontier Airlines  OP_CARRIER_Hawaiian Airlines  \\\n",
       "0                                   0                             0   \n",
       "1                                   0                             0   \n",
       "2                                   0                             0   \n",
       "3                                   0                             0   \n",
       "6                                   0                             0   \n",
       "7213439                             0                             0   \n",
       "7213440                             0                             0   \n",
       "7213441                             0                             0   \n",
       "7213442                             0                             0   \n",
       "7213445                             0                             0   \n",
       "\n",
       "         OP_CARRIER_JetBlue Airways  OP_CARRIER_Mesa Airline  \\\n",
       "0                                 0                        0   \n",
       "1                                 0                        0   \n",
       "2                                 0                        0   \n",
       "3                                 0                        0   \n",
       "6                                 0                        0   \n",
       "7213439                           0                        0   \n",
       "7213440                           0                        0   \n",
       "7213441                           0                        0   \n",
       "7213442                           0                        0   \n",
       "7213445                           0                        0   \n",
       "\n",
       "         OP_CARRIER_PSA Airlines  OP_CARRIER_Republic Airways  \\\n",
       "0                              0                            0   \n",
       "1                              0                            0   \n",
       "2                              0                            0   \n",
       "3                              0                            0   \n",
       "6                              0                            0   \n",
       "7213439                        0                            0   \n",
       "7213440                        0                            0   \n",
       "7213441                        0                            0   \n",
       "7213442                        0                            0   \n",
       "7213445                        0                            0   \n",
       "\n",
       "         OP_CARRIER_SkyWest Airlines  OP_CARRIER_Southwest Airlines  \\\n",
       "0                                  0                              0   \n",
       "1                                  0                              0   \n",
       "2                                  0                              0   \n",
       "3                                  0                              0   \n",
       "6                                  0                              0   \n",
       "7213439                            0                              0   \n",
       "7213440                            0                              0   \n",
       "7213441                            0                              0   \n",
       "7213442                            0                              0   \n",
       "7213445                            0                              0   \n",
       "\n",
       "         OP_CARRIER_Spirit Airlines  OP_CARRIER_United Airlines  \\\n",
       "0                                 0                           1   \n",
       "1                                 0                           1   \n",
       "2                                 0                           1   \n",
       "3                                 0                           1   \n",
       "6                                 0                           1   \n",
       "7213439                           0                           0   \n",
       "7213440                           0                           0   \n",
       "7213441                           0                           0   \n",
       "7213442                           0                           0   \n",
       "7213445                           0                           0   \n",
       "\n",
       "         OP_CARRIER_Virgin America  DEST_Atlanta  DEST_Boston  DEST_Charlotte  \\\n",
       "0                                0             0            0               0   \n",
       "1                                0             0            0               0   \n",
       "2                                0             0            0               0   \n",
       "3                                0             0            0               0   \n",
       "6                                0             0            0               0   \n",
       "7213439                          0             0            0               0   \n",
       "7213440                          0             0            0               0   \n",
       "7213441                          0             0            0               1   \n",
       "7213442                          0             0            0               0   \n",
       "7213445                          0             0            0               1   \n",
       "\n",
       "         DEST_Chicago  DEST_Dallas-Fort Worth  DEST_Denver  DEST_Detroit  \\\n",
       "0                   0                       0            1             0   \n",
       "1                   0                       0            0             0   \n",
       "2                   0                       0            1             0   \n",
       "3                   1                       0            0             0   \n",
       "6                   0                       0            0             0   \n",
       "7213439             0                       0            0             0   \n",
       "7213440             0                       0            0             0   \n",
       "7213441             0                       0            0             0   \n",
       "7213442             0                       1            0             0   \n",
       "7213445             0                       0            0             0   \n",
       "\n",
       "         DEST_Houston  DEST_Las Vegas  DEST_Los Angeles  DEST_Minneapolis  \\\n",
       "0                   0               0                 0                 0   \n",
       "1                   0               0                 0                 0   \n",
       "2                   0               0                 0                 0   \n",
       "3                   0               0                 0                 0   \n",
       "6                   0               1                 0                 0   \n",
       "7213439             0               0                 0                 0   \n",
       "7213440             0               0                 0                 0   \n",
       "7213441             0               0                 0                 0   \n",
       "7213442             0               0                 0                 0   \n",
       "7213445             0               0                 0                 0   \n",
       "\n",
       "         DEST_New York  DEST_Newark  DEST_Orlando  DEST_Philadelphia  \\\n",
       "0                    0            0             0                  0   \n",
       "1                    0            0             0                  0   \n",
       "2                    0            0             0                  0   \n",
       "3                    0            0             0                  0   \n",
       "6                    0            0             0                  0   \n",
       "7213439              0            0             0                  1   \n",
       "7213440              0            0             0                  0   \n",
       "7213441              0            0             0                  0   \n",
       "7213442              0            0             0                  0   \n",
       "7213445              0            0             0                  0   \n",
       "\n",
       "         DEST_Phoenix  DEST_Salt Lake City  DEST_San Francisco  DEST_Seattle  \\\n",
       "0                   0                    0                   0             0   \n",
       "1                   0                    0                   1             0   \n",
       "2                   0                    0                   0             0   \n",
       "3                   0                    0                   0             0   \n",
       "6                   0                    0                   0             0   \n",
       "7213439             0                    0                   0             0   \n",
       "7213440             0                    0                   0             0   \n",
       "7213441             0                    0                   0             0   \n",
       "7213442             0                    0                   0             0   \n",
       "7213445             0                    0                   0             0   \n",
       "\n",
       "         CRS_DEP_TIME_2  CRS_DEP_TIME_3  CRS_DEP_TIME_4  CRS_ARR_TIME_2  \\\n",
       "0                     0               1               0               0   \n",
       "1                     1               0               0               0   \n",
       "2                     0               1               0               0   \n",
       "3                     0               1               0               0   \n",
       "6                     1               0               0               1   \n",
       "7213439               0               0               1               0   \n",
       "7213440               0               1               0               0   \n",
       "7213441               0               1               0               0   \n",
       "7213442               0               1               0               0   \n",
       "7213445               0               1               0               0   \n",
       "\n",
       "         CRS_ARR_TIME_3  CRS_ARR_TIME_4  MONTH_2  MONTH_3  MONTH_4  MONTH_5  \\\n",
       "0                     1               0        0        0        0        0   \n",
       "1                     1               0        0        0        0        0   \n",
       "2                     1               0        0        0        0        0   \n",
       "3                     1               0        0        0        0        0   \n",
       "6                     0               0        0        0        0        0   \n",
       "7213439               0               1        0        0        0        0   \n",
       "7213440               1               0        0        0        0        0   \n",
       "7213441               1               0        0        0        0        0   \n",
       "7213442               0               1        0        0        0        0   \n",
       "7213445               1               0        0        0        0        0   \n",
       "\n",
       "         MONTH_6  MONTH_7  MONTH_8  MONTH_9  MONTH_10  MONTH_11  MONTH_12  \\\n",
       "0              0        0        0        0         0         0         0   \n",
       "1              0        0        0        0         0         0         0   \n",
       "2              0        0        0        0         0         0         0   \n",
       "3              0        0        0        0         0         0         0   \n",
       "6              0        0        0        0         0         0         0   \n",
       "7213439        0        0        0        0         0         0         1   \n",
       "7213440        0        0        0        0         0         0         1   \n",
       "7213441        0        0        0        0         0         0         1   \n",
       "7213442        0        0        0        0         0         0         1   \n",
       "7213445        0        0        0        0         0         0         1   \n",
       "\n",
       "         WEEKDAY_1  WEEKDAY_2  WEEKDAY_3  WEEKDAY_4  WEEKDAY_5  WEEKDAY_6  \n",
       "0                0          0          0          0          0          0  \n",
       "1                0          0          0          0          0          0  \n",
       "2                0          0          0          0          0          0  \n",
       "3                0          0          0          0          0          0  \n",
       "6                0          0          0          0          0          0  \n",
       "7213439          0          0          0          0          0          0  \n",
       "7213440          0          0          0          0          0          0  \n",
       "7213441          0          0          0          0          0          0  \n",
       "7213442          0          0          0          0          0          0  \n",
       "7213445          0          0          0          0          0          0  "
      ]
     },
     "execution_count": 2,
     "metadata": {},
     "output_type": "execute_result"
    }
   ],
   "source": [
    "dfm_ready = pd.read_csv('dfm_ready.csv', index_col=0)\n",
    "dfm_ready.head().append(dfm_ready.tail())"
   ]
  },
  {
   "cell_type": "markdown",
   "metadata": {},
   "source": [
    "The next cell will make sure that all my features are in floating format, followed by a double check with the .info() function"
   ]
  },
  {
   "cell_type": "code",
   "execution_count": 3,
   "metadata": {
    "ExecuteTime": {
     "end_time": "2020-10-14T15:41:25.307009Z",
     "start_time": "2020-10-14T15:41:24.022512Z"
    }
   },
   "outputs": [],
   "source": [
    "df = dfm_ready.astype(float)"
   ]
  },
  {
   "cell_type": "code",
   "execution_count": 4,
   "metadata": {
    "ExecuteTime": {
     "end_time": "2020-10-14T15:41:32.263905Z",
     "start_time": "2020-10-14T15:41:32.253444Z"
    }
   },
   "outputs": [
    {
     "name": "stdout",
     "output_type": "stream",
     "text": [
      "<class 'pandas.core.frame.DataFrame'>\n",
      "Int64Index: 4008257 entries, 0 to 7213445\n",
      "Data columns (total 64 columns):\n",
      " #   Column                         Dtype  \n",
      "---  ------                         -----  \n",
      " 0   DEP_DELAY                      float64\n",
      " 1   CRS_ELAPSED_TIME               float64\n",
      " 2   AIR_TIME                       float64\n",
      " 3   DISTANCE                       float64\n",
      " 4   FLIGHT_STATUS                  float64\n",
      " 5   OP_CARRIER_Allegiant Air       float64\n",
      " 6   OP_CARRIER_American Airlines   float64\n",
      " 7   OP_CARRIER_Delta Airlines      float64\n",
      " 8   OP_CARRIER_Endeavor Air        float64\n",
      " 9   OP_CARRIER_Envoy Air           float64\n",
      " 10  OP_CARRIER_ExpressJet          float64\n",
      " 11  OP_CARRIER_Frontier Airlines   float64\n",
      " 12  OP_CARRIER_Hawaiian Airlines   float64\n",
      " 13  OP_CARRIER_JetBlue Airways     float64\n",
      " 14  OP_CARRIER_Mesa Airline        float64\n",
      " 15  OP_CARRIER_PSA Airlines        float64\n",
      " 16  OP_CARRIER_Republic Airways    float64\n",
      " 17  OP_CARRIER_SkyWest Airlines    float64\n",
      " 18  OP_CARRIER_Southwest Airlines  float64\n",
      " 19  OP_CARRIER_Spirit Airlines     float64\n",
      " 20  OP_CARRIER_United Airlines     float64\n",
      " 21  OP_CARRIER_Virgin America      float64\n",
      " 22  DEST_Atlanta                   float64\n",
      " 23  DEST_Boston                    float64\n",
      " 24  DEST_Charlotte                 float64\n",
      " 25  DEST_Chicago                   float64\n",
      " 26  DEST_Dallas-Fort Worth         float64\n",
      " 27  DEST_Denver                    float64\n",
      " 28  DEST_Detroit                   float64\n",
      " 29  DEST_Houston                   float64\n",
      " 30  DEST_Las Vegas                 float64\n",
      " 31  DEST_Los Angeles               float64\n",
      " 32  DEST_Minneapolis               float64\n",
      " 33  DEST_New York                  float64\n",
      " 34  DEST_Newark                    float64\n",
      " 35  DEST_Orlando                   float64\n",
      " 36  DEST_Philadelphia              float64\n",
      " 37  DEST_Phoenix                   float64\n",
      " 38  DEST_Salt Lake City            float64\n",
      " 39  DEST_San Francisco             float64\n",
      " 40  DEST_Seattle                   float64\n",
      " 41  CRS_DEP_TIME_2                 float64\n",
      " 42  CRS_DEP_TIME_3                 float64\n",
      " 43  CRS_DEP_TIME_4                 float64\n",
      " 44  CRS_ARR_TIME_2                 float64\n",
      " 45  CRS_ARR_TIME_3                 float64\n",
      " 46  CRS_ARR_TIME_4                 float64\n",
      " 47  MONTH_2                        float64\n",
      " 48  MONTH_3                        float64\n",
      " 49  MONTH_4                        float64\n",
      " 50  MONTH_5                        float64\n",
      " 51  MONTH_6                        float64\n",
      " 52  MONTH_7                        float64\n",
      " 53  MONTH_8                        float64\n",
      " 54  MONTH_9                        float64\n",
      " 55  MONTH_10                       float64\n",
      " 56  MONTH_11                       float64\n",
      " 57  MONTH_12                       float64\n",
      " 58  WEEKDAY_1                      float64\n",
      " 59  WEEKDAY_2                      float64\n",
      " 60  WEEKDAY_3                      float64\n",
      " 61  WEEKDAY_4                      float64\n",
      " 62  WEEKDAY_5                      float64\n",
      " 63  WEEKDAY_6                      float64\n",
      "dtypes: float64(64)\n",
      "memory usage: 1.9 GB\n"
     ]
    }
   ],
   "source": [
    "df.info()"
   ]
  },
  {
   "cell_type": "markdown",
   "metadata": {},
   "source": [
    "=================================================================================="
   ]
  },
  {
   "cell_type": "markdown",
   "metadata": {},
   "source": [
    "# Function Library"
   ]
  },
  {
   "cell_type": "markdown",
   "metadata": {},
   "source": [
    "This is a quick parenthesis to write down a few functions that I will be using to evaluate every model once finish training it. "
   ]
  },
  {
   "cell_type": "code",
   "execution_count": 193,
   "metadata": {
    "ExecuteTime": {
     "end_time": "2020-10-15T16:49:26.801530Z",
     "start_time": "2020-10-15T16:49:26.791914Z"
    }
   },
   "outputs": [],
   "source": [
    "def visualize_training_results(results):\n",
    "    history = results.history\n",
    "    plt.figure()\n",
    "    plt.plot(history['val_loss'])\n",
    "    plt.plot(history['loss'])\n",
    "    plt.legend(['val_loss', 'loss'])\n",
    "    plt.title('LOSS', fontsize=14)\n",
    "    plt.xlabel('Epochs', fontsize=12)\n",
    "    plt.ylabel('Loss', fontsize=12)\n",
    "    plt.show()\n",
    "    \n",
    "    plt.figure()\n",
    "    plt.plot(history['val_acc'])\n",
    "    plt.plot(history['acc'])\n",
    "    plt.legend(['val_acc', 'acc'])\n",
    "    plt.title('ACCURACY', fontsize=14)\n",
    "    plt.xlabel('Epochs', fontsize=12)\n",
    "    plt.ylabel('Accuracy', fontsize=12)\n",
    "    plt.show()"
   ]
  },
  {
   "cell_type": "code",
   "execution_count": 182,
   "metadata": {
    "ExecuteTime": {
     "end_time": "2020-10-15T16:29:44.186493Z",
     "start_time": "2020-10-15T16:29:44.176204Z"
    }
   },
   "outputs": [],
   "source": [
    "def conf_matrix(conf_mat,):\n",
    "    \n",
    "    conf_mat = pd.DataFrame(conf_mat, index = ['0', '1'], columns = ['0', '1'])\n",
    "    sns.set(font_scale=1.4)\n",
    "    plt.figure(figsize = (8,7))\n",
    "    sns.heatmap(conf_mat, cmap= \"Blues\", linecolor = 'black' , linewidth = 1, annot = True, fmt='')\n",
    "    plt.xlabel('Predicted', fontsize=14)\n",
    "    plt.ylabel('True', fontsize=14)\n",
    "    plt.show()"
   ]
  },
  {
   "cell_type": "code",
   "execution_count": 163,
   "metadata": {
    "ExecuteTime": {
     "end_time": "2020-10-15T11:49:58.192067Z",
     "start_time": "2020-10-15T11:49:58.151550Z"
    }
   },
   "outputs": [],
   "source": [
    "def model_metrics(a, b):\n",
    "    \n",
    "    accuracy = metrics.accuracy_score(a, b)\n",
    "    precision = precision_score(a, b)\n",
    "    recall = recall_score(a, b)\n",
    "    f1 = f1_score(a, b)\n",
    "\n",
    "    print('Accuracy:', round(accuracy*100, 2),'%')\n",
    "    print('Precision score:', round(precision*100, 2),'%')\n",
    "    print('Recall score:', round(recall*100, 2),'%')\n",
    "    print('F1 score:', round(f1*100, 2),'%')"
   ]
  },
  {
   "cell_type": "markdown",
   "metadata": {},
   "source": [
    "=================================================================================="
   ]
  },
  {
   "cell_type": "markdown",
   "metadata": {},
   "source": [
    "Target (y) and Features (X) definitions:"
   ]
  },
  {
   "cell_type": "code",
   "execution_count": 45,
   "metadata": {
    "ExecuteTime": {
     "end_time": "2020-10-14T16:36:02.606987Z",
     "start_time": "2020-10-14T16:36:00.123457Z"
    }
   },
   "outputs": [],
   "source": [
    "y = df['FLIGHT_STATUS']\n",
    "X = df.drop(['FLIGHT_STATUS', 'DEP_DELAY'], axis=1)"
   ]
  },
  {
   "cell_type": "markdown",
   "metadata": {},
   "source": [
    "Notice that the models that will be trained on this Notebook have all the features available except for the FLIGHT_STATUS, which is our target, and the DEP_DELAY, to avoid biasing the model"
   ]
  },
  {
   "cell_type": "code",
   "execution_count": 47,
   "metadata": {
    "ExecuteTime": {
     "end_time": "2020-10-14T16:36:37.414271Z",
     "start_time": "2020-10-14T16:36:37.358791Z"
    }
   },
   "outputs": [
    {
     "data": {
      "text/html": [
       "<div>\n",
       "<style scoped>\n",
       "    .dataframe tbody tr th:only-of-type {\n",
       "        vertical-align: middle;\n",
       "    }\n",
       "\n",
       "    .dataframe tbody tr th {\n",
       "        vertical-align: top;\n",
       "    }\n",
       "\n",
       "    .dataframe thead th {\n",
       "        text-align: right;\n",
       "    }\n",
       "</style>\n",
       "<table border=\"1\" class=\"dataframe\">\n",
       "  <thead>\n",
       "    <tr style=\"text-align: right;\">\n",
       "      <th></th>\n",
       "      <th>DEP_DELAY</th>\n",
       "      <th>CRS_ELAPSED_TIME</th>\n",
       "      <th>AIR_TIME</th>\n",
       "      <th>DISTANCE</th>\n",
       "      <th>FLIGHT_STATUS</th>\n",
       "      <th>OP_CARRIER_Allegiant Air</th>\n",
       "      <th>OP_CARRIER_American Airlines</th>\n",
       "      <th>OP_CARRIER_Delta Airlines</th>\n",
       "      <th>OP_CARRIER_Endeavor Air</th>\n",
       "      <th>OP_CARRIER_Envoy Air</th>\n",
       "      <th>OP_CARRIER_ExpressJet</th>\n",
       "      <th>OP_CARRIER_Frontier Airlines</th>\n",
       "      <th>OP_CARRIER_Hawaiian Airlines</th>\n",
       "      <th>OP_CARRIER_JetBlue Airways</th>\n",
       "      <th>OP_CARRIER_Mesa Airline</th>\n",
       "      <th>OP_CARRIER_PSA Airlines</th>\n",
       "      <th>OP_CARRIER_Republic Airways</th>\n",
       "      <th>OP_CARRIER_SkyWest Airlines</th>\n",
       "      <th>OP_CARRIER_Southwest Airlines</th>\n",
       "      <th>OP_CARRIER_Spirit Airlines</th>\n",
       "      <th>OP_CARRIER_United Airlines</th>\n",
       "      <th>OP_CARRIER_Virgin America</th>\n",
       "      <th>DEST_Atlanta</th>\n",
       "      <th>DEST_Boston</th>\n",
       "      <th>DEST_Charlotte</th>\n",
       "      <th>DEST_Chicago</th>\n",
       "      <th>DEST_Dallas-Fort Worth</th>\n",
       "      <th>DEST_Denver</th>\n",
       "      <th>DEST_Detroit</th>\n",
       "      <th>DEST_Houston</th>\n",
       "      <th>DEST_Las Vegas</th>\n",
       "      <th>DEST_Los Angeles</th>\n",
       "      <th>DEST_Minneapolis</th>\n",
       "      <th>DEST_New York</th>\n",
       "      <th>DEST_Newark</th>\n",
       "      <th>DEST_Orlando</th>\n",
       "      <th>DEST_Philadelphia</th>\n",
       "      <th>DEST_Phoenix</th>\n",
       "      <th>DEST_Salt Lake City</th>\n",
       "      <th>DEST_San Francisco</th>\n",
       "      <th>DEST_Seattle</th>\n",
       "      <th>CRS_DEP_TIME_2</th>\n",
       "      <th>CRS_DEP_TIME_3</th>\n",
       "      <th>CRS_DEP_TIME_4</th>\n",
       "      <th>CRS_ARR_TIME_2</th>\n",
       "      <th>CRS_ARR_TIME_3</th>\n",
       "      <th>CRS_ARR_TIME_4</th>\n",
       "      <th>MONTH_2</th>\n",
       "      <th>MONTH_3</th>\n",
       "      <th>MONTH_4</th>\n",
       "      <th>MONTH_5</th>\n",
       "      <th>MONTH_6</th>\n",
       "      <th>MONTH_7</th>\n",
       "      <th>MONTH_8</th>\n",
       "      <th>MONTH_9</th>\n",
       "      <th>MONTH_10</th>\n",
       "      <th>MONTH_11</th>\n",
       "      <th>MONTH_12</th>\n",
       "      <th>WEEKDAY_1</th>\n",
       "      <th>WEEKDAY_2</th>\n",
       "      <th>WEEKDAY_3</th>\n",
       "      <th>WEEKDAY_4</th>\n",
       "      <th>WEEKDAY_5</th>\n",
       "      <th>WEEKDAY_6</th>\n",
       "    </tr>\n",
       "  </thead>\n",
       "  <tbody>\n",
       "    <tr>\n",
       "      <th>0</th>\n",
       "      <td>-5.0</td>\n",
       "      <td>268.0</td>\n",
       "      <td>225.0</td>\n",
       "      <td>1605.0</td>\n",
       "      <td>0.0</td>\n",
       "      <td>0.0</td>\n",
       "      <td>0.0</td>\n",
       "      <td>0.0</td>\n",
       "      <td>0.0</td>\n",
       "      <td>0.0</td>\n",
       "      <td>0.0</td>\n",
       "      <td>0.0</td>\n",
       "      <td>0.0</td>\n",
       "      <td>0.0</td>\n",
       "      <td>0.0</td>\n",
       "      <td>0.0</td>\n",
       "      <td>0.0</td>\n",
       "      <td>0.0</td>\n",
       "      <td>0.0</td>\n",
       "      <td>0.0</td>\n",
       "      <td>1.0</td>\n",
       "      <td>0.0</td>\n",
       "      <td>0.0</td>\n",
       "      <td>0.0</td>\n",
       "      <td>0.0</td>\n",
       "      <td>0.0</td>\n",
       "      <td>0.0</td>\n",
       "      <td>1.0</td>\n",
       "      <td>0.0</td>\n",
       "      <td>0.0</td>\n",
       "      <td>0.0</td>\n",
       "      <td>0.0</td>\n",
       "      <td>0.0</td>\n",
       "      <td>0.0</td>\n",
       "      <td>0.0</td>\n",
       "      <td>0.0</td>\n",
       "      <td>0.0</td>\n",
       "      <td>0.0</td>\n",
       "      <td>0.0</td>\n",
       "      <td>0.0</td>\n",
       "      <td>0.0</td>\n",
       "      <td>0.0</td>\n",
       "      <td>1.0</td>\n",
       "      <td>0.0</td>\n",
       "      <td>0.0</td>\n",
       "      <td>1.0</td>\n",
       "      <td>0.0</td>\n",
       "      <td>0.0</td>\n",
       "      <td>0.0</td>\n",
       "      <td>0.0</td>\n",
       "      <td>0.0</td>\n",
       "      <td>0.0</td>\n",
       "      <td>0.0</td>\n",
       "      <td>0.0</td>\n",
       "      <td>0.0</td>\n",
       "      <td>0.0</td>\n",
       "      <td>0.0</td>\n",
       "      <td>0.0</td>\n",
       "      <td>0.0</td>\n",
       "      <td>0.0</td>\n",
       "      <td>0.0</td>\n",
       "      <td>0.0</td>\n",
       "      <td>0.0</td>\n",
       "      <td>0.0</td>\n",
       "    </tr>\n",
       "    <tr>\n",
       "      <th>1</th>\n",
       "      <td>-8.0</td>\n",
       "      <td>99.0</td>\n",
       "      <td>65.0</td>\n",
       "      <td>414.0</td>\n",
       "      <td>0.0</td>\n",
       "      <td>0.0</td>\n",
       "      <td>0.0</td>\n",
       "      <td>0.0</td>\n",
       "      <td>0.0</td>\n",
       "      <td>0.0</td>\n",
       "      <td>0.0</td>\n",
       "      <td>0.0</td>\n",
       "      <td>0.0</td>\n",
       "      <td>0.0</td>\n",
       "      <td>0.0</td>\n",
       "      <td>0.0</td>\n",
       "      <td>0.0</td>\n",
       "      <td>0.0</td>\n",
       "      <td>0.0</td>\n",
       "      <td>0.0</td>\n",
       "      <td>1.0</td>\n",
       "      <td>0.0</td>\n",
       "      <td>0.0</td>\n",
       "      <td>0.0</td>\n",
       "      <td>0.0</td>\n",
       "      <td>0.0</td>\n",
       "      <td>0.0</td>\n",
       "      <td>0.0</td>\n",
       "      <td>0.0</td>\n",
       "      <td>0.0</td>\n",
       "      <td>0.0</td>\n",
       "      <td>0.0</td>\n",
       "      <td>0.0</td>\n",
       "      <td>0.0</td>\n",
       "      <td>0.0</td>\n",
       "      <td>0.0</td>\n",
       "      <td>0.0</td>\n",
       "      <td>0.0</td>\n",
       "      <td>0.0</td>\n",
       "      <td>1.0</td>\n",
       "      <td>0.0</td>\n",
       "      <td>1.0</td>\n",
       "      <td>0.0</td>\n",
       "      <td>0.0</td>\n",
       "      <td>0.0</td>\n",
       "      <td>1.0</td>\n",
       "      <td>0.0</td>\n",
       "      <td>0.0</td>\n",
       "      <td>0.0</td>\n",
       "      <td>0.0</td>\n",
       "      <td>0.0</td>\n",
       "      <td>0.0</td>\n",
       "      <td>0.0</td>\n",
       "      <td>0.0</td>\n",
       "      <td>0.0</td>\n",
       "      <td>0.0</td>\n",
       "      <td>0.0</td>\n",
       "      <td>0.0</td>\n",
       "      <td>0.0</td>\n",
       "      <td>0.0</td>\n",
       "      <td>0.0</td>\n",
       "      <td>0.0</td>\n",
       "      <td>0.0</td>\n",
       "      <td>0.0</td>\n",
       "    </tr>\n",
       "  </tbody>\n",
       "</table>\n",
       "</div>"
      ],
      "text/plain": [
       "   DEP_DELAY  CRS_ELAPSED_TIME  AIR_TIME  DISTANCE  FLIGHT_STATUS  \\\n",
       "0       -5.0             268.0     225.0    1605.0            0.0   \n",
       "1       -8.0              99.0      65.0     414.0            0.0   \n",
       "\n",
       "   OP_CARRIER_Allegiant Air  OP_CARRIER_American Airlines  \\\n",
       "0                       0.0                           0.0   \n",
       "1                       0.0                           0.0   \n",
       "\n",
       "   OP_CARRIER_Delta Airlines  OP_CARRIER_Endeavor Air  OP_CARRIER_Envoy Air  \\\n",
       "0                        0.0                      0.0                   0.0   \n",
       "1                        0.0                      0.0                   0.0   \n",
       "\n",
       "   OP_CARRIER_ExpressJet  OP_CARRIER_Frontier Airlines  \\\n",
       "0                    0.0                           0.0   \n",
       "1                    0.0                           0.0   \n",
       "\n",
       "   OP_CARRIER_Hawaiian Airlines  OP_CARRIER_JetBlue Airways  \\\n",
       "0                           0.0                         0.0   \n",
       "1                           0.0                         0.0   \n",
       "\n",
       "   OP_CARRIER_Mesa Airline  OP_CARRIER_PSA Airlines  \\\n",
       "0                      0.0                      0.0   \n",
       "1                      0.0                      0.0   \n",
       "\n",
       "   OP_CARRIER_Republic Airways  OP_CARRIER_SkyWest Airlines  \\\n",
       "0                          0.0                          0.0   \n",
       "1                          0.0                          0.0   \n",
       "\n",
       "   OP_CARRIER_Southwest Airlines  OP_CARRIER_Spirit Airlines  \\\n",
       "0                            0.0                         0.0   \n",
       "1                            0.0                         0.0   \n",
       "\n",
       "   OP_CARRIER_United Airlines  OP_CARRIER_Virgin America  DEST_Atlanta  \\\n",
       "0                         1.0                        0.0           0.0   \n",
       "1                         1.0                        0.0           0.0   \n",
       "\n",
       "   DEST_Boston  DEST_Charlotte  DEST_Chicago  DEST_Dallas-Fort Worth  \\\n",
       "0          0.0             0.0           0.0                     0.0   \n",
       "1          0.0             0.0           0.0                     0.0   \n",
       "\n",
       "   DEST_Denver  DEST_Detroit  DEST_Houston  DEST_Las Vegas  DEST_Los Angeles  \\\n",
       "0          1.0           0.0           0.0             0.0               0.0   \n",
       "1          0.0           0.0           0.0             0.0               0.0   \n",
       "\n",
       "   DEST_Minneapolis  DEST_New York  DEST_Newark  DEST_Orlando  \\\n",
       "0               0.0            0.0          0.0           0.0   \n",
       "1               0.0            0.0          0.0           0.0   \n",
       "\n",
       "   DEST_Philadelphia  DEST_Phoenix  DEST_Salt Lake City  DEST_San Francisco  \\\n",
       "0                0.0           0.0                  0.0                 0.0   \n",
       "1                0.0           0.0                  0.0                 1.0   \n",
       "\n",
       "   DEST_Seattle  CRS_DEP_TIME_2  CRS_DEP_TIME_3  CRS_DEP_TIME_4  \\\n",
       "0           0.0             0.0             1.0             0.0   \n",
       "1           0.0             1.0             0.0             0.0   \n",
       "\n",
       "   CRS_ARR_TIME_2  CRS_ARR_TIME_3  CRS_ARR_TIME_4  MONTH_2  MONTH_3  MONTH_4  \\\n",
       "0             0.0             1.0             0.0      0.0      0.0      0.0   \n",
       "1             0.0             1.0             0.0      0.0      0.0      0.0   \n",
       "\n",
       "   MONTH_5  MONTH_6  MONTH_7  MONTH_8  MONTH_9  MONTH_10  MONTH_11  MONTH_12  \\\n",
       "0      0.0      0.0      0.0      0.0      0.0       0.0       0.0       0.0   \n",
       "1      0.0      0.0      0.0      0.0      0.0       0.0       0.0       0.0   \n",
       "\n",
       "   WEEKDAY_1  WEEKDAY_2  WEEKDAY_3  WEEKDAY_4  WEEKDAY_5  WEEKDAY_6  \n",
       "0        0.0        0.0        0.0        0.0        0.0        0.0  \n",
       "1        0.0        0.0        0.0        0.0        0.0        0.0  "
      ]
     },
     "execution_count": 47,
     "metadata": {},
     "output_type": "execute_result"
    }
   ],
   "source": [
    "df.head(2)"
   ]
  },
  {
   "cell_type": "markdown",
   "metadata": {},
   "source": [
    "# Neural Network Conditions\n",
    "\n",
    "1. Data has to be purely numerical<br>\n",
    "2. Data cannot contain missing values<br>\n",
    "3. Data has to be Normalized<br>"
   ]
  },
  {
   "cell_type": "code",
   "execution_count": 189,
   "metadata": {
    "ExecuteTime": {
     "end_time": "2020-10-15T16:45:05.528715Z",
     "start_time": "2020-10-15T16:45:02.670233Z"
    }
   },
   "outputs": [
    {
     "data": {
      "text/plain": [
       "0"
      ]
     },
     "execution_count": 189,
     "metadata": {},
     "output_type": "execute_result"
    }
   ],
   "source": [
    "df.isna().sum().sum()"
   ]
  },
  {
   "cell_type": "markdown",
   "metadata": {},
   "source": [
    "We know the data is purely numerical and that it has no missing values, now all is needed is to normalized and we will do it by using the <b>StandardScaler</b>"
   ]
  },
  {
   "cell_type": "code",
   "execution_count": 50,
   "metadata": {
    "ExecuteTime": {
     "end_time": "2020-10-14T16:37:39.040799Z",
     "start_time": "2020-10-14T16:37:32.698709Z"
    }
   },
   "outputs": [],
   "source": [
    "col_names = list(df.columns)\n",
    "\n",
    "s_scaler = preprocessing.StandardScaler()\n",
    "df_s = s_scaler.fit_transform(df)\n",
    "\n",
    "df_s = pd.DataFrame(df_s, columns=col_names)"
   ]
  },
  {
   "cell_type": "markdown",
   "metadata": {},
   "source": [
    "The following are the two first rows of the normalized data:"
   ]
  },
  {
   "cell_type": "code",
   "execution_count": 51,
   "metadata": {
    "ExecuteTime": {
     "end_time": "2020-10-14T16:37:50.458151Z",
     "start_time": "2020-10-14T16:37:50.408855Z"
    },
    "scrolled": false
   },
   "outputs": [
    {
     "data": {
      "text/html": [
       "<div>\n",
       "<style scoped>\n",
       "    .dataframe tbody tr th:only-of-type {\n",
       "        vertical-align: middle;\n",
       "    }\n",
       "\n",
       "    .dataframe tbody tr th {\n",
       "        vertical-align: top;\n",
       "    }\n",
       "\n",
       "    .dataframe thead th {\n",
       "        text-align: right;\n",
       "    }\n",
       "</style>\n",
       "<table border=\"1\" class=\"dataframe\">\n",
       "  <thead>\n",
       "    <tr style=\"text-align: right;\">\n",
       "      <th></th>\n",
       "      <th>DEP_DELAY</th>\n",
       "      <th>CRS_ELAPSED_TIME</th>\n",
       "      <th>AIR_TIME</th>\n",
       "      <th>DISTANCE</th>\n",
       "      <th>FLIGHT_STATUS</th>\n",
       "      <th>OP_CARRIER_Allegiant Air</th>\n",
       "      <th>OP_CARRIER_American Airlines</th>\n",
       "      <th>OP_CARRIER_Delta Airlines</th>\n",
       "      <th>OP_CARRIER_Endeavor Air</th>\n",
       "      <th>OP_CARRIER_Envoy Air</th>\n",
       "      <th>OP_CARRIER_ExpressJet</th>\n",
       "      <th>OP_CARRIER_Frontier Airlines</th>\n",
       "      <th>OP_CARRIER_Hawaiian Airlines</th>\n",
       "      <th>OP_CARRIER_JetBlue Airways</th>\n",
       "      <th>OP_CARRIER_Mesa Airline</th>\n",
       "      <th>OP_CARRIER_PSA Airlines</th>\n",
       "      <th>OP_CARRIER_Republic Airways</th>\n",
       "      <th>OP_CARRIER_SkyWest Airlines</th>\n",
       "      <th>OP_CARRIER_Southwest Airlines</th>\n",
       "      <th>OP_CARRIER_Spirit Airlines</th>\n",
       "      <th>OP_CARRIER_United Airlines</th>\n",
       "      <th>OP_CARRIER_Virgin America</th>\n",
       "      <th>DEST_Atlanta</th>\n",
       "      <th>DEST_Boston</th>\n",
       "      <th>DEST_Charlotte</th>\n",
       "      <th>DEST_Chicago</th>\n",
       "      <th>DEST_Dallas-Fort Worth</th>\n",
       "      <th>DEST_Denver</th>\n",
       "      <th>DEST_Detroit</th>\n",
       "      <th>DEST_Houston</th>\n",
       "      <th>DEST_Las Vegas</th>\n",
       "      <th>DEST_Los Angeles</th>\n",
       "      <th>DEST_Minneapolis</th>\n",
       "      <th>DEST_New York</th>\n",
       "      <th>DEST_Newark</th>\n",
       "      <th>DEST_Orlando</th>\n",
       "      <th>DEST_Philadelphia</th>\n",
       "      <th>DEST_Phoenix</th>\n",
       "      <th>DEST_Salt Lake City</th>\n",
       "      <th>DEST_San Francisco</th>\n",
       "      <th>DEST_Seattle</th>\n",
       "      <th>CRS_DEP_TIME_2</th>\n",
       "      <th>CRS_DEP_TIME_3</th>\n",
       "      <th>CRS_DEP_TIME_4</th>\n",
       "      <th>CRS_ARR_TIME_2</th>\n",
       "      <th>CRS_ARR_TIME_3</th>\n",
       "      <th>CRS_ARR_TIME_4</th>\n",
       "      <th>MONTH_2</th>\n",
       "      <th>MONTH_3</th>\n",
       "      <th>MONTH_4</th>\n",
       "      <th>MONTH_5</th>\n",
       "      <th>MONTH_6</th>\n",
       "      <th>MONTH_7</th>\n",
       "      <th>MONTH_8</th>\n",
       "      <th>MONTH_9</th>\n",
       "      <th>MONTH_10</th>\n",
       "      <th>MONTH_11</th>\n",
       "      <th>MONTH_12</th>\n",
       "      <th>WEEKDAY_1</th>\n",
       "      <th>WEEKDAY_2</th>\n",
       "      <th>WEEKDAY_3</th>\n",
       "      <th>WEEKDAY_4</th>\n",
       "      <th>WEEKDAY_5</th>\n",
       "      <th>WEEKDAY_6</th>\n",
       "    </tr>\n",
       "  </thead>\n",
       "  <tbody>\n",
       "    <tr>\n",
       "      <th>0</th>\n",
       "      <td>-0.321419</td>\n",
       "      <td>1.534191</td>\n",
       "      <td>1.418987</td>\n",
       "      <td>1.176912</td>\n",
       "      <td>-0.768926</td>\n",
       "      <td>-0.081396</td>\n",
       "      <td>-0.435286</td>\n",
       "      <td>-0.442703</td>\n",
       "      <td>-0.180393</td>\n",
       "      <td>-0.187732</td>\n",
       "      <td>-0.159841</td>\n",
       "      <td>-0.126919</td>\n",
       "      <td>-0.036401</td>\n",
       "      <td>-0.212356</td>\n",
       "      <td>-0.159955</td>\n",
       "      <td>-0.187231</td>\n",
       "      <td>-0.217581</td>\n",
       "      <td>-0.332741</td>\n",
       "      <td>-0.406602</td>\n",
       "      <td>-0.164254</td>\n",
       "      <td>2.847426</td>\n",
       "      <td>-0.058525</td>\n",
       "      <td>-0.326623</td>\n",
       "      <td>-0.193125</td>\n",
       "      <td>-0.244507</td>\n",
       "      <td>-0.337433</td>\n",
       "      <td>-0.269893</td>\n",
       "      <td>4.021508</td>\n",
       "      <td>-0.200975</td>\n",
       "      <td>-0.245629</td>\n",
       "      <td>-0.203773</td>\n",
       "      <td>-0.240557</td>\n",
       "      <td>-0.202074</td>\n",
       "      <td>-0.278545</td>\n",
       "      <td>-0.18927</td>\n",
       "      <td>-0.194314</td>\n",
       "      <td>-0.170627</td>\n",
       "      <td>-0.215048</td>\n",
       "      <td>-0.169988</td>\n",
       "      <td>-0.212396</td>\n",
       "      <td>-0.189515</td>\n",
       "      <td>-0.789294</td>\n",
       "      <td>1.317508</td>\n",
       "      <td>-0.469889</td>\n",
       "      <td>-0.675979</td>\n",
       "      <td>1.355474</td>\n",
       "      <td>-0.666541</td>\n",
       "      <td>-0.279066</td>\n",
       "      <td>-0.301892</td>\n",
       "      <td>-0.301231</td>\n",
       "      <td>-0.306987</td>\n",
       "      <td>-0.308162</td>\n",
       "      <td>-0.31287</td>\n",
       "      <td>-0.313251</td>\n",
       "      <td>-0.298598</td>\n",
       "      <td>-0.307719</td>\n",
       "      <td>-0.297483</td>\n",
       "      <td>-0.298999</td>\n",
       "      <td>-0.409388</td>\n",
       "      <td>-0.411835</td>\n",
       "      <td>-0.417282</td>\n",
       "      <td>-0.418911</td>\n",
       "      <td>-0.371936</td>\n",
       "      <td>-0.405995</td>\n",
       "    </tr>\n",
       "    <tr>\n",
       "      <th>1</th>\n",
       "      <td>-0.384744</td>\n",
       "      <td>-0.703566</td>\n",
       "      <td>-0.754700</td>\n",
       "      <td>-0.729017</td>\n",
       "      <td>-0.768926</td>\n",
       "      <td>-0.081396</td>\n",
       "      <td>-0.435286</td>\n",
       "      <td>-0.442703</td>\n",
       "      <td>-0.180393</td>\n",
       "      <td>-0.187732</td>\n",
       "      <td>-0.159841</td>\n",
       "      <td>-0.126919</td>\n",
       "      <td>-0.036401</td>\n",
       "      <td>-0.212356</td>\n",
       "      <td>-0.159955</td>\n",
       "      <td>-0.187231</td>\n",
       "      <td>-0.217581</td>\n",
       "      <td>-0.332741</td>\n",
       "      <td>-0.406602</td>\n",
       "      <td>-0.164254</td>\n",
       "      <td>2.847426</td>\n",
       "      <td>-0.058525</td>\n",
       "      <td>-0.326623</td>\n",
       "      <td>-0.193125</td>\n",
       "      <td>-0.244507</td>\n",
       "      <td>-0.337433</td>\n",
       "      <td>-0.269893</td>\n",
       "      <td>-0.248663</td>\n",
       "      <td>-0.200975</td>\n",
       "      <td>-0.245629</td>\n",
       "      <td>-0.203773</td>\n",
       "      <td>-0.240557</td>\n",
       "      <td>-0.202074</td>\n",
       "      <td>-0.278545</td>\n",
       "      <td>-0.18927</td>\n",
       "      <td>-0.194314</td>\n",
       "      <td>-0.170627</td>\n",
       "      <td>-0.215048</td>\n",
       "      <td>-0.169988</td>\n",
       "      <td>4.708181</td>\n",
       "      <td>-0.189515</td>\n",
       "      <td>1.266955</td>\n",
       "      <td>-0.759008</td>\n",
       "      <td>-0.469889</td>\n",
       "      <td>-0.675979</td>\n",
       "      <td>1.355474</td>\n",
       "      <td>-0.666541</td>\n",
       "      <td>-0.279066</td>\n",
       "      <td>-0.301892</td>\n",
       "      <td>-0.301231</td>\n",
       "      <td>-0.306987</td>\n",
       "      <td>-0.308162</td>\n",
       "      <td>-0.31287</td>\n",
       "      <td>-0.313251</td>\n",
       "      <td>-0.298598</td>\n",
       "      <td>-0.307719</td>\n",
       "      <td>-0.297483</td>\n",
       "      <td>-0.298999</td>\n",
       "      <td>-0.409388</td>\n",
       "      <td>-0.411835</td>\n",
       "      <td>-0.417282</td>\n",
       "      <td>-0.418911</td>\n",
       "      <td>-0.371936</td>\n",
       "      <td>-0.405995</td>\n",
       "    </tr>\n",
       "  </tbody>\n",
       "</table>\n",
       "</div>"
      ],
      "text/plain": [
       "   DEP_DELAY  CRS_ELAPSED_TIME  AIR_TIME  DISTANCE  FLIGHT_STATUS  \\\n",
       "0  -0.321419          1.534191  1.418987  1.176912      -0.768926   \n",
       "1  -0.384744         -0.703566 -0.754700 -0.729017      -0.768926   \n",
       "\n",
       "   OP_CARRIER_Allegiant Air  OP_CARRIER_American Airlines  \\\n",
       "0                 -0.081396                     -0.435286   \n",
       "1                 -0.081396                     -0.435286   \n",
       "\n",
       "   OP_CARRIER_Delta Airlines  OP_CARRIER_Endeavor Air  OP_CARRIER_Envoy Air  \\\n",
       "0                  -0.442703                -0.180393             -0.187732   \n",
       "1                  -0.442703                -0.180393             -0.187732   \n",
       "\n",
       "   OP_CARRIER_ExpressJet  OP_CARRIER_Frontier Airlines  \\\n",
       "0              -0.159841                     -0.126919   \n",
       "1              -0.159841                     -0.126919   \n",
       "\n",
       "   OP_CARRIER_Hawaiian Airlines  OP_CARRIER_JetBlue Airways  \\\n",
       "0                     -0.036401                   -0.212356   \n",
       "1                     -0.036401                   -0.212356   \n",
       "\n",
       "   OP_CARRIER_Mesa Airline  OP_CARRIER_PSA Airlines  \\\n",
       "0                -0.159955                -0.187231   \n",
       "1                -0.159955                -0.187231   \n",
       "\n",
       "   OP_CARRIER_Republic Airways  OP_CARRIER_SkyWest Airlines  \\\n",
       "0                    -0.217581                    -0.332741   \n",
       "1                    -0.217581                    -0.332741   \n",
       "\n",
       "   OP_CARRIER_Southwest Airlines  OP_CARRIER_Spirit Airlines  \\\n",
       "0                      -0.406602                   -0.164254   \n",
       "1                      -0.406602                   -0.164254   \n",
       "\n",
       "   OP_CARRIER_United Airlines  OP_CARRIER_Virgin America  DEST_Atlanta  \\\n",
       "0                    2.847426                  -0.058525     -0.326623   \n",
       "1                    2.847426                  -0.058525     -0.326623   \n",
       "\n",
       "   DEST_Boston  DEST_Charlotte  DEST_Chicago  DEST_Dallas-Fort Worth  \\\n",
       "0    -0.193125       -0.244507     -0.337433               -0.269893   \n",
       "1    -0.193125       -0.244507     -0.337433               -0.269893   \n",
       "\n",
       "   DEST_Denver  DEST_Detroit  DEST_Houston  DEST_Las Vegas  DEST_Los Angeles  \\\n",
       "0     4.021508     -0.200975     -0.245629       -0.203773         -0.240557   \n",
       "1    -0.248663     -0.200975     -0.245629       -0.203773         -0.240557   \n",
       "\n",
       "   DEST_Minneapolis  DEST_New York  DEST_Newark  DEST_Orlando  \\\n",
       "0         -0.202074      -0.278545     -0.18927     -0.194314   \n",
       "1         -0.202074      -0.278545     -0.18927     -0.194314   \n",
       "\n",
       "   DEST_Philadelphia  DEST_Phoenix  DEST_Salt Lake City  DEST_San Francisco  \\\n",
       "0          -0.170627     -0.215048            -0.169988           -0.212396   \n",
       "1          -0.170627     -0.215048            -0.169988            4.708181   \n",
       "\n",
       "   DEST_Seattle  CRS_DEP_TIME_2  CRS_DEP_TIME_3  CRS_DEP_TIME_4  \\\n",
       "0     -0.189515       -0.789294        1.317508       -0.469889   \n",
       "1     -0.189515        1.266955       -0.759008       -0.469889   \n",
       "\n",
       "   CRS_ARR_TIME_2  CRS_ARR_TIME_3  CRS_ARR_TIME_4   MONTH_2   MONTH_3  \\\n",
       "0       -0.675979        1.355474       -0.666541 -0.279066 -0.301892   \n",
       "1       -0.675979        1.355474       -0.666541 -0.279066 -0.301892   \n",
       "\n",
       "    MONTH_4   MONTH_5   MONTH_6  MONTH_7   MONTH_8   MONTH_9  MONTH_10  \\\n",
       "0 -0.301231 -0.306987 -0.308162 -0.31287 -0.313251 -0.298598 -0.307719   \n",
       "1 -0.301231 -0.306987 -0.308162 -0.31287 -0.313251 -0.298598 -0.307719   \n",
       "\n",
       "   MONTH_11  MONTH_12  WEEKDAY_1  WEEKDAY_2  WEEKDAY_3  WEEKDAY_4  WEEKDAY_5  \\\n",
       "0 -0.297483 -0.298999  -0.409388  -0.411835  -0.417282  -0.418911  -0.371936   \n",
       "1 -0.297483 -0.298999  -0.409388  -0.411835  -0.417282  -0.418911  -0.371936   \n",
       "\n",
       "   WEEKDAY_6  \n",
       "0  -0.405995  \n",
       "1  -0.405995  "
      ]
     },
     "execution_count": 51,
     "metadata": {},
     "output_type": "execute_result"
    }
   ],
   "source": [
    "df_s.head(2)"
   ]
  },
  {
   "cell_type": "markdown",
   "metadata": {},
   "source": []
  },
  {
   "cell_type": "code",
   "execution_count": 52,
   "metadata": {
    "ExecuteTime": {
     "end_time": "2020-10-14T16:41:00.224257Z",
     "start_time": "2020-10-14T16:40:53.178806Z"
    }
   },
   "outputs": [],
   "source": [
    "X_train, X_test, y_train, y_test = train_test_split(X, y, test_size=0.2)"
   ]
  },
  {
   "cell_type": "markdown",
   "metadata": {},
   "source": [
    "# Modeling"
   ]
  },
  {
   "cell_type": "markdown",
   "metadata": {},
   "source": [
    "## Model 1"
   ]
  },
  {
   "cell_type": "code",
   "execution_count": 58,
   "metadata": {
    "ExecuteTime": {
     "end_time": "2020-10-14T16:43:03.446870Z",
     "start_time": "2020-10-14T16:43:03.425427Z"
    }
   },
   "outputs": [],
   "source": [
    "model_1 = Sequential()\n",
    "\n",
    "model_1.add(Dense(30, activation='tanh', input_shape=(62,)))\n",
    "\n",
    "model_1.add(Dense(1, activation='sigmoid'))"
   ]
  },
  {
   "cell_type": "code",
   "execution_count": 59,
   "metadata": {
    "ExecuteTime": {
     "end_time": "2020-10-14T16:43:04.470752Z",
     "start_time": "2020-10-14T16:43:04.435634Z"
    }
   },
   "outputs": [],
   "source": [
    "model_1.compile(loss='binary_crossentropy', optimizer='adam', metrics=['accuracy'])"
   ]
  },
  {
   "cell_type": "code",
   "execution_count": 60,
   "metadata": {
    "ExecuteTime": {
     "end_time": "2020-10-14T16:53:03.190396Z",
     "start_time": "2020-10-14T16:43:04.992785Z"
    }
   },
   "outputs": [
    {
     "name": "stdout",
     "output_type": "stream",
     "text": [
      "Train on 2885944 samples, validate on 320661 samples\n",
      "Epoch 1/5\n",
      "2885944/2885944 [==============================] - 120s 41us/step - loss: 0.6203 - acc: 0.6718 - val_loss: 0.6078 - val_acc: 0.6757\n",
      "Epoch 2/5\n",
      "2885944/2885944 [==============================] - 119s 41us/step - loss: 0.6113 - acc: 0.6778 - val_loss: 0.6079 - val_acc: 0.6874\n",
      "Epoch 3/5\n",
      "2885944/2885944 [==============================] - 121s 42us/step - loss: 0.6104 - acc: 0.6780 - val_loss: 0.6044 - val_acc: 0.6819\n",
      "Epoch 4/5\n",
      "2885944/2885944 [==============================] - 121s 42us/step - loss: 0.6101 - acc: 0.6787 - val_loss: 0.6072 - val_acc: 0.6833\n",
      "Epoch 5/5\n",
      "2885944/2885944 [==============================] - 118s 41us/step - loss: 0.6100 - acc: 0.6785 - val_loss: 0.6116 - val_acc: 0.6591\n"
     ]
    }
   ],
   "source": [
    "results1 = model_1.fit(X_train, y_train, epochs=5, batch_size=32, validation_split=0.1)"
   ]
  },
  {
   "cell_type": "code",
   "execution_count": 194,
   "metadata": {
    "ExecuteTime": {
     "end_time": "2020-10-15T16:49:36.538820Z",
     "start_time": "2020-10-15T16:49:36.133786Z"
    }
   },
   "outputs": [
    {
     "data": {
      "image/png": "[encoded data removed]",
      "text/plain": [
       "<Figure size 432x288 with 1 Axes>"
      ]
     },
     "metadata": {},
     "output_type": "display_data"
    },
    {
     "data": {
      "image/png": "[encoded data removed]",
      "text/plain": [
       "<Figure size 432x288 with 1 Axes>"
      ]
     },
     "metadata": {},
     "output_type": "display_data"
    }
   ],
   "source": [
    "visualize_training_results(results1)"
   ]
  },
  {
   "cell_type": "code",
   "execution_count": 195,
   "metadata": {
    "ExecuteTime": {
     "end_time": "2020-10-15T16:50:21.837117Z",
     "start_time": "2020-10-15T16:50:01.998417Z"
    }
   },
   "outputs": [],
   "source": [
    "y_pred_m1 = model_1.predict(X_test)\n",
    "y_pred_m1 =(y_pred_m1 > 0.5)"
   ]
  },
  {
   "cell_type": "code",
   "execution_count": 196,
   "metadata": {
    "ExecuteTime": {
     "end_time": "2020-10-15T16:50:25.452167Z",
     "start_time": "2020-10-15T16:50:22.202013Z"
    }
   },
   "outputs": [
    {
     "name": "stdout",
     "output_type": "stream",
     "text": [
      "[[501262   2155]\n",
      " [271985  26250]]\n",
      "------------------\n",
      "              precision    recall  f1-score   support\n",
      "\n",
      "         0.0       0.65      1.00      0.79    503417\n",
      "         1.0       0.92      0.09      0.16    298235\n",
      "\n",
      "    accuracy                           0.66    801652\n",
      "   macro avg       0.79      0.54      0.47    801652\n",
      "weighted avg       0.75      0.66      0.55    801652\n",
      "\n"
     ]
    }
   ],
   "source": [
    "cm_m1 = confusion_matrix(y_test, y_pred_m1)\n",
    "print(cm_m1)\n",
    "print(\"------------------\")\n",
    "print(classification_report(y_test, y_pred_m1))"
   ]
  },
  {
   "cell_type": "code",
   "execution_count": 197,
   "metadata": {
    "ExecuteTime": {
     "end_time": "2020-10-15T16:51:46.996901Z",
     "start_time": "2020-10-15T16:51:46.807329Z"
    }
   },
   "outputs": [
    {
     "data": {
      "image/png": "[encoded data removed]",
      "text/plain": [
       "<Figure size 576x504 with 2 Axes>"
      ]
     },
     "metadata": {},
     "output_type": "display_data"
    }
   ],
   "source": [
    "conf_matrix(cm_m1)"
   ]
  },
  {
   "cell_type": "code",
   "execution_count": 198,
   "metadata": {
    "ExecuteTime": {
     "end_time": "2020-10-15T16:51:48.382043Z",
     "start_time": "2020-10-15T16:51:47.356059Z"
    }
   },
   "outputs": [
    {
     "name": "stdout",
     "output_type": "stream",
     "text": [
      "Accuracy: 65.8 %\n",
      "Precision score: 92.41 %\n",
      "Recall score: 8.8 %\n",
      "F1 score: 16.07 %\n"
     ]
    }
   ],
   "source": [
    "model_metrics(y_test, y_pred_m1)"
   ]
  },
  {
   "cell_type": "markdown",
   "metadata": {},
   "source": [
    "## Model 2"
   ]
  },
  {
   "cell_type": "code",
   "execution_count": 61,
   "metadata": {
    "ExecuteTime": {
     "end_time": "2020-10-14T16:54:48.225009Z",
     "start_time": "2020-10-14T16:54:48.193045Z"
    }
   },
   "outputs": [],
   "source": [
    "model_2 = Sequential()\n",
    "\n",
    "model_2.add(Dense(30, activation='tanh', input_shape=(62,)))\n",
    "\n",
    "model_2.add(Dense(10, activation='tanh'))\n",
    "\n",
    "model_2.add(Dense(1, activation='sigmoid'))"
   ]
  },
  {
   "cell_type": "code",
   "execution_count": 62,
   "metadata": {
    "ExecuteTime": {
     "end_time": "2020-10-14T16:55:05.903064Z",
     "start_time": "2020-10-14T16:55:05.869441Z"
    }
   },
   "outputs": [],
   "source": [
    "model_2.compile(loss='binary_crossentropy', optimizer='adam', metrics=['accuracy'])"
   ]
  },
  {
   "cell_type": "code",
   "execution_count": 63,
   "metadata": {
    "ExecuteTime": {
     "end_time": "2020-10-14T17:08:30.421341Z",
     "start_time": "2020-10-14T16:55:46.318745Z"
    }
   },
   "outputs": [
    {
     "name": "stdout",
     "output_type": "stream",
     "text": [
      "Train on 2885944 samples, validate on 320661 samples\n",
      "Epoch 1/5\n",
      "2885944/2885944 [==============================] - 132s 46us/step - loss: 0.6168 - acc: 0.6763 - val_loss: 0.6077 - val_acc: 0.6781\n",
      "Epoch 2/5\n",
      "2885944/2885944 [==============================] - 122s 42us/step - loss: 0.6100 - acc: 0.6795 - val_loss: 0.6036 - val_acc: 0.6880\n",
      "Epoch 3/5\n",
      "2885944/2885944 [==============================] - 167s 58us/step - loss: 0.6085 - acc: 0.6788 - val_loss: 0.6056 - val_acc: 0.6877\n",
      "Epoch 4/5\n",
      "2885944/2885944 [==============================] - 196s 68us/step - loss: 0.6081 - acc: 0.6783 - val_loss: 0.6015 - val_acc: 0.6851\n",
      "Epoch 5/5\n",
      "2885944/2885944 [==============================] - 147s 51us/step - loss: 0.6080 - acc: 0.6786 - val_loss: 0.6056 - val_acc: 0.6883\n"
     ]
    }
   ],
   "source": [
    "results2 = model_2.fit(X_train, y_train, epochs=5, batch_size=32, validation_split=0.1)"
   ]
  },
  {
   "cell_type": "code",
   "execution_count": 80,
   "metadata": {
    "ExecuteTime": {
     "end_time": "2020-10-14T18:36:38.007961Z",
     "start_time": "2020-10-14T18:36:37.669022Z"
    }
   },
   "outputs": [
    {
     "data": {
      "image/png": "[encoded data removed]",
      "text/plain": [
       "<Figure size 432x288 with 1 Axes>"
      ]
     },
     "metadata": {},
     "output_type": "display_data"
    },
    {
     "data": {
      "image/png": "[encoded data removed]",
      "text/plain": [
       "<Figure size 432x288 with 1 Axes>"
      ]
     },
     "metadata": {},
     "output_type": "display_data"
    }
   ],
   "source": [
    "visualize_training_results(results2)"
   ]
  },
  {
   "cell_type": "code",
   "execution_count": 199,
   "metadata": {
    "ExecuteTime": {
     "end_time": "2020-10-15T16:52:15.531965Z",
     "start_time": "2020-10-15T16:51:55.540408Z"
    }
   },
   "outputs": [],
   "source": [
    "y_pred_m2 = model_2.predict(X_test)\n",
    "y_pred_m2 =(y_pred_m1 > 0.5)"
   ]
  },
  {
   "cell_type": "code",
   "execution_count": 200,
   "metadata": {
    "ExecuteTime": {
     "end_time": "2020-10-15T16:52:19.289475Z",
     "start_time": "2020-10-15T16:52:15.847837Z"
    }
   },
   "outputs": [
    {
     "name": "stdout",
     "output_type": "stream",
     "text": [
      "[[501262   2155]\n",
      " [271985  26250]]\n",
      "------------------\n",
      "              precision    recall  f1-score   support\n",
      "\n",
      "         0.0       0.65      1.00      0.79    503417\n",
      "         1.0       0.92      0.09      0.16    298235\n",
      "\n",
      "    accuracy                           0.66    801652\n",
      "   macro avg       0.79      0.54      0.47    801652\n",
      "weighted avg       0.75      0.66      0.55    801652\n",
      "\n"
     ]
    }
   ],
   "source": [
    "cm_m2 = confusion_matrix(y_test, y_pred_m2)\n",
    "print(cm_m2)\n",
    "print(\"------------------\")\n",
    "print(classification_report(y_test, y_pred_m2))"
   ]
  },
  {
   "cell_type": "code",
   "execution_count": 201,
   "metadata": {
    "ExecuteTime": {
     "end_time": "2020-10-15T16:52:19.823739Z",
     "start_time": "2020-10-15T16:52:19.622078Z"
    }
   },
   "outputs": [
    {
     "data": {
      "image/png": "[encoded data removed]",
      "text/plain": [
       "<Figure size 576x504 with 2 Axes>"
      ]
     },
     "metadata": {},
     "output_type": "display_data"
    }
   ],
   "source": [
    "conf_matrix(cm_m1)"
   ]
  },
  {
   "cell_type": "code",
   "execution_count": 202,
   "metadata": {
    "ExecuteTime": {
     "end_time": "2020-10-15T16:52:21.274074Z",
     "start_time": "2020-10-15T16:52:20.182697Z"
    }
   },
   "outputs": [
    {
     "name": "stdout",
     "output_type": "stream",
     "text": [
      "Accuracy: 65.8 %\n",
      "Precision score: 92.41 %\n",
      "Recall score: 8.8 %\n",
      "F1 score: 16.07 %\n"
     ]
    }
   ],
   "source": [
    "model_metrics(y_test, y_pred_m2)"
   ]
  },
  {
   "cell_type": "markdown",
   "metadata": {},
   "source": [
    "## Model 3"
   ]
  },
  {
   "cell_type": "code",
   "execution_count": 64,
   "metadata": {
    "ExecuteTime": {
     "end_time": "2020-10-14T17:37:44.498361Z",
     "start_time": "2020-10-14T17:37:44.449997Z"
    }
   },
   "outputs": [],
   "source": [
    "model_3 = Sequential()\n",
    "\n",
    "model_3.add(Dense(30, activation='relu', input_shape=(62,)))\n",
    "\n",
    "model_3.add(Dense(10, activation='relu'))\n",
    "\n",
    "model_3.add(Dense(5, activation='relu'))\n",
    "\n",
    "model_3.add(Dense(1, activation='sigmoid'))"
   ]
  },
  {
   "cell_type": "code",
   "execution_count": 65,
   "metadata": {
    "ExecuteTime": {
     "end_time": "2020-10-14T17:37:45.397506Z",
     "start_time": "2020-10-14T17:37:45.361814Z"
    }
   },
   "outputs": [],
   "source": [
    "model_3.compile(loss='binary_crossentropy', optimizer='adam', metrics=['accuracy'])"
   ]
  },
  {
   "cell_type": "code",
   "execution_count": 66,
   "metadata": {
    "ExecuteTime": {
     "end_time": "2020-10-14T17:47:30.462227Z",
     "start_time": "2020-10-14T17:37:46.098946Z"
    }
   },
   "outputs": [
    {
     "name": "stdout",
     "output_type": "stream",
     "text": [
      "Train on 2885944 samples, validate on 320661 samples\n",
      "Epoch 1/5\n",
      "2885944/2885944 [==============================] - 114s 40us/step - loss: 0.6060 - acc: 0.6791 - val_loss: 0.5916 - val_acc: 0.6871\n",
      "Epoch 2/5\n",
      "2885944/2885944 [==============================] - 117s 41us/step - loss: 0.5916 - acc: 0.6895 - val_loss: 0.5862 - val_acc: 0.6937\n",
      "Epoch 3/5\n",
      "2885944/2885944 [==============================] - 118s 41us/step - loss: 0.5887 - acc: 0.6915 - val_loss: 0.5875 - val_acc: 0.6935\n",
      "Epoch 4/5\n",
      "2885944/2885944 [==============================] - 118s 41us/step - loss: 0.5873 - acc: 0.6925 - val_loss: 0.5837 - val_acc: 0.6948\n",
      "Epoch 5/5\n",
      "2885944/2885944 [==============================] - 117s 41us/step - loss: 0.5862 - acc: 0.6935 - val_loss: 0.5864 - val_acc: 0.6943\n"
     ]
    }
   ],
   "source": [
    "results3 = model_3.fit(X_train, y_train, epochs=5, batch_size=32, validation_split=0.1)"
   ]
  },
  {
   "cell_type": "code",
   "execution_count": 79,
   "metadata": {
    "ExecuteTime": {
     "end_time": "2020-10-14T18:36:21.632464Z",
     "start_time": "2020-10-14T18:36:21.296602Z"
    }
   },
   "outputs": [
    {
     "data": {
      "image/png": "[encoded data removed]",
      "text/plain": [
       "<Figure size 432x288 with 1 Axes>"
      ]
     },
     "metadata": {},
     "output_type": "display_data"
    },
    {
     "data": {
      "image/png": "[encoded data removed]",
      "text/plain": [
       "<Figure size 432x288 with 1 Axes>"
      ]
     },
     "metadata": {},
     "output_type": "display_data"
    }
   ],
   "source": [
    "visualize_training_results(results3)"
   ]
  },
  {
   "cell_type": "code",
   "execution_count": 203,
   "metadata": {
    "ExecuteTime": {
     "end_time": "2020-10-15T16:53:51.087295Z",
     "start_time": "2020-10-15T16:53:31.980101Z"
    }
   },
   "outputs": [],
   "source": [
    "y_pred_m3 = model_3.predict(X_test)\n",
    "y_pred_m3 =(y_pred_m3 > 0.5)"
   ]
  },
  {
   "cell_type": "code",
   "execution_count": 207,
   "metadata": {
    "ExecuteTime": {
     "end_time": "2020-10-15T16:54:55.919848Z",
     "start_time": "2020-10-15T16:54:52.623691Z"
    }
   },
   "outputs": [
    {
     "name": "stdout",
     "output_type": "stream",
     "text": [
      "[[451652  51765]\n",
      " [193486 104749]]\n",
      "------------------\n",
      "              precision    recall  f1-score   support\n",
      "\n",
      "         0.0       0.70      0.90      0.79    503417\n",
      "         1.0       0.67      0.35      0.46    298235\n",
      "\n",
      "    accuracy                           0.69    801652\n",
      "   macro avg       0.68      0.62      0.62    801652\n",
      "weighted avg       0.69      0.69      0.67    801652\n",
      "\n"
     ]
    }
   ],
   "source": [
    "cm_m3 = confusion_matrix(y_test, y_pred_m3)\n",
    "print(cm_m3)\n",
    "print(\"------------------\")\n",
    "print(classification_report(y_test, y_pred_m3))"
   ]
  },
  {
   "cell_type": "code",
   "execution_count": 214,
   "metadata": {
    "ExecuteTime": {
     "end_time": "2020-10-15T16:56:08.998197Z",
     "start_time": "2020-10-15T16:56:08.817188Z"
    }
   },
   "outputs": [
    {
     "data": {
      "image/png": "[encoded data removed]",
      "text/plain": [
       "<Figure size 576x504 with 2 Axes>"
      ]
     },
     "metadata": {},
     "output_type": "display_data"
    }
   ],
   "source": [
    "conf_matrix(cm_m3)"
   ]
  },
  {
   "cell_type": "code",
   "execution_count": 220,
   "metadata": {
    "ExecuteTime": {
     "end_time": "2020-10-15T16:56:52.679791Z",
     "start_time": "2020-10-15T16:56:51.518510Z"
    }
   },
   "outputs": [
    {
     "name": "stdout",
     "output_type": "stream",
     "text": [
      "Accuracy: 69.41 %\n",
      "Precision score: 66.93 %\n",
      "Recall score: 35.12 %\n",
      "F1 score: 46.07 %\n"
     ]
    }
   ],
   "source": [
    "model_metrics(y_test, y_pred_m3)"
   ]
  },
  {
   "cell_type": "markdown",
   "metadata": {},
   "source": [
    "## Model 4"
   ]
  },
  {
   "cell_type": "code",
   "execution_count": 70,
   "metadata": {
    "ExecuteTime": {
     "end_time": "2020-10-14T18:10:24.153449Z",
     "start_time": "2020-10-14T18:10:24.111062Z"
    }
   },
   "outputs": [],
   "source": [
    "model_4 = Sequential()\n",
    "\n",
    "model_4.add(Dense(30, activation='relu', input_shape=(62,)))\n",
    "\n",
    "model_4.add(Dense(10, activation='relu'))\n",
    "\n",
    "model_4.add(Dense(5, activation='relu'))\n",
    "\n",
    "model_4.add(Dense(1, activation='sigmoid'))"
   ]
  },
  {
   "cell_type": "code",
   "execution_count": 71,
   "metadata": {
    "ExecuteTime": {
     "end_time": "2020-10-14T18:10:25.118251Z",
     "start_time": "2020-10-14T18:10:25.083861Z"
    }
   },
   "outputs": [],
   "source": [
    "model_4.compile(loss='binary_crossentropy', optimizer='adam', metrics=['accuracy'])"
   ]
  },
  {
   "cell_type": "code",
   "execution_count": 72,
   "metadata": {
    "ExecuteTime": {
     "end_time": "2020-10-14T18:32:04.888456Z",
     "start_time": "2020-10-14T18:10:28.357308Z"
    },
    "scrolled": false
   },
   "outputs": [
    {
     "name": "stdout",
     "output_type": "stream",
     "text": [
      "Train on 2885944 samples, validate on 320661 samples\n",
      "Epoch 1/10\n",
      "2885944/2885944 [==============================] - 124s 43us/step - loss: 0.6093 - acc: 0.6742 - val_loss: 0.5904 - val_acc: 0.6914\n",
      "Epoch 2/10\n",
      "2885944/2885944 [==============================] - 126s 44us/step - loss: 0.5919 - acc: 0.6892 - val_loss: 0.5904 - val_acc: 0.6881\n",
      "Epoch 3/10\n",
      "2885944/2885944 [==============================] - 133s 46us/step - loss: 0.5896 - acc: 0.6910 - val_loss: 0.5847 - val_acc: 0.6944\n",
      "Epoch 4/10\n",
      "2885944/2885944 [==============================] - 125s 43us/step - loss: 0.5881 - acc: 0.6923 - val_loss: 0.5835 - val_acc: 0.6953\n",
      "Epoch 5/10\n",
      "2885944/2885944 [==============================] - 126s 44us/step - loss: 0.5870 - acc: 0.6932 - val_loss: 0.5855 - val_acc: 0.6941\n",
      "Epoch 6/10\n",
      "2885944/2885944 [==============================] - 133s 46us/step - loss: 0.5862 - acc: 0.6937 - val_loss: 0.5871 - val_acc: 0.6924\n",
      "Epoch 7/10\n",
      "2885944/2885944 [==============================] - 128s 44us/step - loss: 0.5855 - acc: 0.6945 - val_loss: 0.5824 - val_acc: 0.6967\n",
      "Epoch 8/10\n",
      "2885944/2885944 [==============================] - 136s 47us/step - loss: 0.5850 - acc: 0.6948 - val_loss: 0.5869 - val_acc: 0.6944\n",
      "Epoch 9/10\n",
      "2885944/2885944 [==============================] - 138s 48us/step - loss: 0.5844 - acc: 0.6950 - val_loss: 0.5833 - val_acc: 0.6949\n",
      "Epoch 10/10\n",
      "2885944/2885944 [==============================] - 127s 44us/step - loss: 0.5839 - acc: 0.6954 - val_loss: 0.5835 - val_acc: 0.6948\n"
     ]
    }
   ],
   "source": [
    "results4 = model_4.fit(X_train, y_train, epochs=10, batch_size=32, validation_split=0.1)"
   ]
  },
  {
   "cell_type": "code",
   "execution_count": 78,
   "metadata": {
    "ExecuteTime": {
     "end_time": "2020-10-14T18:35:00.966484Z",
     "start_time": "2020-10-14T18:35:00.575649Z"
    }
   },
   "outputs": [
    {
     "data": {
      "image/png": "[encoded data removed]",
      "text/plain": [
       "<Figure size 432x288 with 1 Axes>"
      ]
     },
     "metadata": {},
     "output_type": "display_data"
    },
    {
     "data": {
      "image/png": "[encoded data removed]",
      "text/plain": [
       "<Figure size 432x288 with 1 Axes>"
      ]
     },
     "metadata": {},
     "output_type": "display_data"
    }
   ],
   "source": [
    "visualize_training_results(results4)"
   ]
  },
  {
   "cell_type": "code",
   "execution_count": 204,
   "metadata": {
    "ExecuteTime": {
     "end_time": "2020-10-15T16:54:11.284234Z",
     "start_time": "2020-10-15T16:53:51.410279Z"
    }
   },
   "outputs": [],
   "source": [
    "y_pred_m4 = model_4.predict(X_test)\n",
    "y_pred_m4 =(y_pred_m4 > 0.5)"
   ]
  },
  {
   "cell_type": "code",
   "execution_count": 208,
   "metadata": {
    "ExecuteTime": {
     "end_time": "2020-10-15T16:54:59.527217Z",
     "start_time": "2020-10-15T16:54:56.277724Z"
    }
   },
   "outputs": [
    {
     "name": "stdout",
     "output_type": "stream",
     "text": [
      "[[465574  37843]\n",
      " [206819  91416]]\n",
      "------------------\n",
      "              precision    recall  f1-score   support\n",
      "\n",
      "         0.0       0.69      0.92      0.79    503417\n",
      "         1.0       0.71      0.31      0.43    298235\n",
      "\n",
      "    accuracy                           0.69    801652\n",
      "   macro avg       0.70      0.62      0.61    801652\n",
      "weighted avg       0.70      0.69      0.66    801652\n",
      "\n"
     ]
    }
   ],
   "source": [
    "cm_m4 = confusion_matrix(y_test, y_pred_m4)\n",
    "print(cm_m4)\n",
    "print(\"------------------\")\n",
    "print(classification_report(y_test, y_pred_m4))"
   ]
  },
  {
   "cell_type": "code",
   "execution_count": 215,
   "metadata": {
    "ExecuteTime": {
     "end_time": "2020-10-15T16:56:16.137147Z",
     "start_time": "2020-10-15T16:56:15.953497Z"
    }
   },
   "outputs": [
    {
     "data": {
      "image/png": "[encoded data removed]",
      "text/plain": [
       "<Figure size 576x504 with 2 Axes>"
      ]
     },
     "metadata": {},
     "output_type": "display_data"
    }
   ],
   "source": [
    "conf_matrix(cm_m4)"
   ]
  },
  {
   "cell_type": "code",
   "execution_count": 221,
   "metadata": {
    "ExecuteTime": {
     "end_time": "2020-10-15T16:57:05.792070Z",
     "start_time": "2020-10-15T16:57:04.580188Z"
    }
   },
   "outputs": [
    {
     "name": "stdout",
     "output_type": "stream",
     "text": [
      "Accuracy: 69.48 %\n",
      "Precision score: 70.72 %\n",
      "Recall score: 30.65 %\n",
      "F1 score: 42.77 %\n"
     ]
    }
   ],
   "source": [
    "model_metrics(y_test, y_pred_m4)"
   ]
  },
  {
   "cell_type": "markdown",
   "metadata": {},
   "source": [
    "## Model 5"
   ]
  },
  {
   "cell_type": "code",
   "execution_count": 85,
   "metadata": {
    "ExecuteTime": {
     "end_time": "2020-10-14T18:46:00.392526Z",
     "start_time": "2020-10-14T18:46:00.353310Z"
    }
   },
   "outputs": [],
   "source": [
    "model_5 = Sequential()\n",
    "\n",
    "model_5.add(Dense(30, activation='relu', input_shape=(62,)))\n",
    "\n",
    "model_5.add(Dense(20, activation='relu'))\n",
    "\n",
    "model_5.add(Dense(5, activation='relu'))\n",
    "\n",
    "model_5.add(Dense(1, activation='sigmoid'))"
   ]
  },
  {
   "cell_type": "code",
   "execution_count": 86,
   "metadata": {
    "ExecuteTime": {
     "end_time": "2020-10-14T18:46:01.304273Z",
     "start_time": "2020-10-14T18:46:01.271989Z"
    }
   },
   "outputs": [],
   "source": [
    "model_5.compile(loss='binary_crossentropy', optimizer='adam', metrics=['accuracy'])"
   ]
  },
  {
   "cell_type": "code",
   "execution_count": 87,
   "metadata": {
    "ExecuteTime": {
     "end_time": "2020-10-14T18:50:08.294172Z",
     "start_time": "2020-10-14T18:46:01.879431Z"
    }
   },
   "outputs": [
    {
     "name": "stdout",
     "output_type": "stream",
     "text": [
      "Train on 2885944 samples, validate on 320661 samples\n",
      "Epoch 1/2\n",
      "2885944/2885944 [==============================] - 122s 42us/step - loss: 0.6048 - acc: 0.6801 - val_loss: 0.5892 - val_acc: 0.6915\n",
      "Epoch 2/2\n",
      "2885944/2885944 [==============================] - 124s 43us/step - loss: 0.5905 - acc: 0.6900 - val_loss: 0.5875 - val_acc: 0.6937\n"
     ]
    }
   ],
   "source": [
    "results5 = model_5.fit(X_train, y_train, epochs=2, batch_size=32, validation_split=0.1)"
   ]
  },
  {
   "cell_type": "code",
   "execution_count": 205,
   "metadata": {
    "ExecuteTime": {
     "end_time": "2020-10-15T16:54:31.812255Z",
     "start_time": "2020-10-15T16:54:11.620674Z"
    }
   },
   "outputs": [],
   "source": [
    "y_pred_m5 = model_5.predict(X_test)\n",
    "y_pred_m5 =(y_pred_m1 > 0.5)"
   ]
  },
  {
   "cell_type": "code",
   "execution_count": 209,
   "metadata": {
    "ExecuteTime": {
     "end_time": "2020-10-15T16:55:03.098733Z",
     "start_time": "2020-10-15T16:54:59.861216Z"
    }
   },
   "outputs": [
    {
     "name": "stdout",
     "output_type": "stream",
     "text": [
      "[[501262   2155]\n",
      " [271985  26250]]\n",
      "------------------\n",
      "              precision    recall  f1-score   support\n",
      "\n",
      "         0.0       0.65      1.00      0.79    503417\n",
      "         1.0       0.92      0.09      0.16    298235\n",
      "\n",
      "    accuracy                           0.66    801652\n",
      "   macro avg       0.79      0.54      0.47    801652\n",
      "weighted avg       0.75      0.66      0.55    801652\n",
      "\n"
     ]
    }
   ],
   "source": [
    "cm_m5 = confusion_matrix(y_test, y_pred_m5)\n",
    "print(cm_m5)\n",
    "print(\"------------------\")\n",
    "print(classification_report(y_test, y_pred_m5))"
   ]
  },
  {
   "cell_type": "code",
   "execution_count": 216,
   "metadata": {
    "ExecuteTime": {
     "end_time": "2020-10-15T16:56:23.472713Z",
     "start_time": "2020-10-15T16:56:23.301607Z"
    }
   },
   "outputs": [
    {
     "data": {
      "image/png": "[encoded data removed]",
      "text/plain": [
       "<Figure size 576x504 with 2 Axes>"
      ]
     },
     "metadata": {},
     "output_type": "display_data"
    }
   ],
   "source": [
    "conf_matrix(cm_m5)"
   ]
  },
  {
   "cell_type": "code",
   "execution_count": 222,
   "metadata": {
    "ExecuteTime": {
     "end_time": "2020-10-15T16:57:12.538645Z",
     "start_time": "2020-10-15T16:57:11.254088Z"
    }
   },
   "outputs": [
    {
     "name": "stdout",
     "output_type": "stream",
     "text": [
      "Accuracy: 65.8 %\n",
      "Precision score: 92.41 %\n",
      "Recall score: 8.8 %\n",
      "F1 score: 16.07 %\n"
     ]
    }
   ],
   "source": [
    "model_metrics(y_test, y_pred_m5)"
   ]
  },
  {
   "cell_type": "markdown",
   "metadata": {},
   "source": [
    "## Model 6"
   ]
  },
  {
   "cell_type": "code",
   "execution_count": 133,
   "metadata": {
    "ExecuteTime": {
     "end_time": "2020-10-14T19:45:01.017073Z",
     "start_time": "2020-10-14T19:45:00.965349Z"
    }
   },
   "outputs": [],
   "source": [
    "model_6 = Sequential()\n",
    "\n",
    "model_6.add(Dense(50, activation='relu', input_shape=(62,)))\n",
    "\n",
    "model_6.add(Dense(40, activation='relu'))\n",
    "\n",
    "model_6.add(Dense(30, activation='relu'))\n",
    "\n",
    "model_6.add(Dense(5, activation='relu'))\n",
    "\n",
    "model_6.add(Dense(1, activation='sigmoid'))"
   ]
  },
  {
   "cell_type": "code",
   "execution_count": 134,
   "metadata": {
    "ExecuteTime": {
     "end_time": "2020-10-14T19:45:01.493419Z",
     "start_time": "2020-10-14T19:45:01.454412Z"
    }
   },
   "outputs": [],
   "source": [
    "model_6.compile(loss='binary_crossentropy', optimizer='adam', metrics=['accuracy'])"
   ]
  },
  {
   "cell_type": "code",
   "execution_count": 135,
   "metadata": {
    "ExecuteTime": {
     "end_time": "2020-10-14T19:51:24.457624Z",
     "start_time": "2020-10-14T19:45:01.933973Z"
    },
    "scrolled": false
   },
   "outputs": [
    {
     "name": "stdout",
     "output_type": "stream",
     "text": [
      "Train on 2885944 samples, validate on 320661 samples\n",
      "Epoch 1/2\n",
      "2885944/2885944 [==============================] - 190s 66us/step - loss: 0.6046 - acc: 0.6806 - val_loss: 0.6012 - val_acc: 0.6825\n",
      "Epoch 2/2\n",
      "2885944/2885944 [==============================] - 192s 67us/step - loss: 0.5918 - acc: 0.6888 - val_loss: 0.5888 - val_acc: 0.6914\n"
     ]
    }
   ],
   "source": [
    "results6 = model_6.fit(X_train, y_train, epochs=2, batch_size=32, validation_split=0.1)"
   ]
  },
  {
   "cell_type": "code",
   "execution_count": 206,
   "metadata": {
    "ExecuteTime": {
     "end_time": "2020-10-15T16:54:52.226007Z",
     "start_time": "2020-10-15T16:54:32.229375Z"
    }
   },
   "outputs": [],
   "source": [
    "y_pred_m6 = model_6.predict(X_test)\n",
    "y_pred_m6 =(y_pred_m6 > 0.5)"
   ]
  },
  {
   "cell_type": "code",
   "execution_count": 218,
   "metadata": {
    "ExecuteTime": {
     "end_time": "2020-10-15T16:56:37.402303Z",
     "start_time": "2020-10-15T16:56:34.211191Z"
    }
   },
   "outputs": [
    {
     "name": "stdout",
     "output_type": "stream",
     "text": [
      "[[444012  59405]\n",
      " [188020 110215]]\n",
      "------------------\n",
      "              precision    recall  f1-score   support\n",
      "\n",
      "         0.0       0.70      0.88      0.78    503417\n",
      "         1.0       0.65      0.37      0.47    298235\n",
      "\n",
      "    accuracy                           0.69    801652\n",
      "   macro avg       0.68      0.63      0.63    801652\n",
      "weighted avg       0.68      0.69      0.67    801652\n",
      "\n"
     ]
    }
   ],
   "source": [
    "cm_m6 = confusion_matrix(y_test, y_pred_m6)\n",
    "print(cm_m6)\n",
    "print(\"------------------\")\n",
    "print(classification_report(y_test, y_pred_m6))"
   ]
  },
  {
   "cell_type": "code",
   "execution_count": 219,
   "metadata": {
    "ExecuteTime": {
     "end_time": "2020-10-15T16:56:37.937565Z",
     "start_time": "2020-10-15T16:56:37.774352Z"
    }
   },
   "outputs": [
    {
     "data": {
      "image/png": "[encoded data removed]",
      "text/plain": [
       "<Figure size 576x504 with 2 Axes>"
      ]
     },
     "metadata": {},
     "output_type": "display_data"
    }
   ],
   "source": [
    "conf_matrix(cm_m6)"
   ]
  },
  {
   "cell_type": "code",
   "execution_count": 223,
   "metadata": {
    "ExecuteTime": {
     "end_time": "2020-10-15T16:57:21.906339Z",
     "start_time": "2020-10-15T16:57:20.751889Z"
    }
   },
   "outputs": [
    {
     "name": "stdout",
     "output_type": "stream",
     "text": [
      "Accuracy: 69.14 %\n",
      "Precision score: 64.98 %\n",
      "Recall score: 36.96 %\n",
      "F1 score: 47.12 %\n"
     ]
    }
   ],
   "source": [
    "model_metrics(y_test, y_pred_m6)"
   ]
  },
  {
   "cell_type": "markdown",
   "metadata": {},
   "source": [
    "## Model 7"
   ]
  },
  {
   "cell_type": "code",
   "execution_count": 159,
   "metadata": {
    "ExecuteTime": {
     "end_time": "2020-10-14T22:15:20.717618Z",
     "start_time": "2020-10-14T22:15:20.656221Z"
    }
   },
   "outputs": [],
   "source": [
    "model_7 = Sequential()\n",
    "\n",
    "model_7.add(Dense(30, activation='relu', input_shape=(62,)))\n",
    "\n",
    "model_7.add(Dense(10, activation='relu'))\n",
    "\n",
    "model_7.add(Dense(5, activation='relu'))\n",
    "\n",
    "model_7.add(Dense(1, activation='sigmoid'))"
   ]
  },
  {
   "cell_type": "code",
   "execution_count": 160,
   "metadata": {
    "ExecuteTime": {
     "end_time": "2020-10-14T22:15:21.127583Z",
     "start_time": "2020-10-14T22:15:21.086253Z"
    }
   },
   "outputs": [],
   "source": [
    "model_7.compile(loss='binary_crossentropy', optimizer='adam', metrics=['accuracy'])"
   ]
  },
  {
   "cell_type": "code",
   "execution_count": 161,
   "metadata": {
    "ExecuteTime": {
     "end_time": "2020-10-14T23:57:36.097724Z",
     "start_time": "2020-10-14T22:15:21.766353Z"
    },
    "scrolled": false
   },
   "outputs": [
    {
     "name": "stdout",
     "output_type": "stream",
     "text": [
      "Train on 2885944 samples, validate on 320661 samples\n",
      "Epoch 1/25\n",
      "2885944/2885944 [==============================] - 170s 59us/step - loss: 0.6131 - acc: 0.6770 - val_loss: 0.5933 - val_acc: 0.6904\n",
      "Epoch 2/25\n",
      "2885944/2885944 [==============================] - 153s 53us/step - loss: 0.5924 - acc: 0.6887 - val_loss: 0.5865 - val_acc: 0.6930\n",
      "Epoch 3/25\n",
      "2885944/2885944 [==============================] - 147s 51us/step - loss: 0.5894 - acc: 0.6910 - val_loss: 0.5844 - val_acc: 0.6945\n",
      "Epoch 4/25\n",
      "2885944/2885944 [==============================] - 157s 54us/step - loss: 0.5879 - acc: 0.6922 - val_loss: 0.5849 - val_acc: 0.6945\n",
      "Epoch 5/25\n",
      "2885944/2885944 [==============================] - 162s 56us/step - loss: 0.5870 - acc: 0.6925 - val_loss: 0.5844 - val_acc: 0.6942\n",
      "Epoch 6/25\n",
      "2885944/2885944 [==============================] - 216s 75us/step - loss: 0.5864 - acc: 0.6931 - val_loss: 0.5845 - val_acc: 0.6940\n",
      "Epoch 7/25\n",
      "2885944/2885944 [==============================] - 268s 93us/step - loss: 0.5859 - acc: 0.6935 - val_loss: 0.5886 - val_acc: 0.6920\n",
      "Epoch 8/25\n",
      "2885944/2885944 [==============================] - 198s 69us/step - loss: 0.5854 - acc: 0.6939 - val_loss: 0.5868 - val_acc: 0.6914\n",
      "Epoch 9/25\n",
      "2885944/2885944 [==============================] - 210s 73us/step - loss: 0.5850 - acc: 0.6940 - val_loss: 0.5820 - val_acc: 0.6956\n",
      "Epoch 10/25\n",
      "2885944/2885944 [==============================] - 300s 104us/step - loss: 0.5847 - acc: 0.6944 - val_loss: 0.5854 - val_acc: 0.6950\n",
      "Epoch 11/25\n",
      "2885944/2885944 [==============================] - 293s 102us/step - loss: 0.5845 - acc: 0.6946 - val_loss: 0.5822 - val_acc: 0.6958\n",
      "Epoch 12/25\n",
      "2885944/2885944 [==============================] - 309s 107us/step - loss: 0.5843 - acc: 0.6946 - val_loss: 0.5843 - val_acc: 0.6943\n",
      "Epoch 13/25\n",
      "2885944/2885944 [==============================] - 241s 84us/step - loss: 0.5840 - acc: 0.6950 - val_loss: 0.5878 - val_acc: 0.6933\n",
      "Epoch 14/25\n",
      "2885944/2885944 [==============================] - 213s 74us/step - loss: 0.5838 - acc: 0.6951 - val_loss: 0.5825 - val_acc: 0.6947\n",
      "Epoch 15/25\n",
      "2885944/2885944 [==============================] - 293s 102us/step - loss: 0.5836 - acc: 0.6953 - val_loss: 0.5821 - val_acc: 0.6955\n",
      "Epoch 16/25\n",
      "2885944/2885944 [==============================] - 293s 102us/step - loss: 0.5833 - acc: 0.6956 - val_loss: 0.5815 - val_acc: 0.6968\n",
      "Epoch 17/25\n",
      "2885944/2885944 [==============================] - 288s 100us/step - loss: 0.5832 - acc: 0.6956 - val_loss: 0.5841 - val_acc: 0.6940\n",
      "Epoch 18/25\n",
      "2885944/2885944 [==============================] - 292s 101us/step - loss: 0.5831 - acc: 0.6959 - val_loss: 0.5812 - val_acc: 0.6974\n",
      "Epoch 19/25\n",
      "2885944/2885944 [==============================] - 287s 99us/step - loss: 0.5829 - acc: 0.6960 - val_loss: 0.5820 - val_acc: 0.6968\n",
      "Epoch 20/25\n",
      "2885944/2885944 [==============================] - 298s 103us/step - loss: 0.5828 - acc: 0.6960 - val_loss: 0.5803 - val_acc: 0.6977\n",
      "Epoch 21/25\n",
      "2885944/2885944 [==============================] - 334s 116us/step - loss: 0.5826 - acc: 0.6960 - val_loss: 0.5809 - val_acc: 0.6976\n",
      "Epoch 22/25\n",
      "2885944/2885944 [==============================] - 300s 104us/step - loss: 0.5826 - acc: 0.6962 - val_loss: 0.5826 - val_acc: 0.6953\n",
      "Epoch 23/25\n",
      "2885944/2885944 [==============================] - 288s 100us/step - loss: 0.5825 - acc: 0.6965 - val_loss: 0.5824 - val_acc: 0.6963\n",
      "Epoch 24/25\n",
      "2885944/2885944 [==============================] - 205s 71us/step - loss: 0.5824 - acc: 0.6964 - val_loss: 0.5838 - val_acc: 0.6953\n",
      "Epoch 25/25\n",
      "2885944/2885944 [==============================] - 215s 75us/step - loss: 0.5823 - acc: 0.6964 - val_loss: 0.5809 - val_acc: 0.6970\n"
     ]
    }
   ],
   "source": [
    "results7 = model_7.fit(X_train, y_train, epochs=25, batch_size=32, validation_split=0.1)"
   ]
  },
  {
   "cell_type": "code",
   "execution_count": 162,
   "metadata": {
    "ExecuteTime": {
     "end_time": "2020-10-15T00:05:16.815722Z",
     "start_time": "2020-10-15T00:05:16.366025Z"
    }
   },
   "outputs": [
    {
     "data": {
      "image/png": "[encoded data removed]",
      "text/plain": [
       "<Figure size 432x288 with 1 Axes>"
      ]
     },
     "metadata": {},
     "output_type": "display_data"
    },
    {
     "data": {
      "image/png": "[encoded data removed]",
      "text/plain": [
       "<Figure size 432x288 with 1 Axes>"
      ]
     },
     "metadata": {},
     "output_type": "display_data"
    }
   ],
   "source": [
    "visualize_training_results(results7)"
   ]
  },
  {
   "cell_type": "code",
   "execution_count": 210,
   "metadata": {
    "ExecuteTime": {
     "end_time": "2020-10-15T16:55:30.168518Z",
     "start_time": "2020-10-15T16:55:11.031897Z"
    }
   },
   "outputs": [],
   "source": [
    "y_pred_m7 = model_7.predict(X_test)\n",
    "y_pred_m7 =(y_pred_m7 > 0.5)"
   ]
  },
  {
   "cell_type": "code",
   "execution_count": 211,
   "metadata": {
    "ExecuteTime": {
     "end_time": "2020-10-15T16:55:33.731133Z",
     "start_time": "2020-10-15T16:55:30.520353Z"
    }
   },
   "outputs": [
    {
     "name": "stdout",
     "output_type": "stream",
     "text": [
      "[[452325  51092]\n",
      " [192046 106189]]\n",
      "------------------\n",
      "              precision    recall  f1-score   support\n",
      "\n",
      "         0.0       0.70      0.90      0.79    503417\n",
      "         1.0       0.68      0.36      0.47    298235\n",
      "\n",
      "    accuracy                           0.70    801652\n",
      "   macro avg       0.69      0.63      0.63    801652\n",
      "weighted avg       0.69      0.70      0.67    801652\n",
      "\n"
     ]
    }
   ],
   "source": [
    "cm_m7 = confusion_matrix(y_test, y_pred_m7)\n",
    "print(cm_m7)\n",
    "print(\"------------------\")\n",
    "print(classification_report(y_test, y_pred_m7))"
   ]
  },
  {
   "cell_type": "code",
   "execution_count": 212,
   "metadata": {
    "ExecuteTime": {
     "end_time": "2020-10-15T16:55:34.304449Z",
     "start_time": "2020-10-15T16:55:34.120835Z"
    }
   },
   "outputs": [
    {
     "data": {
      "image/png": "[encoded data removed]",
      "text/plain": [
       "<Figure size 576x504 with 2 Axes>"
      ]
     },
     "metadata": {},
     "output_type": "display_data"
    }
   ],
   "source": [
    "conf_matrix(cm_m7)"
   ]
  },
  {
   "cell_type": "code",
   "execution_count": 213,
   "metadata": {
    "ExecuteTime": {
     "end_time": "2020-10-15T16:55:38.017794Z",
     "start_time": "2020-10-15T16:55:36.918842Z"
    }
   },
   "outputs": [
    {
     "name": "stdout",
     "output_type": "stream",
     "text": [
      "Accuracy: 69.67 %\n",
      "Precision score: 67.52 %\n",
      "Recall score: 35.61 %\n",
      "F1 score: 46.62 %\n"
     ]
    }
   ],
   "source": [
    "model_metrics(y_test, y_pred_m7)"
   ]
  }
 ],
 "metadata": {
  "kernelspec": {
   "display_name": "learn-env",
   "language": "python",
   "name": "learn-env"
  },
  "language_info": {
   "codemirror_mode": {
    "name": "ipython",
    "version": 3
   },
   "file_extension": ".py",
   "mimetype": "text/x-python",
   "name": "python",
   "nbconvert_exporter": "python",
   "pygments_lexer": "ipython3",
   "version": "3.6.9"
  },
  "toc": {
   "base_numbering": 1,
   "nav_menu": {},
   "number_sections": true,
   "sideBar": true,
   "skip_h1_title": false,
   "title_cell": "Table of Contents",
   "title_sidebar": "Contents",
   "toc_cell": false,
   "toc_position": {},
   "toc_section_display": true,
   "toc_window_display": true
  },
  "varInspector": {
   "cols": {
    "lenName": 16,
    "lenType": 16,
    "lenVar": 40
   },
   "kernels_config": {
    "python": {
     "delete_cmd_postfix": "",
     "delete_cmd_prefix": "del ",
     "library": "var_list.py",
     "varRefreshCmd": "print(var_dic_list())"
    },
    "r": {
     "delete_cmd_postfix": ") ",
     "delete_cmd_prefix": "rm(",
     "library": "var_list.r",
     "varRefreshCmd": "cat(var_dic_list()) "
    }
   },
   "types_to_exclude": [
    "module",
    "function",
    "builtin_function_or_method",
    "instance",
    "_Feature"
   ],
   "window_display": false
  }
 },
 "nbformat": 4,
 "nbformat_minor": 4
}
